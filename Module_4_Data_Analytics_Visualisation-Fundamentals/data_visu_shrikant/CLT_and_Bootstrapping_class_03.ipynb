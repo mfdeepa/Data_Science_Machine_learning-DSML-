{
  "nbformat": 4,
  "nbformat_minor": 0,
  "metadata": {
    "colab": {
      "provenance": [],
      "collapsed_sections": [
        "epvGTViv1jYy",
        "lcDaEZiY_Nj0",
        "ouIEMsngATHW"
      ]
    },
    "kernelspec": {
      "name": "python3",
      "display_name": "Python 3"
    },
    "language_info": {
      "name": "python"
    }
  },
  "cells": [
    {
      "cell_type": "code",
      "source": [
        "from scipy import stats\n",
        "import seaborn as sns\n",
        "import  numpy as np\n",
        "import matplotlib.pyplot as plt\n"
      ],
      "metadata": {
        "id": "82l8E2HE1i36"
      },
      "execution_count": null,
      "outputs": []
    },
    {
      "cell_type": "markdown",
      "source": [
        "##Uber Data"
      ],
      "metadata": {
        "id": "jWDZQx8W1ePX"
      }
    },
    {
      "cell_type": "code",
      "execution_count": null,
      "metadata": {
        "id": "lVfHbTK81JM0",
        "colab": {
          "base_uri": "https://localhost:8080/"
        },
        "outputId": "481b1e95-69b6-4c90-f6d4-5e53efc613bd"
      },
      "outputs": [
        {
          "output_type": "stream",
          "name": "stdout",
          "text": [
            "https://drive.google.com/uc?export=download&id=1NokZy4YzavFdTZlWcIUs47WW5M2A4ElE\n"
          ]
        }
      ],
      "source": [
        "id = \"1NokZy4YzavFdTZlWcIUs47WW5M2A4ElE\"\n",
        "print(\"https://drive.google.com/uc?export=download&id=\" + id)"
      ]
    },
    {
      "cell_type": "code",
      "source": [
        "!wget \"https://drive.google.com/uc?export=download&id=1NokZy4YzavFdTZlWcIUs47WW5M2A4ElE\" -O Uber_dataset.zip"
      ],
      "metadata": {
        "id": "q8qznOVi1PQI",
        "colab": {
          "base_uri": "https://localhost:8080/"
        },
        "outputId": "b8e1d8e3-4a11-44eb-893c-7481666afdd4"
      },
      "execution_count": null,
      "outputs": [
        {
          "output_type": "stream",
          "name": "stdout",
          "text": [
            "--2022-07-01 13:34:47--  https://drive.google.com/uc?export=download&id=1NokZy4YzavFdTZlWcIUs47WW5M2A4ElE\n",
            "Resolving drive.google.com (drive.google.com)... 74.125.142.100, 74.125.142.102, 74.125.142.101, ...\n",
            "Connecting to drive.google.com (drive.google.com)|74.125.142.100|:443... connected.\n",
            "HTTP request sent, awaiting response... 303 See Other\n",
            "Location: https://doc-0c-ag-docs.googleusercontent.com/docs/securesc/ha0ro937gcuc7l7deffksulhg5h7mbp1/hg1t9f6r3fq7l0qgpa92vq3p11vja15q/1656682425000/10804243441129704195/*/1NokZy4YzavFdTZlWcIUs47WW5M2A4ElE?e=download&uuid=0591a531-a129-4849-b769-e337c2f510ae [following]\n",
            "Warning: wildcards not supported in HTTP.\n",
            "--2022-07-01 13:34:48--  https://doc-0c-ag-docs.googleusercontent.com/docs/securesc/ha0ro937gcuc7l7deffksulhg5h7mbp1/hg1t9f6r3fq7l0qgpa92vq3p11vja15q/1656682425000/10804243441129704195/*/1NokZy4YzavFdTZlWcIUs47WW5M2A4ElE?e=download&uuid=0591a531-a129-4849-b769-e337c2f510ae\n",
            "Resolving doc-0c-ag-docs.googleusercontent.com (doc-0c-ag-docs.googleusercontent.com)... 74.125.142.132, 2607:f8b0:400e:c08::84\n",
            "Connecting to doc-0c-ag-docs.googleusercontent.com (doc-0c-ag-docs.googleusercontent.com)|74.125.142.132|:443... connected.\n",
            "HTTP request sent, awaiting response... 200 OK\n",
            "Length: 18251707 (17M) [application/zip]\n",
            "Saving to: ‘Uber_dataset.zip’\n",
            "\n",
            "Uber_dataset.zip    100%[===================>]  17.41M  48.6MB/s    in 0.4s    \n",
            "\n",
            "2022-07-01 13:34:49 (48.6 MB/s) - ‘Uber_dataset.zip’ saved [18251707/18251707]\n",
            "\n"
          ]
        }
      ]
    },
    {
      "cell_type": "code",
      "source": [
        "!unzip Uber_dataset.zip\n"
      ],
      "metadata": {
        "colab": {
          "base_uri": "https://localhost:8080/"
        },
        "id": "2iCNvRMC1SDa",
        "outputId": "d4c52cb8-a834-413d-99a2-d4724eab907c"
      },
      "execution_count": null,
      "outputs": [
        {
          "output_type": "stream",
          "name": "stdout",
          "text": [
            "Archive:  Uber_dataset.zip\n",
            "  inflating: uber_travel_data.csv    \n",
            "  inflating: __MACOSX/._uber_travel_data.csv  \n"
          ]
        }
      ]
    },
    {
      "cell_type": "code",
      "source": [
        "!ls -lrt"
      ],
      "metadata": {
        "id": "eJ7KYqIKtPlk",
        "colab": {
          "base_uri": "https://localhost:8080/"
        },
        "outputId": "895e6a78-a415-49fa-f2ea-7f315352d723"
      },
      "execution_count": null,
      "outputs": [
        {
          "output_type": "stream",
          "name": "stdout",
          "text": [
            "total 525784\n",
            "-rw-r--r-- 1 root root 520141836 May 12 14:30 uber_travel_data.csv\n",
            "drwxr-xr-x 1 root root      4096 Jun 29 13:44 sample_data\n",
            "-rw-r--r-- 1 root root  18251707 Jul  1 13:34 Uber_dataset.zip\n",
            "drwxr-xr-x 2 root root      4096 Jul  1 13:34 __MACOSX\n"
          ]
        }
      ]
    },
    {
      "cell_type": "code",
      "source": [
        "import pandas as pd\n",
        "\n",
        "df = pd.read_csv(\"./uber_travel_data.csv\")\n",
        "df.sample(100).head()"
      ],
      "metadata": {
        "id": "7mABOwWF1cNT",
        "colab": {
          "base_uri": "https://localhost:8080/",
          "height": 268
        },
        "outputId": "5bf9f129-ed26-4e45-e349-3c412694ac27"
      },
      "execution_count": null,
      "outputs": [
        {
          "output_type": "execute_result",
          "data": {
            "text/plain": [
              "         sourceid                                             source  dstid  \\\n",
              "3699703       234  113, Press Colony, Press Colony, Mayapuri, New...     76   \n",
              "2441504       156  Doctor Satpal Sachdeva Marg, Keshav Puram, Tri...    230   \n",
              "1824456       119            81, Zulfe Bengal, Dilshad Garden, Delhi     58   \n",
              "198463         11  Mother Teresa Crescent, Talkatora Garden, Cent...    283   \n",
              "488666         29  Street Number 14, Block C, Sitapuri Part 1, Ja...     60   \n",
              "\n",
              "                                               destination  travel_time  \n",
              "3699703  124, SPG Quarters, Sector 4, Pushp Vihar, New ...         2695  \n",
              "2441504  N494, Block N, Raghubir Nagar, Tagore Garden E...          958  \n",
              "1824456  Pushta Road, Block A, Rajiv Nagar, Sonia Vihar...         1401  \n",
              "198463                                                 NaN          957  \n",
              "488666                                                 NaN         3026  "
            ],
            "text/html": [
              "\n",
              "  <div id=\"df-ca8f9224-baec-40a2-9d2a-079b5172e7fc\">\n",
              "    <div class=\"colab-df-container\">\n",
              "      <div>\n",
              "<style scoped>\n",
              "    .dataframe tbody tr th:only-of-type {\n",
              "        vertical-align: middle;\n",
              "    }\n",
              "\n",
              "    .dataframe tbody tr th {\n",
              "        vertical-align: top;\n",
              "    }\n",
              "\n",
              "    .dataframe thead th {\n",
              "        text-align: right;\n",
              "    }\n",
              "</style>\n",
              "<table border=\"1\" class=\"dataframe\">\n",
              "  <thead>\n",
              "    <tr style=\"text-align: right;\">\n",
              "      <th></th>\n",
              "      <th>sourceid</th>\n",
              "      <th>source</th>\n",
              "      <th>dstid</th>\n",
              "      <th>destination</th>\n",
              "      <th>travel_time</th>\n",
              "    </tr>\n",
              "  </thead>\n",
              "  <tbody>\n",
              "    <tr>\n",
              "      <th>3699703</th>\n",
              "      <td>234</td>\n",
              "      <td>113, Press Colony, Press Colony, Mayapuri, New...</td>\n",
              "      <td>76</td>\n",
              "      <td>124, SPG Quarters, Sector 4, Pushp Vihar, New ...</td>\n",
              "      <td>2695</td>\n",
              "    </tr>\n",
              "    <tr>\n",
              "      <th>2441504</th>\n",
              "      <td>156</td>\n",
              "      <td>Doctor Satpal Sachdeva Marg, Keshav Puram, Tri...</td>\n",
              "      <td>230</td>\n",
              "      <td>N494, Block N, Raghubir Nagar, Tagore Garden E...</td>\n",
              "      <td>958</td>\n",
              "    </tr>\n",
              "    <tr>\n",
              "      <th>1824456</th>\n",
              "      <td>119</td>\n",
              "      <td>81, Zulfe Bengal, Dilshad Garden, Delhi</td>\n",
              "      <td>58</td>\n",
              "      <td>Pushta Road, Block A, Rajiv Nagar, Sonia Vihar...</td>\n",
              "      <td>1401</td>\n",
              "    </tr>\n",
              "    <tr>\n",
              "      <th>198463</th>\n",
              "      <td>11</td>\n",
              "      <td>Mother Teresa Crescent, Talkatora Garden, Cent...</td>\n",
              "      <td>283</td>\n",
              "      <td>NaN</td>\n",
              "      <td>957</td>\n",
              "    </tr>\n",
              "    <tr>\n",
              "      <th>488666</th>\n",
              "      <td>29</td>\n",
              "      <td>Street Number 14, Block C, Sitapuri Part 1, Ja...</td>\n",
              "      <td>60</td>\n",
              "      <td>NaN</td>\n",
              "      <td>3026</td>\n",
              "    </tr>\n",
              "  </tbody>\n",
              "</table>\n",
              "</div>\n",
              "      <button class=\"colab-df-convert\" onclick=\"convertToInteractive('df-ca8f9224-baec-40a2-9d2a-079b5172e7fc')\"\n",
              "              title=\"Convert this dataframe to an interactive table.\"\n",
              "              style=\"display:none;\">\n",
              "        \n",
              "  <svg xmlns=\"http://www.w3.org/2000/svg\" height=\"24px\"viewBox=\"0 0 24 24\"\n",
              "       width=\"24px\">\n",
              "    <path d=\"M0 0h24v24H0V0z\" fill=\"none\"/>\n",
              "    <path d=\"M18.56 5.44l.94 2.06.94-2.06 2.06-.94-2.06-.94-.94-2.06-.94 2.06-2.06.94zm-11 1L8.5 8.5l.94-2.06 2.06-.94-2.06-.94L8.5 2.5l-.94 2.06-2.06.94zm10 10l.94 2.06.94-2.06 2.06-.94-2.06-.94-.94-2.06-.94 2.06-2.06.94z\"/><path d=\"M17.41 7.96l-1.37-1.37c-.4-.4-.92-.59-1.43-.59-.52 0-1.04.2-1.43.59L10.3 9.45l-7.72 7.72c-.78.78-.78 2.05 0 2.83L4 21.41c.39.39.9.59 1.41.59.51 0 1.02-.2 1.41-.59l7.78-7.78 2.81-2.81c.8-.78.8-2.07 0-2.86zM5.41 20L4 18.59l7.72-7.72 1.47 1.35L5.41 20z\"/>\n",
              "  </svg>\n",
              "      </button>\n",
              "      \n",
              "  <style>\n",
              "    .colab-df-container {\n",
              "      display:flex;\n",
              "      flex-wrap:wrap;\n",
              "      gap: 12px;\n",
              "    }\n",
              "\n",
              "    .colab-df-convert {\n",
              "      background-color: #E8F0FE;\n",
              "      border: none;\n",
              "      border-radius: 50%;\n",
              "      cursor: pointer;\n",
              "      display: none;\n",
              "      fill: #1967D2;\n",
              "      height: 32px;\n",
              "      padding: 0 0 0 0;\n",
              "      width: 32px;\n",
              "    }\n",
              "\n",
              "    .colab-df-convert:hover {\n",
              "      background-color: #E2EBFA;\n",
              "      box-shadow: 0px 1px 2px rgba(60, 64, 67, 0.3), 0px 1px 3px 1px rgba(60, 64, 67, 0.15);\n",
              "      fill: #174EA6;\n",
              "    }\n",
              "\n",
              "    [theme=dark] .colab-df-convert {\n",
              "      background-color: #3B4455;\n",
              "      fill: #D2E3FC;\n",
              "    }\n",
              "\n",
              "    [theme=dark] .colab-df-convert:hover {\n",
              "      background-color: #434B5C;\n",
              "      box-shadow: 0px 1px 3px 1px rgba(0, 0, 0, 0.15);\n",
              "      filter: drop-shadow(0px 1px 2px rgba(0, 0, 0, 0.3));\n",
              "      fill: #FFFFFF;\n",
              "    }\n",
              "  </style>\n",
              "\n",
              "      <script>\n",
              "        const buttonEl =\n",
              "          document.querySelector('#df-ca8f9224-baec-40a2-9d2a-079b5172e7fc button.colab-df-convert');\n",
              "        buttonEl.style.display =\n",
              "          google.colab.kernel.accessAllowed ? 'block' : 'none';\n",
              "\n",
              "        async function convertToInteractive(key) {\n",
              "          const element = document.querySelector('#df-ca8f9224-baec-40a2-9d2a-079b5172e7fc');\n",
              "          const dataTable =\n",
              "            await google.colab.kernel.invokeFunction('convertToInteractive',\n",
              "                                                     [key], {});\n",
              "          if (!dataTable) return;\n",
              "\n",
              "          const docLinkHtml = 'Like what you see? Visit the ' +\n",
              "            '<a target=\"_blank\" href=https://colab.research.google.com/notebooks/data_table.ipynb>data table notebook</a>'\n",
              "            + ' to learn more about interactive tables.';\n",
              "          element.innerHTML = '';\n",
              "          dataTable['output_type'] = 'display_data';\n",
              "          await google.colab.output.renderOutput(dataTable, element);\n",
              "          const docLink = document.createElement('div');\n",
              "          docLink.innerHTML = docLinkHtml;\n",
              "          element.appendChild(docLink);\n",
              "        }\n",
              "      </script>\n",
              "    </div>\n",
              "  </div>\n",
              "  "
            ]
          },
          "metadata": {},
          "execution_count": 7
        }
      ]
    },
    {
      "cell_type": "code",
      "source": [
        "df.shape"
      ],
      "metadata": {
        "id": "M8Qmeb2C8lcH",
        "colab": {
          "base_uri": "https://localhost:8080/"
        },
        "outputId": "80aaab8a-5fe8-430d-d7ce-4d0d34205d36"
      },
      "execution_count": null,
      "outputs": [
        {
          "output_type": "execute_result",
          "data": {
            "text/plain": [
              "(4542026, 5)"
            ]
          },
          "metadata": {},
          "execution_count": 8
        }
      ]
    },
    {
      "cell_type": "code",
      "source": [
        "# histogram of travel_times\n",
        "df[\"travel_time\"].hist(bins = 100)"
      ],
      "metadata": {
        "id": "dwbToyJk8E3V",
        "colab": {
          "base_uri": "https://localhost:8080/",
          "height": 282
        },
        "outputId": "12542bf3-268d-4fa9-8641-4cc916c693bb"
      },
      "execution_count": null,
      "outputs": [
        {
          "output_type": "execute_result",
          "data": {
            "text/plain": [
              "<matplotlib.axes._subplots.AxesSubplot at 0x7fde4ea25dd0>"
            ]
          },
          "metadata": {},
          "execution_count": 9
        },
        {
          "output_type": "display_data",
          "data": {
            "text/plain": [
              "<Figure size 432x288 with 1 Axes>"
            ],
            "image/png": "[encoded data removed]"
          },
          "metadata": {
            "needs_background": "light"
          }
        }
      ]
    },
    {
      "cell_type": "code",
      "source": [
        "df.value_counts(['sourceid', 'dstid']).sort_values()"
      ],
      "metadata": {
        "id": "rPaw91yBKjEb",
        "colab": {
          "base_uri": "https://localhost:8080/"
        },
        "outputId": "1c75d1fe-62b8-4257-eb7e-4a3532fab4e9"
      },
      "execution_count": null,
      "outputs": [
        {
          "output_type": "execute_result",
          "data": {
            "text/plain": [
              "sourceid  dstid\n",
              "69        4        50\n",
              "167       107      50\n",
              "          101      50\n",
              "264       14       50\n",
              "167       100      50\n",
              "                   ..\n",
              "83        88       79\n",
              "244       32       79\n",
              "202       201      79\n",
              "          135      79\n",
              "45        170      79\n",
              "Length: 70429, dtype: int64"
            ]
          },
          "metadata": {},
          "execution_count": 10
        }
      ]
    },
    {
      "cell_type": "code",
      "source": [
        "data = df[(df[\"sourceid\"] == 1) & (df[\"dstid\"] == 5)] [\"travel_time\"]\n",
        "data.shape"
      ],
      "metadata": {
        "id": "OgEYAa0eKUMI",
        "colab": {
          "base_uri": "https://localhost:8080/"
        },
        "outputId": "ecda1c18-8ac5-4da5-b9c0-a6f4c182a8c9"
      },
      "execution_count": null,
      "outputs": [
        {
          "output_type": "execute_result",
          "data": {
            "text/plain": [
              "(75,)"
            ]
          },
          "metadata": {},
          "execution_count": 11
        }
      ]
    },
    {
      "cell_type": "code",
      "source": [
        "data.hist(bins=30)"
      ],
      "metadata": {
        "id": "rhun6Z8uLhrm",
        "colab": {
          "base_uri": "https://localhost:8080/",
          "height": 282
        },
        "outputId": "da1443ca-c6ad-47d6-a251-f6f1a92fee1b"
      },
      "execution_count": null,
      "outputs": [
        {
          "output_type": "execute_result",
          "data": {
            "text/plain": [
              "<matplotlib.axes._subplots.AxesSubplot at 0x7fde4e9b9f50>"
            ]
          },
          "metadata": {},
          "execution_count": 12
        },
        {
          "output_type": "display_data",
          "data": {
            "text/plain": [
              "<Figure size 432x288 with 1 Axes>"
            ],
            "image/png": "[encoded data removed]"
          },
          "metadata": {
            "needs_background": "light"
          }
        }
      ]
    },
    {
      "cell_type": "markdown",
      "source": [
        "## CLT for C.I on mean of travel_time"
      ],
      "metadata": {
        "id": "lcDaEZiY_Nj0"
      }
    },
    {
      "cell_type": "code",
      "source": [
        "# Let's create r=10000 bootstrap samples, and let each bootstrap sample be of size=50\n",
        "# bs_means is a list of 'r' bootstrap sample means\n",
        "r = 10000\n",
        "data = df[(df[\"sourceid\"] == 1) & (df[\"dstid\"] == 5)] [\"travel_time\"]\n",
        "size = 50\n",
        "bs_means = np.empty(r)\n",
        "\n",
        "for i in range(r):\n",
        "    bs_sample = np.random.choice(data, size=size)\n",
        "    bs_means[i] = np.mean(bs_sample)"
      ],
      "metadata": {
        "id": "-XRxzwtX8h5s"
      },
      "execution_count": null,
      "outputs": []
    },
    {
      "cell_type": "code",
      "source": [
        "import matplotlib.pyplot as plt\n",
        "plt.figure()\n",
        "plt.hist(bs_means, bins=100)\n",
        "plt.grid()\n",
        "plt.show()"
      ],
      "metadata": {
        "colab": {
          "base_uri": "https://localhost:8080/",
          "height": 265
        },
        "id": "yhxAbAPW9ZA4",
        "outputId": "eaec5d4f-d67c-4aa7-d24a-5217d4d8ce1e"
      },
      "execution_count": null,
      "outputs": [
        {
          "output_type": "display_data",
          "data": {
            "text/plain": [
              "<Figure size 432x288 with 1 Axes>"
            ],
            "image/png": "[encoded data removed]"
          },
          "metadata": {
            "needs_background": "light"
          }
        }
      ]
    },
    {
      "cell_type": "code",
      "source": [
        "# QQ-plot with normal distribution\n"
      ],
      "metadata": {
        "id": "-Efos4YS9cwK"
      },
      "execution_count": null,
      "outputs": []
    },
    {
      "cell_type": "code",
      "source": [
        "# compute C.I on the mean given that bs_means follows Gaussian distribution: CLT\n",
        "print(np.mean(bs_means))\n",
        "print(np.std(bs_means))"
      ],
      "metadata": {
        "colab": {
          "base_uri": "https://localhost:8080/"
        },
        "id": "wFECvli--V_I",
        "outputId": "40dd2241-716b-4441-d8f1-63111dcbd186"
      },
      "execution_count": null,
      "outputs": [
        {
          "output_type": "stream",
          "name": "stdout",
          "text": [
            "1122.85326\n",
            "3.4374772628193493\n"
          ]
        }
      ]
    },
    {
      "cell_type": "code",
      "source": [
        "print(np.mean(bs_means)-2*np.std(bs_means))\n",
        "print(np.mean(bs_means)+2*np.std(bs_means))"
      ],
      "metadata": {
        "colab": {
          "base_uri": "https://localhost:8080/"
        },
        "id": "DPoKrOnx-kl5",
        "outputId": "0b65b0b9-cde9-4aaa-cc10-ff989802de27"
      },
      "execution_count": null,
      "outputs": [
        {
          "output_type": "stream",
          "name": "stdout",
          "text": [
            "1115.9783054743614\n",
            "1129.7282145256388\n"
          ]
        }
      ]
    },
    {
      "cell_type": "code",
      "source": [
        "# could we just use the 2.5th percentile and 97.5th percentile value\n",
        "print(np.percentile(bs_means,2.5))\n",
        "print(np.percentile(bs_means,97.5))\n",
        "\n",
        "# what if r is say 100 and not 10,000?"
      ],
      "metadata": {
        "colab": {
          "base_uri": "https://localhost:8080/"
        },
        "id": "BKwFbcWjB2p_",
        "outputId": "adb8466c-0fe2-46ea-e104-13a954838292"
      },
      "execution_count": null,
      "outputs": [
        {
          "output_type": "stream",
          "name": "stdout",
          "text": [
            "1116.02\n",
            "1129.52\n"
          ]
        }
      ]
    },
    {
      "cell_type": "markdown",
      "source": [
        "## 95% C.I on 99th percentile value for travel_time via bootsrapping"
      ],
      "metadata": {
        "id": "sYnwKETg_VhM"
      }
    },
    {
      "cell_type": "code",
      "source": [
        "# What if we want a C.I on the 99th precentile?\n",
        "#Let's create r=10000 bootstrap samples, and let each bootstrap sample be of size=1000\n",
        "# bs_99p is a list of 'r' bootstrap sample's 99th percentiles\n",
        "r = 10000\n",
        "data = df[(df[\"sourceid\"] == 1) & (df[\"dstid\"] == 5)] [\"travel_time\"]\n",
        "size = 75\n",
        "bs_99p = np.empty(r)\n",
        "\n",
        "for i in range(r):\n",
        "    bs_sample = np.random.choice(data, size=size)\n",
        "    bs_99p[i] = np.percentile(bs_sample,99)"
      ],
      "metadata": {
        "id": "tmxw002-9n-A"
      },
      "execution_count": null,
      "outputs": []
    },
    {
      "cell_type": "code",
      "source": [
        "len(bs_99p)"
      ],
      "metadata": {
        "colab": {
          "base_uri": "https://localhost:8080/"
        },
        "id": "fA_STksM6rMt",
        "outputId": "337ea520-15d9-4b4e-d8f5-93742eda61be"
      },
      "execution_count": null,
      "outputs": [
        {
          "output_type": "execute_result",
          "data": {
            "text/plain": [
              "10000"
            ]
          },
          "metadata": {},
          "execution_count": 20
        }
      ]
    },
    {
      "cell_type": "code",
      "source": [
        "bs_99p"
      ],
      "metadata": {
        "colab": {
          "base_uri": "https://localhost:8080/"
        },
        "id": "awTAxFzQ6vR7",
        "outputId": "6d68b69c-5d82-44f7-801d-914f21d3cfde"
      },
      "execution_count": null,
      "outputs": [
        {
          "output_type": "execute_result",
          "data": {
            "text/plain": [
              "array([1167., 1167., 1174., ..., 1174., 1174., 1174.])"
            ]
          },
          "metadata": {},
          "execution_count": 21
        }
      ]
    },
    {
      "cell_type": "code",
      "source": [
        "#bs_99p may or maynot be normally distributed.\n",
        "print(np.percentile(bs_99p,2.5))\n",
        "print(np.percentile(bs_99p,97.5))\n"
      ],
      "metadata": {
        "colab": {
          "base_uri": "https://localhost:8080/"
        },
        "id": "zyYEvchf-C6q",
        "outputId": "477aeb79-df57-4902-c906-807255a51067"
      },
      "execution_count": null,
      "outputs": [
        {
          "output_type": "stream",
          "name": "stdout",
          "text": [
            "1162.56\n",
            "1174.0\n"
          ]
        }
      ]
    },
    {
      "cell_type": "code",
      "source": [
        "# Point estimate of the 99th percenitle of the 75 observed samples\n",
        "print(np.percentile(data,99))"
      ],
      "metadata": {
        "colab": {
          "base_uri": "https://localhost:8080/"
        },
        "id": "zaWhfecqLHYO",
        "outputId": "ba7db084-458a-4e22-af4d-59ec0ebd0af6"
      },
      "execution_count": null,
      "outputs": [
        {
          "output_type": "stream",
          "name": "stdout",
          "text": [
            "1174.0\n"
          ]
        }
      ]
    },
    {
      "cell_type": "code",
      "source": [
        "# plot the pdf of bs_99p\n",
        "import matplotlib.pyplot as plt\n",
        "plt.figure()\n",
        "plt.hist(bs_99p, bins=100)\n",
        "plt.grid()\n",
        "plt.show()"
      ],
      "metadata": {
        "colab": {
          "base_uri": "https://localhost:8080/",
          "height": 265
        },
        "id": "JIlQOyNe6VnF",
        "outputId": "f7b5f66a-c350-4390-854e-c71685f54e3a"
      },
      "execution_count": null,
      "outputs": [
        {
          "output_type": "display_data",
          "data": {
            "text/plain": [
              "<Figure size 432x288 with 1 Axes>"
            ],
            "image/png": "[encoded data removed]"
          },
          "metadata": {
            "needs_background": "light"
          }
        }
      ]
    },
    {
      "cell_type": "markdown",
      "source": [
        "## CLT as 'n' and 'r' changes"
      ],
      "metadata": {
        "id": "ofAuRFVc-CO4"
      }
    },
    {
      "cell_type": "code",
      "source": [
        "data = df[(df[\"sourceid\"] == 1) & (df[\"dstid\"] == 5)] [\"travel_time\"]\n",
        "data.shape"
      ],
      "metadata": {
        "id": "D5_0dcfW9rHv",
        "colab": {
          "base_uri": "https://localhost:8080/"
        },
        "outputId": "009b1881-11d8-4caa-eb24-1fb7e1c9458c"
      },
      "execution_count": null,
      "outputs": [
        {
          "output_type": "execute_result",
          "data": {
            "text/plain": [
              "(75,)"
            ]
          },
          "metadata": {},
          "execution_count": 25
        }
      ]
    },
    {
      "cell_type": "markdown",
      "source": [
        "### Change \"r\""
      ],
      "metadata": {
        "id": "yz1yHTUM-6Xv"
      }
    },
    {
      "cell_type": "code",
      "source": [
        "# n=30, r=10000\n",
        "# Let's create r=10000 bootstrap samples, and let each bootstrap sample be of size=30\n",
        "# bs_means is a list of 'r' bootstrap sample means\n",
        "r = 10000\n",
        "data = df[(df[\"sourceid\"] == 1) & (df[\"dstid\"] == 5)] [\"travel_time\"]\n",
        "size = 30\n",
        "bs_means = np.empty(r)\n",
        "\n",
        "for i in range(r):\n",
        "    bs_sample = np.random.choice(data, size=size)\n",
        "    bs_means[i] = np.mean(bs_sample)\n",
        "\n",
        "plt.figure()\n",
        "plt.hist(bs_means, bins=100)\n",
        "plt.grid()\n",
        "plt.show()\n",
        "\n",
        "print(np.mean(bs_means), np.std(bs_means))"
      ],
      "metadata": {
        "colab": {
          "base_uri": "https://localhost:8080/",
          "height": 282
        },
        "id": "ez1ZqPNW-SzB",
        "outputId": "affbb73a-97bc-4b89-e5de-fed3b98fca7e"
      },
      "execution_count": null,
      "outputs": [
        {
          "output_type": "display_data",
          "data": {
            "text/plain": [
              "<Figure size 432x288 with 1 Axes>"
            ],
            "image/png": "[encoded data removed]"
          },
          "metadata": {
            "needs_background": "light"
          }
        },
        {
          "output_type": "stream",
          "name": "stdout",
          "text": [
            "1122.7299666666668 4.429857032932577\n"
          ]
        }
      ]
    },
    {
      "cell_type": "code",
      "source": [
        "# n=30, r=100\n",
        "# Let's create r=10000 bootstrap samples, and let each bootstrap sample be of size=30\n",
        "# bs_means is a list of 'r' bootstrap sample means\n",
        "r = 100\n",
        "data = df[(df[\"sourceid\"] == 1) & (df[\"dstid\"] == 5)] [\"travel_time\"]\n",
        "size = 30\n",
        "bs_means = np.empty(r)\n",
        "\n",
        "for i in range(r):\n",
        "    bs_sample = np.random.choice(data, size=size)\n",
        "    bs_means[i] = np.mean(bs_sample)\n",
        "\n",
        "plt.figure()\n",
        "plt.hist(bs_means, bins=100)\n",
        "plt.grid()\n",
        "plt.show()\n",
        "\n",
        "print(np.mean(bs_means), np.std(bs_means))"
      ],
      "metadata": {
        "colab": {
          "base_uri": "https://localhost:8080/",
          "height": 282
        },
        "id": "nOF3fnu0-sMo",
        "outputId": "34192d42-2e85-4f0b-d397-0d6f7524d21f"
      },
      "execution_count": null,
      "outputs": [
        {
          "output_type": "display_data",
          "data": {
            "text/plain": [
              "<Figure size 432x288 with 1 Axes>"
            ],
            "image/png": "[encoded data removed]"
          },
          "metadata": {
            "needs_background": "light"
          }
        },
        {
          "output_type": "stream",
          "name": "stdout",
          "text": [
            "1122.3886666666665 3.983455284046753\n"
          ]
        }
      ]
    },
    {
      "cell_type": "code",
      "source": [
        "# n=30, r=1000\n",
        "# Let's create r=10000 bootstrap samples, and let each bootstrap sample be of size=30\n",
        "# bs_means is a list of 'r' bootstrap sample means\n",
        "r = 1000\n",
        "data = df[(df[\"sourceid\"] == 1) & (df[\"dstid\"] == 5)] [\"travel_time\"]\n",
        "size = 30\n",
        "bs_means = np.empty(r)\n",
        "\n",
        "for i in range(r):\n",
        "    bs_sample = np.random.choice(data, size=size)\n",
        "    bs_means[i] = np.mean(bs_sample)\n",
        "\n",
        "plt.figure()\n",
        "plt.hist(bs_means, bins=100)\n",
        "plt.grid()\n",
        "plt.show()\n",
        "\n",
        "print(np.mean(bs_means), np.std(bs_means))"
      ],
      "metadata": {
        "colab": {
          "base_uri": "https://localhost:8080/",
          "height": 282
        },
        "id": "hD4OFXml-wQl",
        "outputId": "5ba58fde-cfac-48dc-9902-83ee94ff63f7"
      },
      "execution_count": null,
      "outputs": [
        {
          "output_type": "display_data",
          "data": {
            "text/plain": [
              "<Figure size 432x288 with 1 Axes>"
            ],
            "image/png": "[encoded data removed]"
          },
          "metadata": {
            "needs_background": "light"
          }
        },
        {
          "output_type": "stream",
          "name": "stdout",
          "text": [
            "1122.5838999999999 4.3441068268786065\n"
          ]
        }
      ]
    },
    {
      "cell_type": "markdown",
      "source": [
        "### Change \"n\""
      ],
      "metadata": {
        "id": "5iD2vSDa_BJT"
      }
    },
    {
      "cell_type": "code",
      "source": [
        "# n=60, r=10000\n",
        "# Let's create r=10000 bootstrap samples, and let each bootstrap sample be of size=30\n",
        "# bs_means is a list of 'r' bootstrap sample means\n",
        "r = 10000\n",
        "data = df[(df[\"sourceid\"] == 1) & (df[\"dstid\"] == 5)] [\"travel_time\"]\n",
        "size = 60\n",
        "bs_means = np.empty(r)\n",
        "\n",
        "for i in range(r):\n",
        "    bs_sample = np.random.choice(data, size=size)\n",
        "    bs_means[i] = np.mean(bs_sample)\n",
        "\n",
        "plt.figure()\n",
        "plt.hist(bs_means, bins=100)\n",
        "plt.grid()\n",
        "plt.show()\n",
        "\n",
        "print(np.mean(bs_means), np.std(bs_means))"
      ],
      "metadata": {
        "colab": {
          "base_uri": "https://localhost:8080/",
          "height": 282
        },
        "id": "SPMWKqyG_Ctk",
        "outputId": "0a884e07-129c-420e-fe31-51c545cfd6f4"
      },
      "execution_count": null,
      "outputs": [
        {
          "output_type": "display_data",
          "data": {
            "text/plain": [
              "<Figure size 432x288 with 1 Axes>"
            ],
            "image/png": "[encoded data removed]"
          },
          "metadata": {
            "needs_background": "light"
          }
        },
        {
          "output_type": "stream",
          "name": "stdout",
          "text": [
            "1122.8224 3.2077886318563236\n"
          ]
        }
      ]
    },
    {
      "cell_type": "code",
      "source": [
        "# n=15, r=10000\n",
        "# Let's create r=10000 bootstrap samples, and let each bootstrap sample be of size=30\n",
        "# bs_means is a list of 'r' bootstrap sample means\n",
        "r = 10000\n",
        "data = df[(df[\"sourceid\"] == 1) & (df[\"dstid\"] == 5)] [\"travel_time\"]\n",
        "size = 15\n",
        "bs_means = np.empty(r)\n",
        "\n",
        "for i in range(r):\n",
        "    bs_sample = np.random.choice(data, size=size)\n",
        "    bs_means[i] = np.mean(bs_sample)\n",
        "\n",
        "plt.figure()\n",
        "plt.hist(bs_means, bins=100)\n",
        "plt.grid()\n",
        "plt.show()\n",
        "\n",
        "print(np.mean(bs_means), np.std(bs_means))"
      ],
      "metadata": {
        "colab": {
          "base_uri": "https://localhost:8080/",
          "height": 282
        },
        "id": "yrGQlt3n_fgX",
        "outputId": "7e511118-8811-4998-bd5f-88af41541f91"
      },
      "execution_count": null,
      "outputs": [
        {
          "output_type": "display_data",
          "data": {
            "text/plain": [
              "<Figure size 432x288 with 1 Axes>"
            ],
            "image/png": "[encoded data removed]"
          },
          "metadata": {
            "needs_background": "light"
          }
        },
        {
          "output_type": "stream",
          "name": "stdout",
          "text": [
            "1122.7105866666666 6.337015344627504\n"
          ]
        }
      ]
    }
  ]
}