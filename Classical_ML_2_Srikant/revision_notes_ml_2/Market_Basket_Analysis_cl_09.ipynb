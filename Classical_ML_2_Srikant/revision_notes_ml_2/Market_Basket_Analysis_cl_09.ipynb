{
  "nbformat": 4,
  "nbformat_minor": 0,
  "metadata": {
    "colab": {
      "provenance": [],
      "toc_visible": true
    },
    "kernelspec": {
      "name": "python3",
      "display_name": "Python 3"
    },
    "language_info": {
      "name": "python"
    }
  },
  "cells": [
    {
      "cell_type": "markdown",
      "source": [
        "Lecture Notes for session conducted on August 12, 2022\n",
        "\n",
        "https://www.scaler.com/academy/mentee-dashboard/class/33493/session\n",
        "\n",
        "**Content**\n",
        "\n",
        "1.   Market-Basket Analysis.\n",
        "2.   Association Rule Mining.\n",
        "3.   Apriori Algorithm.\n",
        "4.   Introduction to Time Series Analysis:\n",
        "     - Forecasting.\n",
        "     - Resampling.\n",
        "     - Missing values treatment.\n",
        "     - Outliers/ Anamolies."
      ],
      "metadata": {
        "id": "TJZ-3vAUjCBO"
      }
    },
    {
      "cell_type": "markdown",
      "source": [
        "### Market-Basket Analysis:\n"
      ],
      "metadata": {
        "id": "2ExToxIIk_-j"
      }
    },
    {
      "cell_type": "markdown",
      "source": [
        "#### What is Market-Basket System?"
      ],
      "metadata": {
        "id": "OP_I89NFaIBO"
      }
    },
    {
      "cell_type": "markdown",
      "source": [
        "- Imagine you are working as a Data Scientist in retail stores like D-Mart or Walmart in the Pre-Internet Era (early 90's) where data comes from retail stores.\n",
        "    <img src='https://drive.google.com/uc?id=1d1kyFMBkb7ebUlZpVncNMBee4LUW-bVr'>\n",
        "- Here you have bunch of products like milk, break, jam, butter etc referred to as items.\n",
        "- Given a store, the number of products will not be very large. Store would have around few 100's of products, unlike today's E-commerce setup where there would 1000's of products.\n",
        "\n",
        "***Mathematical Terminology:***\n",
        "\n",
        "$$D = \\{1,2,...,n\\} \\ where \\ 1 \\to n: item \\ number \\ given \\ to \\ each \\ product$$\n",
        "\n",
        "\n",
        "\n",
        "\n",
        "\n",
        "\n"
      ],
      "metadata": {
        "id": "_s-637WcWUHl"
      }
    },
    {
      "cell_type": "markdown",
      "source": [
        "***Transactions:***\n",
        "\n",
        "- Let, $T_1$ be set of items bought together by users. Similarly, $T_2$ be set of items bought by another customer.\n",
        "    <img src='https://drive.google.com/uc?id=1liUuvDBuML0mdfJrulMqEPRxuDbMKQSg'>\n",
        "- In Market-Basket Analysis, each transaction can be thought of as a basket that one customer bought.\n",
        "- Imagine there are very large number of such transactions. What if we can detect some patterns from all of this data.\n",
        "- For e.g. $\\{1,3\\}$, if somebody buys item 1 then they would also buy item 3 a lot. Here, $1\\to Milk$ and $3\\to Bread$.\n",
        "- If we such combinations occur many many times, then we can say that these products are purchased together.\n",
        "- This is important in scenarios wherein a customer might be buying item 1 and not 3. Then, we could recommend item 3 to such customers.\n",
        "\n"
      ],
      "metadata": {
        "id": "KMPEr_Yo1u5k"
      }
    },
    {
      "cell_type": "markdown",
      "source": [
        "***Note:***\n",
        "\n",
        "Market Basket Analysis is slightly older topics, but within scope of recommender systems. These ideas were used in early 90's to build simple Recommender Systems (but with slightly older tech). In some of the settings, these may be used even today and some of these concepts may even be asked in interviews."
      ],
      "metadata": {
        "id": "bMIYZSVX1Z_7"
      }
    },
    {
      "cell_type": "markdown",
      "source": [
        "#### Objective in Recommender Systems (RecSys):\n"
      ],
      "metadata": {
        "id": "NKvrknotaPK3"
      }
    },
    {
      "cell_type": "markdown",
      "source": [
        "***Task:***\n",
        "\n",
        "- Given dataset of items ($D$) and given set of all transactions ($T$) such that $T_i$ is a subset of $D$, find itemsets that occur very frequently in transactions.\n",
        "\n",
        "  <img src='https://drive.google.com/uc?id=1UDa1FDJcdAtqBq0oKwsSqIHGdiC98z-z'>\n",
        "    "
      ],
      "metadata": {
        "id": "_lOIuKdyWmfL"
      }
    },
    {
      "cell_type": "markdown",
      "source": [
        "***Question:*** How to find such itemsets?\n",
        "\n",
        "***Approach:***\n",
        "\n",
        "For the given dataset of items, create a dictionary where key $\\to$ all possible combinations of itemsets and value $\\to$ count/frequency of such pairs.\n",
        "\n",
        "***Issues with this approach:***\n",
        "<img src='https://drive.google.com/uc?id=1g6zD-6bdnApB2r2erpoF8HA1qkU1ft07'>\n",
        "\n",
        "- To create all subsets of $D = \\{ 1,2,...,n\\}$, every element has 2 possibilites. Either it is selected or not selected. Since there are $n$ such items. Hence, number of subsets = $2^n$.\n",
        "- Now if we create $2^n$ subsets and then scan through all $m$ transactions, then time complexity would be $O(2^n*m)$.\n",
        "- Even if $n$ is very small, $2^n$ will be a very large. Hence, this approach may not work as it is too slow.\n",
        "\n",
        "We can simplify above solution and come up with slightly better solution.\n",
        "\n"
      ],
      "metadata": {
        "id": "niBs-uPh5kjb"
      }
    },
    {
      "cell_type": "markdown",
      "source": [
        "***Intuition:***\n",
        "\n",
        "- Imagine we have an itemset for e.g. $\\{2,4\\}$, Let, number of items this pair is bought together is less than 100. Then number of items $\\{2,4,6\\}$, occurs will be less than 100 as well.\n",
        " <img src='https://drive.google.com/uc?id=1NwX8k9mCrHM72M2ld0AQFTO1x6bwJ3JG'>\n",
        "- We can set a threshold $\\to$ minimum support (C) and say that we want to find atleast 100 transactions where itemset $\\{2,4\\}$ are brought together.\n",
        "- If itemset occurs less than minimum support then any superset of $\\{2,4\\}$ will occur fewer than 100 times. Hence, we can ignore supersets of $\\{2,4\\}$.\n",
        "- This intuition can be used to speed up the above approach.\n"
      ],
      "metadata": {
        "id": "6AglW32L9LzB"
      }
    },
    {
      "cell_type": "markdown",
      "source": [
        "***Anecdote:***\n",
        "\n",
        "There was an interesting search work in 90's. In a bunch of stores in US, between 5-7 pm a lot of young men were buying diapers and beers together. Especially when younger men were doing groceries. Using this information, stores would place these items together in the same aisles or nearby ones.\n"
      ],
      "metadata": {
        "id": "k35tGVwU7uzO"
      }
    },
    {
      "cell_type": "markdown",
      "source": [
        "#### Approach using Minimum Support (Apriori Algorithm):"
      ],
      "metadata": {
        "id": "Qbe2T8rODJRS"
      }
    },
    {
      "cell_type": "markdown",
      "source": [
        "- Create sets of size 1 $\\to$ $\\{1\\}$, $\\{2\\}$, ....., $\\{n\\}$ and count how many times each item occurs.\n",
        " <img src='https://drive.google.com/uc?id=17vEE1Il_Dm5lmqAoBB-LHSmpfLMsC2av'>\n",
        "- Assume, c = 100 (minimum support). Then we can ignore those sets which have occured less than minimum support.\n",
        "- Let count of $\\{1\\}$ = 100, $\\{2\\}$ = 200, $\\{3\\}$ = 150 and $\\{4\\}$ = 50.\n",
        "- Now, while creating sets of size 2, we can ignore all supersets of $\\{4\\}$.\n",
        "- In the next iteration, we create subsets $\\to$ $\\{1,2\\}$, $\\{2,3\\}$ $\\{1,3\\}$. Because we have this intuition that no superset of $\\{4\\}$ can occur more than 100 times (minimum support), we save a lot of computational time.\n",
        "- Let count of $\\{1,2\\}$ = 105, $\\{2,3\\}$ = 60, $\\{1,3\\}$ = 110.\n",
        "- Now, we have to build sets of size 3 which does not contain $\\{2,3\\}$ and even $\\{4\\}$. But, we cannot create a subset of 3 elements that do not contain $\\{2,3, 4\\}$. Further iterations stop.\n",
        "- Note, there will be many items in the store that are not brought frequently. So we eliminate such items and the initial computations of $2^n$ is reduced significantly in real world using above concept of Minimum support.\n",
        "\n",
        "This algorithm is called ***$Apriori \\ Algorithm$*** and was designed in early 90's."
      ],
      "metadata": {
        "id": "VMi1s0Xw-6FI"
      }
    },
    {
      "cell_type": "markdown",
      "source": [
        "#### Drawbacks:"
      ],
      "metadata": {
        "id": "-MTYstdaD7-K"
      }
    },
    {
      "cell_type": "markdown",
      "source": [
        "- As n $\\uparrow$ the algorithm becomes very costly. In worst case, time complexity $\\approx O(2^n*m)$. Hence, it is not used in E-commerce.\n",
        "    <img src='https://drive.google.com/uc?id=1W2zFhbrT7djo0U3ZVqJ8JMCpH8lWbG-H'>\n",
        "- There are some modifications to Apriori: Frequent Pattern growth (FP_growth) algorithm which use specialized Data Structure \"Tries\". (We will cover this in Advanced DSA elective).\n",
        "    <img src='https://drive.google.com/uc?id=1vBni_vTkWBgzUoEHdtOGP8jqELb8Qw4h'>\n",
        "\n",
        "This approach is also known as Frequent Itemset Mining. These are very very expensive and only used when number of items $n$ is small.\n"
      ],
      "metadata": {
        "id": "EzN7M4j_YTfH"
      }
    },
    {
      "cell_type": "markdown",
      "source": [
        "#### Other applications of Market-Basket Analysis and Apriori: (Beyond Retail)\n"
      ],
      "metadata": {
        "id": "4_tO__z_bH2m"
      }
    },
    {
      "cell_type": "markdown",
      "source": [
        "<img src='https://drive.google.com/uc?id=1_vH-O8dBgQXgy5Po9GXss_c-ple6oDgN'>\n",
        "\n",
        "- Bio-informatics:\n",
        "    - When there are some chemical compounds that occur in protein structure.\n",
        "    - String of gene sequences.\n",
        "- Medicince:\n",
        "    - Medicines that are jointly prescribed, where combinations of drugs is used to cure a health issue.\n",
        "\n",
        "\n",
        "<img src='https://drive.google.com/uc?id=1zRyeAhbtBVkhKzaRryQq5UBAIqjya76l'>\n",
        "\n",
        "- Web usage Mining:\n",
        "    - In a single session, users are visiting these webpages together. Then we can say that these webpages are related.\n",
        "- Similar words."
      ],
      "metadata": {
        "id": "QYgvLsbEbPAG"
      }
    },
    {
      "cell_type": "markdown",
      "source": [
        "### Association Rule Mining:"
      ],
      "metadata": {
        "id": "-XvqLg50lSuM"
      }
    },
    {
      "cell_type": "markdown",
      "source": [
        "#### Concept:"
      ],
      "metadata": {
        "id": "HKqAGKCDdpV4"
      }
    },
    {
      "cell_type": "markdown",
      "source": [
        "- Imagine we have a set of item $D = \\{1,2,...,n\\}$.\n",
        "<img src='https://drive.google.com/uc?id=14nzZwqfUck-2hjyWFeg2GySmlxNoWE4X'>\n",
        "- Let $X = \\{1,2,3\\}$ and $Y = \\{4,6\\}$ where $\\{1,2,3,4,6\\}$ is the frequent itemset determined using Apriori algorithm.\n",
        "- The association rule states that people who buy $X$ tend to buy $Y$ as well.\n",
        "- If $X$ and $Y$ are two disjoint sets of items, then we can create association rule that when people buy $X$ there is a very high likelihood of buying $Y$. This association rule can be written as ($X \\Rightarrow Y$).\n",
        "- This is another way of representing frequent items.\n",
        "- For. e.g. People who buy beer have high likelihood of buying diapers $Beer \\Rightarrow Diapers$).\n",
        "- Similarly, people who buy $\\{Milk, Bread\\} \\Rightarrow \\{Jams, Egg\\}$.\n",
        "- To find these association rules, we do frequent itemset mining using Apriori algorithm or its variation.\n"
      ],
      "metadata": {
        "id": "uGV0l5yzdUVl"
      }
    },
    {
      "cell_type": "markdown",
      "source": [
        "#### Terminology:"
      ],
      "metadata": {
        "id": "5X0mG7Q0gzZQ"
      }
    },
    {
      "cell_type": "markdown",
      "source": [
        "##### Support:"
      ],
      "metadata": {
        "id": "eezbdlSVnXEX"
      }
    },
    {
      "cell_type": "markdown",
      "source": [
        "- $Support(X)$ = Number of transactions that contains $X$ divided by total transactions.\n",
        "<img src='https://drive.google.com/uc?id=1aGfcAYTG_L3QkSZjNrbD4tzl2rkKQLNl'>\n",
        "- In a way, its the probability of item $X$ occuring in transactions $T$.\n"
      ],
      "metadata": {
        "id": "yxUG8CWFgzZo"
      }
    },
    {
      "cell_type": "markdown",
      "source": [
        "##### Confidence:"
      ],
      "metadata": {
        "id": "3w0Dd_iInaR7"
      }
    },
    {
      "cell_type": "markdown",
      "source": [
        "- $Confidence(X \\Rightarrow Y)$ = Number of transactions that contains $X$ and $Y$ divided by number of transactions that contain $X$.\n",
        "<img src='https://drive.google.com/uc?id=1LluGYl5l2E4AWuy0sNpNePMCnXfMJT90'>\n",
        "- If $X \\cup Y$ is frequent item set then, confidence will be very high."
      ],
      "metadata": {
        "id": "CMCNN3qAhwej"
      }
    },
    {
      "cell_type": "markdown",
      "source": [
        "##### Lift:"
      ],
      "metadata": {
        "id": "G9ZSTLoAnemb"
      }
    },
    {
      "cell_type": "markdown",
      "source": [
        "- $Lift(X \\Rightarrow Y)$ = Support of $X$ and $Y$ divided by Support(X) * Support(Y).\n",
        "<img src='https://drive.google.com/uc?id=16QO3ZtpLJK1akKO7ZwUu5Zlu-fxX541Y'>\n",
        "- Intuitively, it is probability that $X$ and $Y$ both occur by Probability ($X$) and probabilty ($Y$).\n",
        "- If $X$ and $Y$ are independent then $P(X \\ and \\ Y)$ = $P(X)$ * $P(Y)$. This means: how much is probability of $X$ and $Y$ co-occuring as compared to the case where $X$ and $Y$ are independent.\n",
        "-  $Lift(X \\Rightarrow Y) = 1$. if X and Y are independent and > 1, if X and Y are not independent."
      ],
      "metadata": {
        "id": "EOasmSvhiwem"
      }
    },
    {
      "cell_type": "markdown",
      "source": [
        "#### Summary:"
      ],
      "metadata": {
        "id": "7lO9x3_GntvW"
      }
    },
    {
      "cell_type": "markdown",
      "source": [
        "- Market Basket problem is solved by determining frequent itemsets using Apriori/FP_growth algorithm.\n",
        "- Alternatively, it is also solved using Association Rule Mining that determines frequent itemsets using Apriori/FP_growth algorithm.\n",
        "<img src='https://drive.google.com/uc?id=1tBLLrVTY-0oSFItQSxtINSpkbrKpi4cF'>\n"
      ],
      "metadata": {
        "id": "E2W5UzmBnR4a"
      }
    },
    {
      "cell_type": "markdown",
      "source": [
        "***Question:*** Are the view-view, view-bought models which we see in e-commerce web sites based on association rule mining.\n",
        "\n",
        "***Answer:*** NO, e-Commerce doesnt use it because the scale of product size and transaction is very large.\n",
        "\n",
        "- View-Purchased: Can be determined using Matrix Factorization.\n",
        "<img src='https://drive.google.com/uc?id=1lYD3cHjPGXwPTwNQPzeWSwzeyBiF2QYw'>\n",
        "- For e.g. user viewed items $i_i, i_2, i_3,.. $ and bought item $i_{10}$. Note, that this is a sequence and not a set.\n",
        "- We could use Naive Bayes approach wherein, we determine Probability of buying item $i_{10}$, given that user has visited $i_i, i_2, i_3,.. $"
      ],
      "metadata": {
        "id": "ZfghJuzroqDw"
      }
    },
    {
      "cell_type": "markdown",
      "source": [
        "***Question:*** In the above example $i_i, i_2, i_3$ can be completely random or do they belong to same category as $i_{10}$.\n",
        "\n",
        "***Answer:***\n",
        "\n",
        "- Let say, the user starts browsing for TVs ($i_1, i_2$) and switches to browsing headphones. ($i_3, i_4$).\n",
        "    <img src='https://drive.google.com/uc?id=1d4CrSjGHNzZk_0Di9DkVtF0gV8ecH3Jx'>\n",
        "- Remember, that when user is on a product page, recommendations would be for that product category itself.\n",
        "- Modern Receommender Systems keeps a track of last k-items and simply follow similar items that are determined using MF/DL. Then a very fast approximate Neighbours algorithm is used."
      ],
      "metadata": {
        "id": "qm_fBesYrFcw"
      }
    }
  ]
}