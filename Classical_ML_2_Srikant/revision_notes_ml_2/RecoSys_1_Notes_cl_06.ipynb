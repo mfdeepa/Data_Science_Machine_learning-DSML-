{
  "nbformat": 4,
  "nbformat_minor": 0,
  "metadata": {
    "colab": {
      "provenance": []
    },
    "kernelspec": {
      "name": "python3",
      "display_name": "Python 3"
    },
    "language_info": {
      "name": "python"
    }
  },
  "cells": [
    {
      "cell_type": "markdown",
      "source": [
        "### Recommender Systems:"
      ],
      "metadata": {
        "id": "JwG9Ze24ZZwT"
      }
    },
    {
      "cell_type": "markdown",
      "source": [
        "What is a recommender Systems? Before we deep-dive, let's discuss some of the examples of recommender systems in our daily use.\n",
        "\n",
        "- Amazon's recommendation based product search.\n",
        "- Youtube's video recommendation base on the current video being watched.\n",
        "- Surprise me feature in Netflix.\n",
        "- Instagram reels.\n",
        "- Tiktok."
      ],
      "metadata": {
        "id": "W3ZHyAuIc7bB"
      }
    },
    {
      "cell_type": "markdown",
      "source": [
        "Broadly there are 3 classes of recommender systems:\n",
        "- Pre-2006: (Simple techniques like Content based, similarity based).\n",
        "- 2007-2015: Matrix Factorization. (Famous Netflix Prize)\n",
        "- 2015+: Deep learning based approach.\n"
      ],
      "metadata": {
        "id": "fSBHuFg5ddqt"
      }
    },
    {
      "cell_type": "markdown",
      "source": [
        "**Problem Formulation:**\n",
        "- Imagine, we have a bunch of users $(U_i)$ and bunch of items.\n",
        "- User: $U_i$ i=1$\\rightarrow$n & Items:$I_j$ j=1$\\rightarrow$m (both are very very large numbers).\n",
        "\n",
        "**Task:**\n",
        "- Give some suggestions to user about items (preferrable ranked) they might be interested. For e.g. $U_i  \\rightarrow I_{10}, I_{12}, I_{16}, I_{18}, $\n",
        "\n",
        "**Dataset:**\n",
        "- Is represented as Matrix A:\n",
        "    <img src='https://drive.google.com/uc?id=1550hQlw6UPFy0-MX-rSFG8hc31r1t85c'>\n",
        "- This data is setup using historical data such that $A_{ij}$ could have rating for product bought or video watched. It could also be empty if user $U_i$ did not watch movie $I_j$.\n",
        "- There will be a lot of empty cells. Hence, this matrix is also referred to as Sparse Matrix.\n",
        "- $A_{n*m}$ would be very large. For e.g. There could be $10^8$ movies/vidoes on youtube of which we would have watched 1000 odd movies in the last 10 years.\n",
        "- If there were around $10^9$ users then Sparsity would be $\\frac{10^9 users * 10^3 vidoes}{10^17} = 10^{-5}$ i.e. 1 in every 100k cells is non-empty in A."
      ],
      "metadata": {
        "id": "mKy_ZJUffUuY"
      }
    },
    {
      "cell_type": "markdown",
      "source": [
        "#### ***Question:*** Can you use techniques that we already know for recommending some items to user?\n",
        "**Task:**\n",
        "- Given $A_{n*m}$, we need to recommend some items to user $U_i$."
      ],
      "metadata": {
        "id": "7W4bKlamfUxR"
      }
    },
    {
      "cell_type": "markdown",
      "source": [
        "**Idea 1:**\n",
        "- $U_i \\rightarrow I_{10}, I_{12}$ (already bought items).\n",
        "- Now, $\\forall_j$, find Sim($I_j$,$I_{10}$) and Sim($I_j$,$I_{12}$) where Sim function uses Cosine Similarity to find items similar to $I_{10}$ and $I_{12}$  .\n",
        "    <img src='https://drive.google.com/uc?id=1YV7uqWE7t0RN2BIHjxBzTb4yYyez2oXL'>\n",
        "- This is nothing but Item-Item similarity based recommender system."
      ],
      "metadata": {
        "id": "pqcR-zc7fU1t"
      }
    },
    {
      "cell_type": "markdown",
      "source": [
        "\n",
        "**Idea 2:**\n",
        "- $U_i \\rightarrow I_{10}, I_{18}$ (already bought items).\n",
        "- Now, $\\forall_j$, find Sim($U_j$,$U_i$) where Sim function uses Cosine Similarity to find users similar to $U_i$.\n",
        "- Let $U_{10}, U_{26} and U_{58}$ be most similar to $U_i$.\n",
        "- Now, we find the items that were brought by these users and exclude the once that were already bought by user $U_i$.\n",
        "- We can also do a frequency based approach to suggest items from above subset.\n",
        "    <img src='https://drive.google.com/uc?id=1UXbBpyE2D2SwQ_y3aZDs8_n9GrpeDpUF'>\n",
        "- This is nothing but User-User similarity based recommender system.\n"
      ],
      "metadata": {
        "id": "HPrYgCOst7iX"
      }
    },
    {
      "cell_type": "markdown",
      "source": [
        "*Note:* The above ideas is what we refer to as collaborative filtering based recommender systems, where it uses similarities between users and items simultaneously to provide recommendations."
      ],
      "metadata": {
        "id": "G3-uUn_kBn_9"
      }
    },
    {
      "cell_type": "markdown",
      "source": [
        "#### Question: What if there is a new user/new item? (Often referred to as Cold Start problem)\n"
      ],
      "metadata": {
        "id": "mA2u1uA7uEkj"
      }
    },
    {
      "cell_type": "markdown",
      "source": [
        "<img src='https://drive.google.com/uc?id=1_sNEkPEf81kVRWzDRPUnfCbm--oPigYv'>"
      ],
      "metadata": {
        "id": "IAsh_JrhuP0i"
      }
    },
    {
      "cell_type": "markdown",
      "source": [
        "**Idea 1:**\n",
        "- Frequently bought items or popular items could be recommended.\n",
        "- We can go deep one step. For e.g. location based popular recommendations based on GPS/Pincode.\n",
        "- This is the additional data about users (metadata) that we collected for the users in the beginning. For e.g. Credit Card Type, Gender, Age etc.\n",
        "- If the Item is new, we would have seller provided information. Using this and some additional data, we can find User-User similarities or I-I similarities.\n",
        "- This approach is called Content-based Recommender Systems."
      ],
      "metadata": {
        "id": "Pv0JZx6LuP3H"
      }
    },
    {
      "cell_type": "markdown",
      "source": [
        "**Idea 2:**\n",
        "- Regression/Classification based approach.\n",
        "<img src='https://drive.google.com/uc?id=1k6ry8MhtY71XluXcujZnWiFhgRAVsBQr'>\n",
        "- Let say, we have $U_i \\in $ ${\\mathbb{R}^d}^{'}$ (User metadata) and $I_j \\in \\mathbb{R}^d$ (Item features provided by Seller).\n",
        "- Assume that $A_{ij}$ = 4 which is the rating given by user $U_i$ on item $I_j$.\n",
        "- Then we could treat these ratings as $y_i$ and $x_i$ = $U_i$ + $I_j$ as shown in figure and build a classification/regression model to predict $y_i$."
      ],
      "metadata": {
        "id": "flKBxyEsvnak"
      }
    },
    {
      "cell_type": "markdown",
      "source": [
        "#### Question: For new user, what will be the rating?"
      ],
      "metadata": {
        "id": "3l6aOOZE85ny"
      }
    },
    {
      "cell_type": "markdown",
      "source": [
        "- Here, for each new user, we would be predicting ratings $\\forall_j$.\n",
        "- This task will be very very expensive as we would have few millon products/videos.\n",
        "<img src='https://drive.google.com/uc?id=1dRIZErwFms_Vv6dlespED7p6Kl4hKeLk'>\n"
      ],
      "metadata": {
        "id": "ugxXkE609Bw6"
      }
    },
    {
      "cell_type": "markdown",
      "source": [
        "#### Question: Back in the days, when this methodology (Collaborative Filtering) was used, wasn't it time consuming to calculate so many similarities on the go? How was it Productionalized?"
      ],
      "metadata": {
        "id": "rcEZl8bu9Bzw"
      }
    },
    {
      "cell_type": "markdown",
      "source": [
        "- The Item-Item Similarity matrix would be calculated nightly/weekly.\n",
        "<img src='https://drive.google.com/uc?id=1awajKu90E1Uy6ZHrPZrkAOfcRnzjR3J7'>\n",
        "- This matrix information would then be stored in couple of dictionaries.\n",
        "<img src='https://drive.google.com/uc?id=1421aZY_4jYBnhOYxIlwuFve4m-nvQIcV'>\n",
        "- One dictionary would store information about Items as **Key** and the similar items as **values**. These Key-value pairs could be accessed in O(1) time complexity.\n",
        "<img src='https://drive.google.com/uc?id=1AmmSV2mMwc68srdtqww4edi9C-KMZNwC'>\n",
        "- Another dictionary would store users as **Keys** and products purchased or vidoes watched as **values**. These Key-value pairs could be accessed in O(1) time complexity.\n",
        "- These dictionaries could also be stored as distributed dictionaries by using Redis/Mem Cache."
      ],
      "metadata": {
        "id": "PfyTG2qbCdR5"
      }
    }
  ]
}