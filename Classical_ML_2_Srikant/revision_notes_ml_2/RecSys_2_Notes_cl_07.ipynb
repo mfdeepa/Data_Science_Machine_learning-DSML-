{
  "nbformat": 4,
  "nbformat_minor": 0,
  "metadata": {
    "colab": {
      "provenance": []
    },
    "kernelspec": {
      "name": "python3",
      "display_name": "Python 3"
    },
    "language_info": {
      "name": "python"
    }
  },
  "cells": [
    {
      "cell_type": "markdown",
      "source": [
        "Lecture Notes for session conducted on August 8, 2022\n",
        "\n",
        "https://www.scaler.com/academy/mentee-dashboard/class/33481/session\n",
        "\n",
        "**Content**\n",
        "\n",
        "1.   Recap: Content-based Vs Collaborative filtering.\n",
        "2.   Matrix Factorization (MF): PCA and SVD.\n",
        "3.   Generic MF for matrix-completion.\n",
        "4.   NMF and Optimization.\n",
        "5.   Clustering as MF.\n",
        "6.   MF for feature Engineering: Word-vectors; Eigen Faces.\n",
        "7.   Hyper-parameter tuning.\n",
        "8.   Netflix-Prize Solution.  "
      ],
      "metadata": {
        "id": "TJZ-3vAUjCBO"
      }
    },
    {
      "cell_type": "markdown",
      "source": [
        "### Recap: Content-based Vs Collaborative filtering.\n",
        "\n"
      ],
      "metadata": {
        "id": "2ExToxIIk_-j"
      }
    },
    {
      "cell_type": "markdown",
      "source": [
        "- In Collaborative filtering, we have a matrix $A_{n*m}$. This matrix is often known as rating matrix, where we have n$\\rightarrow$users and m$\\rightarrow$items. It stores ratings of these users for an item.\n",
        "    <img src='https://drive.google.com/uc?id=1xl8K0dxC8eVqLwpRzEFMO9NvFKgqWYlH'>\n",
        "\n",
        "- In Content-based, we have user vectors or item vectors which contain demographic data of users or textual data of items.\n",
        "- Using these vectors, we compute user-user similarity or item-item similarity.\n",
        "- Content-based is useful in settting of Cold-start problem where we do not have rating info either for users or items.\n",
        "- User-User similarity/Item-Item similarity can be used in either Content-based or Collaborative based setup where rows $\\rightarrow$ user representation and columns $\\rightarrow$ item representation.\n"
      ],
      "metadata": {
        "id": "_lOIuKdyWmfL"
      }
    },
    {
      "cell_type": "markdown",
      "source": [
        "### Matrix Factorization:\n"
      ],
      "metadata": {
        "id": "-XvqLg50lSuM"
      }
    },
    {
      "cell_type": "markdown",
      "source": [
        "#### Maths for Matrix Factorization:"
      ],
      "metadata": {
        "id": "uSLUvwNd5CNe"
      }
    },
    {
      "cell_type": "markdown",
      "source": [
        "\n",
        "- What is factorization? Let's say, we are given a number 6. We know that 2 and 3 are factors of 6.\n",
        "- We represent 6 as product of two other numbers. This is whole idea of factorization.\n",
        "<img src='https://drive.google.com/uc?id=1xWBQlKzQyMKlqf24j446johZvUeE6LII'>\n",
        "- Suppose we are given a matrix A: we break down this matrix as product of 2 matrices (Often referred to as Matrix decomposition).\n",
        "- So, $A_{n*m} = B_{n*d}$ . $C_{d*m}$. Here, A is decomposed into product of 2 metrices B ad C. Here, B and C are factors.\n",
        "\n",
        "This is basic mathematical intuition behind Matrix Factorization (MF). We will build mathematical models which uses MF as core concept.\n"
      ],
      "metadata": {
        "id": "YSqdPaDwgqRt"
      }
    },
    {
      "cell_type": "markdown",
      "source": [
        "***Question:*** Can a matrix be decomposed into 2 matrices only?\n",
        "\n",
        "***Answer*** No. Not necessary.\n",
        "\n",
        "- For e.g. 12 is decomposed as 2 * 3 *. Similarly, $A_{n*m}$ = $B_{n*d}$ . $C_{d*d'}$ . $A_{d'*m}$"
      ],
      "metadata": {
        "id": "VIMgXb6zfGm3"
      }
    },
    {
      "cell_type": "markdown",
      "source": [
        "#### Intuition: How Matrix Factorization is used in Recommender Systems (RecSys)."
      ],
      "metadata": {
        "id": "I22EnILCf9Wt"
      }
    },
    {
      "cell_type": "markdown",
      "source": [
        "- We have a matrix, $A_{m*n}$ which is very sparse (mostly empty) and $U_{ij}$ represents rating given by User $U_i$ on item $I_j$\n",
        "<img src='https://drive.google.com/uc?id=1WfD3D4OrAmaakkVwVuJBBJj_IO5Bu_CI'>\n",
        "- Problem in RecSys can be solved using a concept in mathematics called as Matrix Completion. Here, it will try to find the missing values in above matrix. This matrix completion uses MF or decomposition which we will study in subsequent sections.\n",
        "<img src='https://drive.google.com/uc?id=1EG9cAzx2EvQmTgv-kN2Zrf-116gumNPd'>\n",
        "\n"
      ],
      "metadata": {
        "id": "WWOYBxudgxuB"
      }
    },
    {
      "cell_type": "markdown",
      "source": [
        "***Question:*** What is the intuition behind completing the matrix?\n",
        "\n",
        "***Answer:*** There are lots of missing values in the matrix. If we complete the matix, then it will help us to determine ratings of user items which he/she have not yet rated."
      ],
      "metadata": {
        "id": "6oVb-dtpjV_K"
      }
    },
    {
      "cell_type": "markdown",
      "source": [
        "#### Matrix completion (MC):"
      ],
      "metadata": {
        "id": "JBwg_50Mj9H-"
      }
    },
    {
      "cell_type": "markdown",
      "source": [
        "<img src='https://drive.google.com/uc?id=1cwQPC1_97mgMc4791YN5o2yuYNPUkbBS'>\n",
        "\n",
        "- In Lineary Regression, we assumed there is a linear function that connects $x_i \\rightarrow y_i$ and this linear function exists.\n",
        "- In Decision Tree (DT), we assumed that we can create axes parallel hyperplanes to separate $x_i's$ of different classes.\n",
        "- We have a similar assumption about Interaction Model in Matric completion. MC is very popular in Applied Science and there are many ways to solve this. In Deep Learning, there are state-of-the-art (SOTA) methods which we will visit in DL sessions.\n"
      ],
      "metadata": {
        "id": "R0SzgUzckJEo"
      }
    },
    {
      "cell_type": "markdown",
      "source": [
        "Interaction-Model:\n",
        "- For a matrix $A_{n*m}$ where $n\\rightarrow users$ and $m \\rightarrow items$, there lies a possibitiy where A is decomposed into product of 2 metrices.\n",
        "<img src='https://drive.google.com/uc?id=1aSI-xZYMPSV4T2RcLihOF7MvxSI4FJyk'>\n",
        "- *Note:* This is small change in figure: $A_{n*m} = B_{n*d}^T.C_{d*m}$\n",
        "<img src='https://drive.google.com/uc?id=1e4Jm_250CVwm5OdInd31sDr1x3f7VKgV'>\n",
        "- So, the fundamental assumption is $A_{ij}$ can be represented as dot product of $B_i$ and $C_j$. This is a Multiplicative Model.\n",
        "\n",
        "*Note:* In linear Algebra, dot product is often called as Interaction."
      ],
      "metadata": {
        "id": "TIQ9dYoYmXqw"
      }
    },
    {
      "cell_type": "markdown",
      "source": [
        "***Question:*** What will be stored in $A_{ij}'s$\n",
        "\n",
        "***Answer:*** $A_{ij}$ = $i^{th}$ row of user in $B^T$ and product of $j^{th}$ column of $C^T$\n",
        "\n",
        "So, ${A_{ij}}_{1*1}$ = ${{B_i}^T}_{1*d}$ . ${{C_j}}_{1*1}$\n",
        "\n",
        "- $A_{ij}$ $\\rightarrow$ $user_i's$ rating of $item_j$.\n",
        "- $B_i$ $\\rightarrow$ d-dimensional vector for user $U_i$.\n",
        "- $C_i$ $\\rightarrow$ d-dimensional vector for item $I_j$.\n",
        "\n"
      ],
      "metadata": {
        "id": "_i3yJY8zoheT"
      }
    },
    {
      "cell_type": "markdown",
      "source": [
        "#### Fundamental assumption of MF based RecSys:"
      ],
      "metadata": {
        "id": "vYm87Fn25wQ4"
      }
    },
    {
      "cell_type": "markdown",
      "source": [
        "- Fundamental assumption of MF-based RecSys is that rating: $A_{ij}$ can be decomposed as dot product of $U_i$ and $I_j$ vectors.  \n",
        "<img src='https://drive.google.com/uc?id=1-pPHV5k5SP4y9H7EoQDT3OLciW_MYUjx'>\n",
        "- This kind of approach was 1st used in 2008-09 for Netflix-Prize problem.\n",
        "- Although it wasn't used in production due to its complexity.\n"
      ],
      "metadata": {
        "id": "nrPQHP3WvEJy"
      }
    },
    {
      "cell_type": "markdown",
      "source": [
        "\n",
        "- $\\forall$ $A_{ij}$ is approximately equal to ${B_i}^T$.$C_j$ where $\\forall_i$:1$\\rightarrow$n, $B_i\\in \\mathbb{R}^d$ and $\\forall_j$:1$\\rightarrow$m, $C_j\\in \\mathbb{R}^d$. We need to find ${B_i}^T$.$C_j$\n",
        "<img src='https://drive.google.com/uc?id=1bvJl4uGGy4hJ1K62SvtVlHO_eXc15u6s'>\n",
        "- We don't have all ${A_{ij}}'s$, but some of them.\n",
        "- So how do we find $B_i$ and $C_j$? Can we use some of th existing knowledge to solve this?\n",
        "\n"
      ],
      "metadata": {
        "id": "t5zFnhIbwuZJ"
      }
    },
    {
      "cell_type": "markdown",
      "source": [
        "**Task:**\n",
        "$\\forall_{ij}$ such that $A_{ij}$ is known/given; $A_{ij} \\approx {B_i}^T$.$C_j$ This will be further written as:\n",
        "    <img src='https://drive.google.com/uc?id=1qO-NVRkDXPOVL71VX9D9H3lDEoLViKAn'>"
      ],
      "metadata": {
        "id": "1BHxtNSDzYa3"
      }
    },
    {
      "cell_type": "markdown",
      "source": [
        "**Possible approaches:**\n",
        "\n",
        "1.   SGD: ${B_i}'s$ and ${C_j}'s$ are randomly initialized and then we do Gradient Descent.\n",
        "2.   Coordinate Descent Algorithm (Slight variation of SGD)\n",
        "    - Fix ${B_i}'s$ and keep updating ${C_j}'s$\n",
        "    - Fix ${C_j}'s$ and keep updating ${B_i}'s$\n",
        "\n",
        "There have been research that shows that Coordinate Descent Algorithm converges faster than SGD for such solutions.\n",
        "\n",
        "On solving this using non-empty cells $A_{ij}$ + SGD/Optimization, we get:\n",
        "- $B_i$ $\\forall_i$:1$\\rightarrow$n\n",
        "- $C_j$ $\\forall_j$:1$\\rightarrow$m\n",
        "\n",
        "\n"
      ],
      "metadata": {
        "id": "7eJ66eld2uVz"
      }
    },
    {
      "cell_type": "markdown",
      "source": [
        "***Question:*** How can we compute the matrix? i.e. how do we fill missing cells?\n",
        "\n",
        "***Answer:*** For missing $A_{ij} \\rightarrow$  compute $B_i$ . $C_j$\n",
        "\n",
        "For e.g. Let $A_{3,10}$ is missing. Now we have assumption that $A_{ij} \\approx {B_i}^T.{C_j}$\n",
        "\n",
        "But we have:\n",
        "- $B_3$ computed using $A_{3,j}$ (other ratings by user $U_3$)\n",
        "- $C_{10}$ computed using $A_{i,10}$ (other ratings on item $I_{10}$)\n",
        "\n",
        "So, $A_{3,10} \\approx {B_3}^T.{C_{10}}$\n",
        "\n",
        "Let's further elaborate:\n",
        "<img src='https://drive.google.com/uc?id=1CGLPgPV-nftoipslWNuYehPhSvDRjIdo'>\n",
        "- Given the the above optimization problem, we want to find $B_3$ and $C_{10}$.\n",
        "- We want to find $C_{10}$ i.e. vector $I_{10}$. Where will it occur? It will occur wherever we have $A_{1,10}$, $A_{2,10}$.....$A_{n,10}$ where $A_{i10} \\neq$ NULL.\n",
        "- Similarly, $B_{3} \\leftarrow user_3$ is determined using $A_{3,1}$, $A_{3,2}$.....$A_{3,m}$ where $A_{3j} \\neq$ NULL.\n",
        "- So, to calculate $A_{3,10}$, we used:\n",
        "    - $B_3$ which is calculated using all ratings of $user_3$.\n",
        "    - $C_{10}$ which is calculated using all ratings of $item_{10}$.\n",
        "\n",
        "\n",
        "\n",
        "\n",
        "\n",
        "\n",
        "\n",
        "\n",
        "\n",
        "\n",
        "\n",
        "\n",
        "\n",
        "\n",
        "\n",
        "\n",
        "\n",
        "\n",
        "\n",
        "\n",
        "\n",
        "\n",
        "\n",
        "\n",
        "\n"
      ],
      "metadata": {
        "id": "YxwECMYF520b"
      }
    },
    {
      "cell_type": "markdown",
      "source": [
        "***Question:*** Where does the above approach fail??\n",
        "\n",
        "***Answer:***\n",
        "- If there is a new user ($U_{100}$), then $A_{100,1}$, $A_{100,2}$.....$A_{100,m}$ will be empty. Similarly, for a new item ($I_{150}$): $A_{1,150}$, $A_{2,150}$.....$A_{n,150}$ will be empty.\n",
        "    <img src='https://drive.google.com/uc?id=1nEgjNNiZwCdnIqRV6y2v9EPEj2sRyRfW'>\n",
        "- Thus, MF will not work in Cold-Start problem.\n",
        "\n",
        "*Note:* There are some hacks that will be discussed during Netflix-Prize solution discussion.\n"
      ],
      "metadata": {
        "id": "l6-ShTWqGjiw"
      }
    },
    {
      "cell_type": "markdown",
      "source": [
        "#### Process Flow for RecSys:\n"
      ],
      "metadata": {
        "id": "A-NohA9bIH5_"
      }
    },
    {
      "cell_type": "markdown",
      "source": [
        "<img src='https://drive.google.com/uc?id=1M37vnLa3HkYzcRczwZU3ABnfmYPwPSBi'>\n",
        "\n",
        "- RecSys problem is solved with Matrix Completion (MC).\n",
        "- MC can be solved using Matrix Factorization (MF) using the underlying assumption that $A_{ij}\\approx {B_i}^T.{C_j}$\n",
        "- To solve MF, we need to solve the optimization problem.\n"
      ],
      "metadata": {
        "id": "ky9kTpw_HBo4"
      }
    },
    {
      "cell_type": "markdown",
      "source": [
        "### Matrix Factorization: PCA and SVD"
      ],
      "metadata": {
        "id": "UpB03EpDMrhz"
      }
    },
    {
      "cell_type": "markdown",
      "source": [
        "Let's see some examples where Matrix Factorization (MF) has been used as well:"
      ],
      "metadata": {
        "id": "sGYr5-D3Mrkk"
      }
    },
    {
      "cell_type": "markdown",
      "source": [
        "#### MF: PCA"
      ],
      "metadata": {
        "id": "NkjT1eUSNBNg"
      }
    },
    {
      "cell_type": "markdown",
      "source": [
        "<img src='https://drive.google.com/uc?id=1axu4CRglE1-P9mwXo9J6XHGF6Xph0m4I'>\n",
        "\n",
        "- Suppose we have $X_{n*d}$ (Standardized data) and its Covariance Matrix Cov(X) = $S_{d*d}$ which is computed as $X_{d*n}^T.X_{n*d}$.\n",
        "- We compute Eigen values and Eigen vectors of S as $S_{d*d} = W_{d*d}$.$\\Lambda_{d*d}$.$W_{d*d}^T$\n",
        "- Here, we decomposed S into 3 matrices such that:\n",
        "    - $\\Lambda$ is a diagonal matrix of Eigen values.\n",
        "    - $W$ contains column vectors $V_1, V_2...V_d$ as Eigen Vectors which are Orthogonal to each other.\n",
        "- So one of the ways to solve PCA is by factorizing Covariance Matrix $S_{d*d}$.\n",
        "- Thus, PCA is a Special type of Matrix Factorization (MF).\n",
        "- Note, that PCA works on Square matrix.\n"
      ],
      "metadata": {
        "id": "pUjyrJSeNSI-"
      }
    },
    {
      "cell_type": "markdown",
      "source": [
        "#### MF: SVD"
      ],
      "metadata": {
        "id": "nqxtL8QsRXLX"
      }
    },
    {
      "cell_type": "markdown",
      "source": [
        "- In PCA, we computed Covariance matrix ($S_{d*d}$) from standardized data $X_{n*d}$ and then decomposed $S_{d*d}$ into $W.\\Lambda.W^T$\n",
        "    <img src='https://drive.google.com/uc?id=1ZJ03gzFNtlC4lotRdUA_oC9NpL6dZZzD'>\n",
        "\n",
        "    <img src='https://drive.google.com/uc?id=1AijYiBVpXWh8whCBubSF33eBWU6wx_AK'>\n",
        "\n",
        "In SVD, we decompose the data $X_{d*d}$ = $U_{n*n}.\\Sigma_{n*d}.V_{d*d}^T$ where:\n",
        "\n",
        "- $\\Sigma_{n*d}$ is a diagonal rectangular matrix that has singular values $S_1, S_2...S_d$ and $S_i = \\sqrt{\\lambda_i}$\n",
        "- $U_{n*n}$ contains eigen vectors where $U_i = i^{th}$ eigen vector of $X_{n*d}.X_{d*n}^T$.\n",
        "- $V_{d*d}^T$ contains eigen vectors where $V_i = i^{th}$ eigen vector of $X_{d*n}^T.X_{n*d} = S_{d*d}$."
      ],
      "metadata": {
        "id": "d1KiKruURXLf"
      }
    },
    {
      "cell_type": "markdown",
      "source": [
        "*Note:* There is a concept called Truncated SVD which is useful for Feature Engineering using SVD. This will be discussed in next lecture."
      ],
      "metadata": {
        "id": "nke57leSYIFz"
      }
    },
    {
      "cell_type": "markdown",
      "source": [
        "### MF for Clustering"
      ],
      "metadata": {
        "id": "Tj08raXfYatM"
      }
    },
    {
      "cell_type": "markdown",
      "source": [
        "Let's take K-means clustering, where we have a dataset $D = \\{X_i\\}_{i=1}^{n}$. The objective is, given a bunch of $\\underset{i:1 \\to n}{x_i's}$ we want to find $C_j: 1\\to$k\n",
        "\n",
        "The optimization problem looks like:\n",
        "\n",
        "$$\\underset{C_j}{\\min} \\overset{k}{\\underset{j=1}{\\Sigma}} \\underset{x_i\\in S_j}{\\Sigma} {|| x_i - C_j ||}^{2}$$\n",
        "\n",
        "Here, we find $C_j$ such that within each clusters we want to calculate $ {|| x_i - C_j ||}^{2}$ where each $x_i$ should belong to $C_j$. Note, $x_i$ and $C_j$ are d-dimnensional.\n",
        "\n",
        "\n",
        "\n",
        "\n",
        "\n"
      ],
      "metadata": {
        "id": "IvnTW1x6YgSE"
      }
    },
    {
      "cell_type": "markdown",
      "source": [
        "Let's define a cluster assignment matrix $Z$ such that $Z_{ij}$ = 1 if $x_i\\in S_j$ and 0 otherwise where $S_j\\to$ set of points in cluster $C_j$.\n",
        "<img src='https://drive.google.com/uc?id=1WIFhBk4B1V929pENePzpXrsP_LAQWiqm'>\n",
        "\n",
        "The above optimization problem can we re-written as:\n",
        "\n",
        "$$\\underset{C_j}{\\min} \\overset{k}{\\underset{j=1}{\\Sigma}} \\underset{x_i\\in S_j}{\\Sigma} {|| x_i - C_j ||}^{2} \\ \\approxeq \\ \\underset{C_j, Z_{ij}}{\\min} \\overset{n}{\\underset{i=1}{\\Sigma}} Z_{ij}.{|| x_i - C_j ||}^{2}$$\n",
        "\n",
        "$$ such \\ that \\ Z_{ij} = \\ 1 \\ or \\ 0 \\ and \\overset{k}{\\underset{j=1}{\\Sigma}} Z_{ij} \\ = \\ 1$$\n",
        "\n",
        "$Z_{ij}$ is the cluster assignment matrix which tells if the $i^{th}$ points belongs to $j^{th}$ cluster.\n",
        "\n",
        "\n",
        "\n",
        "\n",
        "\n",
        "\n",
        "\n",
        "\n"
      ],
      "metadata": {
        "id": "DC1GDK5MQTCW"
      }
    },
    {
      "cell_type": "markdown",
      "source": [
        "#### Matrix Representation"
      ],
      "metadata": {
        "id": "J48jL4Vx2Nry"
      }
    },
    {
      "cell_type": "markdown",
      "source": [
        "**Matrix representation of Dataset ($x_i's$)**\n",
        "<img src='https://drive.google.com/uc?id=1QHhT4cQUorNxlP0W4NHDf5EsRi-Rb0B8'>\n",
        "\n",
        "\n",
        "**Matrix representation of Cluster assignment matrix ($Z_{ij}$) and Cluster Centroids ($C_j$).**\n",
        "<img src='https://drive.google.com/uc?id=1DPtrzSjZPtGl2TgrD0BT9Y1PtsoEwJvq'>\n"
      ],
      "metadata": {
        "id": "m9mHMSuH0Ksi"
      }
    },
    {
      "cell_type": "markdown",
      "source": [
        "#### Concept: Frobenius norm of matrix"
      ],
      "metadata": {
        "id": "puLdzmpP2EtO"
      }
    },
    {
      "cell_type": "markdown",
      "source": [
        "If we recollect, Square Norm of a vector was given as $||w||^2 = w_1^2+w_2^2+w_3^2+...+w_d^2$.\n",
        "\n",
        "Similarly, Frobenius norm of matrix X: $= \\underset{rows}{\\Sigma} \\ \\underset{cols}{\\Sigma} \\ (x_{row,col})^2$\n",
        "\n",
        "Frobenius norm is a term used for the matrix in which we take each cell in the matrix and square it across all rows and columns and sum it."
      ],
      "metadata": {
        "id": "OjHslMu-2lDQ"
      }
    },
    {
      "cell_type": "markdown",
      "source": [
        "Now, if we take Frobenius norm of matrix ($X_{n*d} - Z.{C}^T$) i.e. $||X_{n*d} - Z_{n*k}.C_{k*d}^T ||^2$, then we can show that it is  equivalent to the optimization problem of K-means.\n",
        "\n",
        "So effectively, In K-means clustering for the given data $(X)$: $\\ X_{n*d} \\approx Z.C^T$\n",
        "\n",
        "where $Z$ is the cluster allocation matrix (with some constraints) and $C$ is the centroid matrix."
      ],
      "metadata": {
        "id": "hs37pq04_UhO"
      }
    },
    {
      "cell_type": "markdown",
      "source": [
        "#### K-Means formulation using Frobenius Norm:"
      ],
      "metadata": {
        "id": "WGg2bj5sCG_5"
      }
    },
    {
      "cell_type": "markdown",
      "source": [
        "\n",
        "$$\\underset{Z,C}{\\min} \\ {|| \\ X - Z.C^T ||}_F^2 \\ such \\ that \\ Z_{ij} = 1 \\ or \\ 0 \\ and \\ \\overset{k}{\\underset{j=1}{\\Sigma}} Z_{ij} = 1$$\n",
        "\n",
        "<img src='https://drive.google.com/uc?id=199F8Oma680op3VtvJdAUl4O6zGn9ixPv'>\n",
        "\n",
        "If $i \\in S_{10}, \\ j^{th}$ component of $10^{th}$ cluster centroid will be present.\n",
        "\n",
        "\n"
      ],
      "metadata": {
        "id": "YoTMZ2XUCHCl"
      }
    },
    {
      "cell_type": "markdown",
      "source": [
        "### Takeaway for MF:"
      ],
      "metadata": {
        "id": "deNer2irEFI_"
      }
    },
    {
      "cell_type": "markdown",
      "source": [
        "<img src='https://drive.google.com/uc?id=1ITfP3CKf7XtC7_-5qJmffVHN6MVGXqYP'>\n",
        "\n",
        "- MF is used for Matrix completion which solves the problem of RecSys.\n",
        "- PCA and SVD are special case of MF.\n",
        "- K-means is hard assignment clustering and special case of MF.\n",
        "- Gaussian Mixture model can also be a special type of MF with soft assignment clustering."
      ],
      "metadata": {
        "id": "pNew2mHQCHFt"
      }
    },
    {
      "cell_type": "markdown",
      "source": [
        "### Hyper-parameter Tuning:"
      ],
      "metadata": {
        "id": "kaLt4f77HFVx"
      }
    },
    {
      "cell_type": "markdown",
      "source": [
        "***Question:*** How to find '$d$' during matrix completion in RecSys problem?\n"
      ],
      "metadata": {
        "id": "iAnFiZVLHQZu"
      }
    },
    {
      "cell_type": "markdown",
      "source": [
        "##### ***Option 1:***\n"
      ],
      "metadata": {
        "id": "M6SW2vr4HLJI"
      }
    },
    {
      "cell_type": "markdown",
      "source": [
        "<img src='https://drive.google.com/uc?id=1iil7HpOcEqEJgjaR_PV3M5Htwu4oLZxO'>\n",
        "\n",
        "We can use the following as Loss function:\n",
        "\n",
        "$$\\underset{B_i,C_j}{\\min} \\ \\underset{\\underset{such \\ that \\ A_{ij} \\neq \\ NULL }{i,j}}{\\Sigma}(A_{ij} - B_i^T.C_j)^2 $$\n",
        "\n",
        "Plotting the Loss V/s various values of '$d$', we could get an elbow plot and determine the optimum value of '$d$'.\n",
        "\n",
        "<img src='https://drive.google.com/uc?id=1Jq50KIi629o3IqNKy8enid_03s2CoDy4'>"
      ],
      "metadata": {
        "id": "B-CY6FrfJ3-U"
      }
    },
    {
      "cell_type": "markdown",
      "source": [
        "**Problem with Option 1:**\n",
        "\n",
        "Here we are trying to solve the optimization problem where we already have ground truth data: some $A_{ij}'s \\neq$ NULL. It might so happen that we overfit."
      ],
      "metadata": {
        "id": "AZal2h4aJ7Q3"
      }
    },
    {
      "cell_type": "markdown",
      "source": [
        "##### ***Option 2:***\n"
      ],
      "metadata": {
        "id": "Y6g3PcOWKvSr"
      }
    },
    {
      "cell_type": "markdown",
      "source": [
        "Hyper parameter tune '$d$'\n",
        "<img src='https://drive.google.com/uc?id=1O_t4zaJYjOlTdsnPjtGoCFf7TbJ0pDMl'>\n",
        "\n",
        "- We have some $A_{ij}$ that are not NULL. We could randomly pick 80% of data and train a model to determine $(B,C)$.\n",
        "- Remaining 20% could be used as test set to predict $B \\ and \\ C$.\n",
        "\n"
      ],
      "metadata": {
        "id": "rUfY3sWqKvTL"
      }
    },
    {
      "cell_type": "markdown",
      "source": [
        "### Real world example: Ads shown to users"
      ],
      "metadata": {
        "id": "lI1j8YUUelIR"
      }
    },
    {
      "cell_type": "markdown",
      "source": [
        "- User $U_i \\overset{Visits}{\\rightarrow}$ website $W_j$.\n",
        "- The website owners have tieup with Amazon, Facebook and other third parties and call them if they want to show ads to these specific users. That's why we get specific ads of E-commerce when we regularly visit some websites.\n",
        "- Suppose we have 200 Million users and few Billion websites and we arrange the data as connected graph (shown below).\n",
        "<img src='https://drive.google.com/uc?id=1ZHypyiO9XUrsmsE7meF2oSiK9taQ_v5C'>\n",
        "- If we determine how many times $U_i$ visited $W_j$ in last 90 days, then we would get a matrix $A_{n*m}$ where n=number of users and m=number of websites.\n",
        "<img src='https://drive.google.com/uc?id=12GuOZoYFeMBBWsKwU_NGtxAEnVXiCMqk'>\n",
        "- $A_{ij}$ in this matix would the number of times User $U_i$ visited website $W_j$\n",
        "- This matrix could be decomposed as: $ A_{n*m} = U_{n*d} . W_{d*m}^T$\n",
        "\n"
      ],
      "metadata": {
        "id": "a6f5rbnxfkog"
      }
    },
    {
      "cell_type": "markdown",
      "source": [
        "***Question:*** So how does this help?\n",
        "\n",
        "***Answer:***\n",
        "\n",
        "- In the below figure, the vector $U_i^T$ represents user behaviour that he/she likes to visit certain websites.\n",
        "<img src='https://drive.google.com/uc?id=1PksnLP5tNHQbDzV17LbvROxGcpfYJgHA'>\n",
        "- This vector representation captures user's taste or affinity towards certain subset of websites.\n",
        "- It tells the business a lot about users and helps the business to determine what products the user user might be interested.\n",
        "- Further, we could have 2 users $U_i$ and $U_j$ which are close to each other i.e. $Sim(U_i, U_j)$ is high. This implies that both users have similar browsing behaviour.\n",
        "\n"
      ],
      "metadata": {
        "id": "e1aI6iaAfkrT"
      }
    },
    {
      "cell_type": "markdown",
      "source": [
        "***Question:*** Is there any Interpretability in above scenario?\n",
        "\n",
        "***Answer:***\n",
        "\n",
        "- The $U_i \\forall: 1\\to n; \\ where \\ U_i \\in \\mathbb{R}^d$ will be mapped to $U_i' \\in \\mathbb{R}^2$ using UMAP/t-SNE.\n",
        "<img src='https://drive.google.com/uc?id=1UHmhxI4yZoh_2WjTnqCwRsEicCXT9qql'>\n",
        "- When we visualize this 2-dimensional data, we can see some clusters of users. Using this information, we can find out the websites visited by this cluster.\n"
      ],
      "metadata": {
        "id": "TLVuE90CvFZh"
      }
    },
    {
      "cell_type": "markdown",
      "source": [
        "### Quick Recap:"
      ],
      "metadata": {
        "id": "F-kbvZ5lfvrJ"
      }
    },
    {
      "cell_type": "markdown",
      "source": [
        "<img src='https://drive.google.com/uc?id=1H55ptugMqW8bnkzp45C4q4WRmRQ1YFJW'>\n",
        "\n",
        "- MF is used to solve RecSys problem where we optimize:  \n",
        "$$\\underset{B,C}{\\min} \\ {|| \\ A - B^T.C ||}_F^2 \\ using \\ the \\ underlying \\ assumption \\ that  \\ A_{ij}\\approx {B_i}^T.{C_j}$$\n",
        "\n",
        "- PCA is special case of MF where covariance matrix is decomposed as:\n",
        "$$S_{d*d} = W_{d*d}.\\Lambda_{d*d}.W_{d*d}^T$$\n",
        "\n",
        "- SVD is special case of MF where Data $X_{n*d}$ is decomposed as:\n",
        "$$S_{d*d} = W_{d*d}.\\Lambda_{d*d}.W_{d*d}^T$$\n",
        "\n",
        "- K-means clustering, the optimization problem is re-written as:\n",
        "$$\\underset{Z,C}{\\min} \\ {|| \\ X - Z.C^T ||}_F^2 \\ such \\ that \\ Z_{ij} = 1 \\ or \\ 0 \\ and \\ \\overset{k}{\\underset{j=1}{\\Sigma}} Z_{ij} = 1$$\n",
        "\n",
        "- '$d$' is determined using hyper-parameter tuning."
      ],
      "metadata": {
        "id": "OTVci7MBw_Nn"
      }
    },
    {
      "cell_type": "markdown",
      "source": [
        "### *Note*"
      ],
      "metadata": {
        "id": "BiolflsTfvuM"
      }
    },
    {
      "cell_type": "markdown",
      "source": [
        "Following topics will be covered in next lecture:\n",
        "\n",
        "4.   NMF and Optimization.\n",
        "6.   MF for feature Engineering: Word-vectors; Eigen Faces.\n",
        "8.   Netflix-Prize Solution."
      ],
      "metadata": {
        "id": "6lClAUcPf6Pr"
      }
    },
    {
      "cell_type": "code",
      "source": [],
      "metadata": {
        "id": "jh9CqUPBw4c_"
      },
      "execution_count": null,
      "outputs": []
    }
  ]
}