{
  "nbformat": 4,
  "nbformat_minor": 0,
  "metadata": {
    "colab": {
      "provenance": []
    },
    "kernelspec": {
      "name": "python3",
      "display_name": "Python 3"
    },
    "language_info": {
      "name": "python"
    }
  },
  "cells": [
    {
      "cell_type": "markdown",
      "source": [
        "Lecture Notes for session conducted on September 16, 2022\n",
        "\n",
        "https://www.scaler.com/academy/mentee-dashboard/class/36605/session\n",
        "\n",
        "**Content**\n",
        "\n",
        "1.   Code for ADAM (Adaptive Moment Estimation) Optimizer.\n",
        "2.   Denoising AE.\n",
        "3.   Practical tips.\n",
        "4.   Disadvantages of MLPs: Need for CNN and RNN."
      ],
      "metadata": {
        "id": "TJZ-3vAUjCBO"
      }
    },
    {
      "cell_type": "markdown",
      "source": [
        "***Question:*** Do we need to do batch normalization before or after activation function? either way it helps us to avoid exploding gradient but i'm thinking doing it before activation makes more sense (computation purpose)>\n",
        "\n",
        "***Answer:***\n",
        "- Suppose we have a neuron with some weight vector, bias and inputs as shown in diagram below.\n",
        "- Batch Normalization $BN(ReLu(w^Tx_i+b))$ makes more logical sense. We do Batch Normalization on outputs of neurons. Reason being these  become input to some other neurons.\n",
        "- Distribution of $Ƶ_i$ could be changing. Hence we do BN i.e. we center/scale this output.\n",
        "  <img src='https://drive.google.com/uc?id=1Mpbi-JOeGFK2A3CXnvYp8X8jycnpcIkK'>\n"
      ],
      "metadata": {
        "id": "3v-itZiefAlB"
      }
    },
    {
      "cell_type": "markdown",
      "source": [
        "***Question:*** In autoencoders MLP connected through input and output. Output layer which expects same  input. (e.g) (prediect-original)=zero. In that case we discussed, no. of less neurons in between MLP represent (bottleneck) lower dimension. Can I say each hidden layer in my MLP represents\n",
        "input in various dimension?\n",
        "\n",
        "***Answer:***\n",
        "- The Encoder layer tries to compress $784$-dim to $32$-dim and Decoder layer decompresses and tried to get as close as possible to input.\n",
        "  <img src='https://drive.google.com/uc?id=1Z-fJSuaXJu8P8HsvrSu27VsTKdYZu0W8'>\n",
        "\n",
        "- Yes, we can say that each hidder layer represents input in various dimension. For e.g. in the below figure, we can say that output of first layer is encoded in $128$-dim representation of input and so on.\n",
        "  <img src='https://drive.google.com/uc?id=11RZfBI6rWSgYB9sQIXnPm9q1zOk61-SU'>  \n"
      ],
      "metadata": {
        "id": "hwWV7leU5Auj"
      }
    },
    {
      "cell_type": "markdown",
      "source": [
        "***Question:*** Can you please explain dead neurons?\n",
        "\n",
        "***Answer:***\n",
        "- Problem of dead neurons happens when we have ReLU activation.\n",
        "- Imagine we have neuron with ReLu activation. It has bunch of weights, input and output. ReLu activation function says that if $ReLu(Ƶ_i) = (w^Tx_i+b) > 0$ then output = $Ƶ_i$ and 0 otherwise.\n",
        "- Imagine we have $w_1$ as weight, $O_1$ is output and loss at the end. Let $(w^Tx_i+b)<0$, which means $Ƶ_i \\le 0$, then $ReLU(Ƶ_i) = 0$. Then output $O_1 = 0$.\n",
        "- Derivative of $ReLu(Ƶ_i) = 1$ for $Ƶ_i > 0$ and 0 otherwise.\n",
        "  <img src='https://drive.google.com/uc?id=1t-p6o-PMo-mKjo2juxIvcumOMIkJMNX0'>\n",
        "- Problem here is that to update $w_1$, we need to compute $\\frac{\\partial L}{ \\partial w_1} = \\frac{\\partial L}{ \\partial O_1} * \\frac{\\partial O_1}{ \\partial w_1}$.\n",
        "- $\\frac{\\partial O_1}{ \\partial w_1} = \\frac{\\partial ReLu(w_1x_1+...)}{ \\partial w_1} = 0.x_i$. So $w_1$ does not get updated i.e ${w_1}_{new} = {w_1}_{old}$.\n",
        "- Because of this, output of neuron is zero and weights are not updated. This is problem of dead neurons."
      ],
      "metadata": {
        "id": "6CUMaxGx5G6T"
      }
    },
    {
      "cell_type": "markdown",
      "source": [
        "***Question:*** How do we fix problem of dead neurons?\n",
        "\n",
        "***Answer:***\n",
        "- We can use Leaky ReLu. In Leaky ReLu, you have small negative gradient. Slope is $1$ for $(w^Tx_i+b) > 0$ and it is $0.1$, where $(w^Tx_i+b) < 0$.\n",
        "  <img src='https://drive.google.com/uc?id=1ziYycHU_uIr6sacsBIo9ZGrRA6yiovr2'>\n",
        "- There is another variation for this, $PReLu$ (parameterized ReLU). Rather than fixing slope as $0.1$, it makes slope as parameter to be learned by model.\n",
        "- Idea of Leaky ReLu and PReLU help us to solve problem of dead neurons.\n"
      ],
      "metadata": {
        "id": "0-lkukPY5N8Q"
      }
    },
    {
      "cell_type": "markdown",
      "source": [
        "### Code for ADAM (Adaptive Moment Estimation) Optimizer:"
      ],
      "metadata": {
        "id": "LpGMJxaGWzJS"
      }
    },
    {
      "cell_type": "code",
      "source": [
        "# Source: https://machinelearningmastery.com/adam-optimization-from-scratch/\n",
        "from numpy import arange,asarray\n",
        "from numpy import meshgrid\n",
        "from matplotlib import pyplot\n",
        "\n",
        "# objective function\n",
        "def objective(x, y):\n",
        "\treturn x**2.0 + y**2.0\n",
        "\n",
        "# Countour Plot\n",
        "# define range for input\n",
        "bounds = asarray([[-1.0, 1.0], [-1.0, 1.0]])\n",
        "# sample input range uniformly at 0.1 increments\n",
        "xaxis = arange(bounds[0,0], bounds[0,1], 0.1)\n",
        "yaxis = arange(bounds[1,0], bounds[1,1], 0.1)\n",
        "# create a mesh from the axis\n",
        "x, y = meshgrid(xaxis, yaxis)\n",
        "# compute targets\n",
        "results = objective(x, y)\n",
        "# create a filled contour plot with 50 levels and jet color scheme\n",
        "pyplot.contourf(x, y, results, levels=50, cmap='jet')\n",
        "# show the plot\n",
        "pyplot.show()"
      ],
      "metadata": {
        "colab": {
          "base_uri": "https://localhost:8080/",
          "height": 265
        },
        "id": "CrNHA0lL27_4",
        "outputId": "4ccc4562-1e37-48a1-ac86-3f38aa6d2dcc"
      },
      "execution_count": null,
      "outputs": [
        {
          "output_type": "display_data",
          "data": {
            "text/plain": [
              "<Figure size 432x288 with 1 Axes>"
            ],
            "image/png": "[encoded data removed]"
          },
          "metadata": {
            "needs_background": "light"
          }
        }
      ]
    },
    {
      "cell_type": "markdown",
      "source": [
        "- Objective function in this example is $x^2+y^2$ which we want to minimize. This function is paraboloid with minima at $(0,0)$.\n",
        "- It's derivative of this function $z^2 = x^2+y^2$ is $[2x,2y]$."
      ],
      "metadata": {
        "id": "uSJ-St8WGbbm"
      }
    },
    {
      "cell_type": "code",
      "source": [
        "# derivative of objective function\n",
        "def derivative(x, y):\n",
        "\treturn asarray([x * 2.0, y * 2.0])"
      ],
      "metadata": {
        "id": "qKEDJWTk29EY"
      },
      "execution_count": null,
      "outputs": []
    },
    {
      "cell_type": "markdown",
      "source": [
        "The function $adam$ takes input as:\n",
        "- objective function\n",
        "- derivative function\n",
        "- bounds (this decides what range of $'x'$ values should we look for and what range of $'y'$ values should we look for)\n",
        "- number of iterations\n",
        "- $\\alpha$ (learning rate)\n",
        "- $\\beta_1 = 0.9$\n",
        "- $\\beta_2 = 0.99$\n",
        "- $\\epsilon = 10^{-8}$.\n",
        "  <img src='https://drive.google.com/uc?id=1mzcm4Z5w9rWBa5j3pLDFRvF4qTb-SjBE'>"
      ],
      "metadata": {
        "id": "be7JEsihHOD9"
      }
    },
    {
      "cell_type": "code",
      "source": [
        "# gradient descent optimization with adam for a two-dimensional test function\n",
        "from math import sqrt\n",
        "\n",
        "def adam(objective, derivative, bounds, n_iter, alpha, beta1, beta2, eps=1e-8):\n",
        "\t# generate an initial point\n",
        "\tx = bounds[:, 0] + rand(len(bounds)) * (bounds[:, 1] - bounds[:, 0])\n",
        "\tscore = objective(x[0], x[1])\n",
        "\t# initialize first and second moments\n",
        "\tm = [0.0 for _ in range(bounds.shape[0])]\n",
        "\tv = [0.0 for _ in range(bounds.shape[0])]\n",
        "\t# run the gradient descent updates\n",
        "\tfor t in range(n_iter):\n",
        "\t\t# calculate gradient g(t)\n",
        "\t\tg = derivative(x[0], x[1])\n",
        "\t\t# build a solution one variable at a time\n",
        "\t\tfor i in range(x.shape[0]):\n",
        "\t\t\t# m(t) = beta1 * m(t-1) + (1 - beta1) * g(t)\n",
        "\t\t\tm[i] = beta1 * m[i] + (1.0 - beta1) * g[i]\n",
        "\t\t\t# v(t) = beta2 * v(t-1) + (1 - beta2) * g(t)^2\n",
        "\t\t\tv[i] = beta2 * v[i] + (1.0 - beta2) * g[i]**2\n",
        "\t\t\t# mhat(t) = m(t) / (1 - beta1(t))\n",
        "\t\t\tmhat = m[i] / (1.0 - beta1**(t+1))\n",
        "\t\t\t# vhat(t) = v(t) / (1 - beta2(t))\n",
        "\t\t\tvhat = v[i] / (1.0 - beta2**(t+1))\n",
        "\t\t\t# x(t) = x(t-1) - alpha * mhat(t) / (sqrt(vhat(t)) + eps)\n",
        "\t\t\tx[i] = x[i] - alpha * mhat / (sqrt(vhat) + eps)\n",
        "\t\t# evaluate candidate point\n",
        "\t\tscore = objective(x[0], x[1])\n",
        "\t\t# report progress\n",
        "\t\tprint('>%d f(%s) = %.5f' % (t, x, score))\n",
        "\treturn [x, score]\n"
      ],
      "metadata": {
        "id": "W-M1SwK829Hj"
      },
      "execution_count": null,
      "outputs": []
    },
    {
      "cell_type": "code",
      "source": [
        "from numpy.random import rand\n",
        "from numpy.random import seed\n",
        "\n",
        "# seed the pseudo random number generator\n",
        "seed(1)\n",
        "# define range for input\n",
        "bounds = asarray([[-1.0, 1.0], [-1.0, 1.0]])\n",
        "# define the total iterations\n",
        "n_iter = 200\n",
        "# steps size\n",
        "alpha = 0.01\n",
        "# factor for average gradient\n",
        "beta1 = 0.9\n",
        "# factor for average squared gradient\n",
        "beta2 = 0.999\n",
        "# perform the gradient descent search with adam\n",
        "best, score = adam(objective, derivative, bounds, n_iter, alpha, beta1, beta2)\n",
        "print('Done!')\n",
        "print('f(%s) = %f' % (best, score))"
      ],
      "metadata": {
        "colab": {
          "base_uri": "https://localhost:8080/"
        },
        "id": "-gXlCDyq29Kp",
        "outputId": "ade145ae-00ca-435b-d870-365a5eb489de"
      },
      "execution_count": null,
      "outputs": [
        {
          "output_type": "stream",
          "name": "stdout",
          "text": [
            ">0 f([-0.15595599  0.43064899]) = 0.20978\n",
            ">1 f([-0.145977    0.42065563]) = 0.19826\n",
            ">2 f([-0.13603507  0.41067354]) = 0.18716\n",
            ">3 f([-0.12614791  0.4007075 ]) = 0.17648\n",
            ">4 f([-0.11633502  0.39076241]) = 0.16623\n",
            ">5 f([-0.10661771  0.38084331]) = 0.15641\n",
            ">6 f([-0.09701924  0.37095534]) = 0.14702\n",
            ">7 f([-0.08756476  0.36110378]) = 0.13806\n",
            ">8 f([-0.07828138  0.35129396]) = 0.12954\n",
            ">9 f([-0.069198    0.34153134]) = 0.12143\n",
            ">10 f([-0.06034522  0.33182142]) = 0.11375\n",
            ">11 f([-0.05175509  0.32216978]) = 0.10647\n",
            ">12 f([-0.0434607   0.31258203]) = 0.09960\n",
            ">13 f([-0.03549582  0.30306384]) = 0.09311\n",
            ">14 f([-0.02789425  0.29362089]) = 0.08699\n",
            ">15 f([-0.02068916  0.28425885]) = 0.08123\n",
            ">16 f([-0.01391234  0.27498341]) = 0.07581\n",
            ">17 f([-0.00759336  0.26580023]) = 0.07071\n",
            ">18 f([-0.00175872  0.25671492]) = 0.06591\n",
            ">19 f([0.003569   0.24773306]) = 0.06138\n",
            ">20 f([0.00837182 0.23886017]) = 0.05712\n",
            ">21 f([0.01263706 0.23010166]) = 0.05311\n",
            ">22 f([0.01635771 0.22146288]) = 0.04931\n",
            ">23 f([0.01953273 0.21294904]) = 0.04573\n",
            ">24 f([0.0221671  0.20456524]) = 0.04234\n",
            ">25 f([0.02427163 0.19631645]) = 0.03913\n",
            ">26 f([0.02586271 0.18820748]) = 0.03609\n",
            ">27 f([0.0269618  0.18024295]) = 0.03321\n",
            ">28 f([0.02759486 0.17242734]) = 0.03049\n",
            ">29 f([0.02779178 0.16476489]) = 0.02792\n",
            ">30 f([0.02758567 0.15725967]) = 0.02549\n",
            ">31 f([0.02701223 0.1499155 ]) = 0.02320\n",
            ">32 f([0.0261091  0.14273598]) = 0.02106\n",
            ">33 f([0.0249153  0.13572446]) = 0.01904\n",
            ">34 f([0.02347061 0.12888404]) = 0.01716\n",
            ">35 f([0.02181506 0.12221753]) = 0.01541\n",
            ">36 f([0.01998851 0.11572751]) = 0.01379\n",
            ">37 f([0.01803013 0.10941622]) = 0.01230\n",
            ">38 f([0.01597804 0.10328565]) = 0.01092\n",
            ">39 f([0.01386892 0.09733747]) = 0.00967\n",
            ">40 f([0.01173767 0.09157305]) = 0.00852\n",
            ">41 f([0.00961708 0.08599346]) = 0.00749\n",
            ">42 f([0.00753753 0.08059946]) = 0.00655\n",
            ">43 f([0.00552676 0.07539148]) = 0.00571\n",
            ">44 f([0.00360962 0.07036964]) = 0.00496\n",
            ">45 f([0.0018079  0.06553377]) = 0.00430\n",
            ">46 f([0.00014018 0.06088338]) = 0.00371\n",
            ">47 f([-0.00137828  0.05641765]) = 0.00318\n",
            ">48 f([-0.00273553  0.05213548]) = 0.00273\n",
            ">49 f([-0.00392297  0.04803547]) = 0.00232\n",
            ">50 f([-0.00493529  0.04411594]) = 0.00197\n",
            ">51 f([-0.00577032  0.0403749 ]) = 0.00166\n",
            ">52 f([-0.0064289   0.03681012]) = 0.00140\n",
            ">53 f([-0.00691468  0.03341908]) = 0.00116\n",
            ">54 f([-0.00723388  0.03019904]) = 0.00096\n",
            ">55 f([-0.00739501  0.02714699]) = 0.00079\n",
            ">56 f([-0.00740858  0.02425972]) = 0.00064\n",
            ">57 f([-0.00728681  0.0215338 ]) = 0.00052\n",
            ">58 f([-0.00704329  0.01896559]) = 0.00041\n",
            ">59 f([-0.00669267  0.01655128]) = 0.00032\n",
            ">60 f([-0.00625031  0.0142869 ]) = 0.00024\n",
            ">61 f([-0.00573202  0.01216832]) = 0.00018\n",
            ">62 f([-0.00515372  0.01019126]) = 0.00013\n",
            ">63 f([-0.00453114  0.00835134]) = 0.00009\n",
            ">64 f([-0.00387962  0.00664407]) = 0.00006\n",
            ">65 f([-0.0032138   0.00506486]) = 0.00004\n",
            ">66 f([-0.00254744  0.00360907]) = 0.00002\n",
            ">67 f([-0.00189323  0.00227199]) = 0.00001\n",
            ">68 f([-0.00126264  0.00104886]) = 0.00000\n",
            ">69 f([-6.65793274e-04 -6.51048382e-05]) = 0.00000\n",
            ">70 f([-0.00011136 -0.00107469]) = 0.00000\n",
            ">71 f([ 0.00039347 -0.00198468]) = 0.00000\n",
            ">72 f([ 0.00084307 -0.00279986]) = 0.00001\n",
            ">73 f([ 0.00123328 -0.00352497]) = 0.00001\n",
            ">74 f([ 0.0015615  -0.00416474]) = 0.00002\n",
            ">75 f([ 0.00182651 -0.0047238 ]) = 0.00003\n",
            ">76 f([ 0.00202846 -0.00520677]) = 0.00003\n",
            ">77 f([ 0.00216877 -0.00561816]) = 0.00004\n",
            ">78 f([ 0.00224996 -0.00596242]) = 0.00004\n",
            ">79 f([ 0.00227555 -0.00624388]) = 0.00004\n",
            ">80 f([ 0.00224993 -0.00646681]) = 0.00005\n",
            ">81 f([ 0.00217815 -0.00663535]) = 0.00005\n",
            ">82 f([ 0.00206583 -0.00675353]) = 0.00005\n",
            ">83 f([ 0.00191896 -0.00682525]) = 0.00005\n",
            ">84 f([ 0.00174375 -0.0068543 ]) = 0.00005\n",
            ">85 f([ 0.00154653 -0.00684434]) = 0.00005\n",
            ">86 f([ 0.00133353 -0.00679889]) = 0.00005\n",
            ">87 f([ 0.00111082 -0.00672133]) = 0.00005\n",
            ">88 f([ 0.00088418 -0.00661491]) = 0.00004\n",
            ">89 f([ 0.00065897 -0.00648274]) = 0.00004\n",
            ">90 f([ 0.0004401  -0.00632777]) = 0.00004\n",
            ">91 f([ 0.0002319  -0.00615282]) = 0.00004\n",
            ">92 f([ 3.81137026e-05 -5.96056066e-03]) = 0.00004\n",
            ">93 f([-0.00013816 -0.00575352]) = 0.00003\n",
            ">94 f([-0.00029446 -0.00553409]) = 0.00003\n",
            ">95 f([-0.00042901 -0.00530451]) = 0.00003\n",
            ">96 f([-0.00054065 -0.00506687]) = 0.00003\n",
            ">97 f([-0.00062887 -0.00482314]) = 0.00002\n",
            ">98 f([-0.00069371 -0.00457515]) = 0.00002\n",
            ">99 f([-0.00073576 -0.00432458]) = 0.00002\n",
            ">100 f([-0.0007561 -0.004073 ]) = 0.00002\n",
            ">101 f([-0.00075621 -0.00382185]) = 0.00002\n",
            ">102 f([-0.00073792 -0.00357242]) = 0.00001\n",
            ">103 f([-0.00070334 -0.00332592]) = 0.00001\n",
            ">104 f([-0.00065479 -0.00308341]) = 0.00001\n",
            ">105 f([-0.0005947  -0.00284586]) = 0.00001\n",
            ">106 f([-0.0005256  -0.00261412]) = 0.00001\n",
            ">107 f([-0.00045001 -0.00238895]) = 0.00001\n",
            ">108 f([-0.00037036 -0.00217099]) = 0.00000\n",
            ">109 f([-0.00028902 -0.00196082]) = 0.00000\n",
            ">110 f([-0.00020814 -0.0017589 ]) = 0.00000\n",
            ">111 f([-0.00012972 -0.00156561]) = 0.00000\n",
            ">112 f([-5.54944243e-05 -1.38128214e-03]) = 0.00000\n",
            ">113 f([ 1.30437277e-05 -1.20613553e-03]) = 0.00000\n",
            ">114 f([ 7.46776103e-05 -1.04034069e-03]) = 0.00000\n",
            ">115 f([ 0.00012847 -0.000884  ]) = 0.00000\n",
            ">116 f([ 0.00017376 -0.00073715]) = 0.00000\n",
            ">117 f([ 0.00021017 -0.00059979]) = 0.00000\n",
            ">118 f([ 0.00023757 -0.00047184]) = 0.00000\n",
            ">119 f([ 0.00025607 -0.00035321]) = 0.00000\n",
            ">120 f([ 0.00026602 -0.00024373]) = 0.00000\n",
            ">121 f([ 0.00026794 -0.00014321]) = 0.00000\n",
            ">122 f([ 2.6251853e-04 -5.1440721e-05]) = 0.00000\n",
            ">123 f([2.50576540e-04 3.18389119e-05]) = 0.00000\n",
            ">124 f([0.00023303 0.00010691]) = 0.00000\n",
            ">125 f([0.00021087 0.00017406]) = 0.00000\n",
            ">126 f([0.00018511 0.00023363]) = 0.00000\n",
            ">127 f([0.00015679 0.00028594]) = 0.00000\n",
            ">128 f([0.00012689 0.00033134]) = 0.00000\n",
            ">129 f([9.63819057e-05 3.70185965e-04]) = 0.00000\n",
            ">130 f([6.61501889e-05 4.02849127e-04]) = 0.00000\n",
            ">131 f([3.69965787e-05 4.29694216e-04]) = 0.00000\n",
            ">132 f([9.62229100e-06 4.51091543e-04]) = 0.00000\n",
            ">133 f([-1.53823266e-05  4.67411044e-04]) = 0.00000\n",
            ">134 f([-3.75443487e-05  4.79020248e-04]) = 0.00000\n",
            ">135 f([-5.65111315e-05  4.86282400e-04]) = 0.00000\n",
            ">136 f([-7.20496843e-05  4.89554767e-04]) = 0.00000\n",
            ">137 f([-8.40428419e-05  4.89187102e-04]) = 0.00000\n",
            ">138 f([-9.24825883e-05  4.85520271e-04]) = 0.00000\n",
            ">139 f([-9.74609348e-05  4.78885037e-04]) = 0.00000\n",
            ">140 f([-9.91587917e-05  4.69600996e-04]) = 0.00000\n",
            ">141 f([-9.78332954e-05  4.57975651e-04]) = 0.00000\n",
            ">142 f([-9.38040613e-05  4.44303642e-04]) = 0.00000\n",
            ">143 f([-8.74388252e-05  4.28866092e-04]) = 0.00000\n",
            ">144 f([-7.91389210e-05  4.11930088e-04]) = 0.00000\n",
            ">145 f([-6.93250120e-05  3.93748287e-04]) = 0.00000\n",
            ">146 f([-5.84234553e-05  3.74558626e-04]) = 0.00000\n",
            ">147 f([-4.68536320e-05  3.54584145e-04]) = 0.00000\n",
            ">148 f([-3.50165255e-05  3.34032904e-04]) = 0.00000\n",
            ">149 f([-2.32847708e-05  3.13098004e-04]) = 0.00000\n",
            ">150 f([-1.19943429e-05  2.91957677e-04]) = 0.00000\n",
            ">151 f([-1.43799019e-06  2.70775469e-04]) = 0.00000\n",
            ">152 f([8.13953723e-06 2.49700487e-04]) = 0.00000\n",
            ">153 f([1.65444708e-05 2.28867712e-04]) = 0.00000\n",
            ">154 f([2.36352742e-05 2.08398371e-04]) = 0.00000\n",
            ">155 f([2.93222643e-05 1.88400361e-04]) = 0.00000\n",
            ">156 f([3.35657442e-05 1.68968718e-04]) = 0.00000\n",
            ">157 f([3.63728212e-05 1.50186122e-04]) = 0.00000\n",
            ">158 f([3.77931101e-05 1.32123438e-04]) = 0.00000\n",
            ">159 f([3.79135371e-05 1.14840289e-04]) = 0.00000\n",
            ">160 f([3.68524705e-05 9.83856391e-05]) = 0.00000\n",
            ">161 f([3.47534067e-05 8.27984053e-05]) = 0.00000\n",
            ">162 f([3.17784348e-05 6.81080753e-05]) = 0.00000\n",
            ">163 f([2.81016942e-05 5.43353339e-05]) = 0.00000\n",
            ">164 f([2.39030198e-05 4.14926927e-05]) = 0.00000\n",
            ">165 f([1.93619531e-05 2.95851193e-05]) = 0.00000\n",
            ">166 f([1.46522684e-05 1.86106609e-05]) = 0.00000\n",
            ">167 f([9.93713832e-06 8.56106072e-06]) = 0.00000\n",
            ">168 f([ 5.36503476e-06 -5.77636734e-07]) = 0.00000\n",
            ">169 f([ 1.06642846e-06 -8.82449486e-06]) = 0.00000\n",
            ">170 f([-2.84867567e-06 -1.62031102e-05]) = 0.00000\n",
            ">171 f([-6.29236078e-06 -2.27410563e-05]) = 0.00000\n",
            ">172 f([-9.19959674e-06 -2.84693490e-05]) = 0.00000\n",
            ">173 f([-1.15282581e-05 -3.34219327e-05]) = 0.00000\n",
            ">174 f([-1.32584250e-05 -3.76351921e-05]) = 0.00000\n",
            ">175 f([-1.43910476e-05 -4.11474877e-05]) = 0.00000\n",
            ">176 f([-1.49460682e-05 -4.39987175e-05]) = 0.00000\n",
            ">177 f([-1.49601053e-05 -4.62299059e-05]) = 0.00000\n",
            ">178 f([-1.44838070e-05 -4.78828192e-05]) = 0.00000\n",
            ">179 f([-1.35789867e-05 -4.89996085e-05]) = 0.00000\n",
            ">180 f([-1.23156479e-05 -4.96224804e-05]) = 0.00000\n",
            ">181 f([-1.07690032e-05 -4.97933954e-05]) = 0.00000\n",
            ">182 f([-9.01658182e-06 -4.95537927e-05]) = 0.00000\n",
            ">183 f([-7.13551206e-06 -4.89443427e-05]) = 0.00000\n",
            ">184 f([-5.20005002e-06 -4.80047250e-05]) = 0.00000\n",
            ">185 f([-3.27941453e-06 -4.67734331e-05]) = 0.00000\n",
            ">186 f([-1.43597235e-06 -4.52876023e-05]) = 0.00000\n",
            ">187 f([ 2.76196803e-07 -4.35828632e-05]) = 0.00000\n",
            ">188 f([ 1.81234036e-06 -4.16932175e-05]) = 0.00000\n",
            ">189 f([ 3.13767738e-06 -3.96509352e-05]) = 0.00000\n",
            ">190 f([ 4.22765926e-06 -3.74864739e-05]) = 0.00000\n",
            ">191 f([ 5.06787033e-06 -3.52284166e-05]) = 0.00000\n",
            ">192 f([ 5.65360180e-06 -3.29034292e-05]) = 0.00000\n",
            ">193 f([ 5.98914043e-06 -3.05362340e-05]) = 0.00000\n",
            ">194 f([ 6.08681943e-06 -2.81496003e-05]) = 0.00000\n",
            ">195 f([ 5.96588318e-06 -2.57643494e-05]) = 0.00000\n",
            ">196 f([ 5.65121899e-06 -2.33993731e-05]) = 0.00000\n",
            ">197 f([ 5.17200975e-06 -2.10716648e-05]) = 0.00000\n",
            ">198 f([ 4.56035900e-06 -1.87963613e-05]) = 0.00000\n",
            ">199 f([ 3.84993710e-06 -1.65867948e-05]) = 0.00000\n",
            "Done!\n",
            "f([ 3.84993710e-06 -1.65867948e-05]) = 0.000000\n"
          ]
        }
      ]
    },
    {
      "cell_type": "markdown",
      "source": [
        "#### AutoEncoder: Recap"
      ],
      "metadata": {
        "id": "b7RnK7ctJAF-"
      }
    },
    {
      "cell_type": "markdown",
      "source": [
        "- AutoEncoder takes data in high dimension space. It is passed to Encoder MLP and compresses it into $32$-dim. Note that for MNIST image dataset, input is sparse (images are greyscale) where output of Encoder layer is dense.\n",
        "  <img src='https://drive.google.com/uc?id=1F3CtV5UNnUga_5V6MOiYFwYCMtkiV3kf'>\n",
        "- When we take this dense $32$-dim vector and pass it to Decoder MLP from which we try to reconstruct $784$-dim such that output and input are as close as possible. This is how an AutoEncoder for Dimensionality reduction works."
      ],
      "metadata": {
        "id": "bNMpZPRMI5b3"
      }
    },
    {
      "cell_type": "markdown",
      "source": [
        "#### Denoising AE"
      ],
      "metadata": {
        "id": "pxmFMMerUzui"
      }
    },
    {
      "cell_type": "markdown",
      "source": [
        "Simple application of AE is Denoising."
      ],
      "metadata": {
        "id": "iCyiAVK5Llby"
      }
    },
    {
      "cell_type": "code",
      "source": [
        "from keras.datasets import mnist\n",
        "import numpy as np\n",
        "from tensorflow import keras\n",
        "from tensorflow.keras import layers\n",
        "from tensorflow.keras.layers import Dense, Activation\n",
        "(x_train, _), (x_test, _) = mnist.load_data()\n",
        "\n",
        "#Normalize\n",
        "x_train = x_train.astype('float32') / 255.\n",
        "x_test = x_test.astype('float32') / 255.\n",
        "\n",
        "#Reshape\n",
        "x_train = x_train.reshape((len(x_train), np.prod(x_train.shape[1:])))\n",
        "x_test = x_test.reshape((len(x_test), np.prod(x_test.shape[1:])))\n",
        "\n",
        "#add NOISE\n",
        "noise_factor = 0.5\n",
        "x_train_noisy = x_train + noise_factor * np.random.normal(loc=0.0, scale=1.0, size=x_train.shape)\n",
        "x_test_noisy = x_test + noise_factor * np.random.normal(loc=0.0, scale=1.0, size=x_test.shape)\n",
        "\n",
        "x_train_noisy = np.clip(x_train_noisy, 0., 1.)\n",
        "x_test_noisy = np.clip(x_test_noisy, 0., 1.)\n",
        "\n",
        "print(x_train.shape)\n",
        "print(x_train_noisy.shape)\n",
        "print(x_test.shape)\n",
        "print(x_test_noisy.shape)"
      ],
      "metadata": {
        "colab": {
          "base_uri": "https://localhost:8080/"
        },
        "id": "cH8Ss2RB3Ysq",
        "outputId": "ea03af30-e4f6-4e25-c481-20c9240d19cc"
      },
      "execution_count": null,
      "outputs": [
        {
          "output_type": "stream",
          "name": "stdout",
          "text": [
            "(60000, 784)\n",
            "(60000, 784)\n",
            "(10000, 784)\n",
            "(10000, 784)\n"
          ]
        }
      ]
    },
    {
      "cell_type": "markdown",
      "source": [
        "- Here we import MNIST dataset, normalize it, reshape it and add noise to X_train to get X_train_noisy.\n",
        "- We have $60K$ training dataset each with $784$-dim. After adding noise, we clip noisy data between 0 and 1. As after multiplying with $N(0,1)$, we could get values beyond 0 and 1. But since we are dealing with image data which was normalized, we need to do this clipping."
      ],
      "metadata": {
        "id": "yefF4lanL1rI"
      }
    },
    {
      "cell_type": "code",
      "source": [
        "n = 10\n",
        "plt.figure(figsize=(20, 2))\n",
        "for i in range(1, n + 1):\n",
        "    ax = plt.subplot(1, n, i)\n",
        "    plt.imshow(x_test_noisy[i].reshape(28, 28))\n",
        "    plt.gray()\n",
        "    ax.get_xaxis().set_visible(False)\n",
        "    ax.get_yaxis().set_visible(False)\n",
        "plt.show()\n"
      ],
      "metadata": {
        "colab": {
          "base_uri": "https://localhost:8080/",
          "height": 129
        },
        "id": "KlSC4rEk3Yve",
        "outputId": "d9e427af-a74e-4bf2-ed23-dec2797a871a"
      },
      "execution_count": null,
      "outputs": [
        {
          "output_type": "display_data",
          "data": {
            "text/plain": [
              "<Figure size 1440x144 with 10 Axes>"
            ],
            "image/png": "[encoded data removed]"
          },
          "metadata": {
            "needs_background": "light"
          }
        }
      ]
    },
    {
      "cell_type": "markdown",
      "source": [
        "Above plot is for noisy training dataset"
      ],
      "metadata": {
        "id": "qOOo1FM4NB9k"
      }
    },
    {
      "cell_type": "code",
      "source": [
        "#AutoEncoder model\n",
        "input_img = keras.Input(shape=(784,))\n",
        "encoded = layers.Dense(128, activation='relu')(input_img)\n",
        "encoded = layers.Dense(64, activation='relu')(encoded)\n",
        "encoded = layers.Dense(32, activation='relu')(encoded)\n",
        "\n",
        "decoded = layers.Dense(64, activation='relu')(encoded)\n",
        "decoded = layers.Dense(128, activation='relu')(decoded)\n",
        "decoded = layers.Dense(784, activation='sigmoid')(decoded)\n",
        "\n",
        "# Compile and Fit\n",
        "autoencoder = keras.Model(input_img, decoded)\n",
        "autoencoder.compile(optimizer='adam', loss='binary_crossentropy')\n",
        "\n",
        "autoencoder.fit(x_train_noisy, x_train, # NOTE: input is noisy, output is non-noisy\n",
        "                epochs=100,\n",
        "                batch_size=256,\n",
        "                shuffle=True,\n",
        "                validation_data=(x_test_noisy, x_test))"
      ],
      "metadata": {
        "colab": {
          "base_uri": "https://localhost:8080/"
        },
        "id": "lBu66MrT3Y1s",
        "outputId": "5c6e3296-bca0-4e31-c911-0d57d4193c1d"
      },
      "execution_count": null,
      "outputs": [
        {
          "output_type": "stream",
          "name": "stdout",
          "text": [
            "Epoch 1/100\n",
            "235/235 [==============================] - 5s 5ms/step - loss: 0.2696 - val_loss: 0.2194\n",
            "Epoch 2/100\n",
            "235/235 [==============================] - 1s 4ms/step - loss: 0.1925 - val_loss: 0.1734\n",
            "Epoch 3/100\n",
            "235/235 [==============================] - 1s 5ms/step - loss: 0.1664 - val_loss: 0.1592\n",
            "Epoch 4/100\n",
            "235/235 [==============================] - 1s 4ms/step - loss: 0.1566 - val_loss: 0.1525\n",
            "Epoch 5/100\n",
            "235/235 [==============================] - 1s 5ms/step - loss: 0.1514 - val_loss: 0.1485\n",
            "Epoch 6/100\n",
            "235/235 [==============================] - 1s 5ms/step - loss: 0.1480 - val_loss: 0.1455\n",
            "Epoch 7/100\n",
            "235/235 [==============================] - 1s 4ms/step - loss: 0.1447 - val_loss: 0.1422\n",
            "Epoch 8/100\n",
            "235/235 [==============================] - 1s 5ms/step - loss: 0.1418 - val_loss: 0.1397\n",
            "Epoch 9/100\n",
            "235/235 [==============================] - 1s 4ms/step - loss: 0.1393 - val_loss: 0.1374\n",
            "Epoch 10/100\n",
            "235/235 [==============================] - 1s 4ms/step - loss: 0.1370 - val_loss: 0.1355\n",
            "Epoch 11/100\n",
            "235/235 [==============================] - 1s 5ms/step - loss: 0.1353 - val_loss: 0.1337\n",
            "Epoch 12/100\n",
            "235/235 [==============================] - 1s 4ms/step - loss: 0.1335 - val_loss: 0.1327\n",
            "Epoch 13/100\n",
            "235/235 [==============================] - 1s 5ms/step - loss: 0.1323 - val_loss: 0.1314\n",
            "Epoch 14/100\n",
            "235/235 [==============================] - 1s 4ms/step - loss: 0.1312 - val_loss: 0.1316\n",
            "Epoch 15/100\n",
            "235/235 [==============================] - 1s 4ms/step - loss: 0.1304 - val_loss: 0.1301\n",
            "Epoch 16/100\n",
            "235/235 [==============================] - 1s 4ms/step - loss: 0.1295 - val_loss: 0.1290\n",
            "Epoch 17/100\n",
            "235/235 [==============================] - 1s 5ms/step - loss: 0.1289 - val_loss: 0.1283\n",
            "Epoch 18/100\n",
            "235/235 [==============================] - 1s 5ms/step - loss: 0.1281 - val_loss: 0.1280\n",
            "Epoch 19/100\n",
            "235/235 [==============================] - 1s 4ms/step - loss: 0.1276 - val_loss: 0.1275\n",
            "Epoch 20/100\n",
            "235/235 [==============================] - 1s 4ms/step - loss: 0.1268 - val_loss: 0.1270\n",
            "Epoch 21/100\n",
            "235/235 [==============================] - 1s 5ms/step - loss: 0.1263 - val_loss: 0.1262\n",
            "Epoch 22/100\n",
            "235/235 [==============================] - 1s 5ms/step - loss: 0.1256 - val_loss: 0.1264\n",
            "Epoch 23/100\n",
            "235/235 [==============================] - 1s 5ms/step - loss: 0.1249 - val_loss: 0.1255\n",
            "Epoch 24/100\n",
            "235/235 [==============================] - 1s 4ms/step - loss: 0.1244 - val_loss: 0.1247\n",
            "Epoch 25/100\n",
            "235/235 [==============================] - 1s 4ms/step - loss: 0.1239 - val_loss: 0.1246\n",
            "Epoch 26/100\n",
            "235/235 [==============================] - 1s 5ms/step - loss: 0.1233 - val_loss: 0.1239\n",
            "Epoch 27/100\n",
            "235/235 [==============================] - 1s 4ms/step - loss: 0.1230 - val_loss: 0.1238\n",
            "Epoch 28/100\n",
            "235/235 [==============================] - 1s 5ms/step - loss: 0.1224 - val_loss: 0.1234\n",
            "Epoch 29/100\n",
            "235/235 [==============================] - 1s 5ms/step - loss: 0.1219 - val_loss: 0.1227\n",
            "Epoch 30/100\n",
            "235/235 [==============================] - 1s 5ms/step - loss: 0.1217 - val_loss: 0.1223\n",
            "Epoch 31/100\n",
            "235/235 [==============================] - 1s 5ms/step - loss: 0.1212 - val_loss: 0.1231\n",
            "Epoch 32/100\n",
            "235/235 [==============================] - 1s 4ms/step - loss: 0.1210 - val_loss: 0.1217\n",
            "Epoch 33/100\n",
            "235/235 [==============================] - 1s 5ms/step - loss: 0.1207 - val_loss: 0.1220\n",
            "Epoch 34/100\n",
            "235/235 [==============================] - 1s 4ms/step - loss: 0.1203 - val_loss: 0.1213\n",
            "Epoch 35/100\n",
            "235/235 [==============================] - 1s 4ms/step - loss: 0.1201 - val_loss: 0.1212\n",
            "Epoch 36/100\n",
            "235/235 [==============================] - 1s 4ms/step - loss: 0.1200 - val_loss: 0.1216\n",
            "Epoch 37/100\n",
            "235/235 [==============================] - 1s 5ms/step - loss: 0.1197 - val_loss: 0.1219\n",
            "Epoch 38/100\n",
            "235/235 [==============================] - 1s 4ms/step - loss: 0.1195 - val_loss: 0.1213\n",
            "Epoch 39/100\n",
            "235/235 [==============================] - 1s 5ms/step - loss: 0.1193 - val_loss: 0.1209\n",
            "Epoch 40/100\n",
            "235/235 [==============================] - 1s 5ms/step - loss: 0.1191 - val_loss: 0.1206\n",
            "Epoch 41/100\n",
            "235/235 [==============================] - 1s 4ms/step - loss: 0.1188 - val_loss: 0.1205\n",
            "Epoch 42/100\n",
            "235/235 [==============================] - 1s 4ms/step - loss: 0.1187 - val_loss: 0.1203\n",
            "Epoch 43/100\n",
            "235/235 [==============================] - 1s 5ms/step - loss: 0.1185 - val_loss: 0.1204\n",
            "Epoch 44/100\n",
            "235/235 [==============================] - 1s 4ms/step - loss: 0.1185 - val_loss: 0.1205\n",
            "Epoch 45/100\n",
            "235/235 [==============================] - 1s 4ms/step - loss: 0.1182 - val_loss: 0.1202\n",
            "Epoch 46/100\n",
            "235/235 [==============================] - 1s 4ms/step - loss: 0.1180 - val_loss: 0.1201\n",
            "Epoch 47/100\n",
            "235/235 [==============================] - 1s 5ms/step - loss: 0.1179 - val_loss: 0.1208\n",
            "Epoch 48/100\n",
            "235/235 [==============================] - 1s 5ms/step - loss: 0.1178 - val_loss: 0.1198\n",
            "Epoch 49/100\n",
            "235/235 [==============================] - 1s 5ms/step - loss: 0.1176 - val_loss: 0.1203\n",
            "Epoch 50/100\n",
            "235/235 [==============================] - 1s 5ms/step - loss: 0.1175 - val_loss: 0.1194\n",
            "Epoch 51/100\n",
            "235/235 [==============================] - 1s 5ms/step - loss: 0.1174 - val_loss: 0.1200\n",
            "Epoch 52/100\n",
            "235/235 [==============================] - 1s 4ms/step - loss: 0.1172 - val_loss: 0.1192\n",
            "Epoch 53/100\n",
            "235/235 [==============================] - 1s 5ms/step - loss: 0.1171 - val_loss: 0.1196\n",
            "Epoch 54/100\n",
            "235/235 [==============================] - 1s 5ms/step - loss: 0.1170 - val_loss: 0.1194\n",
            "Epoch 55/100\n",
            "235/235 [==============================] - 1s 5ms/step - loss: 0.1169 - val_loss: 0.1190\n",
            "Epoch 56/100\n",
            "235/235 [==============================] - 1s 5ms/step - loss: 0.1168 - val_loss: 0.1192\n",
            "Epoch 57/100\n",
            "235/235 [==============================] - 1s 5ms/step - loss: 0.1167 - val_loss: 0.1189\n",
            "Epoch 58/100\n",
            "235/235 [==============================] - 1s 5ms/step - loss: 0.1166 - val_loss: 0.1189\n",
            "Epoch 59/100\n",
            "235/235 [==============================] - 1s 5ms/step - loss: 0.1165 - val_loss: 0.1192\n",
            "Epoch 60/100\n",
            "235/235 [==============================] - 1s 5ms/step - loss: 0.1163 - val_loss: 0.1190\n",
            "Epoch 61/100\n",
            "235/235 [==============================] - 1s 5ms/step - loss: 0.1164 - val_loss: 0.1192\n",
            "Epoch 62/100\n",
            "235/235 [==============================] - 1s 5ms/step - loss: 0.1163 - val_loss: 0.1185\n",
            "Epoch 63/100\n",
            "235/235 [==============================] - 1s 4ms/step - loss: 0.1161 - val_loss: 0.1185\n",
            "Epoch 64/100\n",
            "235/235 [==============================] - 1s 4ms/step - loss: 0.1161 - val_loss: 0.1189\n",
            "Epoch 65/100\n",
            "235/235 [==============================] - 1s 5ms/step - loss: 0.1160 - val_loss: 0.1189\n",
            "Epoch 66/100\n",
            "235/235 [==============================] - 1s 4ms/step - loss: 0.1158 - val_loss: 0.1182\n",
            "Epoch 67/100\n",
            "235/235 [==============================] - 1s 5ms/step - loss: 0.1158 - val_loss: 0.1184\n",
            "Epoch 68/100\n",
            "235/235 [==============================] - 1s 4ms/step - loss: 0.1158 - val_loss: 0.1184\n",
            "Epoch 69/100\n",
            "235/235 [==============================] - 1s 5ms/step - loss: 0.1157 - val_loss: 0.1188\n",
            "Epoch 70/100\n",
            "235/235 [==============================] - 1s 4ms/step - loss: 0.1156 - val_loss: 0.1184\n",
            "Epoch 71/100\n",
            "235/235 [==============================] - 1s 4ms/step - loss: 0.1155 - val_loss: 0.1181\n",
            "Epoch 72/100\n",
            "235/235 [==============================] - 1s 5ms/step - loss: 0.1154 - val_loss: 0.1183\n",
            "Epoch 73/100\n",
            "235/235 [==============================] - 1s 5ms/step - loss: 0.1154 - val_loss: 0.1179\n",
            "Epoch 74/100\n",
            "235/235 [==============================] - 1s 5ms/step - loss: 0.1153 - val_loss: 0.1183\n",
            "Epoch 75/100\n",
            "235/235 [==============================] - 1s 4ms/step - loss: 0.1153 - val_loss: 0.1183\n",
            "Epoch 76/100\n",
            "235/235 [==============================] - 1s 5ms/step - loss: 0.1151 - val_loss: 0.1182\n",
            "Epoch 77/100\n",
            "235/235 [==============================] - 1s 4ms/step - loss: 0.1150 - val_loss: 0.1180\n",
            "Epoch 78/100\n",
            "235/235 [==============================] - 1s 5ms/step - loss: 0.1150 - val_loss: 0.1179\n",
            "Epoch 79/100\n",
            "235/235 [==============================] - 1s 5ms/step - loss: 0.1150 - val_loss: 0.1184\n",
            "Epoch 80/100\n",
            "235/235 [==============================] - 1s 4ms/step - loss: 0.1148 - val_loss: 0.1178\n",
            "Epoch 81/100\n",
            "235/235 [==============================] - 1s 5ms/step - loss: 0.1150 - val_loss: 0.1179\n",
            "Epoch 82/100\n",
            "235/235 [==============================] - 1s 4ms/step - loss: 0.1148 - val_loss: 0.1176\n",
            "Epoch 83/100\n",
            "235/235 [==============================] - 1s 4ms/step - loss: 0.1147 - val_loss: 0.1176\n",
            "Epoch 84/100\n",
            "235/235 [==============================] - 1s 5ms/step - loss: 0.1147 - val_loss: 0.1177\n",
            "Epoch 85/100\n",
            "235/235 [==============================] - 1s 5ms/step - loss: 0.1147 - val_loss: 0.1174\n",
            "Epoch 86/100\n",
            "235/235 [==============================] - 1s 5ms/step - loss: 0.1145 - val_loss: 0.1176\n",
            "Epoch 87/100\n",
            "235/235 [==============================] - 1s 5ms/step - loss: 0.1145 - val_loss: 0.1179\n",
            "Epoch 88/100\n",
            "235/235 [==============================] - 1s 5ms/step - loss: 0.1145 - val_loss: 0.1177\n",
            "Epoch 89/100\n",
            "235/235 [==============================] - 1s 4ms/step - loss: 0.1144 - val_loss: 0.1177\n",
            "Epoch 90/100\n",
            "235/235 [==============================] - 1s 4ms/step - loss: 0.1144 - val_loss: 0.1176\n",
            "Epoch 91/100\n",
            "235/235 [==============================] - 1s 4ms/step - loss: 0.1143 - val_loss: 0.1176\n",
            "Epoch 92/100\n",
            "235/235 [==============================] - 1s 5ms/step - loss: 0.1143 - val_loss: 0.1176\n",
            "Epoch 93/100\n",
            "235/235 [==============================] - 1s 4ms/step - loss: 0.1142 - val_loss: 0.1175\n",
            "Epoch 94/100\n",
            "235/235 [==============================] - 1s 5ms/step - loss: 0.1142 - val_loss: 0.1177\n",
            "Epoch 95/100\n",
            "235/235 [==============================] - 1s 4ms/step - loss: 0.1142 - val_loss: 0.1184\n",
            "Epoch 96/100\n",
            "235/235 [==============================] - 1s 4ms/step - loss: 0.1141 - val_loss: 0.1175\n",
            "Epoch 97/100\n",
            "235/235 [==============================] - 1s 4ms/step - loss: 0.1140 - val_loss: 0.1178\n",
            "Epoch 98/100\n",
            "235/235 [==============================] - 1s 4ms/step - loss: 0.1140 - val_loss: 0.1179\n",
            "Epoch 99/100\n",
            "235/235 [==============================] - 1s 5ms/step - loss: 0.1140 - val_loss: 0.1172\n",
            "Epoch 100/100\n",
            "235/235 [==============================] - 1s 4ms/step - loss: 0.1139 - val_loss: 0.1174\n"
          ]
        },
        {
          "output_type": "execute_result",
          "data": {
            "text/plain": [
              "<keras.callbacks.History at 0x7fcea3a1b110>"
            ]
          },
          "metadata": {},
          "execution_count": 13
        }
      ]
    },
    {
      "cell_type": "markdown",
      "source": [
        "Note, that input to Encoder layer is noisy training data and target is clean training dataset."
      ],
      "metadata": {
        "id": "Oi2tmUflNfJE"
      }
    },
    {
      "cell_type": "markdown",
      "source": [
        "After 100 epochs, training and validation loss are pretty close"
      ],
      "metadata": {
        "id": "-4nGA1qINKE4"
      }
    },
    {
      "cell_type": "code",
      "source": [
        "#Visualize the outputs\n",
        "\n",
        "decoded_imgs = autoencoder.predict(x_test_noisy)\n",
        "\n",
        "n = 10\n",
        "plt.figure(figsize=(20, 4))\n",
        "for i in range(1, n + 1):\n",
        "    # Display original\n",
        "    ax = plt.subplot(2, n, i)\n",
        "    plt.imshow(x_test_noisy[i].reshape(28, 28))\n",
        "    plt.gray()\n",
        "    ax.get_xaxis().set_visible(False)\n",
        "    ax.get_yaxis().set_visible(False)\n",
        "\n",
        "    # Display reconstruction\n",
        "    ax = plt.subplot(2, n, i + n)\n",
        "    plt.imshow(decoded_imgs[i].reshape(28, 28))\n",
        "    plt.gray()\n",
        "    ax.get_xaxis().set_visible(False)\n",
        "    ax.get_yaxis().set_visible(False)\n",
        "plt.show()"
      ],
      "metadata": {
        "colab": {
          "base_uri": "https://localhost:8080/",
          "height": 248
        },
        "id": "Lay2ea5v3Y5A",
        "outputId": "3ae34bb0-d3e8-4519-d741-ec5a0185e077"
      },
      "execution_count": null,
      "outputs": [
        {
          "output_type": "display_data",
          "data": {
            "text/plain": [
              "<Figure size 1440x288 with 20 Axes>"
            ],
            "image/png": "[encoded data removed]"
          },
          "metadata": {
            "needs_background": "light"
          }
        }
      ]
    },
    {
      "cell_type": "markdown",
      "source": [
        "- Whole Encoder-Decoder is learning a mathematical function that takes noisy image and gives clean image. $784$-dim (noisy) has to be very close to $784$-dim of output."
      ],
      "metadata": {
        "id": "VqKkgSKwNTGE"
      }
    },
    {
      "cell_type": "markdown",
      "source": [
        "#### Adding Sparsity constraint to Encoded Representation:"
      ],
      "metadata": {
        "id": "dwxDw9KcR8_I"
      }
    },
    {
      "cell_type": "markdown",
      "source": [
        "- In the below example, we have 32 neurons to generate sparse vector. There is a special regularizer (activity regularizer). Typically for regularization we have seen $L_1$ regularizer which creates sparsity in weights and bias.\n",
        "  <img src='https://drive.google.com/uc?id=1lCAI48IXfwwV1_J_3QMlPJK2sDTpd8wf'>\n",
        "- In loss function, we try to minimize loss that is binary cross entropy. Regularization is used so that we have sparse data. Sparse data is easier to work with for certain set of algorithms.\n",
        "  <img src='https://drive.google.com/uc?id=1lculcpcJzKPCOpo_1DSaZMxatMbA563f'>"
      ],
      "metadata": {
        "id": "IHo3IC1WSH8Y"
      }
    },
    {
      "cell_type": "markdown",
      "source": [
        "***Question:*** But why do we want the 32 dim vector to be sparse? Isn't it already condensed? If we make it sparse, will we not have loss of information?\n",
        "\n",
        "***Answer:***\n",
        "- Note, that if $32$-dim vector becomes more and more sparse, then loss will increase as well.\n",
        "- So we want to find out to what extend can we make it parse without increasing loss.\n",
        "  <img src='https://drive.google.com/uc?id=1--aS6lJQzCDo0eNxt4h__UsWSeOj51nj'>\n"
      ],
      "metadata": {
        "id": "1U_YA3gUVeWc"
      }
    },
    {
      "cell_type": "markdown",
      "source": [
        "***Question:*** If I use all linear activation, will it similar to PCA?\n",
        "\n",
        "***Answer:***\n",
        "- No. It would be the case as long as column vector are orthogonal.\n",
        "  <img src='https://drive.google.com/uc?id=1hXEyGfSaXtqDcQs6epVbgd0m6dKzN7TS'>\n"
      ],
      "metadata": {
        "id": "Hlzk4mlyYTxV"
      }
    },
    {
      "cell_type": "markdown",
      "source": [
        "#### Practical tips"
      ],
      "metadata": {
        "id": "Ka6P0o6WZBL9"
      }
    },
    {
      "cell_type": "markdown",
      "source": [
        "- For tabular data, we can try MLPs but typically they don't out perform ensembles.\n",
        "- For image data, we can use Convolution Neural Network (CNN) that will be covered in Computer Vision.\n",
        "- For time-series data, we can use LSTMs that will be covered in NLP.\n",
        "- For textual data, we can use LSTMS or Transformers.\n",
        "  <img src='https://drive.google.com/uc?id=1uSbp_uK79AymgjcLaaugZQ6y3OMSzGqd'>\n"
      ],
      "metadata": {
        "id": "PukZAXaWZiuz"
      }
    },
    {
      "cell_type": "markdown",
      "source": [
        "In MLPs:\n",
        "- Batch-size is determined by size of the cores, on which data will be trained.\n",
        "- As layers increases, so will overfitting. Same is the case of neurons per layer.\n",
        "- ReLu is more popular and widely used activation function. If there are lots of dead neurons then we can switch to leaky ReLu/PReLu.\n",
        "  <img src='https://drive.google.com/uc?id=12gjQKCKxc-XMwSsdTPRYRcKK5OZoTttd'>\n"
      ],
      "metadata": {
        "id": "fbVpsLmgZEs2"
      }
    },
    {
      "cell_type": "markdown",
      "source": [
        "- If we have internal covariate shift, we use Batch Normalization. In practise, it is good to use as it speeds up convergence and add regularization.\n",
        "- To reduce overfitting, we can increase dropout rate. Note that if dropout increases, convergence rate decreases as well.\n",
        "  <img src='https://drive.google.com/uc?id=1aRE0QhSSIajT4fjKOU6MJ5MSF0Q0h3CV'>\n"
      ],
      "metadata": {
        "id": "GQaPKnQ6Zip1"
      }
    },
    {
      "cell_type": "markdown",
      "source": [
        "- ADAM is commonly used optimizer. We can adjust $\\alpha, \\beta_1, \\beta_2$ base on speed of convergence.\n",
        "- We should check for exploding gradients and vanishing gradients as well.\n",
        "  <img src='https://drive.google.com/uc?id=11SB4VGVwhkrLyxPYASKJnaxEq3N3hc15'>\n"
      ],
      "metadata": {
        "id": "Liy8ZQZYZict"
      }
    },
    {
      "cell_type": "markdown",
      "source": [
        "- Loss function should be differentiable.\n",
        "  <img src='https://drive.google.com/uc?id=13NeeXPpyianbt_iQ0jt2M3hKSkquw0yF'>\n"
      ],
      "metadata": {
        "id": "RbO-D2LkZigA"
      }
    },
    {
      "cell_type": "markdown",
      "source": [
        "- Weights are initialized using either He (for ReLu) or Glorot (default) method.\n",
        "  <img src='https://drive.google.com/uc?id=1QVmBLfXFyBbzibn_lW5x1GyoH-Qw2i0i'>\n"
      ],
      "metadata": {
        "id": "mFURf-7wZilc"
      }
    },
    {
      "cell_type": "markdown",
      "source": [
        "***Question:*** What happens if we initialize all weights to the same value?\n",
        "\n",
        "***Answer:***\n",
        "- If we have ReLu activation function and all weights are set to 0, then we will end up with dead neurons.\n",
        "  <img src='https://drive.google.com/uc?id=1QVmBLfXFyBbzibn_lW5x1GyoH-Qw2i0i'>\n",
        "- If we have ReLu activation function and all weights are set to same value other than non-zero (let say 0.5), then all the weights in each layer will change in unison. This is also known as symmetry problem.\n",
        "- Simplest way to break symmetry is randomly initialize weights.\n",
        "  <img src='https://drive.google.com/uc?id=1EeMDPEjI-RGoYHsV_EPwvK5tuLftFX_9'>"
      ],
      "metadata": {
        "id": "5VNatJrTcisZ"
      }
    },
    {
      "cell_type": "markdown",
      "source": [
        "#### Disadvantages of MLP:"
      ],
      "metadata": {
        "id": "_qJkK1Jjgh_W"
      }
    },
    {
      "cell_type": "markdown",
      "source": [
        "- Spatial pattern is broken when $28*28$ image is transformed into $784*1$ dimensions.\n",
        "- Hence, MLP don't work well on image. There is a special class of algorithm (CNN) which uses concept of convolution in Image processing.  \n",
        "  <img src='https://drive.google.com/uc?id=1VY23CxPK8M_cnRC8khARYll4E11OlPPA'>"
      ],
      "metadata": {
        "id": "jPuafXMpgolI"
      }
    },
    {
      "cell_type": "markdown",
      "source": [
        "- If we pass sequence of words to MLP, then it doesn't take sequence into consideration.\n",
        "- LSTMs is used for such purpose.  \n",
        "  <img src='https://drive.google.com/uc?id=1dx2Y0R9Yr8rfJS88yvsSvNXaF5gJ-AqS'>"
      ],
      "metadata": {
        "id": "bXSIIeWwqoRs"
      }
    },
    {
      "cell_type": "markdown",
      "source": [
        "***Question:*** So mostly MLP's use-case is classification (that too multi-class), AE. Do we even use it for regression (or our first choice would be linear regression, ensemble)?\n",
        "\n",
        "***Answer:***\n",
        "- Start with Linear models, then try out ensembles followed by MLP."
      ],
      "metadata": {
        "id": "Mz57ZSE_rfyu"
      }
    },
    {
      "cell_type": "markdown",
      "source": [
        "***Question:*** Do we have problem of dead neurons for Sigmoid as well?\n",
        "\n",
        "***Answer:***  \n",
        "- No, in Sigmoid $\\sigma(w^Tx_i+b) = 0.5$, when $w^Tx_i+b = 0$.\n",
        "- ReLu's have dead neurons problem and not Sigmoid.\n",
        "  <img src='https://drive.google.com/uc?id=1u44pIggorQhAyqb_pQB51Sqs2YblGBcz'>"
      ],
      "metadata": {
        "id": "lyRuWXAXqrFM"
      }
    }
  ]
}