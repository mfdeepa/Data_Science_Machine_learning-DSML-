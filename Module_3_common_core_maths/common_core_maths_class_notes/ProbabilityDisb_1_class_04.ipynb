{
  "nbformat": 4,
  "nbformat_minor": 0,
  "metadata": {
    "colab": {
      "provenance": []
    },
    "kernelspec": {
      "name": "python3",
      "display_name": "Python 3"
    },
    "language_info": {
      "name": "python"
    }
  },
  "cells": [
    {
      "cell_type": "code",
      "source": [
        "import pandas as pd\n",
        "import numpy as np\n",
        "import matplotlib.pyplot as plt\n",
        "\n",
        "import seaborn as sns\n",
        "from scipy import stats"
      ],
      "metadata": {
        "id": "u3Mw9lLYHLLw"
      },
      "execution_count": null,
      "outputs": []
    },
    {
      "cell_type": "code",
      "source": [
        "id = \"1PazlhissU63pozkOjJckyjIJuM_u-0JF\"\n",
        "print(\"https://drive.google.com/uc?export=download&id=\" + id)"
      ],
      "metadata": {
        "colab": {
          "base_uri": "https://localhost:8080/"
        },
        "id": "46VInWzHWhRZ",
        "outputId": "47608deb-2606-4abe-a4f7-391ed73881b0"
      },
      "execution_count": null,
      "outputs": [
        {
          "output_type": "stream",
          "name": "stdout",
          "text": [
            "https://drive.google.com/uc?export=download&id=1PazlhissU63pozkOjJckyjIJuM_u-0JF\n"
          ]
        }
      ]
    },
    {
      "cell_type": "code",
      "source": [
        "!wget \"https://drive.google.com/uc?export=download&id=1PazlhissU63pozkOjJckyjIJuM_u-0JF\" -O flight.csv"
      ],
      "metadata": {
        "colab": {
          "base_uri": "https://localhost:8080/"
        },
        "id": "zeaTTNEFWzxG",
        "outputId": "a78e21a9-77c1-4299-f91d-7af56bbe9168"
      },
      "execution_count": null,
      "outputs": [
        {
          "output_type": "stream",
          "name": "stdout",
          "text": [
            "--2022-04-26 16:58:14--  https://drive.google.com/uc?export=download&id=1PazlhissU63pozkOjJckyjIJuM_u-0JF\n",
            "Resolving drive.google.com (drive.google.com)... 74.125.26.101, 74.125.26.138, 74.125.26.100, ...\n",
            "Connecting to drive.google.com (drive.google.com)|74.125.26.101|:443... connected.\n",
            "HTTP request sent, awaiting response... 303 See Other\n",
            "Location: https://doc-14-14-docs.googleusercontent.com/docs/securesc/ha0ro937gcuc7l7deffksulhg5h7mbp1/4n3oik3dp7qkgorti8v3gla5isabahoi/1650992250000/06496627672658439642/*/1PazlhissU63pozkOjJckyjIJuM_u-0JF?e=download [following]\n",
            "Warning: wildcards not supported in HTTP.\n",
            "--2022-04-26 16:58:15--  https://doc-14-14-docs.googleusercontent.com/docs/securesc/ha0ro937gcuc7l7deffksulhg5h7mbp1/4n3oik3dp7qkgorti8v3gla5isabahoi/1650992250000/06496627672658439642/*/1PazlhissU63pozkOjJckyjIJuM_u-0JF?e=download\n",
            "Resolving doc-14-14-docs.googleusercontent.com (doc-14-14-docs.googleusercontent.com)... 173.194.218.132, 2607:f8b0:400c:c14::84\n",
            "Connecting to doc-14-14-docs.googleusercontent.com (doc-14-14-docs.googleusercontent.com)|173.194.218.132|:443... connected.\n",
            "HTTP request sent, awaiting response... 200 OK\n",
            "Length: 12175 (12K) [text/csv]\n",
            "Saving to: ‘flight.csv’\n",
            "\n",
            "flight.csv          100%[===================>]  11.89K  --.-KB/s    in 0s      \n",
            "\n",
            "2022-04-26 16:58:15 (57.7 MB/s) - ‘flight.csv’ saved [12175/12175]\n",
            "\n"
          ]
        }
      ]
    },
    {
      "cell_type": "code",
      "source": [
        "flights = pd.read_csv('./flight.csv')\n",
        "flights.info()"
      ],
      "metadata": {
        "colab": {
          "base_uri": "https://localhost:8080/"
        },
        "id": "SxnxYGBUXIQp",
        "outputId": "95158b9c-5fcf-4e09-9e6b-0264d7bedf68"
      },
      "execution_count": null,
      "outputs": [
        {
          "output_type": "stream",
          "name": "stdout",
          "text": [
            "<class 'pandas.core.frame.DataFrame'>\n",
            "RangeIndex: 1000 entries, 0 to 999\n",
            "Data columns (total 3 columns):\n",
            " #   Column        Non-Null Count  Dtype \n",
            "---  ------        --------------  ----- \n",
            " 0   Passenger_ID  1000 non-null   int64 \n",
            " 1   Flight_ID     1000 non-null   object\n",
            " 2   Arrived       1000 non-null   int64 \n",
            "dtypes: int64(2), object(1)\n",
            "memory usage: 23.6+ KB\n"
          ]
        }
      ]
    },
    {
      "cell_type": "code",
      "source": [
        "flights.head()"
      ],
      "metadata": {
        "colab": {
          "base_uri": "https://localhost:8080/",
          "height": 206
        },
        "id": "dxAtc_fhXvov",
        "outputId": "c910b487-a2dd-43de-bc5b-9b3d4eb4563a"
      },
      "execution_count": null,
      "outputs": [
        {
          "output_type": "execute_result",
          "data": {
            "text/plain": [
              "   Passenger_ID Flight_ID  Arrived\n",
              "0          1811     A320         1\n",
              "1          1812     A320         1\n",
              "2          1813      B777        1\n",
              "3          1814      B737        1\n",
              "4          1815      B737        1"
            ],
            "text/html": [
              "\n",
              "  <div id=\"df-0513d77e-7407-432d-8415-80d3b2891792\">\n",
              "    <div class=\"colab-df-container\">\n",
              "      <div>\n",
              "<style scoped>\n",
              "    .dataframe tbody tr th:only-of-type {\n",
              "        vertical-align: middle;\n",
              "    }\n",
              "\n",
              "    .dataframe tbody tr th {\n",
              "        vertical-align: top;\n",
              "    }\n",
              "\n",
              "    .dataframe thead th {\n",
              "        text-align: right;\n",
              "    }\n",
              "</style>\n",
              "<table border=\"1\" class=\"dataframe\">\n",
              "  <thead>\n",
              "    <tr style=\"text-align: right;\">\n",
              "      <th></th>\n",
              "      <th>Passenger_ID</th>\n",
              "      <th>Flight_ID</th>\n",
              "      <th>Arrived</th>\n",
              "    </tr>\n",
              "  </thead>\n",
              "  <tbody>\n",
              "    <tr>\n",
              "      <th>0</th>\n",
              "      <td>1811</td>\n",
              "      <td>A320</td>\n",
              "      <td>1</td>\n",
              "    </tr>\n",
              "    <tr>\n",
              "      <th>1</th>\n",
              "      <td>1812</td>\n",
              "      <td>A320</td>\n",
              "      <td>1</td>\n",
              "    </tr>\n",
              "    <tr>\n",
              "      <th>2</th>\n",
              "      <td>1813</td>\n",
              "      <td>B777</td>\n",
              "      <td>1</td>\n",
              "    </tr>\n",
              "    <tr>\n",
              "      <th>3</th>\n",
              "      <td>1814</td>\n",
              "      <td>B737</td>\n",
              "      <td>1</td>\n",
              "    </tr>\n",
              "    <tr>\n",
              "      <th>4</th>\n",
              "      <td>1815</td>\n",
              "      <td>B737</td>\n",
              "      <td>1</td>\n",
              "    </tr>\n",
              "  </tbody>\n",
              "</table>\n",
              "</div>\n",
              "      <button class=\"colab-df-convert\" onclick=\"convertToInteractive('df-0513d77e-7407-432d-8415-80d3b2891792')\"\n",
              "              title=\"Convert this dataframe to an interactive table.\"\n",
              "              style=\"display:none;\">\n",
              "        \n",
              "  <svg xmlns=\"http://www.w3.org/2000/svg\" height=\"24px\"viewBox=\"0 0 24 24\"\n",
              "       width=\"24px\">\n",
              "    <path d=\"M0 0h24v24H0V0z\" fill=\"none\"/>\n",
              "    <path d=\"M18.56 5.44l.94 2.06.94-2.06 2.06-.94-2.06-.94-.94-2.06-.94 2.06-2.06.94zm-11 1L8.5 8.5l.94-2.06 2.06-.94-2.06-.94L8.5 2.5l-.94 2.06-2.06.94zm10 10l.94 2.06.94-2.06 2.06-.94-2.06-.94-.94-2.06-.94 2.06-2.06.94z\"/><path d=\"M17.41 7.96l-1.37-1.37c-.4-.4-.92-.59-1.43-.59-.52 0-1.04.2-1.43.59L10.3 9.45l-7.72 7.72c-.78.78-.78 2.05 0 2.83L4 21.41c.39.39.9.59 1.41.59.51 0 1.02-.2 1.41-.59l7.78-7.78 2.81-2.81c.8-.78.8-2.07 0-2.86zM5.41 20L4 18.59l7.72-7.72 1.47 1.35L5.41 20z\"/>\n",
              "  </svg>\n",
              "      </button>\n",
              "      \n",
              "  <style>\n",
              "    .colab-df-container {\n",
              "      display:flex;\n",
              "      flex-wrap:wrap;\n",
              "      gap: 12px;\n",
              "    }\n",
              "\n",
              "    .colab-df-convert {\n",
              "      background-color: #E8F0FE;\n",
              "      border: none;\n",
              "      border-radius: 50%;\n",
              "      cursor: pointer;\n",
              "      display: none;\n",
              "      fill: #1967D2;\n",
              "      height: 32px;\n",
              "      padding: 0 0 0 0;\n",
              "      width: 32px;\n",
              "    }\n",
              "\n",
              "    .colab-df-convert:hover {\n",
              "      background-color: #E2EBFA;\n",
              "      box-shadow: 0px 1px 2px rgba(60, 64, 67, 0.3), 0px 1px 3px 1px rgba(60, 64, 67, 0.15);\n",
              "      fill: #174EA6;\n",
              "    }\n",
              "\n",
              "    [theme=dark] .colab-df-convert {\n",
              "      background-color: #3B4455;\n",
              "      fill: #D2E3FC;\n",
              "    }\n",
              "\n",
              "    [theme=dark] .colab-df-convert:hover {\n",
              "      background-color: #434B5C;\n",
              "      box-shadow: 0px 1px 3px 1px rgba(0, 0, 0, 0.15);\n",
              "      filter: drop-shadow(0px 1px 2px rgba(0, 0, 0, 0.3));\n",
              "      fill: #FFFFFF;\n",
              "    }\n",
              "  </style>\n",
              "\n",
              "      <script>\n",
              "        const buttonEl =\n",
              "          document.querySelector('#df-0513d77e-7407-432d-8415-80d3b2891792 button.colab-df-convert');\n",
              "        buttonEl.style.display =\n",
              "          google.colab.kernel.accessAllowed ? 'block' : 'none';\n",
              "\n",
              "        async function convertToInteractive(key) {\n",
              "          const element = document.querySelector('#df-0513d77e-7407-432d-8415-80d3b2891792');\n",
              "          const dataTable =\n",
              "            await google.colab.kernel.invokeFunction('convertToInteractive',\n",
              "                                                     [key], {});\n",
              "          if (!dataTable) return;\n",
              "\n",
              "          const docLinkHtml = 'Like what you see? Visit the ' +\n",
              "            '<a target=\"_blank\" href=https://colab.research.google.com/notebooks/data_table.ipynb>data table notebook</a>'\n",
              "            + ' to learn more about interactive tables.';\n",
              "          element.innerHTML = '';\n",
              "          dataTable['output_type'] = 'display_data';\n",
              "          await google.colab.output.renderOutput(dataTable, element);\n",
              "          const docLink = document.createElement('div');\n",
              "          docLink.innerHTML = docLinkHtml;\n",
              "          element.appendChild(docLink);\n",
              "        }\n",
              "      </script>\n",
              "    </div>\n",
              "  </div>\n",
              "  "
            ]
          },
          "metadata": {},
          "execution_count": 11
        }
      ]
    },
    {
      "cell_type": "code",
      "source": [
        "sns.histplot(flights[\"Passenger_ID\"], kde=True)\n",
        "plt.show()"
      ],
      "metadata": {
        "colab": {
          "base_uri": "https://localhost:8080/",
          "height": 280
        },
        "id": "bqaqOwLjl6lc",
        "outputId": "6eadbde9-b208-4b89-d915-d6610baacd38"
      },
      "execution_count": null,
      "outputs": [
        {
          "output_type": "display_data",
          "data": {
            "text/plain": [
              "<Figure size 432x288 with 1 Axes>"
            ],
            "image/png": "[encoded data removed]"
          },
          "metadata": {
            "needs_background": "light"
          }
        }
      ]
    },
    {
      "cell_type": "code",
      "source": [
        "flights[\"Arrived\"].value_counts().plot.bar()\n",
        "plt.grid()\n",
        "plt.show()"
      ],
      "metadata": {
        "colab": {
          "base_uri": "https://localhost:8080/",
          "height": 262
        },
        "id": "8UbrXFk7nQVo",
        "outputId": "ff553201-3f77-46c1-d246-5d27dd2dd866"
      },
      "execution_count": null,
      "outputs": [
        {
          "output_type": "display_data",
          "data": {
            "text/plain": [
              "<Figure size 432x288 with 1 Axes>"
            ],
            "image/png": "[encoded data removed]"
          },
          "metadata": {
            "needs_background": "light"
          }
        }
      ]
    },
    {
      "cell_type": "code",
      "source": [
        "showsup_probability = flights['Arrived'].value_counts(normalize=True)[1]\n",
        "print(showsup_probability)"
      ],
      "metadata": {
        "colab": {
          "base_uri": "https://localhost:8080/"
        },
        "id": "JOLsy07TnQNS",
        "outputId": "e4395b87-649d-4178-9cc2-ffcd200ec0cc"
      },
      "execution_count": null,
      "outputs": [
        {
          "output_type": "stream",
          "name": "stdout",
          "text": [
            "0.902\n"
          ]
        }
      ]
    },
    {
      "cell_type": "code",
      "source": [
        "flights['Arrived'].value_counts()"
      ],
      "metadata": {
        "colab": {
          "base_uri": "https://localhost:8080/"
        },
        "id": "-VNFXBP3n-ot",
        "outputId": "91467b76-2e4a-4c8b-8246-5f2b9f2b9eb1"
      },
      "execution_count": null,
      "outputs": [
        {
          "output_type": "execute_result",
          "data": {
            "text/plain": [
              "1    902\n",
              "0     98\n",
              "Name: Arrived, dtype: int64"
            ]
          },
          "metadata": {},
          "execution_count": 17
        }
      ]
    },
    {
      "cell_type": "code",
      "source": [
        "import math\n",
        "\n",
        "PENALTY = 10000\n",
        "def comb(n, r):\n",
        "\n",
        "  num1 = math.factorial(n)\n",
        "  num2 = math.factorial(r)\n",
        "  num3 = math.factorial(n-r)\n",
        "\n",
        "  return num1/(num2*num3)\n"
      ],
      "metadata": {
        "id": "ih4xtB0CwrJX"
      },
      "execution_count": null,
      "outputs": []
    },
    {
      "cell_type": "code",
      "source": [
        "def calculate_expected_penalty(ticket_sold):\n",
        "\n",
        "    total_penalty = 0.0\n",
        "\n",
        "    for i in range(1, ticket_sold - 100+1):\n",
        "        ##pmf for k successes, n trials, p=success probab\n",
        "        prob = stats.binom.pmf(k=100+i,n=ticket_sold,p=showsup_probability)\n",
        "        penalty = prob*PENALTY*i\n",
        "        total_penalty += penalty\n",
        "\n",
        "    return total_penalty"
      ],
      "metadata": {
        "id": "3hVFUORFw5CF"
      },
      "execution_count": null,
      "outputs": []
    },
    {
      "cell_type": "code",
      "source": [
        "for i in range(100, 150):\n",
        "    sales = 5000*i\n",
        "    penalty  = calculate_expected_penalty(i)\n",
        "    netsales = (sales - penalty)\n",
        "    print(\"Total seats:\",i, \", Net Sales :\",round(netsales))"
      ],
      "metadata": {
        "colab": {
          "base_uri": "https://localhost:8080/"
        },
        "id": "btCV9QP81IFH",
        "outputId": "714d85a6-a120-4808-e3c2-b33172e2d6bd"
      },
      "execution_count": null,
      "outputs": [
        {
          "output_type": "stream",
          "name": "stdout",
          "text": [
            "Total seats: 100 , Net Sales : 500000\n",
            "Total seats: 101 , Net Sales : 505000\n",
            "Total seats: 102 , Net Sales : 509996\n",
            "Total seats: 103 , Net Sales : 514979\n",
            "Total seats: 104 , Net Sales : 519913\n",
            "Total seats: 105 , Net Sales : 524725\n",
            "Total seats: 106 , Net Sales : 529288\n",
            "Total seats: 107 , Net Sales : 533425\n",
            "Total seats: 108 , Net Sales : 536929\n",
            "Total seats: 109 , Net Sales : 539603\n",
            "Total seats: 110 , Net Sales : 541302\n",
            "Total seats: 111 , Net Sales : 541959\n",
            "Total seats: 112 , Net Sales : 541595\n",
            "Total seats: 113 , Net Sales : 540305\n",
            "Total seats: 114 , Net Sales : 538233\n",
            "Total seats: 115 , Net Sales : 535544\n",
            "Total seats: 116 , Net Sales : 532393\n",
            "Total seats: 117 , Net Sales : 528919\n",
            "Total seats: 118 , Net Sales : 525227\n",
            "Total seats: 119 , Net Sales : 521398\n",
            "Total seats: 120 , Net Sales : 517484\n",
            "Total seats: 121 , Net Sales : 513521\n",
            "Total seats: 122 , Net Sales : 509531\n",
            "Total seats: 123 , Net Sales : 505526\n",
            "Total seats: 124 , Net Sales : 501514\n",
            "Total seats: 125 , Net Sales : 497497\n",
            "Total seats: 126 , Net Sales : 493479\n",
            "Total seats: 127 , Net Sales : 489459\n",
            "Total seats: 128 , Net Sales : 485440\n",
            "Total seats: 129 , Net Sales : 481420\n",
            "Total seats: 130 , Net Sales : 477400\n",
            "Total seats: 131 , Net Sales : 473380\n",
            "Total seats: 132 , Net Sales : 469360\n",
            "Total seats: 133 , Net Sales : 465340\n",
            "Total seats: 134 , Net Sales : 461320\n",
            "Total seats: 135 , Net Sales : 457300\n",
            "Total seats: 136 , Net Sales : 453280\n",
            "Total seats: 137 , Net Sales : 449260\n",
            "Total seats: 138 , Net Sales : 445240\n",
            "Total seats: 139 , Net Sales : 441220\n",
            "Total seats: 140 , Net Sales : 437200\n",
            "Total seats: 141 , Net Sales : 433180\n",
            "Total seats: 142 , Net Sales : 429160\n",
            "Total seats: 143 , Net Sales : 425140\n",
            "Total seats: 144 , Net Sales : 421120\n",
            "Total seats: 145 , Net Sales : 417100\n",
            "Total seats: 146 , Net Sales : 413080\n",
            "Total seats: 147 , Net Sales : 409060\n",
            "Total seats: 148 , Net Sales : 405040\n",
            "Total seats: 149 , Net Sales : 401020\n"
          ]
        }
      ]
    }
  ]
}