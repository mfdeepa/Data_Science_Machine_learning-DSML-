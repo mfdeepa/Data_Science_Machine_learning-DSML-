{
  "nbformat": 4,
  "nbformat_minor": 0,
  "metadata": {
    "colab": {
      "provenance": []
    },
    "kernelspec": {
      "name": "python3",
      "display_name": "Python 3"
    },
    "language_info": {
      "name": "python"
    }
  },
  "cells": [
    {
      "cell_type": "code",
      "execution_count": null,
      "metadata": {
        "id": "FUOdt0PhlNcs"
      },
      "outputs": [],
      "source": [
        "#PMF and CDF of Binomial r.v\n",
        "import pandas as pd\n",
        "import numpy as np\n",
        "import matplotlib.pyplot as plt\n",
        "import seaborn as sns\n",
        "from scipy import stats\n"
      ]
    },
    {
      "cell_type": "code",
      "source": [
        "showsup_probability = 0.9"
      ],
      "metadata": {
        "id": "Xh-prjKToRQ6"
      },
      "execution_count": null,
      "outputs": []
    },
    {
      "cell_type": "code",
      "source": [
        "# create 1000 points from a X ~ Binomial(n=110,p=0.9)\n",
        "showsup_distribution =  stats.binom(n = 110, p= showsup_probability)\n",
        "\n",
        "showsup_data = showsup_distribution.rvs(10000)\n"
      ],
      "metadata": {
        "id": "2v9G4EHuoW-4"
      },
      "execution_count": null,
      "outputs": []
    },
    {
      "cell_type": "code",
      "source": [
        "type(showsup_distribution)"
      ],
      "metadata": {
        "colab": {
          "base_uri": "https://localhost:8080/"
        },
        "id": "rYwCHjmEp1Ux",
        "outputId": "71208719-c49f-4dbb-b9e6-e0657aa96135"
      },
      "execution_count": null,
      "outputs": [
        {
          "output_type": "execute_result",
          "data": {
            "text/plain": [
              "scipy.stats._distn_infrastructure.rv_frozen"
            ]
          },
          "metadata": {},
          "execution_count": 5
        }
      ]
    },
    {
      "cell_type": "code",
      "source": [
        "showsup_data[:100]"
      ],
      "metadata": {
        "colab": {
          "base_uri": "https://localhost:8080/"
        },
        "id": "CeIfduBepvFZ",
        "outputId": "73779aae-6fa7-44b3-fe43-25d966b6b801"
      },
      "execution_count": null,
      "outputs": [
        {
          "output_type": "execute_result",
          "data": {
            "text/plain": [
              "array([ 95, 100, 100, 101, 102,  96, 100, 103,  96, 103, 103,  97,  96,\n",
              "       102,  96, 102,  96, 102,  89, 102,  97,  97,  99,  95,  97, 101,\n",
              "       102,  95, 103,  98,  95,  98,  99,  98,  96, 100,  91, 101, 101,\n",
              "       103,  95,  95,  99,  99, 100, 100,  96,  92,  98,  98,  98,  98,\n",
              "        99,  99,  98,  98,  97,  99, 101,  99,  97,  99,  99,  95, 102,\n",
              "       101,  94, 100, 102,  93, 103,  98, 103, 100, 103,  98,  99, 101,\n",
              "       101,  97,  92, 102, 100,  98, 100,  99,  95,  99, 100, 104,  99,\n",
              "        99, 101,  98, 100, 105,  94, 102,  98, 100])"
            ]
          },
          "metadata": {},
          "execution_count": 4
        }
      ]
    },
    {
      "cell_type": "code",
      "source": [
        "#PMF of data\n",
        "sns.histplot(showsup_data, bins=18, kde=True)\n",
        "plt.xlabel(\"Number of passangers showed up\")\n",
        "plt.grid()\n",
        "plt.show()"
      ],
      "metadata": {
        "colab": {
          "base_uri": "https://localhost:8080/",
          "height": 279
        },
        "id": "gRLHViDJqxFr",
        "outputId": "4cd45f97-6ea2-46df-f955-97242524c736"
      },
      "execution_count": null,
      "outputs": [
        {
          "output_type": "display_data",
          "data": {
            "text/plain": [
              "<Figure size 432x288 with 1 Axes>"
            ],
            "image/png": "[encoded data removed]"
          },
          "metadata": {
            "needs_background": "light"
          }
        }
      ]
    },
    {
      "cell_type": "code",
      "source": [
        "#CDF:\n",
        "x = np.linspace(80, 115)\n",
        "\n",
        "cdf = showsup_distribution.cdf(x)\n",
        "\n",
        "plt.plot(x, cdf)\n",
        "plt.xlabel(\"X-values\")\n",
        "plt.ylabel(\"Probabilities\")\n",
        "plt.title(\"CDF of binomial distribution\")\n",
        "plt.grid()\n",
        "plt.show()"
      ],
      "metadata": {
        "colab": {
          "base_uri": "https://localhost:8080/",
          "height": 295
        },
        "id": "7fXER6x9rb_3",
        "outputId": "c5b4a7a3-572d-4332-baba-65ae402d3eab"
      },
      "execution_count": null,
      "outputs": [
        {
          "output_type": "display_data",
          "data": {
            "text/plain": [
              "<Figure size 432x288 with 1 Axes>"
            ],
            "image/png": "[encoded data removed]"
          },
          "metadata": {
            "needs_background": "light"
          }
        }
      ]
    },
    {
      "cell_type": "code",
      "source": [
        "## T-Shirt sizes problem"
      ],
      "metadata": {
        "id": "gx6xKg_otj2o"
      },
      "execution_count": null,
      "outputs": []
    },
    {
      "cell_type": "code",
      "source": [
        "id = \"13pAHLZl95sprFndmbklG6YZsSHRbA6YA\"\n",
        "print(\"https://drive.google.com/uc?export=download&id=\" + id)"
      ],
      "metadata": {
        "colab": {
          "base_uri": "https://localhost:8080/"
        },
        "id": "_3d84CbBtl7t",
        "outputId": "8752408f-baa0-42c7-b76f-9983987d358e"
      },
      "execution_count": null,
      "outputs": [
        {
          "output_type": "stream",
          "name": "stdout",
          "text": [
            "https://drive.google.com/uc?export=download&id=13pAHLZl95sprFndmbklG6YZsSHRbA6YA\n"
          ]
        }
      ]
    },
    {
      "cell_type": "code",
      "source": [
        "!wget \"https://drive.google.com/uc?export=download&id=13pAHLZl95sprFndmbklG6YZsSHRbA6YA\" -O employees.csv"
      ],
      "metadata": {
        "colab": {
          "base_uri": "https://localhost:8080/"
        },
        "id": "wzR4CTz5t1xU",
        "outputId": "82c66b09-ea3b-403a-e8aa-2b50f0b0d6e9"
      },
      "execution_count": null,
      "outputs": [
        {
          "output_type": "stream",
          "name": "stdout",
          "text": [
            "--2022-04-30 15:44:18--  https://drive.google.com/uc?export=download&id=13pAHLZl95sprFndmbklG6YZsSHRbA6YA\n",
            "Resolving drive.google.com (drive.google.com)... 108.177.13.102, 108.177.13.113, 108.177.13.101, ...\n",
            "Connecting to drive.google.com (drive.google.com)|108.177.13.102|:443... connected.\n",
            "HTTP request sent, awaiting response... 303 See Other\n",
            "Location: https://doc-0g-14-docs.googleusercontent.com/docs/securesc/ha0ro937gcuc7l7deffksulhg5h7mbp1/hjfus49g5ejob9at7pr2rg65771epvfc/1651333425000/06496627672658439642/*/13pAHLZl95sprFndmbklG6YZsSHRbA6YA?e=download [following]\n",
            "Warning: wildcards not supported in HTTP.\n",
            "--2022-04-30 15:44:19--  https://doc-0g-14-docs.googleusercontent.com/docs/securesc/ha0ro937gcuc7l7deffksulhg5h7mbp1/hjfus49g5ejob9at7pr2rg65771epvfc/1651333425000/06496627672658439642/*/13pAHLZl95sprFndmbklG6YZsSHRbA6YA?e=download\n",
            "Resolving doc-0g-14-docs.googleusercontent.com (doc-0g-14-docs.googleusercontent.com)... 173.194.216.132, 2607:f8b0:400c:c12::84\n",
            "Connecting to doc-0g-14-docs.googleusercontent.com (doc-0g-14-docs.googleusercontent.com)|173.194.216.132|:443... connected.\n",
            "HTTP request sent, awaiting response... 200 OK\n",
            "Length: 76911 (75K) [text/csv]\n",
            "Saving to: ‘employees.csv’\n",
            "\n",
            "employees.csv       100%[===================>]  75.11K  --.-KB/s    in 0.004s  \n",
            "\n",
            "2022-04-30 15:44:19 (17.9 MB/s) - ‘employees.csv’ saved [76911/76911]\n",
            "\n"
          ]
        }
      ]
    },
    {
      "cell_type": "code",
      "source": [
        "employees = pd.read_csv(\"employees.csv\")\n"
      ],
      "metadata": {
        "id": "S8nahy6Ft9ZZ"
      },
      "execution_count": null,
      "outputs": []
    },
    {
      "cell_type": "code",
      "source": [
        "employees.info()"
      ],
      "metadata": {
        "colab": {
          "base_uri": "https://localhost:8080/"
        },
        "id": "7TiZYMuKuBF_",
        "outputId": "3759c267-6e8e-4ece-86e1-cd58589187ec"
      },
      "execution_count": null,
      "outputs": [
        {
          "output_type": "stream",
          "name": "stdout",
          "text": [
            "<class 'pandas.core.frame.DataFrame'>\n",
            "RangeIndex: 1470 entries, 0 to 1469\n",
            "Data columns (total 9 columns):\n",
            " #   Column            Non-Null Count  Dtype \n",
            "---  ------            --------------  ----- \n",
            " 0   Age               1470 non-null   int64 \n",
            " 1   Department        1470 non-null   object\n",
            " 2   DistanceFromHome  1470 non-null   int64 \n",
            " 3   Education         1470 non-null   int64 \n",
            " 4   EmployeeNumber    1470 non-null   int64 \n",
            " 5   Gender            1470 non-null   object\n",
            " 6   Height            1470 non-null   int64 \n",
            " 7   MaritalStatus     1470 non-null   object\n",
            " 8   MonthlyIncome     1470 non-null   int64 \n",
            "dtypes: int64(6), object(3)\n",
            "memory usage: 103.5+ KB\n"
          ]
        }
      ]
    },
    {
      "cell_type": "code",
      "source": [
        "employees.head()"
      ],
      "metadata": {
        "colab": {
          "base_uri": "https://localhost:8080/",
          "height": 319
        },
        "id": "tUJBReyauLA5",
        "outputId": "9684dcf8-9f4b-4f74-8381-be8483648951"
      },
      "execution_count": null,
      "outputs": [
        {
          "output_type": "execute_result",
          "data": {
            "text/plain": [
              "   Age              Department  DistanceFromHome  Education  EmployeeNumber  \\\n",
              "0   41                   Sales                 1          2               1   \n",
              "1   49  Research & Development                 8          1               2   \n",
              "2   37  Research & Development                 2          2               4   \n",
              "3   33  Research & Development                 3          4               5   \n",
              "4   27  Research & Development                 2          1               7   \n",
              "\n",
              "   Gender  Height MaritalStatus  MonthlyIncome  \n",
              "0  Female     154        Single           5993  \n",
              "1    Male     168       Married           5130  \n",
              "2    Male     163        Single           2090  \n",
              "3  Female     161       Married           2909  \n",
              "4    Male     157       Married           3468  "
            ],
            "text/html": [
              "\n",
              "  <div id=\"df-8a6fc5db-c5b0-49e9-9a21-7fe83934ce52\">\n",
              "    <div class=\"colab-df-container\">\n",
              "      <div>\n",
              "<style scoped>\n",
              "    .dataframe tbody tr th:only-of-type {\n",
              "        vertical-align: middle;\n",
              "    }\n",
              "\n",
              "    .dataframe tbody tr th {\n",
              "        vertical-align: top;\n",
              "    }\n",
              "\n",
              "    .dataframe thead th {\n",
              "        text-align: right;\n",
              "    }\n",
              "</style>\n",
              "<table border=\"1\" class=\"dataframe\">\n",
              "  <thead>\n",
              "    <tr style=\"text-align: right;\">\n",
              "      <th></th>\n",
              "      <th>Age</th>\n",
              "      <th>Department</th>\n",
              "      <th>DistanceFromHome</th>\n",
              "      <th>Education</th>\n",
              "      <th>EmployeeNumber</th>\n",
              "      <th>Gender</th>\n",
              "      <th>Height</th>\n",
              "      <th>MaritalStatus</th>\n",
              "      <th>MonthlyIncome</th>\n",
              "    </tr>\n",
              "  </thead>\n",
              "  <tbody>\n",
              "    <tr>\n",
              "      <th>0</th>\n",
              "      <td>41</td>\n",
              "      <td>Sales</td>\n",
              "      <td>1</td>\n",
              "      <td>2</td>\n",
              "      <td>1</td>\n",
              "      <td>Female</td>\n",
              "      <td>154</td>\n",
              "      <td>Single</td>\n",
              "      <td>5993</td>\n",
              "    </tr>\n",
              "    <tr>\n",
              "      <th>1</th>\n",
              "      <td>49</td>\n",
              "      <td>Research &amp; Development</td>\n",
              "      <td>8</td>\n",
              "      <td>1</td>\n",
              "      <td>2</td>\n",
              "      <td>Male</td>\n",
              "      <td>168</td>\n",
              "      <td>Married</td>\n",
              "      <td>5130</td>\n",
              "    </tr>\n",
              "    <tr>\n",
              "      <th>2</th>\n",
              "      <td>37</td>\n",
              "      <td>Research &amp; Development</td>\n",
              "      <td>2</td>\n",
              "      <td>2</td>\n",
              "      <td>4</td>\n",
              "      <td>Male</td>\n",
              "      <td>163</td>\n",
              "      <td>Single</td>\n",
              "      <td>2090</td>\n",
              "    </tr>\n",
              "    <tr>\n",
              "      <th>3</th>\n",
              "      <td>33</td>\n",
              "      <td>Research &amp; Development</td>\n",
              "      <td>3</td>\n",
              "      <td>4</td>\n",
              "      <td>5</td>\n",
              "      <td>Female</td>\n",
              "      <td>161</td>\n",
              "      <td>Married</td>\n",
              "      <td>2909</td>\n",
              "    </tr>\n",
              "    <tr>\n",
              "      <th>4</th>\n",
              "      <td>27</td>\n",
              "      <td>Research &amp; Development</td>\n",
              "      <td>2</td>\n",
              "      <td>1</td>\n",
              "      <td>7</td>\n",
              "      <td>Male</td>\n",
              "      <td>157</td>\n",
              "      <td>Married</td>\n",
              "      <td>3468</td>\n",
              "    </tr>\n",
              "  </tbody>\n",
              "</table>\n",
              "</div>\n",
              "      <button class=\"colab-df-convert\" onclick=\"convertToInteractive('df-8a6fc5db-c5b0-49e9-9a21-7fe83934ce52')\"\n",
              "              title=\"Convert this dataframe to an interactive table.\"\n",
              "              style=\"display:none;\">\n",
              "        \n",
              "  <svg xmlns=\"http://www.w3.org/2000/svg\" height=\"24px\"viewBox=\"0 0 24 24\"\n",
              "       width=\"24px\">\n",
              "    <path d=\"M0 0h24v24H0V0z\" fill=\"none\"/>\n",
              "    <path d=\"M18.56 5.44l.94 2.06.94-2.06 2.06-.94-2.06-.94-.94-2.06-.94 2.06-2.06.94zm-11 1L8.5 8.5l.94-2.06 2.06-.94-2.06-.94L8.5 2.5l-.94 2.06-2.06.94zm10 10l.94 2.06.94-2.06 2.06-.94-2.06-.94-.94-2.06-.94 2.06-2.06.94z\"/><path d=\"M17.41 7.96l-1.37-1.37c-.4-.4-.92-.59-1.43-.59-.52 0-1.04.2-1.43.59L10.3 9.45l-7.72 7.72c-.78.78-.78 2.05 0 2.83L4 21.41c.39.39.9.59 1.41.59.51 0 1.02-.2 1.41-.59l7.78-7.78 2.81-2.81c.8-.78.8-2.07 0-2.86zM5.41 20L4 18.59l7.72-7.72 1.47 1.35L5.41 20z\"/>\n",
              "  </svg>\n",
              "      </button>\n",
              "      \n",
              "  <style>\n",
              "    .colab-df-container {\n",
              "      display:flex;\n",
              "      flex-wrap:wrap;\n",
              "      gap: 12px;\n",
              "    }\n",
              "\n",
              "    .colab-df-convert {\n",
              "      background-color: #E8F0FE;\n",
              "      border: none;\n",
              "      border-radius: 50%;\n",
              "      cursor: pointer;\n",
              "      display: none;\n",
              "      fill: #1967D2;\n",
              "      height: 32px;\n",
              "      padding: 0 0 0 0;\n",
              "      width: 32px;\n",
              "    }\n",
              "\n",
              "    .colab-df-convert:hover {\n",
              "      background-color: #E2EBFA;\n",
              "      box-shadow: 0px 1px 2px rgba(60, 64, 67, 0.3), 0px 1px 3px 1px rgba(60, 64, 67, 0.15);\n",
              "      fill: #174EA6;\n",
              "    }\n",
              "\n",
              "    [theme=dark] .colab-df-convert {\n",
              "      background-color: #3B4455;\n",
              "      fill: #D2E3FC;\n",
              "    }\n",
              "\n",
              "    [theme=dark] .colab-df-convert:hover {\n",
              "      background-color: #434B5C;\n",
              "      box-shadow: 0px 1px 3px 1px rgba(0, 0, 0, 0.15);\n",
              "      filter: drop-shadow(0px 1px 2px rgba(0, 0, 0, 0.3));\n",
              "      fill: #FFFFFF;\n",
              "    }\n",
              "  </style>\n",
              "\n",
              "      <script>\n",
              "        const buttonEl =\n",
              "          document.querySelector('#df-8a6fc5db-c5b0-49e9-9a21-7fe83934ce52 button.colab-df-convert');\n",
              "        buttonEl.style.display =\n",
              "          google.colab.kernel.accessAllowed ? 'block' : 'none';\n",
              "\n",
              "        async function convertToInteractive(key) {\n",
              "          const element = document.querySelector('#df-8a6fc5db-c5b0-49e9-9a21-7fe83934ce52');\n",
              "          const dataTable =\n",
              "            await google.colab.kernel.invokeFunction('convertToInteractive',\n",
              "                                                     [key], {});\n",
              "          if (!dataTable) return;\n",
              "\n",
              "          const docLinkHtml = 'Like what you see? Visit the ' +\n",
              "            '<a target=\"_blank\" href=https://colab.research.google.com/notebooks/data_table.ipynb>data table notebook</a>'\n",
              "            + ' to learn more about interactive tables.';\n",
              "          element.innerHTML = '';\n",
              "          dataTable['output_type'] = 'display_data';\n",
              "          await google.colab.output.renderOutput(dataTable, element);\n",
              "          const docLink = document.createElement('div');\n",
              "          docLink.innerHTML = docLinkHtml;\n",
              "          element.appendChild(docLink);\n",
              "        }\n",
              "      </script>\n",
              "    </div>\n",
              "  </div>\n",
              "  "
            ]
          },
          "metadata": {},
          "execution_count": 7
        }
      ]
    },
    {
      "cell_type": "code",
      "source": [
        "employees['Height'].plot(kind='hist', bins=100) # change with the bins value to show\n",
        "plt.grid()\n",
        "plt.show()"
      ],
      "metadata": {
        "colab": {
          "base_uri": "https://localhost:8080/",
          "height": 265
        },
        "id": "4zxVE84muXGC",
        "outputId": "fbddb21d-93d6-435c-cad4-d559d3dbb494"
      },
      "execution_count": null,
      "outputs": [
        {
          "output_type": "display_data",
          "data": {
            "text/plain": [
              "<Figure size 432x288 with 1 Axes>"
            ],
            "image/png": "[encoded data removed]"
          },
          "metadata": {
            "needs_background": "light"
          }
        }
      ]
    },
    {
      "cell_type": "code",
      "source": [
        "sns.histplot(employees['Height'], bins=50, kde=True)\n"
      ],
      "metadata": {
        "colab": {
          "base_uri": "https://localhost:8080/",
          "height": 296
        },
        "id": "dGY9PWxdK-UI",
        "outputId": "ff8fc1d6-2711-4999-9556-c91eaa86e9b2"
      },
      "execution_count": null,
      "outputs": [
        {
          "output_type": "execute_result",
          "data": {
            "text/plain": [
              "<matplotlib.axes._subplots.AxesSubplot at 0x7fb8d560a2d0>"
            ]
          },
          "metadata": {},
          "execution_count": 10
        },
        {
          "output_type": "display_data",
          "data": {
            "text/plain": [
              "<Figure size 432x288 with 1 Axes>"
            ],
            "image/png": "[encoded data removed]"
          },
          "metadata": {
            "needs_background": "light"
          }
        }
      ]
    },
    {
      "cell_type": "code",
      "source": [
        "# lets get mean and std-dev from the data since we dont know population mean and std-dev\n",
        "\n",
        "# ASSUMPTION: sample mean and std-dev are good approximations of popoulation means and std-dev\n",
        "\n",
        "employees['Height'].mean()"
      ],
      "metadata": {
        "colab": {
          "base_uri": "https://localhost:8080/"
        },
        "id": "L0_YOz8a3dh1",
        "outputId": "0b822070-5a60-4a86-e438-75304c10b777"
      },
      "execution_count": null,
      "outputs": [
        {
          "output_type": "execute_result",
          "data": {
            "text/plain": [
              "164.6734693877551"
            ]
          },
          "metadata": {},
          "execution_count": 13
        }
      ]
    },
    {
      "cell_type": "code",
      "source": [
        "employees['Height'].std()"
      ],
      "metadata": {
        "colab": {
          "base_uri": "https://localhost:8080/"
        },
        "id": "y543sv3I3lnU",
        "outputId": "60c6c3f6-3764-4b85-ec18-c2cf5711b520"
      },
      "execution_count": null,
      "outputs": [
        {
          "output_type": "execute_result",
          "data": {
            "text/plain": [
              "6.887961959078209"
            ]
          },
          "metadata": {},
          "execution_count": 12
        }
      ]
    },
    {
      "cell_type": "code",
      "source": [
        "height_dist = stats.norm(loc=employees[\"Height\"].mean(), scale = employees[\"Height\"].std())"
      ],
      "metadata": {
        "id": "QgRiPqDs36ck"
      },
      "execution_count": null,
      "outputs": []
    },
    {
      "cell_type": "code",
      "source": [
        "sns.histplot(height_dist.rvs(10000), kde=True , stat='density')"
      ],
      "metadata": {
        "colab": {
          "base_uri": "https://localhost:8080/",
          "height": 282
        },
        "id": "rr70js8l4M0m",
        "outputId": "05b902b8-d65b-4f0f-8acb-5b43aea10b33"
      },
      "execution_count": null,
      "outputs": [
        {
          "output_type": "execute_result",
          "data": {
            "text/plain": [
              "<matplotlib.axes._subplots.AxesSubplot at 0x7f6c28c31710>"
            ]
          },
          "metadata": {},
          "execution_count": 31
        },
        {
          "output_type": "display_data",
          "data": {
            "text/plain": [
              "<Figure size 432x288 with 1 Axes>"
            ],
            "image/png": "[encoded data removed]"
          },
          "metadata": {
            "needs_background": "light"
          }
        }
      ]
    },
    {
      "cell_type": "code",
      "source": [
        "x = np.arange(120,200)\n",
        "\n",
        "# Plotting pdf using SCIPY\n",
        "pdf = height_dist.pdf(x) #scipy plotting\n",
        "plt.plot(x, pdf)\n",
        "plt.xlabel(\"Heights\")\n",
        "plt.ylabel(\"Probabilities\")\n",
        "plt.title(\"PDF of Normal distribution\")\n",
        "plt.grid()\n",
        "plt.show()"
      ],
      "metadata": {
        "colab": {
          "base_uri": "https://localhost:8080/",
          "height": 295
        },
        "id": "Vnu7scg96LtO",
        "outputId": "359e1488-367d-44fb-d587-d6180eca391c"
      },
      "execution_count": null,
      "outputs": [
        {
          "output_type": "display_data",
          "data": {
            "text/plain": [
              "<Figure size 432x288 with 1 Axes>"
            ],
            "image/png": "[encoded data removed]"
          },
          "metadata": {
            "needs_background": "light"
          }
        }
      ]
    },
    {
      "cell_type": "code",
      "source": [
        "height_dist.cdf(x = 150)   # P(X<=150)"
      ],
      "metadata": {
        "colab": {
          "base_uri": "https://localhost:8080/"
        },
        "id": "93s4k1Mq6LkE",
        "outputId": "05ec540e-e186-4521-b308-20b39b9e7514"
      },
      "execution_count": null,
      "outputs": [
        {
          "output_type": "execute_result",
          "data": {
            "text/plain": [
              "0.016573163101179463"
            ]
          },
          "metadata": {},
          "execution_count": 33
        }
      ]
    },
    {
      "cell_type": "code",
      "source": [
        "height_dist.cdf(x = 185)    # P(X<=180)"
      ],
      "metadata": {
        "colab": {
          "base_uri": "https://localhost:8080/"
        },
        "id": "C92mnrt07Hzw",
        "outputId": "0f27e743-8976-4bf9-ce26-1d3f05dc9bf6"
      },
      "execution_count": null,
      "outputs": [
        {
          "output_type": "execute_result",
          "data": {
            "text/plain": [
              "0.9984163806989597"
            ]
          },
          "metadata": {},
          "execution_count": 15
        }
      ]
    },
    {
      "cell_type": "code",
      "source": [
        "below_150 = height_dist.cdf(x= 150)\n",
        "below_160 = height_dist.cdf(x= 160)"
      ],
      "metadata": {
        "id": "sfJofbt-7ifw"
      },
      "execution_count": null,
      "outputs": []
    },
    {
      "cell_type": "code",
      "source": [
        "import math\n",
        "math.ceil((below_160 - below_150)*10000)"
      ],
      "metadata": {
        "colab": {
          "base_uri": "https://localhost:8080/"
        },
        "id": "mUs_AyYn7iVz",
        "outputId": "6aad833c-97b7-4e9c-c607-12e5de1aff6e"
      },
      "execution_count": null,
      "outputs": [
        {
          "output_type": "execute_result",
          "data": {
            "text/plain": [
              "2322"
            ]
          },
          "metadata": {},
          "execution_count": 41
        }
      ]
    }
  ]
}