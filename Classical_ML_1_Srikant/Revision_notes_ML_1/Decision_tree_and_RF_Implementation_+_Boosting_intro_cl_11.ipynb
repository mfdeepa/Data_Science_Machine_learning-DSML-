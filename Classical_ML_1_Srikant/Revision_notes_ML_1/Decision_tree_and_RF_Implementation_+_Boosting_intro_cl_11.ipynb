{
  "nbformat": 4,
  "nbformat_minor": 0,
  "metadata": {
    "colab": {
      "provenance": []
    },
    "kernelspec": {
      "name": "python3",
      "display_name": "Python 3"
    },
    "language_info": {
      "name": "python"
    }
  },
  "cells": [
    {
      "cell_type": "markdown",
      "source": [
        "**Lecture link** :  https://www.scaler.com/meetings/i/dsml-advanced-bagging-and-boosting-usecase-2/archive"
      ],
      "metadata": {
        "id": "WaKNrjTUrj0r"
      }
    },
    {
      "cell_type": "markdown",
      "source": [
        "## Content"
      ],
      "metadata": {
        "id": "sq_2sj4nrsfm"
      }
    },
    {
      "cell_type": "markdown",
      "source": [
        "1. Business problem -BaseCode (04:20 - 52:03)\n",
        "2. Decision tree implementation (52:10 - 1:18:25)\n",
        "3. Random forest implementation (1:18:25 - 1:29:00)\n",
        "4. Boosting (1:47:30 - 2:22:40)"
      ],
      "metadata": {
        "id": "9DOQr0Qbrw30"
      }
    },
    {
      "cell_type": "markdown",
      "source": [
        "## Business problem  - code"
      ],
      "metadata": {
        "id": "tmo2S2NFs7MV"
      }
    },
    {
      "cell_type": "markdown",
      "source": [
        "Here, our motive of this case is to understand if an employee would attrit from the data given,which is very important for HR's.\n",
        "\n",
        "Let's get started\n",
        "\n"
      ],
      "metadata": {
        "id": "oAq63thOtAOm"
      }
    },
    {
      "cell_type": "code",
      "source": [
        "# HR/People Analytics\n",
        "import numpy as np\n",
        "import pandas as pd\n",
        "import io"
      ],
      "metadata": {
        "id": "0uUG_9DivCrG"
      },
      "execution_count": null,
      "outputs": []
    },
    {
      "cell_type": "markdown",
      "source": [
        "We just imported the librbaries required for the code"
      ],
      "metadata": {
        "id": "7pDmQgf0vKn8"
      }
    },
    {
      "cell_type": "markdown",
      "source": [
        "Now let's download the data set."
      ],
      "metadata": {
        "id": "kbqJkVCGBnx8"
      }
    },
    {
      "cell_type": "code",
      "source": [
        "!wget \"https://drive.google.com/uc?export=download&id=16KtxSt_QEGQvfluEaMls5cCHPwhRXgCk\" -O HR-Employee-Attrition.csv"
      ],
      "metadata": {
        "colab": {
          "base_uri": "https://localhost:8080/"
        },
        "id": "9URJXJGovQF0",
        "outputId": "5f45ebae-7b8c-44dd-fdf5-df7f6c00940b"
      },
      "execution_count": null,
      "outputs": [
        {
          "output_type": "stream",
          "name": "stdout",
          "text": [
            "--2022-06-27 04:25:17--  https://drive.google.com/uc?export=download&id=16KtxSt_QEGQvfluEaMls5cCHPwhRXgCk\n",
            "Resolving drive.google.com (drive.google.com)... 74.125.31.101, 74.125.31.139, 74.125.31.102, ...\n",
            "Connecting to drive.google.com (drive.google.com)|74.125.31.101|:443... connected.\n",
            "HTTP request sent, awaiting response... 303 See Other\n",
            "Location: https://doc-08-64-docs.googleusercontent.com/docs/securesc/ha0ro937gcuc7l7deffksulhg5h7mbp1/3u1lvannr4gf1kqt013hfffac1k6nnjj/1656303900000/05948409478210288909/*/16KtxSt_QEGQvfluEaMls5cCHPwhRXgCk?e=download [following]\n",
            "Warning: wildcards not supported in HTTP.\n",
            "--2022-06-27 04:25:17--  https://doc-08-64-docs.googleusercontent.com/docs/securesc/ha0ro937gcuc7l7deffksulhg5h7mbp1/3u1lvannr4gf1kqt013hfffac1k6nnjj/1656303900000/05948409478210288909/*/16KtxSt_QEGQvfluEaMls5cCHPwhRXgCk?e=download\n",
            "Resolving doc-08-64-docs.googleusercontent.com (doc-08-64-docs.googleusercontent.com)... 173.194.210.132, 2607:f8b0:400c:c0f::84\n",
            "Connecting to doc-08-64-docs.googleusercontent.com (doc-08-64-docs.googleusercontent.com)|173.194.210.132|:443... connected.\n",
            "HTTP request sent, awaiting response... 200 OK\n",
            "Length: 227977 (223K) [text/csv]\n",
            "Saving to: ‘HR-Employee-Attrition.csv’\n",
            "\n",
            "HR-Employee-Attriti 100%[===================>] 222.63K  --.-KB/s    in 0.002s  \n",
            "\n",
            "2022-06-27 04:25:18 (108 MB/s) - ‘HR-Employee-Attrition.csv’ saved [227977/227977]\n",
            "\n"
          ]
        }
      ]
    },
    {
      "cell_type": "markdown",
      "source": [
        "we will just have a quick look at the data set to see the features involved."
      ],
      "metadata": {
        "id": "6EgZVkszBsJ5"
      }
    },
    {
      "cell_type": "code",
      "source": [
        "df = pd.read_csv('HR-Employee-Attrition.csv')\n",
        "df.head()"
      ],
      "metadata": {
        "colab": {
          "base_uri": "https://localhost:8080/",
          "height": 369
        },
        "id": "wYTM_fxPve2d",
        "outputId": "f9212354-a296-4e80-9010-6e657591ae09"
      },
      "execution_count": null,
      "outputs": [
        {
          "output_type": "execute_result",
          "data": {
            "text/plain": [
              "   Age Attrition     BusinessTravel  DailyRate              Department  \\\n",
              "0   41       Yes      Travel_Rarely       1102                   Sales   \n",
              "1   49        No  Travel_Frequently        279  Research & Development   \n",
              "2   37       Yes      Travel_Rarely       1373  Research & Development   \n",
              "3   33        No  Travel_Frequently       1392  Research & Development   \n",
              "4   27        No      Travel_Rarely        591  Research & Development   \n",
              "\n",
              "   DistanceFromHome  Education EducationField  EmployeeCount  EmployeeNumber  \\\n",
              "0                 1          2  Life Sciences              1               1   \n",
              "1                 8          1  Life Sciences              1               2   \n",
              "2                 2          2          Other              1               4   \n",
              "3                 3          4  Life Sciences              1               5   \n",
              "4                 2          1        Medical              1               7   \n",
              "\n",
              "   ...  RelationshipSatisfaction StandardHours  StockOptionLevel  \\\n",
              "0  ...                         1            80                 0   \n",
              "1  ...                         4            80                 1   \n",
              "2  ...                         2            80                 0   \n",
              "3  ...                         3            80                 0   \n",
              "4  ...                         4            80                 1   \n",
              "\n",
              "   TotalWorkingYears  TrainingTimesLastYear WorkLifeBalance  YearsAtCompany  \\\n",
              "0                  8                      0               1               6   \n",
              "1                 10                      3               3              10   \n",
              "2                  7                      3               3               0   \n",
              "3                  8                      3               3               8   \n",
              "4                  6                      3               3               2   \n",
              "\n",
              "  YearsInCurrentRole  YearsSinceLastPromotion  YearsWithCurrManager  \n",
              "0                  4                        0                     5  \n",
              "1                  7                        1                     7  \n",
              "2                  0                        0                     0  \n",
              "3                  7                        3                     0  \n",
              "4                  2                        2                     2  \n",
              "\n",
              "[5 rows x 35 columns]"
            ],
            "text/html": [
              "\n",
              "  <div id=\"df-479d7369-5b73-4c0e-ad94-ae3f903bf066\">\n",
              "    <div class=\"colab-df-container\">\n",
              "      <div>\n",
              "<style scoped>\n",
              "    .dataframe tbody tr th:only-of-type {\n",
              "        vertical-align: middle;\n",
              "    }\n",
              "\n",
              "    .dataframe tbody tr th {\n",
              "        vertical-align: top;\n",
              "    }\n",
              "\n",
              "    .dataframe thead th {\n",
              "        text-align: right;\n",
              "    }\n",
              "</style>\n",
              "<table border=\"1\" class=\"dataframe\">\n",
              "  <thead>\n",
              "    <tr style=\"text-align: right;\">\n",
              "      <th></th>\n",
              "      <th>Age</th>\n",
              "      <th>Attrition</th>\n",
              "      <th>BusinessTravel</th>\n",
              "      <th>DailyRate</th>\n",
              "      <th>Department</th>\n",
              "      <th>DistanceFromHome</th>\n",
              "      <th>Education</th>\n",
              "      <th>EducationField</th>\n",
              "      <th>EmployeeCount</th>\n",
              "      <th>EmployeeNumber</th>\n",
              "      <th>...</th>\n",
              "      <th>RelationshipSatisfaction</th>\n",
              "      <th>StandardHours</th>\n",
              "      <th>StockOptionLevel</th>\n",
              "      <th>TotalWorkingYears</th>\n",
              "      <th>TrainingTimesLastYear</th>\n",
              "      <th>WorkLifeBalance</th>\n",
              "      <th>YearsAtCompany</th>\n",
              "      <th>YearsInCurrentRole</th>\n",
              "      <th>YearsSinceLastPromotion</th>\n",
              "      <th>YearsWithCurrManager</th>\n",
              "    </tr>\n",
              "  </thead>\n",
              "  <tbody>\n",
              "    <tr>\n",
              "      <th>0</th>\n",
              "      <td>41</td>\n",
              "      <td>Yes</td>\n",
              "      <td>Travel_Rarely</td>\n",
              "      <td>1102</td>\n",
              "      <td>Sales</td>\n",
              "      <td>1</td>\n",
              "      <td>2</td>\n",
              "      <td>Life Sciences</td>\n",
              "      <td>1</td>\n",
              "      <td>1</td>\n",
              "      <td>...</td>\n",
              "      <td>1</td>\n",
              "      <td>80</td>\n",
              "      <td>0</td>\n",
              "      <td>8</td>\n",
              "      <td>0</td>\n",
              "      <td>1</td>\n",
              "      <td>6</td>\n",
              "      <td>4</td>\n",
              "      <td>0</td>\n",
              "      <td>5</td>\n",
              "    </tr>\n",
              "    <tr>\n",
              "      <th>1</th>\n",
              "      <td>49</td>\n",
              "      <td>No</td>\n",
              "      <td>Travel_Frequently</td>\n",
              "      <td>279</td>\n",
              "      <td>Research &amp; Development</td>\n",
              "      <td>8</td>\n",
              "      <td>1</td>\n",
              "      <td>Life Sciences</td>\n",
              "      <td>1</td>\n",
              "      <td>2</td>\n",
              "      <td>...</td>\n",
              "      <td>4</td>\n",
              "      <td>80</td>\n",
              "      <td>1</td>\n",
              "      <td>10</td>\n",
              "      <td>3</td>\n",
              "      <td>3</td>\n",
              "      <td>10</td>\n",
              "      <td>7</td>\n",
              "      <td>1</td>\n",
              "      <td>7</td>\n",
              "    </tr>\n",
              "    <tr>\n",
              "      <th>2</th>\n",
              "      <td>37</td>\n",
              "      <td>Yes</td>\n",
              "      <td>Travel_Rarely</td>\n",
              "      <td>1373</td>\n",
              "      <td>Research &amp; Development</td>\n",
              "      <td>2</td>\n",
              "      <td>2</td>\n",
              "      <td>Other</td>\n",
              "      <td>1</td>\n",
              "      <td>4</td>\n",
              "      <td>...</td>\n",
              "      <td>2</td>\n",
              "      <td>80</td>\n",
              "      <td>0</td>\n",
              "      <td>7</td>\n",
              "      <td>3</td>\n",
              "      <td>3</td>\n",
              "      <td>0</td>\n",
              "      <td>0</td>\n",
              "      <td>0</td>\n",
              "      <td>0</td>\n",
              "    </tr>\n",
              "    <tr>\n",
              "      <th>3</th>\n",
              "      <td>33</td>\n",
              "      <td>No</td>\n",
              "      <td>Travel_Frequently</td>\n",
              "      <td>1392</td>\n",
              "      <td>Research &amp; Development</td>\n",
              "      <td>3</td>\n",
              "      <td>4</td>\n",
              "      <td>Life Sciences</td>\n",
              "      <td>1</td>\n",
              "      <td>5</td>\n",
              "      <td>...</td>\n",
              "      <td>3</td>\n",
              "      <td>80</td>\n",
              "      <td>0</td>\n",
              "      <td>8</td>\n",
              "      <td>3</td>\n",
              "      <td>3</td>\n",
              "      <td>8</td>\n",
              "      <td>7</td>\n",
              "      <td>3</td>\n",
              "      <td>0</td>\n",
              "    </tr>\n",
              "    <tr>\n",
              "      <th>4</th>\n",
              "      <td>27</td>\n",
              "      <td>No</td>\n",
              "      <td>Travel_Rarely</td>\n",
              "      <td>591</td>\n",
              "      <td>Research &amp; Development</td>\n",
              "      <td>2</td>\n",
              "      <td>1</td>\n",
              "      <td>Medical</td>\n",
              "      <td>1</td>\n",
              "      <td>7</td>\n",
              "      <td>...</td>\n",
              "      <td>4</td>\n",
              "      <td>80</td>\n",
              "      <td>1</td>\n",
              "      <td>6</td>\n",
              "      <td>3</td>\n",
              "      <td>3</td>\n",
              "      <td>2</td>\n",
              "      <td>2</td>\n",
              "      <td>2</td>\n",
              "      <td>2</td>\n",
              "    </tr>\n",
              "  </tbody>\n",
              "</table>\n",
              "<p>5 rows × 35 columns</p>\n",
              "</div>\n",
              "      <button class=\"colab-df-convert\" onclick=\"convertToInteractive('df-479d7369-5b73-4c0e-ad94-ae3f903bf066')\"\n",
              "              title=\"Convert this dataframe to an interactive table.\"\n",
              "              style=\"display:none;\">\n",
              "        \n",
              "  <svg xmlns=\"http://www.w3.org/2000/svg\" height=\"24px\"viewBox=\"0 0 24 24\"\n",
              "       width=\"24px\">\n",
              "    <path d=\"M0 0h24v24H0V0z\" fill=\"none\"/>\n",
              "    <path d=\"M18.56 5.44l.94 2.06.94-2.06 2.06-.94-2.06-.94-.94-2.06-.94 2.06-2.06.94zm-11 1L8.5 8.5l.94-2.06 2.06-.94-2.06-.94L8.5 2.5l-.94 2.06-2.06.94zm10 10l.94 2.06.94-2.06 2.06-.94-2.06-.94-.94-2.06-.94 2.06-2.06.94z\"/><path d=\"M17.41 7.96l-1.37-1.37c-.4-.4-.92-.59-1.43-.59-.52 0-1.04.2-1.43.59L10.3 9.45l-7.72 7.72c-.78.78-.78 2.05 0 2.83L4 21.41c.39.39.9.59 1.41.59.51 0 1.02-.2 1.41-.59l7.78-7.78 2.81-2.81c.8-.78.8-2.07 0-2.86zM5.41 20L4 18.59l7.72-7.72 1.47 1.35L5.41 20z\"/>\n",
              "  </svg>\n",
              "      </button>\n",
              "      \n",
              "  <style>\n",
              "    .colab-df-container {\n",
              "      display:flex;\n",
              "      flex-wrap:wrap;\n",
              "      gap: 12px;\n",
              "    }\n",
              "\n",
              "    .colab-df-convert {\n",
              "      background-color: #E8F0FE;\n",
              "      border: none;\n",
              "      border-radius: 50%;\n",
              "      cursor: pointer;\n",
              "      display: none;\n",
              "      fill: #1967D2;\n",
              "      height: 32px;\n",
              "      padding: 0 0 0 0;\n",
              "      width: 32px;\n",
              "    }\n",
              "\n",
              "    .colab-df-convert:hover {\n",
              "      background-color: #E2EBFA;\n",
              "      box-shadow: 0px 1px 2px rgba(60, 64, 67, 0.3), 0px 1px 3px 1px rgba(60, 64, 67, 0.15);\n",
              "      fill: #174EA6;\n",
              "    }\n",
              "\n",
              "    [theme=dark] .colab-df-convert {\n",
              "      background-color: #3B4455;\n",
              "      fill: #D2E3FC;\n",
              "    }\n",
              "\n",
              "    [theme=dark] .colab-df-convert:hover {\n",
              "      background-color: #434B5C;\n",
              "      box-shadow: 0px 1px 3px 1px rgba(0, 0, 0, 0.15);\n",
              "      filter: drop-shadow(0px 1px 2px rgba(0, 0, 0, 0.3));\n",
              "      fill: #FFFFFF;\n",
              "    }\n",
              "  </style>\n",
              "\n",
              "      <script>\n",
              "        const buttonEl =\n",
              "          document.querySelector('#df-479d7369-5b73-4c0e-ad94-ae3f903bf066 button.colab-df-convert');\n",
              "        buttonEl.style.display =\n",
              "          google.colab.kernel.accessAllowed ? 'block' : 'none';\n",
              "\n",
              "        async function convertToInteractive(key) {\n",
              "          const element = document.querySelector('#df-479d7369-5b73-4c0e-ad94-ae3f903bf066');\n",
              "          const dataTable =\n",
              "            await google.colab.kernel.invokeFunction('convertToInteractive',\n",
              "                                                     [key], {});\n",
              "          if (!dataTable) return;\n",
              "\n",
              "          const docLinkHtml = 'Like what you see? Visit the ' +\n",
              "            '<a target=\"_blank\" href=https://colab.research.google.com/notebooks/data_table.ipynb>data table notebook</a>'\n",
              "            + ' to learn more about interactive tables.';\n",
              "          element.innerHTML = '';\n",
              "          dataTable['output_type'] = 'display_data';\n",
              "          await google.colab.output.renderOutput(dataTable, element);\n",
              "          const docLink = document.createElement('div');\n",
              "          docLink.innerHTML = docLinkHtml;\n",
              "          element.appendChild(docLink);\n",
              "        }\n",
              "      </script>\n",
              "    </div>\n",
              "  </div>\n",
              "  "
            ]
          },
          "metadata": {},
          "execution_count": 4
        }
      ]
    },
    {
      "cell_type": "markdown",
      "source": [
        "we can see many features in the data set and we can see that education is encded as numericals basing on the standards of education.\n",
        "* But id doesn't matter as we use these as threshold in the Decision tree\n",
        "* This encoding may have imoact in Logistic and linear Regression as distance is calculated there it matters there."
      ],
      "metadata": {
        "id": "8KyMziiaB563"
      }
    },
    {
      "cell_type": "markdown",
      "source": [
        "\n",
        "\n",
        "<img src='https://drive.google.com/uc?id=1vlpWkL84wpDnbWwONlpNJqQrRY5HqhCQ' >"
      ],
      "metadata": {
        "id": "u_HBpn1RDlMv"
      }
    },
    {
      "cell_type": "markdown",
      "source": [
        "\n",
        "\n",
        "<img src='https://drive.google.com/uc?id=1hI9lcuneS7HVj0wPRgrIMCck9cv7ujUV' >"
      ],
      "metadata": {
        "id": "8NI_RU0KCrkd"
      }
    },
    {
      "cell_type": "markdown",
      "source": [
        "**Will this encoding done in random matters?**"
      ],
      "metadata": {
        "id": "gy_qQkQfELuF"
      }
    },
    {
      "cell_type": "markdown",
      "source": [
        "* Yes, it matters when the encoding is random because the education level is ordinal.\n",
        "\n",
        "* If we mess up with these levels in random way, we end up grouping in manner which doesn't make any sense.\n",
        "\n",
        "* Let us consider\n",
        " * school level - 1\n",
        " * undergraduate - 2\n",
        " * Maters - 3 and\n",
        " * PhD - 4\n",
        "\n",
        "These education levels are orinal so this make sense\n",
        "\n",
        "* if we mess up this order and assign\n",
        " * school level - 4\n",
        " * undergraduate - 2\n",
        " * Maters - 3 and\n",
        " * PhD - 1\n",
        "\n",
        "If now, we consider threshold 2,\n",
        "we end up grouping school level and PhD in one group which doesn't make any sense.\n"
      ],
      "metadata": {
        "id": "LREU5-iFEVAF"
      }
    },
    {
      "cell_type": "markdown",
      "source": [
        "<img src='https://drive.google.com/uc?id=1Rrt4FLCV3t5hbuFGgowYTJnaVLcvykZB' >\n",
        "\n"
      ],
      "metadata": {
        "id": "_SmgmxeuEutU"
      }
    },
    {
      "cell_type": "markdown",
      "source": [
        "**What type of encoding can we do in Logistic regression?**\n",
        "\n",
        "We can do one-hot encoding or target encoding as the scale sets the order.\n"
      ],
      "metadata": {
        "id": "C8cZFR4zGeGR"
      }
    },
    {
      "cell_type": "markdown",
      "source": [
        "We will haave look at the columns in the dataset"
      ],
      "metadata": {
        "id": "szvQJknWCcxn"
      }
    },
    {
      "cell_type": "code",
      "source": [
        "df.info()"
      ],
      "metadata": {
        "id": "k-pOa2KBOv1B",
        "colab": {
          "base_uri": "https://localhost:8080/"
        },
        "outputId": "f5e4ec6a-b488-4384-8f95-ed06ccce9fde"
      },
      "execution_count": null,
      "outputs": [
        {
          "output_type": "stream",
          "name": "stdout",
          "text": [
            "<class 'pandas.core.frame.DataFrame'>\n",
            "RangeIndex: 1470 entries, 0 to 1469\n",
            "Data columns (total 35 columns):\n",
            " #   Column                    Non-Null Count  Dtype \n",
            "---  ------                    --------------  ----- \n",
            " 0   Age                       1470 non-null   int64 \n",
            " 1   Attrition                 1470 non-null   object\n",
            " 2   BusinessTravel            1470 non-null   object\n",
            " 3   DailyRate                 1470 non-null   int64 \n",
            " 4   Department                1470 non-null   object\n",
            " 5   DistanceFromHome          1470 non-null   int64 \n",
            " 6   Education                 1470 non-null   int64 \n",
            " 7   EducationField            1470 non-null   object\n",
            " 8   EmployeeCount             1470 non-null   int64 \n",
            " 9   EmployeeNumber            1470 non-null   int64 \n",
            " 10  EnvironmentSatisfaction   1470 non-null   int64 \n",
            " 11  Gender                    1470 non-null   object\n",
            " 12  HourlyRate                1470 non-null   int64 \n",
            " 13  JobInvolvement            1470 non-null   int64 \n",
            " 14  JobLevel                  1470 non-null   int64 \n",
            " 15  JobRole                   1470 non-null   object\n",
            " 16  JobSatisfaction           1470 non-null   int64 \n",
            " 17  MaritalStatus             1470 non-null   object\n",
            " 18  MonthlyIncome             1470 non-null   int64 \n",
            " 19  MonthlyRate               1470 non-null   int64 \n",
            " 20  NumCompaniesWorked        1470 non-null   int64 \n",
            " 21  Over18                    1470 non-null   object\n",
            " 22  OverTime                  1470 non-null   object\n",
            " 23  PercentSalaryHike         1470 non-null   int64 \n",
            " 24  PerformanceRating         1470 non-null   int64 \n",
            " 25  RelationshipSatisfaction  1470 non-null   int64 \n",
            " 26  StandardHours             1470 non-null   int64 \n",
            " 27  StockOptionLevel          1470 non-null   int64 \n",
            " 28  TotalWorkingYears         1470 non-null   int64 \n",
            " 29  TrainingTimesLastYear     1470 non-null   int64 \n",
            " 30  WorkLifeBalance           1470 non-null   int64 \n",
            " 31  YearsAtCompany            1470 non-null   int64 \n",
            " 32  YearsInCurrentRole        1470 non-null   int64 \n",
            " 33  YearsSinceLastPromotion   1470 non-null   int64 \n",
            " 34  YearsWithCurrManager      1470 non-null   int64 \n",
            "dtypes: int64(26), object(9)\n",
            "memory usage: 402.1+ KB\n"
          ]
        }
      ]
    },
    {
      "cell_type": "markdown",
      "source": [
        "The Business problem that we want to see is to...."
      ],
      "metadata": {
        "id": "BXkta8vwG9BL"
      }
    },
    {
      "cell_type": "code",
      "source": [
        "# Business problems\n",
        "# 1.Find employees who are at high risk of attrition and  take remedial steps [ML Model]\n",
        "# 2. Identify factors leading to attrition [Feature importance]"
      ],
      "metadata": {
        "id": "5nTOOi4LO3B7"
      },
      "execution_count": null,
      "outputs": []
    },
    {
      "cell_type": "markdown",
      "source": [
        "Let's get into some data processing,\n",
        "\n",
        "First let's see the value count of the Attrition.\n"
      ],
      "metadata": {
        "id": "wPeci0x7HMn5"
      }
    },
    {
      "cell_type": "code",
      "source": [
        "# Data preprocessing\n",
        "\n",
        "# y_i's as 1 and 0 instead of Yes and No\n",
        "df['Attrition'].value_counts()\n",
        "# imbalanced data (~1:6 ratio): Need to account for this while building ML models"
      ],
      "metadata": {
        "colab": {
          "base_uri": "https://localhost:8080/"
        },
        "id": "Jdcg-fLAaIWv",
        "outputId": "c847038d-b31c-4ad4-a9b8-3945c00ba796"
      },
      "execution_count": null,
      "outputs": [
        {
          "output_type": "execute_result",
          "data": {
            "text/plain": [
              "No     1233\n",
              "Yes     237\n",
              "Name: Attrition, dtype: int64"
            ]
          },
          "metadata": {},
          "execution_count": 7
        }
      ]
    },
    {
      "cell_type": "markdown",
      "source": [
        "* We can  see the number of yes and no's  in the data and it's clearly an imbalance data, which is in 1:6  ratio which we can balance by using techniques like class weights, SMOTE.\n",
        "\n",
        "\n"
      ],
      "metadata": {
        "id": "0wFDnfYVJlz3"
      }
    },
    {
      "cell_type": "code",
      "source": [
        "df.loc[df['Attrition']=='Yes', 'Attrition'] = 1\n",
        "df.loc[df['Attrition']=='No', 'Attrition'] = 0"
      ],
      "metadata": {
        "id": "8vETkisma42s"
      },
      "execution_count": null,
      "outputs": []
    },
    {
      "cell_type": "markdown",
      "source": [
        "* In the above code we are replacing the locations in df, 1 where Attrition is yes and 0 where attrition is no."
      ],
      "metadata": {
        "id": "bFzdQlMAXAoq"
      }
    },
    {
      "cell_type": "markdown",
      "source": [
        "We will verify the Attrition values just to be sure."
      ],
      "metadata": {
        "id": "PWFL2bi9J2ex"
      }
    },
    {
      "cell_type": "code",
      "source": [
        "df['Attrition'].value_counts()"
      ],
      "metadata": {
        "id": "EOQz__9SbKHH",
        "colab": {
          "base_uri": "https://localhost:8080/"
        },
        "outputId": "c9a0ae0b-94ce-4895-cdac-bf57ce16f5f2"
      },
      "execution_count": null,
      "outputs": [
        {
          "output_type": "execute_result",
          "data": {
            "text/plain": [
              "0    1233\n",
              "1     237\n",
              "Name: Attrition, dtype: int64"
            ]
          },
          "metadata": {},
          "execution_count": 9
        }
      ]
    },
    {
      "cell_type": "markdown",
      "source": [
        "* But there are few drawbacks with SKlear implementation of a Decision tree like\n",
        " * SKlearn cannot handle categorical features natively, which means it doesn't split basing on the category. SKlearn takes numerical features only."
      ],
      "metadata": {
        "id": "lxFbSFJnXzOc"
      }
    },
    {
      "cell_type": "markdown",
      "source": [
        "\n",
        "\n",
        "<img src='https://drive.google.com/uc?id=1ceAWCsgy-UKOdYmvgYwndWj82CdhRR9f' >"
      ],
      "metadata": {
        "id": "HcfqUDgeZAJF"
      }
    },
    {
      "cell_type": "markdown",
      "source": [
        "**How can we encode categorical features in Decision tree?**\n",
        "* one-hot encoding (we should avoid if we have categorical features with many features )\n",
        "* Target encoding\n",
        "\n",
        "\n",
        "\n",
        "<img src='https://drive.google.com/uc?id=1IEaM5FpvtyvOKQkWxpPbUMYKWPvwJ_Z1' >\n",
        "\n"
      ],
      "metadata": {
        "id": "Pa5FVMYJd2WD"
      }
    },
    {
      "cell_type": "markdown",
      "source": [
        "* **Label encoding should not be used** as it creates a random order of labels which results in random splits\n",
        "* Label encoding can be done when there are only two categories.\n"
      ],
      "metadata": {
        "id": "-FiAJ2jLj03D"
      }
    },
    {
      "cell_type": "markdown",
      "source": [
        "\n",
        "<img src='https://drive.google.com/uc?id=1DVuG39_CsX-WLdMLR6E5jz49kZsxijyY' >\n",
        "\n"
      ],
      "metadata": {
        "id": "jsVEYytKj5oA"
      }
    },
    {
      "cell_type": "markdown",
      "source": [
        "Now let's continue with target encoding,"
      ],
      "metadata": {
        "id": "R4NeBZjMkp8G"
      }
    },
    {
      "cell_type": "code",
      "source": [
        "# Sklearn DT doesnot handle categorical values natively.\n",
        "# Options: OHE or Target Encoding (our choice)\n",
        "# Converting all non numerical features into Target encoded features\n",
        "\n",
        "\n",
        "# **Q**: Why not Label Encoding in Sklearn?"
      ],
      "metadata": {
        "id": "Fhl6Cm-JcPF0"
      },
      "execution_count": null,
      "outputs": []
    },
    {
      "cell_type": "code",
      "source": [
        "!pip install category-encoders"
      ],
      "metadata": {
        "id": "Oa6CGasjdbd8",
        "colab": {
          "base_uri": "https://localhost:8080/"
        },
        "outputId": "54a40ff7-5834-4b7b-eeb9-d291a2d32b30"
      },
      "execution_count": null,
      "outputs": [
        {
          "output_type": "stream",
          "name": "stdout",
          "text": [
            "Looking in indexes: https://pypi.org/simple, https://us-python.pkg.dev/colab-wheels/public/simple/\n",
            "Collecting category-encoders\n",
            "  Downloading category_encoders-2.5.0-py2.py3-none-any.whl (69 kB)\n",
            "\u001b[K     |████████████████████████████████| 69 kB 3.2 MB/s \n",
            "\u001b[?25hRequirement already satisfied: numpy>=1.14.0 in /usr/local/lib/python3.7/dist-packages (from category-encoders) (1.21.6)\n",
            "Requirement already satisfied: pandas>=1.0.5 in /usr/local/lib/python3.7/dist-packages (from category-encoders) (1.3.5)\n",
            "Requirement already satisfied: statsmodels>=0.9.0 in /usr/local/lib/python3.7/dist-packages (from category-encoders) (0.10.2)\n",
            "Requirement already satisfied: scikit-learn>=0.20.0 in /usr/local/lib/python3.7/dist-packages (from category-encoders) (1.0.2)\n",
            "Requirement already satisfied: scipy>=1.0.0 in /usr/local/lib/python3.7/dist-packages (from category-encoders) (1.4.1)\n",
            "Requirement already satisfied: patsy>=0.5.1 in /usr/local/lib/python3.7/dist-packages (from category-encoders) (0.5.2)\n",
            "Requirement already satisfied: python-dateutil>=2.7.3 in /usr/local/lib/python3.7/dist-packages (from pandas>=1.0.5->category-encoders) (2.8.2)\n",
            "Requirement already satisfied: pytz>=2017.3 in /usr/local/lib/python3.7/dist-packages (from pandas>=1.0.5->category-encoders) (2022.1)\n",
            "Requirement already satisfied: six in /usr/local/lib/python3.7/dist-packages (from patsy>=0.5.1->category-encoders) (1.15.0)\n",
            "Requirement already satisfied: threadpoolctl>=2.0.0 in /usr/local/lib/python3.7/dist-packages (from scikit-learn>=0.20.0->category-encoders) (3.1.0)\n",
            "Requirement already satisfied: joblib>=0.11 in /usr/local/lib/python3.7/dist-packages (from scikit-learn>=0.20.0->category-encoders) (1.1.0)\n",
            "Installing collected packages: category-encoders\n",
            "Successfully installed category-encoders-2.5.0\n"
          ]
        }
      ]
    },
    {
      "cell_type": "markdown",
      "source": [
        "we installed category-encoders module which helps us to encode categorical values\n",
        "\n",
        "Let's see if there are any non-numerical features in the data set"
      ],
      "metadata": {
        "id": "1B6xhSFUk3xs"
      }
    },
    {
      "cell_type": "markdown",
      "source": [
        "Now, we should convert these non numerical to numerical values"
      ],
      "metadata": {
        "id": "BoozI33Ppi3S"
      }
    },
    {
      "cell_type": "code",
      "source": [
        "from pandas.api.types import is_numeric_dtype\n",
        "from category_encoders import TargetEncoder\n",
        "\n",
        "# Convert all non-numeric features into Target-encoded features\n",
        "HR_col = list(df.columns)\n",
        "HR_col.remove('Attrition')\n",
        "for col in HR_col:\n",
        "  if is_numeric_dtype(df[col])== False:\n",
        "    encoder = TargetEncoder()\n",
        "    df[col] = encoder.fit_transform(df[col], df['Attrition'])\n",
        ""
      ],
      "metadata": {
        "id": "ObUfqzuweQ3X",
        "colab": {
          "base_uri": "https://localhost:8080/"
        },
        "outputId": "061a7fb2-5c16-46fb-9b89-52120d72c205"
      },
      "execution_count": null,
      "outputs": [
        {
          "output_type": "stream",
          "name": "stderr",
          "text": [
            "/usr/local/lib/python3.7/dist-packages/statsmodels/tools/_testing.py:19: FutureWarning: pandas.util.testing is deprecated. Use the functions in the public API at pandas.testing instead.\n",
            "  import pandas.util.testing as tm\n",
            "/usr/local/lib/python3.7/dist-packages/category_encoders/target_encoder.py:94: FutureWarning: Default parameter min_samples_leaf will change in version 2.6.See https://github.com/scikit-learn-contrib/category_encoders/issues/327\n",
            "  category=FutureWarning)\n",
            "/usr/local/lib/python3.7/dist-packages/category_encoders/target_encoder.py:99: FutureWarning: Default parameter smoothing will change in version 2.6.See https://github.com/scikit-learn-contrib/category_encoders/issues/327\n",
            "  category=FutureWarning)\n"
          ]
        }
      ]
    },
    {
      "cell_type": "markdown",
      "source": [
        "* is_numeric_dtype function helps us to know if a column is numerical or not and\n",
        "* We use TargetEncoder to convert the non-numerical features to numerical features\n"
      ],
      "metadata": {
        "id": "V68DLpOflbuc"
      }
    },
    {
      "cell_type": "markdown",
      "source": [
        "* We have selected all the columns and removed the Attrition column then verified the columns if they are non-numerical\n",
        "\n",
        "* Which ever column  having the is_numeric_dtype as false, it's value should be replaced by numerical values using encoder which is done in above code\n",
        "* and we should the training data set as the $x$ and Attrition column as the $y_i$"
      ],
      "metadata": {
        "id": "4O_a1It9nA43"
      }
    },
    {
      "cell_type": "markdown",
      "source": [
        "\n",
        "<img src='https://drive.google.com/uc?id=1QbNheArxpFXfVBPX7aV2riKgBlBkjLLR' >\n",
        "\n"
      ],
      "metadata": {
        "id": "ZChrXTyytvgz"
      }
    },
    {
      "cell_type": "markdown",
      "source": [
        "* Before encoding we have to split the data into train, test, cross validation data sets and do target encoding on the train data set to avoid **data-leakage**.\n",
        "\n"
      ],
      "metadata": {
        "id": "583TDwGgmOBK"
      }
    },
    {
      "cell_type": "markdown",
      "source": [
        "<img src='https://drive.google.com/uc?id=1-iI_vu59mhGL2wI4fFTUi_BX0WlnBHWe' >\n",
        "\n"
      ],
      "metadata": {
        "id": "rp7TIhekmlpI"
      }
    },
    {
      "cell_type": "markdown",
      "source": [
        "**What is the difference between fit and fit_transform?**\n",
        "\n",
        "* **fit** only fits the encoders, which means learning the target encoders with the data given.\n",
        "* **fit_transform** learns and also replaces the categorical features with numerical values from encoders.\n",
        "* **transform** is used with cross validation and test data set sets which because they need not fit the data but should be trnasformed as train   data set is fit."
      ],
      "metadata": {
        "id": "ibDHhPiQrDP_"
      }
    },
    {
      "cell_type": "markdown",
      "source": [
        "\n",
        "<img src='https://drive.google.com/uc?id=11bqYN0D_J07WuTxBFoKO6pEgm_qusmEg' >"
      ],
      "metadata": {
        "id": "ealJp3Wus0JW"
      }
    },
    {
      "cell_type": "code",
      "source": [
        "df.head()"
      ],
      "metadata": {
        "colab": {
          "base_uri": "https://localhost:8080/",
          "height": 299
        },
        "id": "Lcb6ccNFffDN",
        "outputId": "f50dda5d-cc50-4369-9c38-227615784274"
      },
      "execution_count": null,
      "outputs": [
        {
          "output_type": "execute_result",
          "data": {
            "text/plain": [
              "   Age Attrition  BusinessTravel  DailyRate  Department  DistanceFromHome  \\\n",
              "0   41         1        0.149569       1102    0.206278                 1   \n",
              "1   49         0        0.249097        279    0.138398                 8   \n",
              "2   37         1        0.149569       1373    0.138398                 2   \n",
              "3   33         0        0.249097       1392    0.138398                 3   \n",
              "4   27         0        0.149569        591    0.138398                 2   \n",
              "\n",
              "   Education  EducationField  EmployeeCount  EmployeeNumber  ...  \\\n",
              "0          2        0.146865              1               1  ...   \n",
              "1          1        0.146865              1               2  ...   \n",
              "2          2        0.134146              1               4  ...   \n",
              "3          4        0.146865              1               5  ...   \n",
              "4          1        0.135776              1               7  ...   \n",
              "\n",
              "   RelationshipSatisfaction  StandardHours  StockOptionLevel  \\\n",
              "0                         1             80                 0   \n",
              "1                         4             80                 1   \n",
              "2                         2             80                 0   \n",
              "3                         3             80                 0   \n",
              "4                         4             80                 1   \n",
              "\n",
              "   TotalWorkingYears  TrainingTimesLastYear  WorkLifeBalance  YearsAtCompany  \\\n",
              "0                  8                      0                1               6   \n",
              "1                 10                      3                3              10   \n",
              "2                  7                      3                3               0   \n",
              "3                  8                      3                3               8   \n",
              "4                  6                      3                3               2   \n",
              "\n",
              "   YearsInCurrentRole  YearsSinceLastPromotion  YearsWithCurrManager  \n",
              "0                   4                        0                     5  \n",
              "1                   7                        1                     7  \n",
              "2                   0                        0                     0  \n",
              "3                   7                        3                     0  \n",
              "4                   2                        2                     2  \n",
              "\n",
              "[5 rows x 35 columns]"
            ],
            "text/html": [
              "\n",
              "  <div id=\"df-aab8c89f-99c0-4815-9922-7073ed7a418d\">\n",
              "    <div class=\"colab-df-container\">\n",
              "      <div>\n",
              "<style scoped>\n",
              "    .dataframe tbody tr th:only-of-type {\n",
              "        vertical-align: middle;\n",
              "    }\n",
              "\n",
              "    .dataframe tbody tr th {\n",
              "        vertical-align: top;\n",
              "    }\n",
              "\n",
              "    .dataframe thead th {\n",
              "        text-align: right;\n",
              "    }\n",
              "</style>\n",
              "<table border=\"1\" class=\"dataframe\">\n",
              "  <thead>\n",
              "    <tr style=\"text-align: right;\">\n",
              "      <th></th>\n",
              "      <th>Age</th>\n",
              "      <th>Attrition</th>\n",
              "      <th>BusinessTravel</th>\n",
              "      <th>DailyRate</th>\n",
              "      <th>Department</th>\n",
              "      <th>DistanceFromHome</th>\n",
              "      <th>Education</th>\n",
              "      <th>EducationField</th>\n",
              "      <th>EmployeeCount</th>\n",
              "      <th>EmployeeNumber</th>\n",
              "      <th>...</th>\n",
              "      <th>RelationshipSatisfaction</th>\n",
              "      <th>StandardHours</th>\n",
              "      <th>StockOptionLevel</th>\n",
              "      <th>TotalWorkingYears</th>\n",
              "      <th>TrainingTimesLastYear</th>\n",
              "      <th>WorkLifeBalance</th>\n",
              "      <th>YearsAtCompany</th>\n",
              "      <th>YearsInCurrentRole</th>\n",
              "      <th>YearsSinceLastPromotion</th>\n",
              "      <th>YearsWithCurrManager</th>\n",
              "    </tr>\n",
              "  </thead>\n",
              "  <tbody>\n",
              "    <tr>\n",
              "      <th>0</th>\n",
              "      <td>41</td>\n",
              "      <td>1</td>\n",
              "      <td>0.149569</td>\n",
              "      <td>1102</td>\n",
              "      <td>0.206278</td>\n",
              "      <td>1</td>\n",
              "      <td>2</td>\n",
              "      <td>0.146865</td>\n",
              "      <td>1</td>\n",
              "      <td>1</td>\n",
              "      <td>...</td>\n",
              "      <td>1</td>\n",
              "      <td>80</td>\n",
              "      <td>0</td>\n",
              "      <td>8</td>\n",
              "      <td>0</td>\n",
              "      <td>1</td>\n",
              "      <td>6</td>\n",
              "      <td>4</td>\n",
              "      <td>0</td>\n",
              "      <td>5</td>\n",
              "    </tr>\n",
              "    <tr>\n",
              "      <th>1</th>\n",
              "      <td>49</td>\n",
              "      <td>0</td>\n",
              "      <td>0.249097</td>\n",
              "      <td>279</td>\n",
              "      <td>0.138398</td>\n",
              "      <td>8</td>\n",
              "      <td>1</td>\n",
              "      <td>0.146865</td>\n",
              "      <td>1</td>\n",
              "      <td>2</td>\n",
              "      <td>...</td>\n",
              "      <td>4</td>\n",
              "      <td>80</td>\n",
              "      <td>1</td>\n",
              "      <td>10</td>\n",
              "      <td>3</td>\n",
              "      <td>3</td>\n",
              "      <td>10</td>\n",
              "      <td>7</td>\n",
              "      <td>1</td>\n",
              "      <td>7</td>\n",
              "    </tr>\n",
              "    <tr>\n",
              "      <th>2</th>\n",
              "      <td>37</td>\n",
              "      <td>1</td>\n",
              "      <td>0.149569</td>\n",
              "      <td>1373</td>\n",
              "      <td>0.138398</td>\n",
              "      <td>2</td>\n",
              "      <td>2</td>\n",
              "      <td>0.134146</td>\n",
              "      <td>1</td>\n",
              "      <td>4</td>\n",
              "      <td>...</td>\n",
              "      <td>2</td>\n",
              "      <td>80</td>\n",
              "      <td>0</td>\n",
              "      <td>7</td>\n",
              "      <td>3</td>\n",
              "      <td>3</td>\n",
              "      <td>0</td>\n",
              "      <td>0</td>\n",
              "      <td>0</td>\n",
              "      <td>0</td>\n",
              "    </tr>\n",
              "    <tr>\n",
              "      <th>3</th>\n",
              "      <td>33</td>\n",
              "      <td>0</td>\n",
              "      <td>0.249097</td>\n",
              "      <td>1392</td>\n",
              "      <td>0.138398</td>\n",
              "      <td>3</td>\n",
              "      <td>4</td>\n",
              "      <td>0.146865</td>\n",
              "      <td>1</td>\n",
              "      <td>5</td>\n",
              "      <td>...</td>\n",
              "      <td>3</td>\n",
              "      <td>80</td>\n",
              "      <td>0</td>\n",
              "      <td>8</td>\n",
              "      <td>3</td>\n",
              "      <td>3</td>\n",
              "      <td>8</td>\n",
              "      <td>7</td>\n",
              "      <td>3</td>\n",
              "      <td>0</td>\n",
              "    </tr>\n",
              "    <tr>\n",
              "      <th>4</th>\n",
              "      <td>27</td>\n",
              "      <td>0</td>\n",
              "      <td>0.149569</td>\n",
              "      <td>591</td>\n",
              "      <td>0.138398</td>\n",
              "      <td>2</td>\n",
              "      <td>1</td>\n",
              "      <td>0.135776</td>\n",
              "      <td>1</td>\n",
              "      <td>7</td>\n",
              "      <td>...</td>\n",
              "      <td>4</td>\n",
              "      <td>80</td>\n",
              "      <td>1</td>\n",
              "      <td>6</td>\n",
              "      <td>3</td>\n",
              "      <td>3</td>\n",
              "      <td>2</td>\n",
              "      <td>2</td>\n",
              "      <td>2</td>\n",
              "      <td>2</td>\n",
              "    </tr>\n",
              "  </tbody>\n",
              "</table>\n",
              "<p>5 rows × 35 columns</p>\n",
              "</div>\n",
              "      <button class=\"colab-df-convert\" onclick=\"convertToInteractive('df-aab8c89f-99c0-4815-9922-7073ed7a418d')\"\n",
              "              title=\"Convert this dataframe to an interactive table.\"\n",
              "              style=\"display:none;\">\n",
              "        \n",
              "  <svg xmlns=\"http://www.w3.org/2000/svg\" height=\"24px\"viewBox=\"0 0 24 24\"\n",
              "       width=\"24px\">\n",
              "    <path d=\"M0 0h24v24H0V0z\" fill=\"none\"/>\n",
              "    <path d=\"M18.56 5.44l.94 2.06.94-2.06 2.06-.94-2.06-.94-.94-2.06-.94 2.06-2.06.94zm-11 1L8.5 8.5l.94-2.06 2.06-.94-2.06-.94L8.5 2.5l-.94 2.06-2.06.94zm10 10l.94 2.06.94-2.06 2.06-.94-2.06-.94-.94-2.06-.94 2.06-2.06.94z\"/><path d=\"M17.41 7.96l-1.37-1.37c-.4-.4-.92-.59-1.43-.59-.52 0-1.04.2-1.43.59L10.3 9.45l-7.72 7.72c-.78.78-.78 2.05 0 2.83L4 21.41c.39.39.9.59 1.41.59.51 0 1.02-.2 1.41-.59l7.78-7.78 2.81-2.81c.8-.78.8-2.07 0-2.86zM5.41 20L4 18.59l7.72-7.72 1.47 1.35L5.41 20z\"/>\n",
              "  </svg>\n",
              "      </button>\n",
              "      \n",
              "  <style>\n",
              "    .colab-df-container {\n",
              "      display:flex;\n",
              "      flex-wrap:wrap;\n",
              "      gap: 12px;\n",
              "    }\n",
              "\n",
              "    .colab-df-convert {\n",
              "      background-color: #E8F0FE;\n",
              "      border: none;\n",
              "      border-radius: 50%;\n",
              "      cursor: pointer;\n",
              "      display: none;\n",
              "      fill: #1967D2;\n",
              "      height: 32px;\n",
              "      padding: 0 0 0 0;\n",
              "      width: 32px;\n",
              "    }\n",
              "\n",
              "    .colab-df-convert:hover {\n",
              "      background-color: #E2EBFA;\n",
              "      box-shadow: 0px 1px 2px rgba(60, 64, 67, 0.3), 0px 1px 3px 1px rgba(60, 64, 67, 0.15);\n",
              "      fill: #174EA6;\n",
              "    }\n",
              "\n",
              "    [theme=dark] .colab-df-convert {\n",
              "      background-color: #3B4455;\n",
              "      fill: #D2E3FC;\n",
              "    }\n",
              "\n",
              "    [theme=dark] .colab-df-convert:hover {\n",
              "      background-color: #434B5C;\n",
              "      box-shadow: 0px 1px 3px 1px rgba(0, 0, 0, 0.15);\n",
              "      filter: drop-shadow(0px 1px 2px rgba(0, 0, 0, 0.3));\n",
              "      fill: #FFFFFF;\n",
              "    }\n",
              "  </style>\n",
              "\n",
              "      <script>\n",
              "        const buttonEl =\n",
              "          document.querySelector('#df-aab8c89f-99c0-4815-9922-7073ed7a418d button.colab-df-convert');\n",
              "        buttonEl.style.display =\n",
              "          google.colab.kernel.accessAllowed ? 'block' : 'none';\n",
              "\n",
              "        async function convertToInteractive(key) {\n",
              "          const element = document.querySelector('#df-aab8c89f-99c0-4815-9922-7073ed7a418d');\n",
              "          const dataTable =\n",
              "            await google.colab.kernel.invokeFunction('convertToInteractive',\n",
              "                                                     [key], {});\n",
              "          if (!dataTable) return;\n",
              "\n",
              "          const docLinkHtml = 'Like what you see? Visit the ' +\n",
              "            '<a target=\"_blank\" href=https://colab.research.google.com/notebooks/data_table.ipynb>data table notebook</a>'\n",
              "            + ' to learn more about interactive tables.';\n",
              "          element.innerHTML = '';\n",
              "          dataTable['output_type'] = 'display_data';\n",
              "          await google.colab.output.renderOutput(dataTable, element);\n",
              "          const docLink = document.createElement('div');\n",
              "          docLink.innerHTML = docLinkHtml;\n",
              "          element.appendChild(docLink);\n",
              "        }\n",
              "      </script>\n",
              "    </div>\n",
              "  </div>\n",
              "  "
            ]
          },
          "metadata": {},
          "execution_count": 13
        }
      ]
    },
    {
      "cell_type": "markdown",
      "source": [
        "So, from the data set, we can see that there are few columns which are useless and we should remove those."
      ],
      "metadata": {
        "id": "R8qQwceYxuBS"
      }
    },
    {
      "cell_type": "code",
      "source": [
        "# Remove useless columns\n",
        "df['EmployeeNumber'].value_counts()"
      ],
      "metadata": {
        "colab": {
          "base_uri": "https://localhost:8080/"
        },
        "id": "dCG1gnOihi8z",
        "outputId": "c5071d72-b7c5-4aa6-9593-6e8ce1284b0d"
      },
      "execution_count": null,
      "outputs": [
        {
          "output_type": "execute_result",
          "data": {
            "text/plain": [
              "1       1\n",
              "1391    1\n",
              "1389    1\n",
              "1387    1\n",
              "1383    1\n",
              "       ..\n",
              "659     1\n",
              "657     1\n",
              "656     1\n",
              "655     1\n",
              "2068    1\n",
              "Name: EmployeeNumber, Length: 1470, dtype: int64"
            ]
          },
          "metadata": {},
          "execution_count": 14
        }
      ]
    },
    {
      "cell_type": "markdown",
      "source": [
        "* EmployeeNumber is unique for all values, this is like an indentity which has no information which is useful. So, it can be removed"
      ],
      "metadata": {
        "id": "12PCQvRByDP2"
      }
    },
    {
      "cell_type": "code",
      "source": [
        "df['EmployeeCount'].value_counts()"
      ],
      "metadata": {
        "id": "v88mMKk7hpSn",
        "colab": {
          "base_uri": "https://localhost:8080/"
        },
        "outputId": "d8ac782d-c0d9-4c6c-b927-144f7fb5d1eb"
      },
      "execution_count": null,
      "outputs": [
        {
          "output_type": "execute_result",
          "data": {
            "text/plain": [
              "1    1470\n",
              "Name: EmployeeCount, dtype: int64"
            ]
          },
          "metadata": {},
          "execution_count": 15
        }
      ]
    },
    {
      "cell_type": "markdown",
      "source": [
        "* Also the column EmployeeCount is 1 for all the rows, so this also can be ignored.\n"
      ],
      "metadata": {
        "id": "YOtuv0WOyWU6"
      }
    },
    {
      "cell_type": "code",
      "source": [
        "df['StandardHours'].value_counts()"
      ],
      "metadata": {
        "id": "hIVGeoDzhv39",
        "colab": {
          "base_uri": "https://localhost:8080/"
        },
        "outputId": "aab1126b-98ae-4ee3-9fdd-9960ef695250"
      },
      "execution_count": null,
      "outputs": [
        {
          "output_type": "execute_result",
          "data": {
            "text/plain": [
              "80    1470\n",
              "Name: StandardHours, dtype: int64"
            ]
          },
          "metadata": {},
          "execution_count": 16
        }
      ]
    },
    {
      "cell_type": "markdown",
      "source": [
        "* Same with the StandarsHours also it's 80 for all employees and also over18\n"
      ],
      "metadata": {
        "id": "-EHcSoQ6ylgh"
      }
    },
    {
      "cell_type": "code",
      "source": [
        "df['Over18'].value_counts()"
      ],
      "metadata": {
        "id": "-pCaD2hch39K",
        "colab": {
          "base_uri": "https://localhost:8080/"
        },
        "outputId": "9c539735-a25c-47a7-b49c-dcdaf8c5304d"
      },
      "execution_count": null,
      "outputs": [
        {
          "output_type": "execute_result",
          "data": {
            "text/plain": [
              "0.161224    1470\n",
              "Name: Over18, dtype: int64"
            ]
          },
          "metadata": {},
          "execution_count": 17
        }
      ]
    },
    {
      "cell_type": "markdown",
      "source": [
        "Now, let's assign the values for $y$ and $x$"
      ],
      "metadata": {
        "id": "5CizIsMuzBt_"
      }
    },
    {
      "cell_type": "code",
      "source": [
        "y = df['Attrition']\n",
        "y = y.astype('int')"
      ],
      "metadata": {
        "id": "fD_-6k16hPnT"
      },
      "execution_count": null,
      "outputs": []
    },
    {
      "cell_type": "markdown",
      "source": [
        "*  Here Attrition column is the $y$ and we forced and converted $y$ to integer type as we were using 0,1 for Attrition column."
      ],
      "metadata": {
        "id": "-ewlSET7zKAs"
      }
    },
    {
      "cell_type": "markdown",
      "source": [
        "* Now, let's drop all the useless columns which we saw earlier and assign the remaining columns as $x   $"
      ],
      "metadata": {
        "id": "ED99m8YXy6DV"
      }
    },
    {
      "cell_type": "code",
      "source": [
        "df.drop(['Attrition', 'EmployeeCount', 'EmployeeNumber',\n",
        "            'StandardHours', 'Over18'], axis=1, inplace=True)\n",
        "print('Size of Full dataset is: {}'.format(df.shape))\n",
        "\n",
        "X = df"
      ],
      "metadata": {
        "id": "eSAuF9VYiE-5",
        "colab": {
          "base_uri": "https://localhost:8080/"
        },
        "outputId": "4918c5cb-37f0-4d4e-f3d0-00c3a27379d8"
      },
      "execution_count": null,
      "outputs": [
        {
          "output_type": "stream",
          "name": "stdout",
          "text": [
            "Size of Full dataset is: (1470, 30)\n"
          ]
        }
      ]
    },
    {
      "cell_type": "markdown",
      "source": [
        "Now, let's divide our dataset in **60:20:20** ratio for train, test, cross validation data sets, as we have seen earlier."
      ],
      "metadata": {
        "id": "f6v9LLzbz9A-"
      }
    },
    {
      "cell_type": "code",
      "source": [
        "# Train, CV, test split\n",
        "from sklearn.model_selection import train_test_split\n",
        "#0.6, 0.2, 0.2 split\n",
        "\n",
        "X_tr_cv, X_test, y_tr_cv, y_test = train_test_split(X, y, test_size=0.2, random_state=42)\n",
        "\n",
        "X_train, X_val, y_train, y_val = train_test_split(X_tr_cv, y_tr_cv, test_size=0.25, random_state=42) # 0.25 x 0.8 = 0.2"
      ],
      "metadata": {
        "id": "IKcSn-dHg2m0"
      },
      "execution_count": null,
      "outputs": []
    },
    {
      "cell_type": "markdown",
      "source": [
        "Now, lets how the data is devided to each dataset as mentioned above"
      ],
      "metadata": {
        "id": "4g4VQsTv0SPi"
      }
    },
    {
      "cell_type": "code",
      "source": [
        "print(\"Number transactions X_train dataset: \", X_train.shape)\n",
        "print(\"Number transactions y_train dataset: \", y_train.shape)\n",
        "print(\"Number transactions X_CV dataset: \", X_val.shape)\n",
        "print(\"Number transactions y_CV dataset: \", y_val.shape)\n",
        "print(\"Number transactions X_test dataset: \", X_test.shape)\n",
        "print(\"Number transactions y_test dataset: \", y_test.shape)"
      ],
      "metadata": {
        "id": "3aD68DUJiPeg",
        "colab": {
          "base_uri": "https://localhost:8080/"
        },
        "outputId": "b7c66973-a235-4ea7-92ba-b90ad83a37de"
      },
      "execution_count": null,
      "outputs": [
        {
          "output_type": "stream",
          "name": "stdout",
          "text": [
            "Number transactions X_train dataset:  (882, 30)\n",
            "Number transactions y_train dataset:  (882,)\n",
            "Number transactions X_CV dataset:  (294, 30)\n",
            "Number transactions y_CV dataset:  (294,)\n",
            "Number transactions X_test dataset:  (294, 30)\n",
            "Number transactions y_test dataset:  (294,)\n"
          ]
        }
      ]
    },
    {
      "cell_type": "markdown",
      "source": [
        "Now, we have our basic set-up ready\n",
        "\n",
        "Let's see the codes for Decision Tree and Random Forest."
      ],
      "metadata": {
        "id": "_fUfAhAx0u67"
      }
    },
    {
      "cell_type": "markdown",
      "source": [
        "## Decisiom Tree implementation"
      ],
      "metadata": {
        "id": "5QgnN-JnMcip"
      }
    },
    {
      "cell_type": "markdown",
      "source": [
        "* Here our main agenda is to train a decision tree model and do some hyper-paramter tuning\n",
        "\n",
        "* In this case our **hyper-parameter** is **Depth**\n",
        "\n",
        "Let's get started with the code."
      ],
      "metadata": {
        "id": "0I_j2DM0Mf52"
      }
    },
    {
      "cell_type": "code",
      "source": [
        "# Hyper-pram tuning + DT model\n",
        "from sklearn.tree import DecisionTreeClassifier\n",
        "from sklearn.metrics import f1_score\n"
      ],
      "metadata": {
        "id": "EGG-dLIINfzK"
      },
      "execution_count": null,
      "outputs": []
    },
    {
      "cell_type": "markdown",
      "source": [
        "From the above code we are importing the required libraries"
      ],
      "metadata": {
        "id": "d8RXSn3iNv8a"
      }
    },
    {
      "cell_type": "code",
      "source": [
        "train_scores = []\n",
        "val_scores = []"
      ],
      "metadata": {
        "id": "KaTA2jtJNsib"
      },
      "execution_count": null,
      "outputs": []
    },
    {
      "cell_type": "markdown",
      "source": [
        "Creating two lists of train_scores and val_scores to compare the results."
      ],
      "metadata": {
        "id": "rn6SOEtVN1DR"
      }
    },
    {
      "cell_type": "code",
      "source": [
        "l=1\n",
        "u=20\n",
        "d=1\n",
        "w=1.0\n",
        "\n",
        "for depth in np.arange(l,u,d):\n",
        "  clf = DecisionTreeClassifier(random_state=0, max_depth=depth, class_weight={ 0:0.1, 1:w } )\n",
        "  clf.fit(X_train, y_train)\n",
        "  train_y_pred = clf.predict(X_train)\n",
        "  val_y_pred = clf.predict(X_val)\n",
        "  train_score = f1_score(y_train, train_y_pred)\n",
        "  val_score = f1_score(y_val, val_y_pred)\n",
        "  train_scores.append(train_score)\n",
        "  val_scores.append(val_score)"
      ],
      "metadata": {
        "id": "lirCZrGQORxD"
      },
      "execution_count": null,
      "outputs": []
    },
    {
      "cell_type": "markdown",
      "source": [
        "* Here at first we are declaring the values of l,u and d which are like lower boundary, uppper boundary and the difference in the values is 1.\n",
        "* After that, we created a classifier DecisionTreeClassifier\n",
        "and the parameter to control is depth, so we are giving the maximum value of depth which the model can be reached\n",
        "* We can even add another hyper parameter class weight where we mentioned that the class weight of label 0 is 0.1 and with label is 1 is w, which shows that our data is clearly imbalanced with 1:10 ratio.\n"
      ],
      "metadata": {
        "id": "rXLVYcYnOSwT"
      }
    },
    {
      "cell_type": "markdown",
      "source": [
        "**What happens if with both depth and weights are considered as hyper-parameters?**\n",
        "* It becomes complex, as you can set depth for every weights ratio possible due to which you will get many possible models.\n",
        "* We can automate this process of combining the hyperparameters using **Grid and Random search** which will de discussed in the further lectures."
      ],
      "metadata": {
        "id": "p9-ORGFRQgRY"
      }
    },
    {
      "cell_type": "markdown",
      "source": [
        "\n",
        "<img src='https://drive.google.com/uc?id=1L8LRlDnt7qSoGCwCZGJRFbP8u5jGqrKn' >"
      ],
      "metadata": {
        "id": "sXMPy4tZZl-r"
      }
    },
    {
      "cell_type": "markdown",
      "source": [
        "       clf.fit(X_train, y_train)\n",
        "       train_y_pred = clf.predict(X_train)"
      ],
      "metadata": {
        "id": "7usq9J4VPPp9"
      }
    },
    {
      "cell_type": "markdown",
      "source": [
        "* In the above part of the code we are fitting the training data set and predicting the $y$ for the same"
      ],
      "metadata": {
        "id": "92cvpRPsOqsC"
      }
    },
    {
      "cell_type": "markdown",
      "source": [
        "     val_y_pred = clf.predict(X_val)\n",
        "     train_score = f1_score(y_train, train_y_pred)\n",
        "     val_score = f1_score(y_val, val_y_pred)\n",
        "     train_scores.append(train_score)\n",
        "     val_scores.append(val_score)"
      ],
      "metadata": {
        "id": "Wrlzzt2XPZca"
      }
    },
    {
      "cell_type": "markdown",
      "source": [
        "* In the next part we are predeicting the $y$ values for validation set and getting the f1 score of both the datasets and appending the same in the list"
      ],
      "metadata": {
        "id": "FCkQXDIdPeuO"
      }
    },
    {
      "cell_type": "markdown",
      "source": [
        "Now, let's plot the graph for the output"
      ],
      "metadata": {
        "id": "vnyJxBL2QNQu"
      }
    },
    {
      "cell_type": "code",
      "source": [
        "import matplotlib.pyplot as plt\n",
        "\n",
        "plt.figure()\n",
        "plt.plot(list(np.arange(l,u,d)), train_scores, label=\"train\")\n",
        "plt.plot(list(np.arange(l,u,d)), val_scores, label=\"val\")\n",
        "plt.legend(loc='lower right')\n",
        "plt.xlabel(\"Depth\")\n",
        "plt.ylabel(\"F1-Score\")\n",
        "plt.grid()\n",
        "plt.show()"
      ],
      "metadata": {
        "colab": {
          "base_uri": "https://localhost:8080/",
          "height": 279
        },
        "id": "MtYXxL14QXgS",
        "outputId": "c9c40f24-a64a-4ca4-d241-db5f953fe002"
      },
      "execution_count": null,
      "outputs": [
        {
          "output_type": "display_data",
          "data": {
            "text/plain": [
              "<Figure size 432x288 with 1 Axes>"
            ],
            "image/png": "[encoded data removed]"
          },
          "metadata": {
            "needs_background": "light"
          }
        }
      ]
    },
    {
      "cell_type": "markdown",
      "source": [
        "* From the graph we can see that\n",
        " * When the depth is low we are underfitting\n",
        " * When the depth is high we are overfitting the data  that is why we are getting f1_score\n",
        "* You can check the distnace between both the plots and choose the point where the validation score is high and close to the train value\n",
        "* So we take 2 or 5 but not 16 because the model is overfitting.\n",
        "\n",
        "\n",
        "\n",
        "\n"
      ],
      "metadata": {
        "id": "NVjIk6jJR3mF"
      }
    },
    {
      "cell_type": "markdown",
      "source": [
        "<img src='https://drive.google.com/uc?id=158JC7CQEaEcV5ZibbkVTaD8-hT12mu3J' >\n"
      ],
      "metadata": {
        "id": "ZkJiX_53aftt"
      }
    },
    {
      "cell_type": "markdown",
      "source": [
        "**But is depth 2 okay for 30 features?**\n",
        "* Yes, it can be as the problem might be too hard and the model might capturing more values at depth=2."
      ],
      "metadata": {
        "id": "lWwPhfSfadMQ"
      }
    },
    {
      "cell_type": "markdown",
      "source": [
        "\n",
        "<img src='https://drive.google.com/uc?id=1aNzspi6BvzHpl7VEii2gDg1FOeG9eETP' >"
      ],
      "metadata": {
        "id": "eEsDvjfDaCND"
      }
    },
    {
      "cell_type": "markdown",
      "source": [
        "Let's. look at the confusion matrix at the best depth."
      ],
      "metadata": {
        "id": "lPMp6GvyVhZA"
      }
    },
    {
      "cell_type": "code",
      "source": [
        "# Model with depth_best\n",
        "from sklearn.metrics import confusion_matrix, accuracy_score, precision_score, recall_score, f1_score, precision_recall_curve\n",
        "\n",
        "best_idx = np.argmax(val_scores)\n",
        "l_best = 2 #l+d*best_idx\n",
        "print(l_best)\n",
        "clf = DecisionTreeClassifier(random_state=0, max_depth=l_best, class_weight={ 0:0.1, 1:w } )\n",
        "clf.fit(X_train, y_train)\n",
        "\n",
        "y_pred_val = clf.predict(X_val)\n",
        "val_score = f1_score(y_val, y_pred_val)\n",
        "\n",
        "print(val_score)\n",
        "\n",
        "confusion_matrix(y_val, y_pred_val)"
      ],
      "metadata": {
        "colab": {
          "base_uri": "https://localhost:8080/"
        },
        "id": "JCmBwPK0VqML",
        "outputId": "ddc49bd5-c42e-499e-967b-2c0947644db8"
      },
      "execution_count": null,
      "outputs": [
        {
          "output_type": "stream",
          "name": "stdout",
          "text": [
            "2\n",
            "0.41618497109826585\n"
          ]
        },
        {
          "output_type": "execute_result",
          "data": {
            "text/plain": [
              "array([[157,  87],\n",
              "       [ 14,  36]])"
            ]
          },
          "metadata": {},
          "execution_count": 26
        }
      ]
    },
    {
      "cell_type": "markdown",
      "source": [
        "* From the confusion matrix we can see that we have only predicted 36 people correctly and missed 14 people who are going to leave and also we have prdicted 87 wrong people.\n",
        "\n"
      ],
      "metadata": {
        "id": "IqZd4mPKV-KV"
      }
    },
    {
      "cell_type": "markdown",
      "source": [
        "### Feature Importance"
      ],
      "metadata": {
        "id": "UUiawaDTcoMe"
      }
    },
    {
      "cell_type": "markdown",
      "source": [
        "Now let's add the feature importances to the classifier\n",
        "* This computes the feature importance which is actually computed on basis of weighted information gain."
      ],
      "metadata": {
        "id": "dkOmQiPaXcmA"
      }
    },
    {
      "cell_type": "code",
      "source": [
        "# Feature importance\n",
        "importances = clf.feature_importances_\n",
        "indices = np.argsort(importances)[::-1] # Sort feature importances in descending order\n",
        "names = [X_train.columns[i] for i in indices] # Rearrange feature names so they match the sorted feature importances\n",
        "plt.figure(figsize=(15, 7)) # Create plot\n",
        "plt.title(\"Feature Importance\") # Create plot title\n",
        "plt.bar(range(X_train.shape[1]), importances[indices]) # Add bars\n",
        "plt.xticks(range(X_train.shape[1]), names, rotation=90) # Add feature names as x-axis labels\n",
        "plt.show() # Show plot"
      ],
      "metadata": {
        "colab": {
          "base_uri": "https://localhost:8080/",
          "height": 559
        },
        "id": "xx9qnANFYcm_",
        "outputId": "b89bb9e7-e0ab-4d23-8bf2-dfdcb8e930e7"
      },
      "execution_count": null,
      "outputs": [
        {
          "output_type": "display_data",
          "data": {
            "text/plain": [
              "<Figure size 1080x504 with 1 Axes>"
            ],
            "image/png": "[encoded data removed]"
          },
          "metadata": {
            "needs_background": "light"
          }
        }
      ]
    },
    {
      "cell_type": "markdown",
      "source": [
        "    importances = clf.feature_importances\n",
        "    indices = np.argsort(importances)[::-1]\n",
        "    names = [X_train.columns[i] for i in indices]\n",
        "\n",
        "\n",
        "\n",
        "* Here in this code we calculate the feature importance of features and sorting them, and finding the names of the columns in the data set with high feature inportance\n",
        "\n",
        "* And then we plot the same\n",
        "\n",
        "\n"
      ],
      "metadata": {
        "id": "js_iGpMbYebe"
      }
    },
    {
      "cell_type": "markdown",
      "source": [
        "From the graph it's clear, which features have the most importance"
      ],
      "metadata": {
        "id": "U51FG35-ameQ"
      }
    },
    {
      "cell_type": "markdown",
      "source": [
        "## Random Forest implementation"
      ],
      "metadata": {
        "id": "no3UuoiGaxlA"
      }
    },
    {
      "cell_type": "markdown",
      "source": [
        "Now, let's see the code implementation of the random forest\n",
        "\n"
      ],
      "metadata": {
        "id": "Y-ivN7kVb1jJ"
      }
    },
    {
      "cell_type": "code",
      "source": [
        "# Hyper-pram tuning + DT model\n",
        "from sklearn.ensemble import RandomForestClassifier\n",
        "from sklearn.metrics import f1_score\n",
        "\n",
        "train_scores = []\n",
        "val_scores = []\n",
        "\n",
        "l=1\n",
        "u=20\n",
        "d=1\n",
        "w=3.0\n",
        "num_learners=100\n",
        "row_sampling_rate = 0.75\n",
        "\n",
        "\n",
        "for depth in np.arange(l,u,d):\n",
        "  clf = RandomForestClassifier(max_depth=depth, max_samples=row_sampling_rate, n_estimators=num_learners, random_state=0, class_weight={ 0:0.1, 1:w } )\n",
        "  clf.fit(X_train, y_train)\n",
        "  train_y_pred = clf.predict(X_train)\n",
        "  val_y_pred = clf.predict(X_val)\n",
        "  train_score = f1_score(y_train, train_y_pred)\n",
        "  val_score = f1_score(y_val, val_y_pred)\n",
        "  train_scores.append(train_score)\n",
        "  val_scores.append(val_score)"
      ],
      "metadata": {
        "id": "EdP-jip_cx98"
      },
      "execution_count": null,
      "outputs": []
    },
    {
      "cell_type": "markdown",
      "source": [
        "* The code for Random forest is smilar to Decision tree with few changes"
      ],
      "metadata": {
        "id": "MePK25K-c-bq"
      }
    },
    {
      "cell_type": "markdown",
      "source": [
        "    \n",
        "    num_learners=100\n",
        "    row_sampling_rate = 0.75\n",
        "\n",
        "* These are the new hyperoarameters which can be used\n",
        " * we are setting the number of base learners\n",
        " * and also the percentage of  rows to be sampled\n",
        "\n",
        "\n",
        "\n"
      ],
      "metadata": {
        "id": "SUl9ysxidf5t"
      }
    },
    {
      "cell_type": "markdown",
      "source": [
        "We will plot the same"
      ],
      "metadata": {
        "id": "ybi7IuVBelBs"
      }
    },
    {
      "cell_type": "code",
      "source": [
        "import matplotlib.pyplot as plt\n",
        "\n",
        "plt.figure()\n",
        "plt.plot(list(np.arange(l,u,d)), train_scores, label=\"train\")\n",
        "plt.plot(list(np.arange(l,u,d)), val_scores, label=\"val\")\n",
        "plt.legend(loc='lower right')\n",
        "plt.xlabel(\"depth\")\n",
        "plt.ylabel(\"F1-Score\")\n",
        "plt.grid()\n",
        "plt.show()"
      ],
      "metadata": {
        "colab": {
          "base_uri": "https://localhost:8080/",
          "height": 279
        },
        "id": "9j-BPsAdeoVO",
        "outputId": "82c2c9d9-3ea9-472d-cb1c-49cfbb9de100"
      },
      "execution_count": null,
      "outputs": [
        {
          "output_type": "display_data",
          "data": {
            "text/plain": [
              "<Figure size 432x288 with 1 Axes>"
            ],
            "image/png": "[encoded data removed]"
          },
          "metadata": {
            "needs_background": "light"
          }
        }
      ]
    },
    {
      "cell_type": "markdown",
      "source": [
        "* When we increase the depth we have to decrease the sampling $\\frac{m}{n}$ and also increase the number of base learners to control overfitting\n",
        "* But here we are only increasing the depth due to which the model is overfitting more and more, Hence the f1 score decresed significantly\n",
        "* Here we choose 8 over 10 because the model become more complex"
      ],
      "metadata": {
        "id": "KL29QqWDfF9e"
      }
    },
    {
      "cell_type": "markdown",
      "source": [
        "\n",
        "\n",
        "<img src='https://drive.google.com/uc?id=10orqUbinB45d45B_UY6MWUSOeWEsHn-z' >"
      ],
      "metadata": {
        "id": "AFV9sE5cazAG"
      }
    },
    {
      "cell_type": "markdown",
      "source": [
        "<img src='https://drive.google.com/uc?id=1wwsDSifJ59ZdgO4wEOw_b80z8Brlte5I' >\n",
        "\n"
      ],
      "metadata": {
        "id": "0-GkKzDMbCXC"
      }
    },
    {
      "cell_type": "markdown",
      "source": [
        "Now let's use 8 as the best depth and see the confusion matrix for the same, just like we did for Decision tree"
      ],
      "metadata": {
        "id": "TV2PKepCgmrD"
      }
    },
    {
      "cell_type": "code",
      "source": [
        "# Model with depth_best\n",
        "from sklearn.metrics import confusion_matrix, accuracy_score, precision_score, recall_score, f1_score, precision_recall_curve\n",
        "\n",
        "best_idx = np.argmax(val_scores)\n",
        "l_best = 8 #l+d*best_idx\n",
        "clf = RandomForestClassifier(max_depth=l_best, max_samples = row_sampling_rate, n_estimators=num_learners, random_state=0, class_weight={ 0:0.1, 1:w } )\n",
        "clf.fit(X_train, y_train)\n",
        "\n",
        "y_pred_val = clf.predict(X_val)\n",
        "val_score = f1_score(y_val, y_pred_val)\n",
        "\n",
        "print(val_score)\n",
        "\n",
        "confusion_matrix(y_val, y_pred_val)"
      ],
      "metadata": {
        "id": "Q8HkUgn-g0a3"
      },
      "execution_count": null,
      "outputs": []
    },
    {
      "cell_type": "markdown",
      "source": [
        "We can clearly see the model improved slightly"
      ],
      "metadata": {
        "id": "gUisY75xg365"
      }
    },
    {
      "cell_type": "markdown",
      "source": [
        "### Feature Importance"
      ],
      "metadata": {
        "id": "AT7Y8R9act-o"
      }
    },
    {
      "cell_type": "markdown",
      "source": [
        "Now, let's compute the feature importances for the Random forest"
      ],
      "metadata": {
        "id": "XTN20dxlhPXC"
      }
    },
    {
      "cell_type": "code",
      "source": [
        "# Feature importance\n",
        "importances = clf.feature_importances_\n",
        "indices = np.argsort(importances)[::-1] # Sort feature importances in descending order\n",
        "names = [X_train.columns[i] for i in indices] # Rearrange feature names so they match the sorted feature importances\n",
        "plt.figure(figsize=(15, 7)) # Create plot\n",
        "plt.title(\"Feature Importance\") # Create plot title\n",
        "plt.bar(range(X_train.shape[1]), importances[indices]) # Add bars\n",
        "plt.xticks(range(X_train.shape[1]), names, rotation=90) # Add feature names as x-axis labels\n",
        "plt.show() # Show plot"
      ],
      "metadata": {
        "colab": {
          "base_uri": "https://localhost:8080/",
          "height": 559
        },
        "id": "0o-YU6-Chash",
        "outputId": "fd0fed7e-1b7e-45d2-cad6-4edeb30110ba"
      },
      "execution_count": null,
      "outputs": [
        {
          "output_type": "display_data",
          "data": {
            "text/plain": [
              "<Figure size 1080x504 with 1 Axes>"
            ],
            "image/png": "[encoded data removed]"
          },
          "metadata": {
            "needs_background": "light"
          }
        }
      ]
    },
    {
      "cell_type": "markdown",
      "source": [
        "* In this plot, we can see significant change when comapred to the Decision tree\n",
        "* This is because we made the model little complex due to which it is able to capture more information from the dataset."
      ],
      "metadata": {
        "id": "T5R4ZTExhgNC"
      }
    },
    {
      "cell_type": "markdown",
      "source": [
        "**How does Feature importance in a Random Forest work?**"
      ],
      "metadata": {
        "id": "zDaT9zRiidof"
      }
    },
    {
      "cell_type": "markdown",
      "source": [
        "* A simple way of finding the feature importance in Random Forest is by computing the feature importance of a feature in each Decision Tree and take the average of these values."
      ],
      "metadata": {
        "id": "cZOZ8G2_in2h"
      }
    },
    {
      "cell_type": "markdown",
      "source": [
        "**What if some base learners don't have the feature?**"
      ],
      "metadata": {
        "id": "dTa1QcLDpAjl"
      }
    },
    {
      "cell_type": "markdown",
      "source": [
        "* The importance of that feature will be considered 0, in that Base learner\n",
        "* Even if we take average of trees in which the feature is not present, it do not effect much because all the features have equal importance of being chosen.\n",
        "* Let's assume there are 100 tress and column sampling rate is 0.1 , so a feature $f_{10}$  will approximately be in 10 base learners same happens with all other features also.\n",
        "* So deviding by 10 or 100 doesn't matter  "
      ],
      "metadata": {
        "id": "ETihVzkIpHkJ"
      }
    },
    {
      "cell_type": "markdown",
      "source": [
        "\n",
        "<img src='https://drive.google.com/uc?id=1LVomOHNxqGG-_VUpvI7ApjaRW5ZEkWN_' >\n"
      ],
      "metadata": {
        "id": "OOwO7bwmbVOG"
      }
    },
    {
      "cell_type": "markdown",
      "source": [
        "**QUESTION :**\n",
        "\n",
        "**Let's assume we have a categorical feature having values A,B,C,D,E and on splitting the data A,B,C,D were split to train data set and E is in test data set, what happens when we transform this value?**\n",
        "\n",
        "* When we have such a condition the E is given the value of average of probability of $y_i=1$ which is **global average**, and this process is called **Global smoothing.**\n"
      ],
      "metadata": {
        "id": "Dq2zd7PMs9nT"
      }
    },
    {
      "cell_type": "markdown",
      "source": [
        "<img src='https://drive.google.com/uc?id=1oVfqjwdwntgIOkqD1NGelKuIU4gmM4Mk' >\n"
      ],
      "metadata": {
        "id": "NYPHa8nVbf5r"
      }
    },
    {
      "cell_type": "markdown",
      "source": [
        "## Boosting"
      ],
      "metadata": {
        "id": "etkb5pgtw7it"
      }
    },
    {
      "cell_type": "markdown",
      "source": [
        "Let's see **what is Boosting and why is it needed**.\n",
        "\n",
        "\n",
        "For this we will recap the **Bagging** and contrast the both"
      ],
      "metadata": {
        "id": "1KpY5hyvw_TY"
      }
    },
    {
      "cell_type": "markdown",
      "source": [
        " * In Bagging we had base learners which are typically of **high varaince and low bias with deep trees**\n",
        " *  Then we added **randomization like row sampling, column sampling** and also randomisation of threshold in Extra trees\n",
        " * At last we did **aggregation** of the outputs of the base learners"
      ],
      "metadata": {
        "id": "oQznbNhBdbF-"
      }
    },
    {
      "cell_type": "markdown",
      "source": [
        "In boosting we do something which is exactly opposite of the Bagging technique\n",
        "* In boosting  we have base learners which are typically of **low varaince and high bias with shallow trees**\n",
        " * Mostly uses Decision stumps (trees with depth=2)\n",
        "* And we do **Additive Combination**\n",
        "  * In Which we combine these shallow trees to make the model complex\n",
        "  "
      ],
      "metadata": {
        "id": "eF88OXS8eVjs"
      }
    },
    {
      "cell_type": "markdown",
      "source": [
        "The library **XgBoost** combines both Bagging and Boosting to give us the best model"
      ],
      "metadata": {
        "id": "-03jP06cfhOP"
      }
    },
    {
      "cell_type": "markdown",
      "source": [
        "<img src='https://drive.google.com/uc?id=14gNWmCcUndoXbWiPWEnzCR4y2zH8MItq' >\n"
      ],
      "metadata": {
        "id": "Mea2Ki4uf0WV"
      }
    },
    {
      "cell_type": "markdown",
      "source": [
        "* We already saw that error is a function of bias, variance, and some irreducable error\n",
        "  * **Error = Bias$^2$ + Varaince + irreducable error**\n",
        "* The base learners in Boosting have high bias and low variance, Here the idea is to **decrease the bias using Additive Combination**\n",
        "* Staticians have proved that through Addtitve combuination we can **reduce bias keeping our variance almost constant**\n",
        "\n"
      ],
      "metadata": {
        "id": "fjcNhi7ZgOwV"
      }
    },
    {
      "cell_type": "markdown",
      "source": [
        "\n",
        "\n",
        "<img src='https://drive.google.com/uc?id=1NseAUG7vJIWqm2FIdjuzsMmMyi-lQVOG' >"
      ],
      "metadata": {
        "id": "wIU2x1gUiEr_"
      }
    },
    {
      "cell_type": "markdown",
      "source": [
        "### Core idea of Boosting"
      ],
      "metadata": {
        "id": "8RdoXZaGiMG2"
      }
    },
    {
      "cell_type": "markdown",
      "source": [
        "Let's assume  we have our train data set $D_{tr}$ of $n$ points ${(x_i,y_i)}_{i=1}^n$\n",
        "\n",
        "And let's do this for Regression"
      ],
      "metadata": {
        "id": "WdRlexblide6"
      }
    },
    {
      "cell_type": "markdown",
      "source": [
        "Now let's build our models in stages\n",
        "\n",
        "**stage 0: $M_0$**\n",
        "\n",
        "As we are bulding a Regression model the simplest Regression model is to assign the $ŷ_i$  with the mean of all $y_i$\n",
        "\n",
        "* Our model $h_0(x)$ is a simple **Mean model**\n",
        "* Now let's find the $error_i^0$ of the values by calculating error as\n",
        " * $error_i^0$ = $y_i - ŷ_i^0$\n",
        "\n",
        "**Stage 1 $M_1$:**\n",
        "\n",
        "In stage 1  we extend the model\n",
        "* We will build a shallow Decision Tree (Worst case is Decision Stumps)\n",
        "* This model is trained on $x_i$ and $error_i^0$\n",
        "* so, the present model $h_1(x)$, is training on the errors of the previous model\n",
        "* Now, we want to combine the first and second model\n",
        "\n",
        "**How can this be done?**\n",
        "\n",
        "We can do this by summation, but instead of doing simple summation we do weighted summation of the models\n",
        "\n",
        "* So, $F_1(x) = α_0 h_0(x) + α_1 h_1 (x)$\n",
        "\n",
        "* We can find $α_0, α_1$ using some optimization algorithm\n",
        "\n",
        "Now let's find the error of this model by\n",
        " * $error_i^1$ = $y_i -F_1(x_i) $\n",
        "\n",
        "\n",
        "\n",
        "**Stage 2 $M_2$:**\n",
        "\n",
        "In stage 2, we again train a shallow Decision tree on ($x_i, error_i^1$) let this model be $h_2(x_)$\n",
        "\n",
        "* Now my final model after satge 2 becomes\n",
        " *  $F_2(x) = α_0 h_0(x) + α_1 h_1 (x) + α_2 h_2(x)$\n",
        " * Here now we only have to find $α_2$ as other values are known"
      ],
      "metadata": {
        "id": "uKjidbctli06"
      }
    },
    {
      "cell_type": "markdown",
      "source": [
        "Suppose if i keep building the models in this way\n",
        "* After $M$ Stages the final model after $M$ Stages will be  \n",
        " * $F_M(x) = ∑_{i=0}^M α_i h_i(x)$\n",
        " * Here the $h (x)$ is either a very simple mean model or a shallow tree which are underfit and wights ($α$'s) are calculated by an optimization algorithm\n",
        "\n",
        "* Simply,  here we are iteratively building our models on the error of the previous models"
      ],
      "metadata": {
        "id": "UZW-5pcir1W_"
      }
    },
    {
      "cell_type": "markdown",
      "source": [
        "<img src='https://drive.google.com/uc?id=1rvJ2pqaOZjJDNQUbSt0OiwhfN9Y5f4D-' >\n"
      ],
      "metadata": {
        "id": "ccN_rcTjvzJ5"
      }
    },
    {
      "cell_type": "markdown",
      "source": [
        "<img src='https://drive.google.com/uc?id=1xWjqkV2X0qbHXEECb93D8dfk5AXLzMNo' >\n"
      ],
      "metadata": {
        "id": "IGYMD7nRxC1u"
      }
    },
    {
      "cell_type": "markdown",
      "source": [
        "<img src='https://drive.google.com/uc?id=1jD-QlZ8L50TRc04A6cWe5Z7UrmEyFOnb' >\n"
      ],
      "metadata": {
        "id": "Ag1PX2OuxL9Q"
      }
    },
    {
      "cell_type": "markdown",
      "source": [
        "\n",
        "\n",
        "<img src='https://drive.google.com/uc?id=1rlMfGsvfuoubi53Iyp74tNvRC5d_q6dM' >\n"
      ],
      "metadata": {
        "id": "JXTEJs76xlwD"
      }
    },
    {
      "cell_type": "markdown",
      "source": [
        "* Now, our model is $F_M(x) = ∑_{i=0}^M α_i h_i(x)$\n",
        "\n",
        "* Recalling linear Regression model where\n",
        " * $F_x= ∑_{i=1}^d w_ix_i + w_0$\n",
        "\n",
        "* So, by comparing both we can say in $F_x$ simple models $h(x)$ are behaving like the features in linear regression and $α$ is behaving like the weights\n",
        "\n",
        "* In Boosting we build a bunch of simple models and do a sought of weighted additive model which as same as linear regression model\n",
        "\n",
        "\n",
        "* The errors after each stage $j$ ($error_i^j$) are called **residuals**"
      ],
      "metadata": {
        "id": "9NEEL_HGtrVC"
      }
    },
    {
      "cell_type": "markdown",
      "source": [
        "\n",
        "\n",
        "<img src='https://drive.google.com/uc?id=1zrUm835nrv9HtetiMErcszubmP4I9-Vi' >\n"
      ],
      "metadata": {
        "id": "ORUdksiNxyiQ"
      }
    },
    {
      "cell_type": "markdown",
      "source": [
        "<img src='https://drive.google.com/uc?id=1RIrx_gijux_taDcyJQwfLDbOesvzUoY5' >\n",
        "\n"
      ],
      "metadata": {
        "id": "ROADTiVNx60z"
      }
    },
    {
      "cell_type": "markdown",
      "source": [
        "* All the Boosting techniques like XgBoost, AdaBoost and any other boosting techniques are **simple variations or optimizations of the framework** that we saw."
      ],
      "metadata": {
        "id": "KlFzqDSayXSo"
      }
    },
    {
      "cell_type": "markdown",
      "source": [
        "## Mathematical Interpretation"
      ],
      "metadata": {
        "id": "RHZgptB9ZxhG"
      }
    },
    {
      "cell_type": "markdown",
      "source": [
        "So, to understand GBDT there are few concepts to be known.\n",
        "* Residuals\n",
        "* Loss-function\n",
        "* Gradients\n",
        "* Pseudo-Residuals\n",
        "\n",
        "let's see what they are"
      ],
      "metadata": {
        "id": "vSHmFp2daDBg"
      }
    },
    {
      "cell_type": "markdown",
      "source": [
        "* Let us assume we have the model $F_K(x) = ∑_{i=0}^K α_i h_i(x)$ after $K$ iterations on the train dataset  $D_{tr}$ of $n$ points ${(x_i,y_i)}_{i=1}^n$\n",
        "* In machine learning every algorithm have a loss function    \n",
        "  * In linear regression we have squared loss, for logistic we have log-loss and svm have hinge loss\n",
        " * But in GBDT we can have **any differentiable loss function**"
      ],
      "metadata": {
        "id": "cHMqYOZIazE7"
      }
    },
    {
      "cell_type": "markdown",
      "source": [
        "\n",
        "\n",
        "<img src='https://drive.google.com/uc?id=1ojL0juSKWwU0dneF94XPZtVujiMC04FY' >"
      ],
      "metadata": {
        "id": "Ve4MnEAocfkC"
      }
    },
    {
      "cell_type": "markdown",
      "source": [
        " Let's use squared loss as the example\n",
        "\n",
        "let's assume we have a loss function of $L(y_i,F_k(x))$,\n",
        "Here $F_k(x)$ is the output of the model\n",
        " * Loss for one point is $(y_i - F_k(x_i))^2$\n",
        " * Like in Gradient descent  lets differentiate the loss function with the output of the model, which gives\n",
        "  * $\\frac{d(L)}{d(F_k(x_i))} = (-1)*2* (y_i - F_k(x_i)) = -2 (y_i - F_k(x_i)) $\n",
        "   * if we multiply with -1 on both sides we get\n",
        "     * $-\\frac{d(L)}{d(F_k(x_i))} = 2 (y_i - F_k(x_i)) $\n",
        "     * Where (y_i - F_k(x_i)) is residual which is error after k models $res_{i,k}$\n",
        "\n",
        "* So, we can say that\n",
        " * residual = negative of the gradient of loss function with respect to output of the model"
      ],
      "metadata": {
        "id": "X45wnOhAcmys"
      }
    },
    {
      "cell_type": "markdown",
      "source": [
        "\n",
        "<img src='https://drive.google.com/uc?id=1pCLakOLn0_PC11ssdalknOIbq1X2Kw35' >"
      ],
      "metadata": {
        "id": "2JuijKvl0HkC"
      }
    },
    {
      "cell_type": "markdown",
      "source": [
        "<img src='https://drive.google.com/uc?id=15Bf1gtihAbBAgkmIvqM0szgczaJ8nxDa' >\n"
      ],
      "metadata": {
        "id": "jvFz7bSq0P8F"
      }
    },
    {
      "cell_type": "markdown",
      "source": [
        "Similarly in logistic regression\n",
        " we can prove that\n",
        "  * Negative gradient = $\\frac{d(L)}{d(F_k(x_i))} = y_i - p_i $"
      ],
      "metadata": {
        "id": "_JeH7npqiLdV"
      }
    },
    {
      "cell_type": "markdown",
      "source": [
        "<img src='https://drive.google.com/uc?id=1CtbCLD4cZ74Y_4Ekx3A2bHJgNme62S2f' >\n",
        "\n"
      ],
      "metadata": {
        "id": "ePi9ixo20Yje"
      }
    },
    {
      "cell_type": "markdown",
      "source": [
        "Hence for any differentiable loss function $L$, it can be proved that\n",
        "*  $\\frac{d(L)}{d(F_k(x_i))}$ = residual$_{i,k}$ which is nothing but the error, which can be used to train the further models."
      ],
      "metadata": {
        "id": "vUwmJYeRiywK"
      }
    },
    {
      "cell_type": "markdown",
      "source": [
        "<img src='https://drive.google.com/uc?id=1SdSNjfN41XM819fi98ZbQVcpbRHP88EI' >\n",
        "\n"
      ],
      "metadata": {
        "id": "HrFhB-I70gCD"
      }
    },
    {
      "cell_type": "markdown",
      "source": [
        "We can clearly say that we can train the $k+1^{th}$ model on the residual of $k^{th}$\n",
        "* But we are using the derivative of loss function which is pseudo residual,\n",
        "* So, training the model on residual or psuedo residual is same"
      ],
      "metadata": {
        "id": "VuJWU5Ne0z3a"
      }
    },
    {
      "cell_type": "markdown",
      "source": [
        "<img src='https://drive.google.com/uc?id=1ErYPgWnWnEhbiB81bJKDG-0-TV7M8GVP' >\n",
        "\n"
      ],
      "metadata": {
        "id": "lKQamnS61qfL"
      }
    },
    {
      "cell_type": "markdown",
      "source": [
        "So, in boosting if we are using the negative gradient as pseudo residual instead of using residual or error, this model is called as GBDT i.e Gradient Boosted Decision Tree"
      ],
      "metadata": {
        "id": "NWpZbFSw170e"
      }
    },
    {
      "cell_type": "markdown",
      "source": [
        "**Why are we using GBDT or psuedo residuals instead of error/ residual?**\n",
        "\n",
        "* Because it gives us the **flexibility** to use any differentiable loss function of our choice.\n"
      ],
      "metadata": {
        "id": "x9faaRz-2qmE"
      }
    },
    {
      "cell_type": "markdown",
      "source": [
        "\n",
        "\n",
        "<img src='https://drive.google.com/uc?id=1H7V4wOMUtVv1OqWSbeu8_gh3QMjLwMo0' >\n"
      ],
      "metadata": {
        "id": "utcrdG9a3m4e"
      }
    },
    {
      "cell_type": "markdown",
      "source": [],
      "metadata": {
        "id": "_mQBIWnKhJ7u"
      }
    },
    {
      "cell_type": "markdown",
      "source": [],
      "metadata": {
        "id": "xrREY7XihRSU"
      }
    }
  ]
}