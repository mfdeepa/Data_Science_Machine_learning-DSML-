{
  "cells": [
    {
      "cell_type": "markdown",
      "metadata": {
        "id": "6loyG32AiudX"
      },
      "source": [
        "# Hierarchical Clustering UseCase and Gaussian Mixture Models"
      ]
    },
    {
      "cell_type": "markdown",
      "metadata": {
        "id": "Jol4iFiMiuoH"
      },
      "source": [
        "## Content\n",
        "\n",
        "Case Study: Customer Grouping with DBSCAN\n",
        "\n",
        "Case Study: Building Stock Portfolios with Hierarchical Clustering\n",
        "\n",
        "Gaussian Mixture Models (GMMs)\n",
        "\n",
        "- Introduction and Intuition\n",
        "\n",
        "- GMM with Multiple Features\n",
        "\n",
        "- Mathematical Formulation of Gaussian Distribution\n",
        "\n",
        "- Multi-Dimensional Multi-Modal Gaussian Distributions (Mixture Models)\n",
        "\n",
        "- Finding K-Gaussians"
      ]
    },
    {
      "cell_type": "markdown",
      "metadata": {
        "id": "800zyEWgiuxb"
      },
      "source": [
        "***"
      ]
    },
    {
      "cell_type": "markdown",
      "metadata": {
        "id": "V84HTcKuiu9E"
      },
      "source": [
        "## Case Study: Customer Grouping with DBSCAN\n",
        "\n",
        "- The beauty of using DBSCAN is that it can separate outliers (noise points) as well as it can perform clustering (core and border points).\n",
        "\n",
        "- In this case study, we'll see an example of how DBSCAN can perform clustering in the presense of outliers in data.\n",
        "\n",
        "#### **How do we do Customer Grouping (Segmentation) if our customers are arbitrarily distributed with outliers in the data?**\n",
        "\n",
        "- That is, some customers (data points) act as outliers in the data.\n",
        "\n",
        "- In order to understand this, we'll use a Wholesale Customer Data.\n",
        "\n"
      ]
    },
    {
      "cell_type": "markdown",
      "metadata": {
        "id": "oEw0HNxXl_r7"
      },
      "source": [
        "### **Dataset - Wholesale Customers Data**\n",
        "\n",
        "The dataset used for this case study contains the following parameters:\n",
        "\n",
        "1. **Fresh:** annual spending (some monetary unit) on fresh products (Continuous);\n",
        "2. **Milk:** annual spending (some monetary unit) on milk products (Continuous);\n",
        "3. **Grocery:** annual spending (some monetary unit) on grocery products (Continuous);\n",
        "4. **Frozen:** annual spending (some m.u.) on frozen products (Continuous)\n",
        "5. **Detergentss_Paper:** annual spending (some m.u.) on detergents and paper products (Continuous)\n",
        "6. **Delicassen:** annual spending (some m.u.) on and delicatessen products (Continuous);\n",
        "7. **Channel:** customers Channel - (Two possible values: Horeca (Hotel/Restaurant/Cafe) or Retail channel) (Nominal)\n",
        "8. **Region:** customers Region (Three possible values: Lisnon, Oporto or Other) (Nominal)"
      ]
    },
    {
      "cell_type": "code",
      "execution_count": null,
      "metadata": {
        "colab": {
          "base_uri": "https://localhost:8080/"
        },
        "id": "FggVxknNlKi2",
        "outputId": "03ce3783-7383-4e52-f1e7-e593f8941cc9"
      },
      "outputs": [
        {
          "name": "stdout",
          "output_type": "stream",
          "text": [
            "https://drive.google.com/uc?export=download&id=1dr93lHQUchIii1lwsGoS40VcUj-rW4H1\n"
          ]
        }
      ],
      "source": [
        "id = \"1dr93lHQUchIii1lwsGoS40VcUj-rW4H1\"\n",
        "print(\"https://drive.google.com/uc?export=download&id=\" + id)"
      ]
    },
    {
      "cell_type": "code",
      "execution_count": null,
      "metadata": {
        "colab": {
          "base_uri": "https://localhost:8080/"
        },
        "id": "IrhJxeDOnV3R",
        "outputId": "0f4428e4-8e77-4193-ea9f-2dfbb32f1e91"
      },
      "outputs": [
        {
          "output_type": "stream",
          "name": "stdout",
          "text": [
            "--2022-08-08 04:49:48--  https://drive.google.com/uc?export=download&id=1dr93lHQUchIii1lwsGoS40VcUj-rW4H1\n",
            "Resolving drive.google.com (drive.google.com)... 142.250.141.138, 142.250.141.113, 142.250.141.139, ...\n",
            "Connecting to drive.google.com (drive.google.com)|142.250.141.138|:443... connected.\n",
            "HTTP request sent, awaiting response... 303 See Other\n",
            "Location: https://doc-04-ag-docs.googleusercontent.com/docs/securesc/ha0ro937gcuc7l7deffksulhg5h7mbp1/brtc8clcc0i6683ac3uupfqgcsgfsol3/1659934125000/10804243441129704195/*/1dr93lHQUchIii1lwsGoS40VcUj-rW4H1?e=download&uuid=8aa80eb3-2683-47e7-bfc2-0900443ffdde [following]\n",
            "Warning: wildcards not supported in HTTP.\n",
            "--2022-08-08 04:49:48--  https://doc-04-ag-docs.googleusercontent.com/docs/securesc/ha0ro937gcuc7l7deffksulhg5h7mbp1/brtc8clcc0i6683ac3uupfqgcsgfsol3/1659934125000/10804243441129704195/*/1dr93lHQUchIii1lwsGoS40VcUj-rW4H1?e=download&uuid=8aa80eb3-2683-47e7-bfc2-0900443ffdde\n",
            "Resolving doc-04-ag-docs.googleusercontent.com (doc-04-ag-docs.googleusercontent.com)... 142.250.141.132, 2607:f8b0:4023:c0b::84\n",
            "Connecting to doc-04-ag-docs.googleusercontent.com (doc-04-ag-docs.googleusercontent.com)|142.250.141.132|:443... connected.\n",
            "HTTP request sent, awaiting response... 200 OK\n",
            "Length: 15021 (15K) [text/csv]\n",
            "Saving to: ‘wholesaledata.csv’\n",
            "\n",
            "wholesaledata.csv   100%[===================>]  14.67K  --.-KB/s    in 0s      \n",
            "\n",
            "2022-08-08 04:49:48 (57.8 MB/s) - ‘wholesaledata.csv’ saved [15021/15021]\n",
            "\n"
          ]
        }
      ],
      "source": [
        "!wget \"https://drive.google.com/uc?export=download&id=1dr93lHQUchIii1lwsGoS40VcUj-rW4H1\" -O wholesaledata.csv"
      ]
    },
    {
      "cell_type": "code",
      "execution_count": null,
      "metadata": {
        "id": "cmiLqTmqpwW0"
      },
      "outputs": [],
      "source": [
        "from sklearn.cluster import DBSCAN\n",
        "from sklearn.preprocessing import StandardScaler\n",
        "import numpy as np\n",
        "import pandas as pd\n",
        "import matplotlib.pyplot as plt"
      ]
    },
    {
      "cell_type": "code",
      "execution_count": null,
      "metadata": {
        "colab": {
          "base_uri": "https://localhost:8080/"
        },
        "id": "eTiErzBUnV5n",
        "outputId": "e823be68-589f-40d3-dcde-d83d955a67bd"
      },
      "outputs": [
        {
          "output_type": "stream",
          "name": "stdout",
          "text": [
            "<class 'pandas.core.frame.DataFrame'>\n",
            "RangeIndex: 440 entries, 0 to 439\n",
            "Data columns (total 8 columns):\n",
            " #   Column            Non-Null Count  Dtype\n",
            "---  ------            --------------  -----\n",
            " 0   Channel           440 non-null    int64\n",
            " 1   Region            440 non-null    int64\n",
            " 2   Fresh             440 non-null    int64\n",
            " 3   Milk              440 non-null    int64\n",
            " 4   Grocery           440 non-null    int64\n",
            " 5   Frozen            440 non-null    int64\n",
            " 6   Detergents_Paper  440 non-null    int64\n",
            " 7   Delicassen        440 non-null    int64\n",
            "dtypes: int64(8)\n",
            "memory usage: 27.6 KB\n"
          ]
        }
      ],
      "source": [
        "df = pd.read_csv('./wholesaledata.csv')\n",
        "df.info()"
      ]
    },
    {
      "cell_type": "code",
      "execution_count": null,
      "metadata": {
        "colab": {
          "base_uri": "https://localhost:8080/",
          "height": 206
        },
        "id": "QpL3PhFonV79",
        "outputId": "e81e6a9a-84d7-4061-f6eb-e9f99ebc9d25"
      },
      "outputs": [
        {
          "output_type": "execute_result",
          "data": {
            "text/plain": [
              "   Channel  Region  Fresh  Milk  Grocery  Frozen  Detergents_Paper  Delicassen\n",
              "0        2       3  12669  9656     7561     214              2674        1338\n",
              "1        2       3   7057  9810     9568    1762              3293        1776\n",
              "2        2       3   6353  8808     7684    2405              3516        7844\n",
              "3        1       3  13265  1196     4221    6404               507        1788\n",
              "4        2       3  22615  5410     7198    3915              1777        5185"
            ],
            "text/html": [
              "\n",
              "  <div id=\"df-f4ef383a-c70a-42f7-b334-06ab6318cd7e\">\n",
              "    <div class=\"colab-df-container\">\n",
              "      <div>\n",
              "<style scoped>\n",
              "    .dataframe tbody tr th:only-of-type {\n",
              "        vertical-align: middle;\n",
              "    }\n",
              "\n",
              "    .dataframe tbody tr th {\n",
              "        vertical-align: top;\n",
              "    }\n",
              "\n",
              "    .dataframe thead th {\n",
              "        text-align: right;\n",
              "    }\n",
              "</style>\n",
              "<table border=\"1\" class=\"dataframe\">\n",
              "  <thead>\n",
              "    <tr style=\"text-align: right;\">\n",
              "      <th></th>\n",
              "      <th>Channel</th>\n",
              "      <th>Region</th>\n",
              "      <th>Fresh</th>\n",
              "      <th>Milk</th>\n",
              "      <th>Grocery</th>\n",
              "      <th>Frozen</th>\n",
              "      <th>Detergents_Paper</th>\n",
              "      <th>Delicassen</th>\n",
              "    </tr>\n",
              "  </thead>\n",
              "  <tbody>\n",
              "    <tr>\n",
              "      <th>0</th>\n",
              "      <td>2</td>\n",
              "      <td>3</td>\n",
              "      <td>12669</td>\n",
              "      <td>9656</td>\n",
              "      <td>7561</td>\n",
              "      <td>214</td>\n",
              "      <td>2674</td>\n",
              "      <td>1338</td>\n",
              "    </tr>\n",
              "    <tr>\n",
              "      <th>1</th>\n",
              "      <td>2</td>\n",
              "      <td>3</td>\n",
              "      <td>7057</td>\n",
              "      <td>9810</td>\n",
              "      <td>9568</td>\n",
              "      <td>1762</td>\n",
              "      <td>3293</td>\n",
              "      <td>1776</td>\n",
              "    </tr>\n",
              "    <tr>\n",
              "      <th>2</th>\n",
              "      <td>2</td>\n",
              "      <td>3</td>\n",
              "      <td>6353</td>\n",
              "      <td>8808</td>\n",
              "      <td>7684</td>\n",
              "      <td>2405</td>\n",
              "      <td>3516</td>\n",
              "      <td>7844</td>\n",
              "    </tr>\n",
              "    <tr>\n",
              "      <th>3</th>\n",
              "      <td>1</td>\n",
              "      <td>3</td>\n",
              "      <td>13265</td>\n",
              "      <td>1196</td>\n",
              "      <td>4221</td>\n",
              "      <td>6404</td>\n",
              "      <td>507</td>\n",
              "      <td>1788</td>\n",
              "    </tr>\n",
              "    <tr>\n",
              "      <th>4</th>\n",
              "      <td>2</td>\n",
              "      <td>3</td>\n",
              "      <td>22615</td>\n",
              "      <td>5410</td>\n",
              "      <td>7198</td>\n",
              "      <td>3915</td>\n",
              "      <td>1777</td>\n",
              "      <td>5185</td>\n",
              "    </tr>\n",
              "  </tbody>\n",
              "</table>\n",
              "</div>\n",
              "      <button class=\"colab-df-convert\" onclick=\"convertToInteractive('df-f4ef383a-c70a-42f7-b334-06ab6318cd7e')\"\n",
              "              title=\"Convert this dataframe to an interactive table.\"\n",
              "              style=\"display:none;\">\n",
              "        \n",
              "  <svg xmlns=\"http://www.w3.org/2000/svg\" height=\"24px\"viewBox=\"0 0 24 24\"\n",
              "       width=\"24px\">\n",
              "    <path d=\"M0 0h24v24H0V0z\" fill=\"none\"/>\n",
              "    <path d=\"M18.56 5.44l.94 2.06.94-2.06 2.06-.94-2.06-.94-.94-2.06-.94 2.06-2.06.94zm-11 1L8.5 8.5l.94-2.06 2.06-.94-2.06-.94L8.5 2.5l-.94 2.06-2.06.94zm10 10l.94 2.06.94-2.06 2.06-.94-2.06-.94-.94-2.06-.94 2.06-2.06.94z\"/><path d=\"M17.41 7.96l-1.37-1.37c-.4-.4-.92-.59-1.43-.59-.52 0-1.04.2-1.43.59L10.3 9.45l-7.72 7.72c-.78.78-.78 2.05 0 2.83L4 21.41c.39.39.9.59 1.41.59.51 0 1.02-.2 1.41-.59l7.78-7.78 2.81-2.81c.8-.78.8-2.07 0-2.86zM5.41 20L4 18.59l7.72-7.72 1.47 1.35L5.41 20z\"/>\n",
              "  </svg>\n",
              "      </button>\n",
              "      \n",
              "  <style>\n",
              "    .colab-df-container {\n",
              "      display:flex;\n",
              "      flex-wrap:wrap;\n",
              "      gap: 12px;\n",
              "    }\n",
              "\n",
              "    .colab-df-convert {\n",
              "      background-color: #E8F0FE;\n",
              "      border: none;\n",
              "      border-radius: 50%;\n",
              "      cursor: pointer;\n",
              "      display: none;\n",
              "      fill: #1967D2;\n",
              "      height: 32px;\n",
              "      padding: 0 0 0 0;\n",
              "      width: 32px;\n",
              "    }\n",
              "\n",
              "    .colab-df-convert:hover {\n",
              "      background-color: #E2EBFA;\n",
              "      box-shadow: 0px 1px 2px rgba(60, 64, 67, 0.3), 0px 1px 3px 1px rgba(60, 64, 67, 0.15);\n",
              "      fill: #174EA6;\n",
              "    }\n",
              "\n",
              "    [theme=dark] .colab-df-convert {\n",
              "      background-color: #3B4455;\n",
              "      fill: #D2E3FC;\n",
              "    }\n",
              "\n",
              "    [theme=dark] .colab-df-convert:hover {\n",
              "      background-color: #434B5C;\n",
              "      box-shadow: 0px 1px 3px 1px rgba(0, 0, 0, 0.15);\n",
              "      filter: drop-shadow(0px 1px 2px rgba(0, 0, 0, 0.3));\n",
              "      fill: #FFFFFF;\n",
              "    }\n",
              "  </style>\n",
              "\n",
              "      <script>\n",
              "        const buttonEl =\n",
              "          document.querySelector('#df-f4ef383a-c70a-42f7-b334-06ab6318cd7e button.colab-df-convert');\n",
              "        buttonEl.style.display =\n",
              "          google.colab.kernel.accessAllowed ? 'block' : 'none';\n",
              "\n",
              "        async function convertToInteractive(key) {\n",
              "          const element = document.querySelector('#df-f4ef383a-c70a-42f7-b334-06ab6318cd7e');\n",
              "          const dataTable =\n",
              "            await google.colab.kernel.invokeFunction('convertToInteractive',\n",
              "                                                     [key], {});\n",
              "          if (!dataTable) return;\n",
              "\n",
              "          const docLinkHtml = 'Like what you see? Visit the ' +\n",
              "            '<a target=\"_blank\" href=https://colab.research.google.com/notebooks/data_table.ipynb>data table notebook</a>'\n",
              "            + ' to learn more about interactive tables.';\n",
              "          element.innerHTML = '';\n",
              "          dataTable['output_type'] = 'display_data';\n",
              "          await google.colab.output.renderOutput(dataTable, element);\n",
              "          const docLink = document.createElement('div');\n",
              "          docLink.innerHTML = docLinkHtml;\n",
              "          element.appendChild(docLink);\n",
              "        }\n",
              "      </script>\n",
              "    </div>\n",
              "  </div>\n",
              "  "
            ]
          },
          "metadata": {},
          "execution_count": 4
        }
      ],
      "source": [
        "df.head()"
      ]
    },
    {
      "cell_type": "markdown",
      "metadata": {
        "id": "H_PPwtDe3Wdo"
      },
      "source": [
        "- The dataset consists of 440 customers and has 8 attributes for each of these customers.\n",
        "\n",
        "- No missing values\n",
        "\n",
        "- Only two variables are **non-continuous (categorical)** in nature: Channel and Region.\n",
        "\n",
        "- So for easing our computations, we will drop these two categorical features."
      ]
    },
    {
      "cell_type": "code",
      "execution_count": null,
      "metadata": {
        "id": "qS2p1PoDnV-W"
      },
      "outputs": [],
      "source": [
        "# Dropping categorical variables for simplicity\n",
        "df.drop([\"Channel\", \"Region\"], axis = 1, inplace = True)"
      ]
    },
    {
      "cell_type": "markdown",
      "metadata": {
        "id": "qlbCaOEg3ncO"
      },
      "source": [
        "### **Visualizing the data in 2D**\n",
        "\n",
        "Using 2 features:\n",
        "\n",
        "1. **Grocery:** The customer’s annual spending (in some monetary unit) on grocery products.\n",
        "2. **Milk:** The customer’s annual spending (in some monetary unit) on milk products.\n",
        "\n",
        "#### Let's plot two features data now:"
      ]
    },
    {
      "cell_type": "code",
      "execution_count": null,
      "metadata": {
        "colab": {
          "base_uri": "https://localhost:8080/",
          "height": 279
        },
        "id": "CSJYkcj1nWlG",
        "outputId": "435154dd-f2db-4101-9117-64df66fb0fb1"
      },
      "outputs": [
        {
          "output_type": "display_data",
          "data": {
            "text/plain": [
              "<Figure size 432x288 with 1 Axes>"
            ],
            "image/png": "[encoded data removed]"
          },
          "metadata": {
            "needs_background": "light"
          }
        }
      ],
      "source": [
        "x = df['Grocery']\n",
        "y = df['Milk']\n",
        "\n",
        "plt.scatter(x,y)\n",
        "plt.xlabel(\"Groceries\")\n",
        "plt.ylabel(\"Milk\")\n",
        "plt.show()"
      ]
    },
    {
      "cell_type": "markdown",
      "metadata": {
        "id": "rzQBMdgh4K3Y"
      },
      "source": [
        "- We can easily see the data points that are far away from rest of the data points.\n",
        "- Well, those are our **outlier** data points.\n",
        "\n",
        "#### **Question: Why don't we just use K-Means here?**\n",
        "\n",
        "- **K-Means is sensitive to outliers** and will try to cluster the outliers as well.\n",
        "\n",
        "\n",
        "#### **So which clustering algorithm is robust with outliers and can help us identify the same?**\n",
        "\n",
        "- DBSCAN\n",
        "\n",
        "#### **Remember?**\n",
        "- DBSCAN algorithm is based on this intuitive notion of “clusters” and “noise”.\n",
        "- The key idea is that for each point of a cluster, the neighborhood of a given radius has to contain at least a minimum number of points.\n",
        "\n",
        "### **Important Hyperparameters in DBSCAN**\n",
        "As a reminder:\n",
        "\n",
        "- **Eps:** It specifies how close points should be to each other to be considered a part of a cluster. It means that if the distance between two points is lower or equal to this value (Eps), these points are considered neighbours.\n",
        "\n",
        "- **minPoints:** It's the minimum number of points to form a dense region. For example, if we set the minPoints parameter as 5, then we need at least 5 points to form a dense region.\n",
        "\n",
        "<img src='https://drive.google.com/uc?id=18t4IZDJcASfzTre6Uejw2K5rKno8nXA6'>\n",
        "\n",
        "\n",
        "### **DBSCAN Algorithm**\n",
        "As a reminder, DBSCAN Algorithm has following steps:\n",
        "\n",
        "1. For each point, the algorithm counts how many points are located within a small distance **Eps** (epsilon) from it. This region is called the points epsilon-neighborhood.\n",
        "\n",
        "2. If an point has at least **minPts** points in its neighborhood (including itself), then it is considered as a **core point**. In other words, core points are those that are located in dense regions.\n",
        "\n",
        "3. All points in the neighborhood of a core point belong to the same cluster. This neighborhood may include other core points and **border points**; therefore, a long sequence of neighboring points forms a single cluster.\n",
        "\n",
        "4. Noise: Any point that is not a core point and does not have one in its neighborhood is considered a **noise point** (anomaly).\n"
      ]
    },
    {
      "cell_type": "markdown",
      "metadata": {
        "id": "ccYPAU4o8jia"
      },
      "source": [
        "### **Goal**\n",
        "- For our case, with DBSCAN, we want to identify this main cluster of customers.\n",
        "- But we also want to flag customers with more unusual annual purchasing habits as outliers."
      ]
    },
    {
      "cell_type": "markdown",
      "metadata": {
        "id": "XAWxn2ey9YTG"
      },
      "source": [
        "### **Scaling the Features**\n",
        "\n",
        "- Because the values of the data are in the thousands, we are going to normalize each attribute by scaling it to 0 mean and unit variance.\n",
        "- This helps to keep the inter-relationships between the features intact so that a small change in one feature would reflect in the other."
      ]
    },
    {
      "cell_type": "code",
      "execution_count": null,
      "metadata": {
        "id": "CSm8WbbGnWne"
      },
      "outputs": [],
      "source": [
        "df = df[['Grocery', 'Milk']]\n",
        "std_scaler = StandardScaler().fit(df)\n",
        "std_df = std_scaler.transform(df)"
      ]
    },
    {
      "cell_type": "code",
      "execution_count": null,
      "metadata": {
        "colab": {
          "base_uri": "https://localhost:8080/"
        },
        "id": "nAed_qltnWqF",
        "outputId": "7315840f-5af7-498f-ff56-22c0ee28086c"
      },
      "outputs": [
        {
          "output_type": "execute_result",
          "data": {
            "text/plain": [
              "array([[-4.11148934e-02,  5.23567773e-01],\n",
              "       [ 1.70318354e-01,  5.44457667e-01],\n",
              "       [-2.81571010e-02,  4.08537706e-01],\n",
              "       [-3.92976899e-01, -6.24019925e-01],\n",
              "       [-7.93561833e-02, -5.23964546e-02],\n",
              "       [-2.97637045e-01,  3.34066589e-01],\n",
              "       [-1.02848766e-01, -3.52315651e-01],\n",
              "       [ 1.55358951e-01, -1.13980948e-01],\n",
              "       [-1.85336177e-01, -2.91409401e-01],\n",
              "       [ 1.15142340e+00,  7.18494904e-01],\n",
              "       [ 5.29133322e-01, -5.33459952e-02],\n",
              "       [-3.61161832e-01, -6.33786629e-01],\n",
              "       [ 4.00924920e-01,  8.84800166e-01],\n",
              "       [ 7.40671917e-01,  5.58511794e-02],\n",
              "       [ 4.36111121e-01,  4.97658878e-01],\n",
              "       [-4.35116062e-01, -6.35143116e-01],\n",
              "       [ 4.39271558e-01,  4.09622895e-01],\n",
              "       [-5.28665002e-01,  4.89330975e-02],\n",
              "       [ 2.26258092e-01,  7.19933704e-02],\n",
              "       [ 1.59362172e-01, -4.47812310e-01],\n",
              "       [-3.52839347e-01, -1.73259414e-01],\n",
              "       [-6.25901120e-01, -6.68105741e-01],\n",
              "       [-3.66850619e-01, -5.26217238e-01],\n",
              "       [ 1.48200513e+00,  4.15447557e+00],\n",
              "       [ 6.15307909e-01,  5.39845613e-01],\n",
              "       [-3.75330646e-02, -2.12461878e-01],\n",
              "       [-5.36250052e-01, -6.55897361e-01],\n",
              "       [-5.16866037e-01, -6.77329850e-01],\n",
              "       [ 1.89686519e+00,  1.99237151e+00],\n",
              "       [-5.62797724e-01, -5.01393533e-01],\n",
              "       [ 3.32448781e-01, -2.96564050e-01],\n",
              "       [-5.07595421e-01, -1.97676174e-01],\n",
              "       [-5.33616354e-01, -6.07470788e-01],\n",
              "       [-6.58716513e-02, -1.37041221e-01],\n",
              "       [-5.99353447e-01, -5.17807021e-01],\n",
              "       [ 3.30763215e-01, -4.14089128e-02],\n",
              "       [-2.65821977e-01, -1.94556255e-01],\n",
              "       [ 4.76775412e-01,  6.45651571e-01],\n",
              "       [ 9.22607751e-01,  1.34736211e+00],\n",
              "       [-7.42626599e-01, -7.10970719e-01],\n",
              "       [-3.36510422e-01, -1.98625714e-01],\n",
              "       [-2.10198283e-01, -3.70492572e-01],\n",
              "       [ 7.38459611e-01,  2.38569930e-01],\n",
              "       [ 1.69048864e+00,  7.18766201e-01],\n",
              "       [ 2.65447513e-01,  1.66947435e-01],\n",
              "       [ 1.43059535e+00,  2.20398342e+00],\n",
              "       [ 1.47526287e+00,  1.12218533e+00],\n",
              "       [ 5.01663807e+00,  6.57390514e+00],\n",
              "       [ 3.07270632e-01,  4.82548542e-02],\n",
              "       [ 2.20911638e+00,  2.11825347e+00],\n",
              "       [-6.29061557e-01, -6.37720440e-01],\n",
              "       [-1.00636460e-01, -2.36742989e-01],\n",
              "       [-2.18626115e-01, -2.55055559e-01],\n",
              "       [ 3.77221641e-01,  6.34392732e-01],\n",
              "       [-6.32538038e-01, -5.89700813e-01],\n",
              "       [-3.10384141e-01, -2.86661697e-01],\n",
              "       [ 1.99262643e+00,  3.26855414e+00],\n",
              "       [ 2.67133079e-01,  5.61142453e-01],\n",
              "       [-6.64037062e-01, -5.19027859e-01],\n",
              "       [ 9.34675353e-03, -5.91788878e-02],\n",
              "       [-1.02479570e-02, -3.73205545e-01],\n",
              "       [ 5.44087409e+00,  4.41844787e+00],\n",
              "       [-1.48253714e-01,  6.08701800e-02],\n",
              "       [ 8.24212806e-01,  7.87404425e-01],\n",
              "       [-4.95269716e-01, -6.19814816e-01],\n",
              "       [ 3.99023342e+00,  2.05680462e+00],\n",
              "       [-5.62849919e-02, -5.78170677e-01],\n",
              "       [ 5.80543100e-01,  1.30593593e-01],\n",
              "       [-4.16996222e-01,  1.98553574e-01],\n",
              "       [-7.01435568e-01, -4.03726495e-01],\n",
              "       [-5.00326416e-01, -5.09939399e-01],\n",
              "       [ 1.37908023e+00, -6.14524519e-01],\n",
              "       [-5.57319633e-01, -8.91572425e-02],\n",
              "       [ 8.02458943e-02, -6.29770504e-02],\n",
              "       [ 1.94126981e-01,  7.41637491e-02],\n",
              "       [-8.37334367e-01, -6.32023196e-01],\n",
              "       [-1.49517889e-01, -2.99683969e-01],\n",
              "       [ 2.16897883e+00,  9.36075361e-01],\n",
              "       [-6.19896289e-01, -6.26868547e-01],\n",
              "       [-4.52603814e-01, -3.44176731e-01],\n",
              "       [-5.20658561e-01, -6.73802985e-01],\n",
              "       [ 6.79675479e-01,  5.07832528e-01],\n",
              "       [ 3.22124686e-01,  4.66052740e-01],\n",
              "       [-6.49815094e-01, -5.74236865e-01],\n",
              "       [-3.30505591e-01, -3.34952622e-01],\n",
              "       [ 8.93652831e+00,  5.48030561e+00],\n",
              "       [ 2.54549224e+00,  9.18364979e+00],\n",
              "       [ 1.74585423e-02, -1.04621190e-01],\n",
              "       [-4.11834175e-01, -7.12734151e-01],\n",
              "       [-2.76146072e-01, -2.65907452e-01],\n",
              "       [-6.65090541e-01, -7.05409124e-01],\n",
              "       [-5.71120208e-01, -4.11594117e-01],\n",
              "       [ 2.53706441e+00,  2.94028437e+00],\n",
              "       [-6.20423028e-01, -3.67101355e-01],\n",
              "       [ 3.55203929e-01,  8.71370948e-01],\n",
              "       [-1.79015302e-01, -3.90161628e-01],\n",
              "       [ 1.75638902e-02, -4.31398822e-01],\n",
              "       [-7.73388188e-01, -7.51800967e-01],\n",
              "       [-7.55689740e-01, -7.71063077e-01],\n",
              "       [-6.36541258e-01, -4.90270342e-01],\n",
              "       [ 4.41694560e-01,  2.68955231e-01],\n",
              "       [ 8.76043976e-01,  6.80106332e-01],\n",
              "       [-2.88945363e-02,  8.98989941e-02],\n",
              "       [ 1.00578040e-01, -3.10942808e-01],\n",
              "       [-4.74726874e-01, -4.97052775e-01],\n",
              "       [-4.19419224e-01, -6.48707982e-01],\n",
              "       [ 2.89993575e-01,  7.33498571e-02],\n",
              "       [ 7.30558518e-01,  6.57859951e-01],\n",
              "       [-1.02216679e-01,  3.52786105e-01],\n",
              "       [ 2.21596399e+00,  1.48301077e+00],\n",
              "       [-6.59191058e-01, -5.62706729e-01],\n",
              "       [ 1.01320695e+00,  7.21343525e-01],\n",
              "       [-5.77546431e-01, -4.10508928e-01],\n",
              "       [-6.55082490e-01, -4.74942043e-01],\n",
              "       [-6.26954599e-01, -6.39755170e-01],\n",
              "       [-5.22870868e-01, -6.78686337e-01],\n",
              "       [-4.84208186e-01, -4.44285445e-01],\n",
              "       [-2.70878676e-01, -2.59938911e-01],\n",
              "       [-5.88818657e-01, -5.29744104e-01],\n",
              "       [-6.11468456e-01, -4.68295259e-01],\n",
              "       [-4.78203355e-01, -6.23477330e-01],\n",
              "       [-6.79839247e-01, -3.47567948e-01],\n",
              "       [-8.11840174e-01, -7.58990346e-01],\n",
              "       [ 9.08860328e-02,  6.74544736e-01],\n",
              "       [-5.25715261e-01, -5.63520621e-01],\n",
              "       [-8.94695823e-02, -3.15147917e-01],\n",
              "       [-6.62983582e-01, -5.36662185e-01],\n",
              "       [ 2.87991965e-01,  1.96247547e-01],\n",
              "       [-4.34905366e-01,  4.13828004e-01],\n",
              "       [-6.78575073e-01, -6.60645064e-01],\n",
              "       [-7.64012224e-01, -4.56900771e-01],\n",
              "       [-8.04571168e-01, -7.06358664e-01],\n",
              "       [-5.76492952e-01, -5.10617642e-01],\n",
              "       [-7.07545747e-01, -6.44909819e-01],\n",
              "       [-6.08624063e-01, -5.30964942e-01],\n",
              "       [-5.64693986e-01, -6.11404599e-01],\n",
              "       [-9.70546315e-02,  3.77474162e-01],\n",
              "       [ 3.48409468e-02,  3.09785479e-01],\n",
              "       [-3.07329052e-01, -2.08799364e-01],\n",
              "       [-4.85472361e-01, -1.10861029e-01],\n",
              "       [-6.80839574e-02, -2.05679445e-01],\n",
              "       [-2.91000126e-01,  1.01136037e+00],\n",
              "       [ 3.17858575e-02,  1.83903518e-01],\n",
              "       [-7.22189106e-01, -5.69760459e-01],\n",
              "       [-6.28218774e-01, -2.87475589e-01],\n",
              "       [ 2.82761393e+00,  3.51022672e-01],\n",
              "       [-6.08308019e-01, -5.23639914e-01],\n",
              "       [-5.52473629e-01, -3.28712783e-01],\n",
              "       [-7.80551846e-01, -7.07036908e-01],\n",
              "       [-6.63721018e-01, -5.91871192e-01],\n",
              "       [-6.51711357e-01, -5.38696915e-01],\n",
              "       [-6.24636945e-01, -3.34816973e-01],\n",
              "       [-5.07384725e-01, -6.00281409e-01],\n",
              "       [-5.88186569e-01,  4.68494416e-01],\n",
              "       [-8.23217747e-01, -7.78795051e-01],\n",
              "       [ 1.21241984e+00,  6.63828492e-01],\n",
              "       [ 7.27292733e-01, -6.85386456e-02],\n",
              "       [-5.77019691e-01, -6.00959652e-01],\n",
              "       [ 1.75585749e-01,  1.04955996e-01],\n",
              "       [ 7.09067545e-01,  2.58781581e-01],\n",
              "       [ 5.13120440e-01, -2.91002455e-01],\n",
              "       [-8.07836953e-01, -7.13005449e-01],\n",
              "       [-4.36274889e-01, -5.11702831e-01],\n",
              "       [ 1.99304782e+00,  1.34695516e+00],\n",
              "       [ 6.66560144e-02,  2.45081066e-01],\n",
              "       [ 1.25434831e+00,  9.30106820e-01],\n",
              "       [ 1.28389887e-01,  1.25438944e-01],\n",
              "       [-4.93373454e-01, -3.52858246e-01],\n",
              "       [-7.53056042e-01, -6.86553959e-01],\n",
              "       [-6.10625673e-01, -6.88995635e-01],\n",
              "       [ 5.77171967e-01,  3.90496434e-01],\n",
              "       [ 1.24992369e+00,  2.72189002e+00],\n",
              "       [-1.49096497e-01, -4.30366967e-02],\n",
              "       [ 1.24876487e+00,  2.55119067e-01],\n",
              "       [-2.85522035e-01, -6.22392141e-01],\n",
              "       [ 4.13250625e-01,  2.77908043e-01],\n",
              "       [-1.49096497e-01,  1.57587677e-01],\n",
              "       [-3.60108353e-01,  2.08048981e-01],\n",
              "       [-3.16705016e-01,  1.73458571e-01],\n",
              "       [-5.74280646e-01, -1.23205057e-01],\n",
              "       [ 9.85764299e-02,  3.25196092e-02],\n",
              "       [ 1.07420339e+00,  3.23260724e+00],\n",
              "       [ 2.70398865e-01,  3.71234323e-01],\n",
              "       [ 1.28721685e+00,  5.17550306e+00],\n",
              "       [-3.41461773e-01, -6.61730254e-01],\n",
              "       [-7.17659146e-01,  8.84068588e-02],\n",
              "       [-7.47683299e-01, -7.15582773e-01],\n",
              "       [ 1.96760678e-01,  2.99204883e-01],\n",
              "       [ 3.93550567e-01,  2.49964418e-01],\n",
              "       [ 3.76168162e-01,  7.84148857e-01],\n",
              "       [-6.28956209e-01,  6.15484233e-02],\n",
              "       [-6.92164952e-01, -7.46239371e-01],\n",
              "       [-6.00512274e-01, -5.88073029e-01],\n",
              "       [ 1.30006930e+00, -3.13520133e-01],\n",
              "       [-5.24345738e-01, -6.48979279e-01],\n",
              "       [-2.86680862e-01, -8.91572425e-02],\n",
              "       [-3.21761715e-01,  1.91635492e-01],\n",
              "       [ 2.57019681e-01,  1.76442842e-01],\n",
              "       [-1.18756300e-01, -4.94068505e-01],\n",
              "       [-6.15155633e-01, -4.76976773e-01],\n",
              "       [ 1.59873061e+00,  1.00973259e+00],\n",
              "       [ 1.76528565e+00,  1.16694939e+00],\n",
              "       [ 1.62101217e-01,  7.71940477e-01],\n",
              "       [-6.04199451e-01, -6.93336392e-01],\n",
              "       [-2.87102254e-01, -6.65392768e-01],\n",
              "       [ 1.64813878e+00,  8.02325778e-01],\n",
              "       [-7.37569900e-01, -6.80449769e-01],\n",
              "       [-1.96187011e-01, -1.43688005e-01],\n",
              "       [-2.22629335e-01, -2.77844534e-01],\n",
              "       [ 9.28717929e-01,  9.40416118e-01],\n",
              "       [-6.90900778e-01, -5.29201509e-01],\n",
              "       [ 3.34402937e+00,  3.05612833e+00],\n",
              "       [-6.20423028e-01, -6.48979279e-01],\n",
              "       [-1.14858428e-01,  1.09296753e-01],\n",
              "       [ 3.59523193e-01,  1.02378671e-01],\n",
              "       [ 7.99245353e-01,  6.74002142e-01],\n",
              "       [ 3.00607329e+00,  1.46537645e+00],\n",
              "       [-6.22108595e-01, -5.86173948e-01],\n",
              "       [ 7.64164500e-01,  2.31651848e-01],\n",
              "       [-6.91216821e-01, -7.36472668e-01],\n",
              "       [-6.92059605e-01, -6.64307578e-01],\n",
              "       [ 2.83883397e-01,  2.31516199e-01],\n",
              "       [-5.36776791e-01, -6.35007467e-01],\n",
              "       [-2.82993686e-01, -4.43471553e-01],\n",
              "       [-6.79733900e-01, -6.96863258e-01],\n",
              "       [-3.99719165e-01, -3.46347110e-01],\n",
              "       [ 1.32814499e-01,  1.69200128e-02],\n",
              "       [-6.72991634e-01, -4.87286072e-01],\n",
              "       [-7.77391408e-01, -7.07986448e-01],\n",
              "       [-5.74175298e-01, -4.13764496e-01],\n",
              "       [-2.46121918e-01,  2.61441220e-02],\n",
              "       [-4.34378626e-01,  6.62200708e-01],\n",
              "       [-4.33325147e-01, -5.44801105e-01],\n",
              "       [-4.88316754e-01, -1.10182785e-01],\n",
              "       [-4.33851887e-01, -4.19597388e-01],\n",
              "       [-5.40147924e-01,  7.91827496e-02],\n",
              "       [-5.16655341e-01, -6.75023823e-01],\n",
              "       [-7.75179102e-01, -2.65636155e-01],\n",
              "       [-7.76021886e-01, -7.21822612e-01],\n",
              "       [-4.39540674e-01, -4.38045607e-01],\n",
              "       [-9.58958046e-02, -3.01311753e-01],\n",
              "       [-5.76914343e-01, -5.41952483e-01],\n",
              "       [-5.30666613e-01, -6.96863258e-01],\n",
              "       [-2.98374480e-01, -3.01176105e-01],\n",
              "       [ 3.01897888e-01,  2.68412636e-01],\n",
              "       [ 6.28371049e-01,  4.85261515e-02],\n",
              "       [-6.50447182e-01, -4.56900771e-01],\n",
              "       [-7.86135285e-01, -7.39321290e-01],\n",
              "       [-5.84183349e-01, -7.01664296e-02],\n",
              "       [-6.19580245e-01, -2.71469047e-01],\n",
              "       [-6.48129528e-01, -5.15907940e-01],\n",
              "       [ 2.70056436e+00,  2.35170482e+00],\n",
              "       [-3.38301336e-01, -5.33949212e-01],\n",
              "       [ 9.49682162e-01,  2.93643288e-01],\n",
              "       [-3.37458553e-01,  1.65162206e+00],\n",
              "       [-6.80155291e-01, -7.19923531e-01],\n",
              "       [-2.84679252e-01, -1.06927218e-01],\n",
              "       [-6.39280304e-01, -5.24318157e-01],\n",
              "       [-6.13891458e-01, -1.67290873e-01],\n",
              "       [-6.48181723e-02, -1.13574002e-01],\n",
              "       [-6.10414977e-01, -1.23612003e-01],\n",
              "       [-7.22399801e-01, -6.35685710e-01],\n",
              "       [-6.60981972e-01, -6.00145760e-01],\n",
              "       [-1.33505007e-01, -6.35007467e-01],\n",
              "       [ 7.89447997e-01,  5.26687692e-01],\n",
              "       [ 6.05510554e-01,  2.40515039e+00],\n",
              "       [ 1.49917684e+00,  5.38082180e-01],\n",
              "       [-5.66274205e-01, -6.20493060e-01],\n",
              "       [ 1.25318948e+00,  3.06122965e-01],\n",
              "       [-7.17764494e-01, -7.51258372e-01],\n",
              "       [-7.34936202e-01, -6.46266306e-01],\n",
              "       [-6.72991634e-01, -1.07062866e-01],\n",
              "       [-1.14015644e-01,  3.42748104e-01],\n",
              "       [-6.80365987e-01, -3.73205545e-01],\n",
              "       [-6.43704916e-01, -5.55246052e-01],\n",
              "       [-8.14157828e-01, -5.67861378e-01],\n",
              "       [-1.04007593e-01, -2.77708886e-01],\n",
              "       [-7.65697791e-01, -6.73802985e-01],\n",
              "       [-5.69750686e-01, -4.71957773e-01],\n",
              "       [ 1.83592190e-01,  5.47659901e-02],\n",
              "       [-5.81549651e-01, -3.95044980e-01],\n",
              "       [-1.80806217e-01,  1.77934977e-01],\n",
              "       [-3.89711114e-01, -2.48408774e-01],\n",
              "       [-6.25585076e-01, -2.96157104e-01],\n",
              "       [ 4.90681336e-01, -1.87909470e-01],\n",
              "       [-4.58397949e-01, -6.99440582e-01],\n",
              "       [-7.06808311e-01, -4.81453179e-01],\n",
              "       [-5.39726532e-01, -5.01122235e-01],\n",
              "       [-7.01119524e-01, -7.05680421e-01],\n",
              "       [-7.88031547e-01, -7.47460209e-01],\n",
              "       [-5.59321243e-01, -4.93254613e-01],\n",
              "       [-4.94110889e-01, -3.31290108e-01],\n",
              "       [-3.81599326e-01, -3.67643950e-01],\n",
              "       [ 4.75932629e-01,  7.19851390e-01],\n",
              "       [-1.47621626e-01, -5.13194967e-01],\n",
              "       [-2.86259471e-01, -5.28930212e-01],\n",
              "       [-4.53867989e-01, -6.09369869e-01],\n",
              "       [-1.01689939e-01, -3.52315651e-01],\n",
              "       [ 2.12141473e-01, -1.67697819e-01],\n",
              "       [-6.20633724e-01, -6.67020552e-01],\n",
              "       [-1.67637729e-01,  6.05988826e-02],\n",
              "       [ 1.31134152e+00,  1.02004188e+00],\n",
              "       [ 1.93178849e-01, -6.70465103e-02],\n",
              "       [ 6.19205781e-01, -2.85983454e-01],\n",
              "       [ 1.77213326e+00,  2.25683307e-01],\n",
              "       [ 9.48892532e-02,  9.68902337e-01],\n",
              "       [ 1.43470392e+00,  9.59135634e-01],\n",
              "       [-5.38251662e-01, -4.64225799e-01],\n",
              "       [-5.20869257e-01, -6.47894090e-01],\n",
              "       [ 5.91604630e-01,  2.01556743e+00],\n",
              "       [-5.84288697e-01, -5.83867921e-01],\n",
              "       [ 3.46302510e-02, -4.69516097e-01],\n",
              "       [ 1.18207964e+00, -2.79336670e-01],\n",
              "       [-5.84288697e-01, -6.60780713e-01],\n",
              "       [-3.20549735e-02, -5.42766375e-01],\n",
              "       [ 4.18518020e-01,  1.24603256e+00],\n",
              "       [-6.05779670e-01, -5.99738814e-01],\n",
              "       [-1.93553313e-01, -3.67372653e-01],\n",
              "       [-4.62822561e-01, -4.18240902e-01],\n",
              "       [ 1.02121339e+00,  2.61459193e+00],\n",
              "       [-5.97457185e-01, -2.84898265e-01],\n",
              "       [-2.93317780e-01, -5.28930212e-01],\n",
              "       [-4.88422102e-01, -6.89538230e-01],\n",
              "       [ 3.83647864e-01, -6.58203388e-01],\n",
              "       [-5.78073170e-01, -2.99683969e-01],\n",
              "       [ 5.97820156e-01,  1.49047145e+00],\n",
              "       [-6.86897557e-01, -5.67861378e-01],\n",
              "       [-6.62351495e-01, -6.64307578e-01],\n",
              "       [-4.80626357e-01, -4.86607828e-01],\n",
              "       [-3.54840957e-01, -5.84681812e-01],\n",
              "       [-2.99427959e-01, -5.43987213e-01],\n",
              "       [ 1.98978204e+00,  1.23233204e+00],\n",
              "       [-6.85211991e-01, -3.50009624e-01],\n",
              "       [ 6.25205297e+00, -1.10725380e-01],\n",
              "       [-5.48681104e-01, -6.60373767e-01],\n",
              "       [ 2.99053495e-01,  1.38461216e-01],\n",
              "       [-6.97537696e-01, -5.81290596e-01],\n",
              "       [-5.62587028e-01, -6.03536977e-01],\n",
              "       [-9.80027627e-02, -7.41084722e-01],\n",
              "       [-2.75935376e-01, -6.25105114e-01],\n",
              "       [ 1.81063840e-01, -2.40269854e-01],\n",
              "       [ 3.46249357e-01, -4.51247613e-03],\n",
              "       [-2.13674763e-01, -5.19071945e-03],\n",
              "       [ 1.93468508e+00,  1.58401569e-01],\n",
              "       [-6.51922052e-01, -6.27275493e-01],\n",
              "       [ 4.04243858e-02, -4.33297903e-01],\n",
              "       [ 7.99561396e-01,  1.55010353e-01],\n",
              "       [ 4.59287660e-01,  1.88244276e-01],\n",
              "       [-6.24004857e-01, -4.63411907e-01],\n",
              "       [ 1.32419397e+00,  1.19977636e+00],\n",
              "       [-6.27270642e-01, -6.37177845e-01],\n",
              "       [ 1.51097581e+00,  5.76199455e-01],\n",
              "       [-6.76152071e-01, -6.36228305e-01],\n",
              "       [ 1.39604124e+00,  6.34475046e-02],\n",
              "       [-5.69223946e-01,  2.16594846e-01],\n",
              "       [-6.25690424e-01, -6.87639149e-01],\n",
              "       [-8.14684567e-01, -7.68078806e-01],\n",
              "       [ 1.50865815e+00, -6.13303681e-01],\n",
              "       [-6.62772887e-01,  1.74549094e+00],\n",
              "       [-6.15471677e-01,  1.10871202e-02],\n",
              "       [-6.26322511e-01, -3.96672764e-01],\n",
              "       [-7.46629820e-01, -7.03916988e-01],\n",
              "       [-5.79231997e-01, -5.69082216e-01],\n",
              "       [-3.70116404e-01, -6.51014009e-01],\n",
              "       [-6.77100202e-01, -6.67834444e-01],\n",
              "       [ 7.76653494e-03,  4.49992863e-02],\n",
              "       [-6.62351495e-01, -4.85522639e-01],\n",
              "       [-7.81394629e-01, -6.64985822e-01],\n",
              "       [-5.84183349e-01, -6.24019925e-01],\n",
              "       [-7.65697791e-01, -7.40542128e-01],\n",
              "       [-3.15651536e-01, -2.51257396e-01],\n",
              "       [-6.33380821e-01, -5.30286698e-01],\n",
              "       [-6.64774497e-01, -2.70655155e-01],\n",
              "       [-5.82866021e-02,  6.24979639e-02],\n",
              "       [-6.61930103e-01, -4.80232341e-01],\n",
              "       [-7.15236144e-01, -5.89565164e-01],\n",
              "       [ 5.93606240e-01,  3.84392244e-01],\n",
              "       [-5.58689156e-01, -3.58419841e-01],\n",
              "       [-6.37278693e-01, -3.39429028e-01],\n",
              "       [ 2.57019681e-01, -8.57660259e-02],\n",
              "       [-6.11573804e-01, -6.58203388e-01],\n",
              "       [-6.67302847e-01, -1.63492710e-01],\n",
              "       [ 5.45410052e-02,  2.22292090e-01],\n",
              "       [-4.74200135e-01, -6.01230950e-01],\n",
              "       [ 7.84707342e-01,  2.17875277e+00],\n",
              "       [-6.67618890e-01, -6.61187659e-01],\n",
              "       [-5.36671443e-01, -2.95207563e-01],\n",
              "       [-6.71938154e-01, -5.26352887e-01],\n",
              "       [-7.14182665e-01, -6.71225660e-01],\n",
              "       [-6.87845688e-01, -5.78713271e-01],\n",
              "       [-6.97748391e-01, -6.26054655e-01],\n",
              "       [-5.93980704e-01, -4.11729766e-01],\n",
              "       [-4.58397949e-01, -2.19244311e-01],\n",
              "       [-4.32903756e-01,  1.26659782e-01],\n",
              "       [-5.00115720e-01, -6.68919633e-01],\n",
              "       [-7.04596005e-01, -6.07742085e-01],\n",
              "       [ 1.46825771e-01,  8.40307404e-01],\n",
              "       [-6.87213601e-01, -5.60265053e-01],\n",
              "       [-7.76337929e-01, -6.46266306e-01],\n",
              "       [-7.39150119e-01, -7.07986448e-01],\n",
              "       [-7.07229703e-01, -6.63358038e-01],\n",
              "       [-6.13470067e-01, -4.06303819e-01],\n",
              "       [-3.01324221e-01, -1.41517627e-01],\n",
              "       [-3.52628651e-01,  7.06693470e-01],\n",
              "       [-4.74832222e-01, -1.60508440e-01],\n",
              "       [-7.14709404e-01, -6.44367225e-01],\n",
              "       [-3.08171835e-01, -1.06655920e-01],\n",
              "       [ 1.13056452e+00,  9.56015714e-01],\n",
              "       [-1.62686377e-01, -2.59938911e-01],\n",
              "       [-1.95028184e-01, -2.93308482e-01],\n",
              "       [-3.56947916e-01, -5.01936127e-01],\n",
              "       [-4.92003931e-01, -3.40107271e-01],\n",
              "       [ 4.68663624e-01, -2.97242293e-01],\n",
              "       [-1.38877750e-01, -1.27138868e-01],\n",
              "       [-4.77676616e-01, -5.16314886e-01],\n",
              "       [ 6.32848814e-02,  3.38760958e-02],\n",
              "       [ 3.11484548e-01,  6.97740658e-01],\n",
              "       [ 3.26970690e-01, -4.03237235e-02],\n",
              "       [ 1.12413829e+00,  3.65944026e-01],\n",
              "       [-6.03462016e-01, -2.73096831e-01],\n",
              "       [ 5.55786342e-01, -7.19298622e-02],\n",
              "       [ 1.16064182e-01, -1.28766652e-01],\n",
              "       [-3.98138947e-01, -5.99467517e-01],\n",
              "       [-3.47045212e-01, -2.86254751e-01],\n",
              "       [ 4.50965175e-01, -3.95044980e-01],\n",
              "       [-5.64483290e-01, -4.59613744e-01],\n",
              "       [ 6.70510212e-01,  4.81652336e-01],\n",
              "       [-2.65716629e-01,  1.47731353e+00],\n",
              "       [-3.20392192e-01,  2.35667973e-02],\n",
              "       [-4.60504907e-01, -5.48870565e-01],\n",
              "       [ 8.98799124e-01, -2.12461878e-01],\n",
              "       [-2.94055216e-01, -3.93741828e-02],\n",
              "       [-3.36826466e-01, -6.28631980e-01],\n",
              "       [-6.80365987e-01, -3.49738326e-01],\n",
              "       [ 4.50074986e-03, -2.54241667e-01],\n",
              "       [ 8.50760479e-01,  8.48446324e-01],\n",
              "       [-7.57164610e-01, -5.92142489e-01],\n",
              "       [ 2.34838631e+00,  1.31467078e+00],\n",
              "       [-6.02513884e-01, -5.17535724e-01],\n",
              "       [-5.73227167e-01, -5.55924296e-01]])"
            ]
          },
          "metadata": {},
          "execution_count": 8
        }
      ],
      "source": [
        "std_df"
      ]
    },
    {
      "cell_type": "markdown",
      "metadata": {
        "id": "CfVqxnkh9pnV"
      },
      "source": [
        "### **Fit and Transform using DBSCAN**"
      ]
    },
    {
      "cell_type": "code",
      "execution_count": null,
      "metadata": {
        "id": "ytZpJwJFnWsp"
      },
      "outputs": [],
      "source": [
        "# https://scikit-learn.org/stable/modules/generated/sklearn.cluster.DBSCAN.html\n",
        "dbsc = DBSCAN(eps = .5, min_samples = 15).fit(std_df)"
      ]
    },
    {
      "cell_type": "code",
      "execution_count": null,
      "metadata": {
        "colab": {
          "base_uri": "https://localhost:8080/"
        },
        "id": "cz_0PuMI94_T",
        "outputId": "695d20a7-35f7-48c3-bf9e-3b3ab264a4fe"
      },
      "outputs": [
        {
          "output_type": "execute_result",
          "data": {
            "text/plain": [
              "array([ 0,  0,  0,  0,  0,  0,  0,  0,  0,  0,  0,  0,  0,  0,  0,  0,  0,\n",
              "        0,  0,  0,  0,  0,  0, -1,  0,  0,  0,  0, -1,  0,  0,  0,  0,  0,\n",
              "        0,  0,  0,  0,  0,  0,  0,  0,  0,  0,  0, -1,  0, -1,  0, -1,  0,\n",
              "        0,  0,  0,  0,  0, -1,  0,  0,  0,  0, -1,  0,  0,  0, -1,  0,  0,\n",
              "        0,  0,  0, -1,  0,  0,  0,  0,  0, -1,  0,  0,  0,  0,  0,  0,  0,\n",
              "       -1, -1,  0,  0,  0,  0,  0, -1,  0,  0,  0,  0,  0,  0,  0,  0,  0,\n",
              "        0,  0,  0,  0,  0,  0,  0, -1,  0,  0,  0,  0,  0,  0,  0,  0,  0,\n",
              "        0,  0,  0,  0,  0,  0,  0,  0,  0,  0,  0,  0,  0,  0,  0,  0,  0,\n",
              "        0,  0,  0,  0,  0,  0,  0,  0,  0, -1,  0,  0,  0,  0,  0,  0,  0,\n",
              "        0,  0,  0,  0,  0,  0,  0,  0,  0,  0, -1,  0,  0,  0,  0,  0,  0,\n",
              "        0, -1,  0,  0,  0,  0,  0,  0,  0,  0,  0, -1,  0, -1,  0,  0,  0,\n",
              "        0,  0,  0,  0,  0,  0,  0,  0,  0,  0,  0,  0,  0,  0,  0,  0,  0,\n",
              "        0,  0,  0,  0,  0,  0,  0, -1,  0,  0,  0,  0, -1,  0,  0,  0,  0,\n",
              "        0,  0,  0,  0,  0,  0,  0,  0,  0,  0,  0,  0,  0,  0,  0,  0,  0,\n",
              "        0,  0,  0,  0,  0,  0,  0,  0,  0,  0,  0,  0,  0, -1,  0,  0, -1,\n",
              "        0,  0,  0,  0,  0,  0,  0,  0,  0,  0, -1,  0,  0,  0,  0,  0,  0,\n",
              "        0,  0,  0,  0,  0,  0,  0,  0,  0,  0,  0,  0,  0,  0,  0,  0,  0,\n",
              "        0,  0,  0,  0,  0,  0,  0,  0,  0,  0,  0,  0,  0,  0,  0, -1,  0,\n",
              "        0,  0,  0, -1,  0,  0,  0,  0,  0,  0,  0,  0,  0, -1,  0,  0,  0,\n",
              "        0,  0, -1,  0,  0,  0,  0,  0, -1,  0, -1,  0,  0,  0,  0,  0,  0,\n",
              "        0,  0,  0, -1,  0,  0,  0,  0,  0,  0,  0,  0,  0,  0,  0,  0,  0,\n",
              "       -1, -1,  0,  0,  0,  0,  0,  0,  0,  0,  0,  0,  0,  0,  0,  0,  0,\n",
              "        0,  0,  0,  0,  0,  0,  0,  0,  0,  0, -1,  0,  0,  0,  0,  0,  0,\n",
              "        0,  0,  0,  0,  0,  0,  0,  0,  0,  0,  0,  0,  0,  0,  0,  0,  0,\n",
              "        0,  0,  0,  0,  0,  0,  0,  0,  0,  0,  0,  0,  0,  0,  0,  0,  0,\n",
              "        0,  0, -1,  0,  0,  0,  0,  0,  0,  0,  0,  0, -1,  0,  0])"
            ]
          },
          "metadata": {},
          "execution_count": 10
        }
      ],
      "source": [
        "#\"Noisy samples are given the label -1.\" --> Reference\n",
        "labels = dbsc.labels_\n",
        "labels"
      ]
    },
    {
      "cell_type": "code",
      "execution_count": null,
      "metadata": {
        "id": "tVTz7zao-Duo"
      },
      "outputs": [],
      "source": [
        "out_df = df.copy()\n",
        "out_df['label'] = dbsc.labels_"
      ]
    },
    {
      "cell_type": "code",
      "execution_count": null,
      "metadata": {
        "colab": {
          "base_uri": "https://localhost:8080/"
        },
        "id": "x36MoZdS-EE-",
        "outputId": "065c454c-b6bd-473e-a9c5-42c8fea70c45"
      },
      "outputs": [
        {
          "output_type": "execute_result",
          "data": {
            "text/plain": [
              " 0    404\n",
              "-1     36\n",
              "Name: label, dtype: int64"
            ]
          },
          "metadata": {},
          "execution_count": 12
        }
      ],
      "source": [
        "out_df['label'].value_counts()"
      ]
    },
    {
      "cell_type": "code",
      "execution_count": null,
      "metadata": {
        "colab": {
          "base_uri": "https://localhost:8080/",
          "height": 282
        },
        "id": "oe6knpyp-EHZ",
        "outputId": "6bb72a92-5fb4-4f73-bbb1-d44d125ce4ba"
      },
      "outputs": [
        {
          "output_type": "execute_result",
          "data": {
            "text/plain": [
              "<matplotlib.collections.PathCollection at 0x7fdc6ff11c10>"
            ]
          },
          "metadata": {},
          "execution_count": 13
        },
        {
          "output_type": "display_data",
          "data": {
            "text/plain": [
              "<Figure size 432x288 with 1 Axes>"
            ],
            "image/png": "[encoded data removed]"
          },
          "metadata": {
            "needs_background": "light"
          }
        }
      ],
      "source": [
        "plt.scatter(out_df['Grocery'], out_df['Milk'], c=out_df['label'])"
      ]
    },
    {
      "cell_type": "markdown",
      "metadata": {
        "id": "gYxNV9Uniu_r"
      },
      "source": [
        "#### **What insights can we draw from here?**\n",
        "- DBSCAN formed only 1 cluster.\n",
        "- Outliers are easily detected using DBSCAN.\n",
        "- Most of the customers share the same behaviour (404 out of 440)."
      ]
    },
    {
      "cell_type": "markdown",
      "metadata": {
        "id": "P5Au-7bUivCe"
      },
      "source": [
        "### **K-Means**\n",
        "\n",
        "#### **Let's try out K-Means on the same dataset now and compare the results of K-Means and DBSCAN**"
      ]
    },
    {
      "cell_type": "code",
      "execution_count": null,
      "metadata": {
        "id": "8iP0I1bqAVKJ"
      },
      "outputs": [],
      "source": [
        "from sklearn.cluster import KMeans\n",
        "\n",
        "k = 2 ## arbitrary value\n",
        "kmeans = KMeans(n_clusters=k)\n",
        "y_pred = kmeans.fit_predict(std_df)"
      ]
    },
    {
      "cell_type": "code",
      "execution_count": null,
      "metadata": {
        "colab": {
          "base_uri": "https://localhost:8080/",
          "height": 424
        },
        "id": "leCFjuwAAVS7",
        "outputId": "16ddcf1f-119e-40e0-af84-4779b1a56eda"
      },
      "outputs": [
        {
          "output_type": "execute_result",
          "data": {
            "text/plain": [
              "     Grocery   Milk  label\n",
              "0       7561   9656      1\n",
              "1       9568   9810      1\n",
              "2       7684   8808      1\n",
              "3       4221   1196      1\n",
              "4       7198   5410      1\n",
              "..       ...    ...    ...\n",
              "435    16027  12051      1\n",
              "436      764   1431      1\n",
              "437    30243  15488      0\n",
              "438     2232   1981      1\n",
              "439     2510   1698      1\n",
              "\n",
              "[440 rows x 3 columns]"
            ],
            "text/html": [
              "\n",
              "  <div id=\"df-9ed55f37-eb21-48f6-b40f-49851ca6b1a2\">\n",
              "    <div class=\"colab-df-container\">\n",
              "      <div>\n",
              "<style scoped>\n",
              "    .dataframe tbody tr th:only-of-type {\n",
              "        vertical-align: middle;\n",
              "    }\n",
              "\n",
              "    .dataframe tbody tr th {\n",
              "        vertical-align: top;\n",
              "    }\n",
              "\n",
              "    .dataframe thead th {\n",
              "        text-align: right;\n",
              "    }\n",
              "</style>\n",
              "<table border=\"1\" class=\"dataframe\">\n",
              "  <thead>\n",
              "    <tr style=\"text-align: right;\">\n",
              "      <th></th>\n",
              "      <th>Grocery</th>\n",
              "      <th>Milk</th>\n",
              "      <th>label</th>\n",
              "    </tr>\n",
              "  </thead>\n",
              "  <tbody>\n",
              "    <tr>\n",
              "      <th>0</th>\n",
              "      <td>7561</td>\n",
              "      <td>9656</td>\n",
              "      <td>1</td>\n",
              "    </tr>\n",
              "    <tr>\n",
              "      <th>1</th>\n",
              "      <td>9568</td>\n",
              "      <td>9810</td>\n",
              "      <td>1</td>\n",
              "    </tr>\n",
              "    <tr>\n",
              "      <th>2</th>\n",
              "      <td>7684</td>\n",
              "      <td>8808</td>\n",
              "      <td>1</td>\n",
              "    </tr>\n",
              "    <tr>\n",
              "      <th>3</th>\n",
              "      <td>4221</td>\n",
              "      <td>1196</td>\n",
              "      <td>1</td>\n",
              "    </tr>\n",
              "    <tr>\n",
              "      <th>4</th>\n",
              "      <td>7198</td>\n",
              "      <td>5410</td>\n",
              "      <td>1</td>\n",
              "    </tr>\n",
              "    <tr>\n",
              "      <th>...</th>\n",
              "      <td>...</td>\n",
              "      <td>...</td>\n",
              "      <td>...</td>\n",
              "    </tr>\n",
              "    <tr>\n",
              "      <th>435</th>\n",
              "      <td>16027</td>\n",
              "      <td>12051</td>\n",
              "      <td>1</td>\n",
              "    </tr>\n",
              "    <tr>\n",
              "      <th>436</th>\n",
              "      <td>764</td>\n",
              "      <td>1431</td>\n",
              "      <td>1</td>\n",
              "    </tr>\n",
              "    <tr>\n",
              "      <th>437</th>\n",
              "      <td>30243</td>\n",
              "      <td>15488</td>\n",
              "      <td>0</td>\n",
              "    </tr>\n",
              "    <tr>\n",
              "      <th>438</th>\n",
              "      <td>2232</td>\n",
              "      <td>1981</td>\n",
              "      <td>1</td>\n",
              "    </tr>\n",
              "    <tr>\n",
              "      <th>439</th>\n",
              "      <td>2510</td>\n",
              "      <td>1698</td>\n",
              "      <td>1</td>\n",
              "    </tr>\n",
              "  </tbody>\n",
              "</table>\n",
              "<p>440 rows × 3 columns</p>\n",
              "</div>\n",
              "      <button class=\"colab-df-convert\" onclick=\"convertToInteractive('df-9ed55f37-eb21-48f6-b40f-49851ca6b1a2')\"\n",
              "              title=\"Convert this dataframe to an interactive table.\"\n",
              "              style=\"display:none;\">\n",
              "        \n",
              "  <svg xmlns=\"http://www.w3.org/2000/svg\" height=\"24px\"viewBox=\"0 0 24 24\"\n",
              "       width=\"24px\">\n",
              "    <path d=\"M0 0h24v24H0V0z\" fill=\"none\"/>\n",
              "    <path d=\"M18.56 5.44l.94 2.06.94-2.06 2.06-.94-2.06-.94-.94-2.06-.94 2.06-2.06.94zm-11 1L8.5 8.5l.94-2.06 2.06-.94-2.06-.94L8.5 2.5l-.94 2.06-2.06.94zm10 10l.94 2.06.94-2.06 2.06-.94-2.06-.94-.94-2.06-.94 2.06-2.06.94z\"/><path d=\"M17.41 7.96l-1.37-1.37c-.4-.4-.92-.59-1.43-.59-.52 0-1.04.2-1.43.59L10.3 9.45l-7.72 7.72c-.78.78-.78 2.05 0 2.83L4 21.41c.39.39.9.59 1.41.59.51 0 1.02-.2 1.41-.59l7.78-7.78 2.81-2.81c.8-.78.8-2.07 0-2.86zM5.41 20L4 18.59l7.72-7.72 1.47 1.35L5.41 20z\"/>\n",
              "  </svg>\n",
              "      </button>\n",
              "      \n",
              "  <style>\n",
              "    .colab-df-container {\n",
              "      display:flex;\n",
              "      flex-wrap:wrap;\n",
              "      gap: 12px;\n",
              "    }\n",
              "\n",
              "    .colab-df-convert {\n",
              "      background-color: #E8F0FE;\n",
              "      border: none;\n",
              "      border-radius: 50%;\n",
              "      cursor: pointer;\n",
              "      display: none;\n",
              "      fill: #1967D2;\n",
              "      height: 32px;\n",
              "      padding: 0 0 0 0;\n",
              "      width: 32px;\n",
              "    }\n",
              "\n",
              "    .colab-df-convert:hover {\n",
              "      background-color: #E2EBFA;\n",
              "      box-shadow: 0px 1px 2px rgba(60, 64, 67, 0.3), 0px 1px 3px 1px rgba(60, 64, 67, 0.15);\n",
              "      fill: #174EA6;\n",
              "    }\n",
              "\n",
              "    [theme=dark] .colab-df-convert {\n",
              "      background-color: #3B4455;\n",
              "      fill: #D2E3FC;\n",
              "    }\n",
              "\n",
              "    [theme=dark] .colab-df-convert:hover {\n",
              "      background-color: #434B5C;\n",
              "      box-shadow: 0px 1px 3px 1px rgba(0, 0, 0, 0.15);\n",
              "      filter: drop-shadow(0px 1px 2px rgba(0, 0, 0, 0.3));\n",
              "      fill: #FFFFFF;\n",
              "    }\n",
              "  </style>\n",
              "\n",
              "      <script>\n",
              "        const buttonEl =\n",
              "          document.querySelector('#df-9ed55f37-eb21-48f6-b40f-49851ca6b1a2 button.colab-df-convert');\n",
              "        buttonEl.style.display =\n",
              "          google.colab.kernel.accessAllowed ? 'block' : 'none';\n",
              "\n",
              "        async function convertToInteractive(key) {\n",
              "          const element = document.querySelector('#df-9ed55f37-eb21-48f6-b40f-49851ca6b1a2');\n",
              "          const dataTable =\n",
              "            await google.colab.kernel.invokeFunction('convertToInteractive',\n",
              "                                                     [key], {});\n",
              "          if (!dataTable) return;\n",
              "\n",
              "          const docLinkHtml = 'Like what you see? Visit the ' +\n",
              "            '<a target=\"_blank\" href=https://colab.research.google.com/notebooks/data_table.ipynb>data table notebook</a>'\n",
              "            + ' to learn more about interactive tables.';\n",
              "          element.innerHTML = '';\n",
              "          dataTable['output_type'] = 'display_data';\n",
              "          await google.colab.output.renderOutput(dataTable, element);\n",
              "          const docLink = document.createElement('div');\n",
              "          docLink.innerHTML = docLinkHtml;\n",
              "          element.appendChild(docLink);\n",
              "        }\n",
              "      </script>\n",
              "    </div>\n",
              "  </div>\n",
              "  "
            ]
          },
          "metadata": {},
          "execution_count": 15
        }
      ],
      "source": [
        "clusters = df.copy()\n",
        "clusters['label'] = kmeans.labels_\n",
        "clusters"
      ]
    },
    {
      "cell_type": "code",
      "execution_count": null,
      "metadata": {
        "colab": {
          "base_uri": "https://localhost:8080/",
          "height": 282
        },
        "id": "B4YG4gW8AfND",
        "outputId": "7d69575e-1ebc-410a-bd95-bb28a2b36629"
      },
      "outputs": [
        {
          "output_type": "execute_result",
          "data": {
            "text/plain": [
              "<matplotlib.collections.PathCollection at 0x7fdc6fa074d0>"
            ]
          },
          "metadata": {},
          "execution_count": 16
        },
        {
          "output_type": "display_data",
          "data": {
            "text/plain": [
              "<Figure size 432x288 with 1 Axes>"
            ],
            "image/png": "[encoded data removed]"
          },
          "metadata": {
            "needs_background": "light"
          }
        }
      ],
      "source": [
        "plt.scatter(clusters['Grocery'], clusters['Milk'], c=clusters['label'])"
      ]
    },
    {
      "cell_type": "markdown",
      "metadata": {
        "id": "GLTbt9FQivEu"
      },
      "source": [
        "- As we can see, **K-Means formed 2 clusters with all the outliers included in one of the clusters.** Finding outliers or noise with K-Means is generally not possible because every point is grouped into a cluster.\n",
        "\n",
        "- Whereas, **DBSCAN identified and separated out the outlier points**."
      ]
    },
    {
      "cell_type": "markdown",
      "metadata": {
        "id": "Z4KlxovGivHY"
      },
      "source": [
        "***"
      ]
    },
    {
      "cell_type": "markdown",
      "metadata": {
        "id": "PAvNBkG4ivKP"
      },
      "source": [
        "## Case Study: Building Stock Portfolios with Hierarchical Clustering\n",
        "\n",
        "#### **How can we build our own metric-driven stock portfolios (small cases)?**\n",
        "\n",
        "**Goal :** Creating pools of stocks that move together(similar characteristics) on one or more fundamental financial metric.\n",
        "\n",
        "\n",
        "\n",
        "#### **How can we enhance our portfolio allocation by leveraging some Data Science techniques?**"
      ]
    },
    {
      "cell_type": "markdown",
      "metadata": {
        "id": "VNoy_ZKbEAgY"
      },
      "source": [
        "### **Dataset - Top 50 NSE stocks**\n",
        "\n",
        "- Contains company's stock symbol\n",
        "- Name, Industry and other details"
      ]
    },
    {
      "cell_type": "code",
      "execution_count": null,
      "metadata": {
        "id": "LcsnCYNkD7-8"
      },
      "outputs": [],
      "source": [
        "  import pandas as pd\n",
        "  import numpy as np\n",
        "  from matplotlib import pyplot as plt\n",
        "  import seaborn as sns\n",
        "  from sklearn.cluster import KMeans"
      ]
    },
    {
      "cell_type": "code",
      "execution_count": null,
      "metadata": {
        "colab": {
          "base_uri": "https://localhost:8080/"
        },
        "id": "hlme4CZGEIl9",
        "outputId": "21617260-2ff0-4fb6-b9a6-a83683f5d71e"
      },
      "outputs": [
        {
          "name": "stdout",
          "output_type": "stream",
          "text": [
            "https://drive.google.com/uc?export=download&id=1giO5bbp3l0INVvTQIGJ7s_Ai5_TWNuIb\n"
          ]
        }
      ],
      "source": [
        "id = \"1giO5bbp3l0INVvTQIGJ7s_Ai5_TWNuIb\"\n",
        "print(\"https://drive.google.com/uc?export=download&id=\" + id)"
      ]
    },
    {
      "cell_type": "code",
      "execution_count": null,
      "metadata": {
        "colab": {
          "base_uri": "https://localhost:8080/"
        },
        "id": "-HReeOMEELCe",
        "outputId": "ead325c4-1086-4f3f-8188-dbe21eedcaf9"
      },
      "outputs": [
        {
          "name": "stdout",
          "output_type": "stream",
          "text": [
            "--2022-06-15 18:18:13--  https://drive.google.com/uc?export=download&id=1giO5bbp3l0INVvTQIGJ7s_Ai5_TWNuIb\n",
            "Resolving drive.google.com (drive.google.com)... 74.125.141.113, 74.125.141.101, 74.125.141.100, ...\n",
            "Connecting to drive.google.com (drive.google.com)|74.125.141.113|:443... connected.\n",
            "HTTP request sent, awaiting response... 303 See Other\n",
            "Location: https://doc-08-64-docs.googleusercontent.com/docs/securesc/ha0ro937gcuc7l7deffksulhg5h7mbp1/om5f7hgbm82ieknkkh4crr9ne9qr4m6n/1655317050000/10306167880925931714/*/1giO5bbp3l0INVvTQIGJ7s_Ai5_TWNuIb?e=download [following]\n",
            "Warning: wildcards not supported in HTTP.\n",
            "--2022-06-15 18:18:14--  https://doc-08-64-docs.googleusercontent.com/docs/securesc/ha0ro937gcuc7l7deffksulhg5h7mbp1/om5f7hgbm82ieknkkh4crr9ne9qr4m6n/1655317050000/10306167880925931714/*/1giO5bbp3l0INVvTQIGJ7s_Ai5_TWNuIb?e=download\n",
            "Resolving doc-08-64-docs.googleusercontent.com (doc-08-64-docs.googleusercontent.com)... 172.217.203.132, 2607:f8b0:400c:c07::84\n",
            "Connecting to doc-08-64-docs.googleusercontent.com (doc-08-64-docs.googleusercontent.com)|172.217.203.132|:443... connected.\n",
            "HTTP request sent, awaiting response... 200 OK\n",
            "Length: 3053 (3.0K) [text/csv]\n",
            "Saving to: ‘ind_nifty50list.csv’\n",
            "\n",
            "ind_nifty50list.csv 100%[===================>]   2.98K  --.-KB/s    in 0s      \n",
            "\n",
            "2022-06-15 18:18:15 (116 MB/s) - ‘ind_nifty50list.csv’ saved [3053/3053]\n",
            "\n"
          ]
        }
      ],
      "source": [
        "!wget \"https://drive.google.com/uc?export=download&id=1giO5bbp3l0INVvTQIGJ7s_Ai5_TWNuIb\" -O ind_nifty50list.csv"
      ]
    },
    {
      "cell_type": "code",
      "execution_count": null,
      "metadata": {
        "colab": {
          "base_uri": "https://localhost:8080/",
          "height": 206
        },
        "id": "DF2SfTDYEZGO",
        "outputId": "a2d343ce-eef7-4ec5-c9a7-44e3c6d7bec0"
      },
      "outputs": [
        {
          "data": {
            "text/html": [
              "\n",
              "  <div id=\"df-6a0202ee-67da-4f2f-a09a-b72aad5cf081\">\n",
              "    <div class=\"colab-df-container\">\n",
              "      <div>\n",
              "<style scoped>\n",
              "    .dataframe tbody tr th:only-of-type {\n",
              "        vertical-align: middle;\n",
              "    }\n",
              "\n",
              "    .dataframe tbody tr th {\n",
              "        vertical-align: top;\n",
              "    }\n",
              "\n",
              "    .dataframe thead th {\n",
              "        text-align: right;\n",
              "    }\n",
              "</style>\n",
              "<table border=\"1\" class=\"dataframe\">\n",
              "  <thead>\n",
              "    <tr style=\"text-align: right;\">\n",
              "      <th></th>\n",
              "      <th>Company Name</th>\n",
              "      <th>Industry</th>\n",
              "      <th>Symbol</th>\n",
              "      <th>Series</th>\n",
              "      <th>ISIN Code</th>\n",
              "    </tr>\n",
              "  </thead>\n",
              "  <tbody>\n",
              "    <tr>\n",
              "      <th>0</th>\n",
              "      <td>Adani Ports and Special Economic Zone Ltd.</td>\n",
              "      <td>SERVICES</td>\n",
              "      <td>ADANIPORTS</td>\n",
              "      <td>EQ</td>\n",
              "      <td>INE742F01042</td>\n",
              "    </tr>\n",
              "    <tr>\n",
              "      <th>1</th>\n",
              "      <td>Asian Paints Ltd.</td>\n",
              "      <td>CONSUMER GOODS</td>\n",
              "      <td>ASIANPAINT</td>\n",
              "      <td>EQ</td>\n",
              "      <td>INE021A01026</td>\n",
              "    </tr>\n",
              "    <tr>\n",
              "      <th>2</th>\n",
              "      <td>Axis Bank Ltd.</td>\n",
              "      <td>FINANCIAL SERVICES</td>\n",
              "      <td>AXISBANK</td>\n",
              "      <td>EQ</td>\n",
              "      <td>INE238A01034</td>\n",
              "    </tr>\n",
              "    <tr>\n",
              "      <th>3</th>\n",
              "      <td>Bajaj Auto Ltd.</td>\n",
              "      <td>AUTOMOBILE</td>\n",
              "      <td>BAJAJ-AUTO</td>\n",
              "      <td>EQ</td>\n",
              "      <td>INE917I01010</td>\n",
              "    </tr>\n",
              "    <tr>\n",
              "      <th>4</th>\n",
              "      <td>Bajaj Finance Ltd.</td>\n",
              "      <td>FINANCIAL SERVICES</td>\n",
              "      <td>BAJFINANCE</td>\n",
              "      <td>EQ</td>\n",
              "      <td>INE296A01024</td>\n",
              "    </tr>\n",
              "  </tbody>\n",
              "</table>\n",
              "</div>\n",
              "      <button class=\"colab-df-convert\" onclick=\"convertToInteractive('df-6a0202ee-67da-4f2f-a09a-b72aad5cf081')\"\n",
              "              title=\"Convert this dataframe to an interactive table.\"\n",
              "              style=\"display:none;\">\n",
              "        \n",
              "  <svg xmlns=\"http://www.w3.org/2000/svg\" height=\"24px\"viewBox=\"0 0 24 24\"\n",
              "       width=\"24px\">\n",
              "    <path d=\"M0 0h24v24H0V0z\" fill=\"none\"/>\n",
              "    <path d=\"M18.56 5.44l.94 2.06.94-2.06 2.06-.94-2.06-.94-.94-2.06-.94 2.06-2.06.94zm-11 1L8.5 8.5l.94-2.06 2.06-.94-2.06-.94L8.5 2.5l-.94 2.06-2.06.94zm10 10l.94 2.06.94-2.06 2.06-.94-2.06-.94-.94-2.06-.94 2.06-2.06.94z\"/><path d=\"M17.41 7.96l-1.37-1.37c-.4-.4-.92-.59-1.43-.59-.52 0-1.04.2-1.43.59L10.3 9.45l-7.72 7.72c-.78.78-.78 2.05 0 2.83L4 21.41c.39.39.9.59 1.41.59.51 0 1.02-.2 1.41-.59l7.78-7.78 2.81-2.81c.8-.78.8-2.07 0-2.86zM5.41 20L4 18.59l7.72-7.72 1.47 1.35L5.41 20z\"/>\n",
              "  </svg>\n",
              "      </button>\n",
              "      \n",
              "  <style>\n",
              "    .colab-df-container {\n",
              "      display:flex;\n",
              "      flex-wrap:wrap;\n",
              "      gap: 12px;\n",
              "    }\n",
              "\n",
              "    .colab-df-convert {\n",
              "      background-color: #E8F0FE;\n",
              "      border: none;\n",
              "      border-radius: 50%;\n",
              "      cursor: pointer;\n",
              "      display: none;\n",
              "      fill: #1967D2;\n",
              "      height: 32px;\n",
              "      padding: 0 0 0 0;\n",
              "      width: 32px;\n",
              "    }\n",
              "\n",
              "    .colab-df-convert:hover {\n",
              "      background-color: #E2EBFA;\n",
              "      box-shadow: 0px 1px 2px rgba(60, 64, 67, 0.3), 0px 1px 3px 1px rgba(60, 64, 67, 0.15);\n",
              "      fill: #174EA6;\n",
              "    }\n",
              "\n",
              "    [theme=dark] .colab-df-convert {\n",
              "      background-color: #3B4455;\n",
              "      fill: #D2E3FC;\n",
              "    }\n",
              "\n",
              "    [theme=dark] .colab-df-convert:hover {\n",
              "      background-color: #434B5C;\n",
              "      box-shadow: 0px 1px 3px 1px rgba(0, 0, 0, 0.15);\n",
              "      filter: drop-shadow(0px 1px 2px rgba(0, 0, 0, 0.3));\n",
              "      fill: #FFFFFF;\n",
              "    }\n",
              "  </style>\n",
              "\n",
              "      <script>\n",
              "        const buttonEl =\n",
              "          document.querySelector('#df-6a0202ee-67da-4f2f-a09a-b72aad5cf081 button.colab-df-convert');\n",
              "        buttonEl.style.display =\n",
              "          google.colab.kernel.accessAllowed ? 'block' : 'none';\n",
              "\n",
              "        async function convertToInteractive(key) {\n",
              "          const element = document.querySelector('#df-6a0202ee-67da-4f2f-a09a-b72aad5cf081');\n",
              "          const dataTable =\n",
              "            await google.colab.kernel.invokeFunction('convertToInteractive',\n",
              "                                                     [key], {});\n",
              "          if (!dataTable) return;\n",
              "\n",
              "          const docLinkHtml = 'Like what you see? Visit the ' +\n",
              "            '<a target=\"_blank\" href=https://colab.research.google.com/notebooks/data_table.ipynb>data table notebook</a>'\n",
              "            + ' to learn more about interactive tables.';\n",
              "          element.innerHTML = '';\n",
              "          dataTable['output_type'] = 'display_data';\n",
              "          await google.colab.output.renderOutput(dataTable, element);\n",
              "          const docLink = document.createElement('div');\n",
              "          docLink.innerHTML = docLinkHtml;\n",
              "          element.appendChild(docLink);\n",
              "        }\n",
              "      </script>\n",
              "    </div>\n",
              "  </div>\n",
              "  "
            ],
            "text/plain": [
              "                                 Company Name            Industry      Symbol  \\\n",
              "0  Adani Ports and Special Economic Zone Ltd.            SERVICES  ADANIPORTS   \n",
              "1                           Asian Paints Ltd.      CONSUMER GOODS  ASIANPAINT   \n",
              "2                              Axis Bank Ltd.  FINANCIAL SERVICES    AXISBANK   \n",
              "3                             Bajaj Auto Ltd.          AUTOMOBILE  BAJAJ-AUTO   \n",
              "4                          Bajaj Finance Ltd.  FINANCIAL SERVICES  BAJFINANCE   \n",
              "\n",
              "  Series     ISIN Code  \n",
              "0     EQ  INE742F01042  \n",
              "1     EQ  INE021A01026  \n",
              "2     EQ  INE238A01034  \n",
              "3     EQ  INE917I01010  \n",
              "4     EQ  INE296A01024  "
            ]
          },
          "execution_count": 21,
          "metadata": {},
          "output_type": "execute_result"
        }
      ],
      "source": [
        "stocks_df = pd.read_csv(\"./ind_nifty50list.csv\")\n",
        "list_of_symobols = list(stocks_df['Symbol'])\n",
        "stocks_df.head()"
      ]
    },
    {
      "cell_type": "markdown",
      "metadata": {
        "id": "NRLWeB2pEj5C"
      },
      "source": [
        "### **Downloading the financials of these stocks**"
      ]
    },
    {
      "cell_type": "code",
      "execution_count": null,
      "metadata": {
        "colab": {
          "base_uri": "https://localhost:8080/"
        },
        "id": "6haeooUrFJo0",
        "outputId": "92024716-7e33-425e-89ad-3418d93a73e8"
      },
      "outputs": [
        {
          "name": "stdout",
          "output_type": "stream",
          "text": [
            "Looking in indexes: https://pypi.org/simple, https://us-python.pkg.dev/colab-wheels/public/simple/\n",
            "Collecting yfinance\n",
            "  Downloading yfinance-0.1.70-py2.py3-none-any.whl (26 kB)\n",
            "Requirement already satisfied: multitasking>=0.0.7 in /usr/local/lib/python3.7/dist-packages (from yfinance) (0.0.10)\n",
            "Requirement already satisfied: numpy>=1.15 in /usr/local/lib/python3.7/dist-packages (from yfinance) (1.21.6)\n",
            "Requirement already satisfied: pandas>=0.24.0 in /usr/local/lib/python3.7/dist-packages (from yfinance) (1.3.5)\n",
            "Collecting lxml>=4.5.1\n",
            "  Downloading lxml-4.9.0-cp37-cp37m-manylinux_2_17_x86_64.manylinux2014_x86_64.manylinux_2_24_x86_64.whl (6.4 MB)\n",
            "\u001b[K     |████████████████████████████████| 6.4 MB 7.7 MB/s \n",
            "\u001b[?25hCollecting requests>=2.26\n",
            "  Downloading requests-2.28.0-py3-none-any.whl (62 kB)\n",
            "\u001b[K     |████████████████████████████████| 62 kB 1.5 MB/s \n",
            "\u001b[?25hRequirement already satisfied: python-dateutil>=2.7.3 in /usr/local/lib/python3.7/dist-packages (from pandas>=0.24.0->yfinance) (2.8.2)\n",
            "Requirement already satisfied: pytz>=2017.3 in /usr/local/lib/python3.7/dist-packages (from pandas>=0.24.0->yfinance) (2022.1)\n",
            "Requirement already satisfied: six>=1.5 in /usr/local/lib/python3.7/dist-packages (from python-dateutil>=2.7.3->pandas>=0.24.0->yfinance) (1.15.0)\n",
            "Requirement already satisfied: idna<4,>=2.5 in /usr/local/lib/python3.7/dist-packages (from requests>=2.26->yfinance) (2.10)\n",
            "Requirement already satisfied: urllib3<1.27,>=1.21.1 in /usr/local/lib/python3.7/dist-packages (from requests>=2.26->yfinance) (1.24.3)\n",
            "Requirement already satisfied: certifi>=2017.4.17 in /usr/local/lib/python3.7/dist-packages (from requests>=2.26->yfinance) (2022.5.18.1)\n",
            "Requirement already satisfied: charset-normalizer~=2.0.0 in /usr/local/lib/python3.7/dist-packages (from requests>=2.26->yfinance) (2.0.12)\n",
            "Installing collected packages: requests, lxml, yfinance\n",
            "  Attempting uninstall: requests\n",
            "    Found existing installation: requests 2.23.0\n",
            "    Uninstalling requests-2.23.0:\n",
            "      Successfully uninstalled requests-2.23.0\n",
            "  Attempting uninstall: lxml\n",
            "    Found existing installation: lxml 4.2.6\n",
            "    Uninstalling lxml-4.2.6:\n",
            "      Successfully uninstalled lxml-4.2.6\n",
            "\u001b[31mERROR: pip's dependency resolver does not currently take into account all the packages that are installed. This behaviour is the source of the following dependency conflicts.\n",
            "google-colab 1.0.0 requires requests~=2.23.0, but you have requests 2.28.0 which is incompatible.\n",
            "datascience 0.10.6 requires folium==0.2.1, but you have folium 0.8.3 which is incompatible.\u001b[0m\n",
            "Successfully installed lxml-4.9.0 requests-2.28.0 yfinance-0.1.70\n"
          ]
        }
      ],
      "source": [
        "!pip install yfinance  # This is an old library that allows us to gather stocks data (how the stock is performing, etc.) from Yahoo Finance"
      ]
    },
    {
      "cell_type": "code",
      "execution_count": null,
      "metadata": {
        "colab": {
          "base_uri": "https://localhost:8080/"
        },
        "id": "wqeiSI_PFjg0",
        "outputId": "b7e9a301-adc4-4a95-a1d7-021d11f42b8f"
      },
      "outputs": [
        {
          "name": "stdout",
          "output_type": "stream",
          "text": [
            "Looking in indexes: https://pypi.org/simple, https://us-python.pkg.dev/colab-wheels/public/simple/\n",
            "Requirement already satisfied: fix-yahoo-finance in /usr/local/lib/python3.7/dist-packages (0.0.22)\n",
            "Requirement already satisfied: numpy in /usr/local/lib/python3.7/dist-packages (from fix-yahoo-finance) (1.21.6)\n",
            "Requirement already satisfied: requests in /usr/local/lib/python3.7/dist-packages (from fix-yahoo-finance) (2.28.0)\n",
            "Requirement already satisfied: multitasking in /usr/local/lib/python3.7/dist-packages (from fix-yahoo-finance) (0.0.10)\n",
            "Requirement already satisfied: pandas in /usr/local/lib/python3.7/dist-packages (from fix-yahoo-finance) (1.3.5)\n",
            "Requirement already satisfied: pytz>=2017.3 in /usr/local/lib/python3.7/dist-packages (from pandas->fix-yahoo-finance) (2022.1)\n",
            "Requirement already satisfied: python-dateutil>=2.7.3 in /usr/local/lib/python3.7/dist-packages (from pandas->fix-yahoo-finance) (2.8.2)\n",
            "Requirement already satisfied: six>=1.5 in /usr/local/lib/python3.7/dist-packages (from python-dateutil>=2.7.3->pandas->fix-yahoo-finance) (1.15.0)\n",
            "Requirement already satisfied: charset-normalizer~=2.0.0 in /usr/local/lib/python3.7/dist-packages (from requests->fix-yahoo-finance) (2.0.12)\n",
            "Requirement already satisfied: certifi>=2017.4.17 in /usr/local/lib/python3.7/dist-packages (from requests->fix-yahoo-finance) (2022.5.18.1)\n",
            "Requirement already satisfied: urllib3<1.27,>=1.21.1 in /usr/local/lib/python3.7/dist-packages (from requests->fix-yahoo-finance) (1.24.3)\n",
            "Requirement already satisfied: idna<4,>=2.5 in /usr/local/lib/python3.7/dist-packages (from requests->fix-yahoo-finance) (2.10)\n"
          ]
        }
      ],
      "source": [
        "!pip install fix-yahoo-finance  # Since yfinance is an old library, it also has some glitches, so we install this library as a fix"
      ]
    },
    {
      "cell_type": "markdown",
      "metadata": {
        "id": "vuXHJUD4GGMw"
      },
      "source": [
        "#### **Now, we'll take symbols from original dataset**\n",
        "- We'll add `.NS` at the end of every symbol to fetch data from Yahoo Finance based on company's symbol."
      ]
    },
    {
      "cell_type": "code",
      "execution_count": null,
      "metadata": {
        "colab": {
          "base_uri": "https://localhost:8080/"
        },
        "id": "nOt6fBL9FoCm",
        "outputId": "edc760c1-6b39-42cb-b9c2-70e4cd24eae3"
      },
      "outputs": [
        {
          "data": {
            "text/plain": [
              "['ADANIPORTS.NS',\n",
              " 'ASIANPAINT.NS',\n",
              " 'AXISBANK.NS',\n",
              " 'BAJAJ-AUTO.NS',\n",
              " 'BAJFINANCE.NS',\n",
              " 'BAJAJFINSV.NS',\n",
              " 'BPCL.NS',\n",
              " 'BHARTIARTL.NS',\n",
              " 'BRITANNIA.NS',\n",
              " 'CIPLA.NS',\n",
              " 'COALINDIA.NS',\n",
              " 'DIVISLAB.NS',\n",
              " 'DRREDDY.NS',\n",
              " 'EICHERMOT.NS',\n",
              " 'GRASIM.NS',\n",
              " 'HCLTECH.NS',\n",
              " 'HDFCBANK.NS',\n",
              " 'HDFCLIFE.NS',\n",
              " 'HEROMOTOCO.NS',\n",
              " 'HINDALCO.NS',\n",
              " 'HINDUNILVR.NS',\n",
              " 'HDFC.NS',\n",
              " 'ICICIBANK.NS',\n",
              " 'ITC.NS',\n",
              " 'IOC.NS',\n",
              " 'INDUSINDBK.NS',\n",
              " 'INFY.NS',\n",
              " 'JSWSTEEL.NS',\n",
              " 'KOTAKBANK.NS',\n",
              " 'LT.NS',\n",
              " 'M&M.NS',\n",
              " 'MARUTI.NS',\n",
              " 'NTPC.NS',\n",
              " 'NESTLEIND.NS',\n",
              " 'ONGC.NS',\n",
              " 'POWERGRID.NS',\n",
              " 'RELIANCE.NS',\n",
              " 'SBILIFE.NS',\n",
              " 'SHREECEM.NS',\n",
              " 'SBIN.NS',\n",
              " 'SUNPHARMA.NS',\n",
              " 'TCS.NS',\n",
              " 'TATACONSUM.NS',\n",
              " 'TATAMOTORS.NS',\n",
              " 'TATASTEEL.NS',\n",
              " 'TECHM.NS',\n",
              " 'TITAN.NS',\n",
              " 'UPL.NS',\n",
              " 'ULTRACEMCO.NS',\n",
              " 'WIPRO.NS']"
            ]
          },
          "execution_count": 24,
          "metadata": {},
          "output_type": "execute_result"
        }
      ],
      "source": [
        "yf_symbols = list(map(lambda x: x + '.NS', list_of_symobols))\n",
        "yf_symbols"
      ]
    },
    {
      "cell_type": "markdown",
      "metadata": {
        "id": "tKKJ8mmbG7pA"
      },
      "source": [
        "#### **Now, we'll define some variables and fetch the corresponding data from Yahoo Finance for the companies in our list**"
      ]
    },
    {
      "cell_type": "code",
      "execution_count": null,
      "metadata": {
        "id": "SnWloyYbFun4"
      },
      "outputs": [],
      "source": [
        "import yfinance as yf\n",
        "\n",
        "\n",
        "stock_financials = {\n",
        "    'marketCap': [],\n",
        "    'regularMarketVolume': [],\n",
        "    'earningsQuarterlyGrowth': [],\n",
        "    'bookValue': [],\n",
        "    'totalRevenue': [],\n",
        "    'returnOnAssets': [],\n",
        "    'profitMargins': [],\n",
        "    'earningsGrowth': []\n",
        "    }\n",
        "\n",
        "for ticker in yf_symbols:\n",
        "    stock_info = yf.Ticker(ticker).info\n",
        "    stock_financials['marketCap'].append(stock_info['marketCap'])\n",
        "    stock_financials['regularMarketVolume'].append(stock_info['regularMarketVolume'])\n",
        "    stock_financials['earningsQuarterlyGrowth'].append(stock_info['earningsQuarterlyGrowth'])\n",
        "    stock_financials['bookValue'].append(stock_info['bookValue'])\n",
        "    stock_financials['totalRevenue'].append(stock_info['totalRevenue'])\n",
        "    stock_financials['returnOnAssets'].append(stock_info['returnOnAssets'])\n",
        "    stock_financials['profitMargins'].append(stock_info['profitMargins'])\n",
        "    stock_financials['earningsGrowth'].append(stock_info['earningsGrowth'])"
      ]
    },
    {
      "cell_type": "code",
      "execution_count": null,
      "metadata": {
        "colab": {
          "base_uri": "https://localhost:8080/",
          "height": 206
        },
        "id": "wxkj9o74Hg5g",
        "outputId": "2787225b-eb23-49d1-979d-de1c905af734"
      },
      "outputs": [
        {
          "output_type": "execute_result",
          "data": {
            "text/plain": [
              "      marketCap  regularMarketVolume  earningsQuarterlyGrowth  bookValue  \\\n",
              "0           NaN              2447029                   -0.205    181.165   \n",
              "1  2.551976e+12               928738                   -0.002    143.991   \n",
              "2  1.997887e+12              4638071                    0.502    385.482   \n",
              "3  1.070175e+12               753785                   -0.016    933.884   \n",
              "4  3.311923e+12              1659527                    0.797    647.277   \n",
              "\n",
              "   totalRevenue  returnOnAssets  profitMargins  earningsGrowth  \n",
              "0  1.593403e+11         0.05149        0.29673          -0.235  \n",
              "1  2.894301e+11         0.11496        0.10471          -0.002  \n",
              "2  4.375369e+11         0.01288        0.32270           0.498  \n",
              "3  3.435395e+11         0.11259        0.17948          -0.015  \n",
              "4  1.708877e+11         0.03660        0.41128           0.793  "
            ],
            "text/html": [
              "\n",
              "  <div id=\"df-fcb6fc5b-8287-440f-b30c-9bc71be3eb8f\">\n",
              "    <div class=\"colab-df-container\">\n",
              "      <div>\n",
              "<style scoped>\n",
              "    .dataframe tbody tr th:only-of-type {\n",
              "        vertical-align: middle;\n",
              "    }\n",
              "\n",
              "    .dataframe tbody tr th {\n",
              "        vertical-align: top;\n",
              "    }\n",
              "\n",
              "    .dataframe thead th {\n",
              "        text-align: right;\n",
              "    }\n",
              "</style>\n",
              "<table border=\"1\" class=\"dataframe\">\n",
              "  <thead>\n",
              "    <tr style=\"text-align: right;\">\n",
              "      <th></th>\n",
              "      <th>marketCap</th>\n",
              "      <th>regularMarketVolume</th>\n",
              "      <th>earningsQuarterlyGrowth</th>\n",
              "      <th>bookValue</th>\n",
              "      <th>totalRevenue</th>\n",
              "      <th>returnOnAssets</th>\n",
              "      <th>profitMargins</th>\n",
              "      <th>earningsGrowth</th>\n",
              "    </tr>\n",
              "  </thead>\n",
              "  <tbody>\n",
              "    <tr>\n",
              "      <th>0</th>\n",
              "      <td>NaN</td>\n",
              "      <td>2447029</td>\n",
              "      <td>-0.205</td>\n",
              "      <td>181.165</td>\n",
              "      <td>1.593403e+11</td>\n",
              "      <td>0.05149</td>\n",
              "      <td>0.29673</td>\n",
              "      <td>-0.235</td>\n",
              "    </tr>\n",
              "    <tr>\n",
              "      <th>1</th>\n",
              "      <td>2.551976e+12</td>\n",
              "      <td>928738</td>\n",
              "      <td>-0.002</td>\n",
              "      <td>143.991</td>\n",
              "      <td>2.894301e+11</td>\n",
              "      <td>0.11496</td>\n",
              "      <td>0.10471</td>\n",
              "      <td>-0.002</td>\n",
              "    </tr>\n",
              "    <tr>\n",
              "      <th>2</th>\n",
              "      <td>1.997887e+12</td>\n",
              "      <td>4638071</td>\n",
              "      <td>0.502</td>\n",
              "      <td>385.482</td>\n",
              "      <td>4.375369e+11</td>\n",
              "      <td>0.01288</td>\n",
              "      <td>0.32270</td>\n",
              "      <td>0.498</td>\n",
              "    </tr>\n",
              "    <tr>\n",
              "      <th>3</th>\n",
              "      <td>1.070175e+12</td>\n",
              "      <td>753785</td>\n",
              "      <td>-0.016</td>\n",
              "      <td>933.884</td>\n",
              "      <td>3.435395e+11</td>\n",
              "      <td>0.11259</td>\n",
              "      <td>0.17948</td>\n",
              "      <td>-0.015</td>\n",
              "    </tr>\n",
              "    <tr>\n",
              "      <th>4</th>\n",
              "      <td>3.311923e+12</td>\n",
              "      <td>1659527</td>\n",
              "      <td>0.797</td>\n",
              "      <td>647.277</td>\n",
              "      <td>1.708877e+11</td>\n",
              "      <td>0.03660</td>\n",
              "      <td>0.41128</td>\n",
              "      <td>0.793</td>\n",
              "    </tr>\n",
              "  </tbody>\n",
              "</table>\n",
              "</div>\n",
              "      <button class=\"colab-df-convert\" onclick=\"convertToInteractive('df-fcb6fc5b-8287-440f-b30c-9bc71be3eb8f')\"\n",
              "              title=\"Convert this dataframe to an interactive table.\"\n",
              "              style=\"display:none;\">\n",
              "        \n",
              "  <svg xmlns=\"http://www.w3.org/2000/svg\" height=\"24px\"viewBox=\"0 0 24 24\"\n",
              "       width=\"24px\">\n",
              "    <path d=\"M0 0h24v24H0V0z\" fill=\"none\"/>\n",
              "    <path d=\"M18.56 5.44l.94 2.06.94-2.06 2.06-.94-2.06-.94-.94-2.06-.94 2.06-2.06.94zm-11 1L8.5 8.5l.94-2.06 2.06-.94-2.06-.94L8.5 2.5l-.94 2.06-2.06.94zm10 10l.94 2.06.94-2.06 2.06-.94-2.06-.94-.94-2.06-.94 2.06-2.06.94z\"/><path d=\"M17.41 7.96l-1.37-1.37c-.4-.4-.92-.59-1.43-.59-.52 0-1.04.2-1.43.59L10.3 9.45l-7.72 7.72c-.78.78-.78 2.05 0 2.83L4 21.41c.39.39.9.59 1.41.59.51 0 1.02-.2 1.41-.59l7.78-7.78 2.81-2.81c.8-.78.8-2.07 0-2.86zM5.41 20L4 18.59l7.72-7.72 1.47 1.35L5.41 20z\"/>\n",
              "  </svg>\n",
              "      </button>\n",
              "      \n",
              "  <style>\n",
              "    .colab-df-container {\n",
              "      display:flex;\n",
              "      flex-wrap:wrap;\n",
              "      gap: 12px;\n",
              "    }\n",
              "\n",
              "    .colab-df-convert {\n",
              "      background-color: #E8F0FE;\n",
              "      border: none;\n",
              "      border-radius: 50%;\n",
              "      cursor: pointer;\n",
              "      display: none;\n",
              "      fill: #1967D2;\n",
              "      height: 32px;\n",
              "      padding: 0 0 0 0;\n",
              "      width: 32px;\n",
              "    }\n",
              "\n",
              "    .colab-df-convert:hover {\n",
              "      background-color: #E2EBFA;\n",
              "      box-shadow: 0px 1px 2px rgba(60, 64, 67, 0.3), 0px 1px 3px 1px rgba(60, 64, 67, 0.15);\n",
              "      fill: #174EA6;\n",
              "    }\n",
              "\n",
              "    [theme=dark] .colab-df-convert {\n",
              "      background-color: #3B4455;\n",
              "      fill: #D2E3FC;\n",
              "    }\n",
              "\n",
              "    [theme=dark] .colab-df-convert:hover {\n",
              "      background-color: #434B5C;\n",
              "      box-shadow: 0px 1px 3px 1px rgba(0, 0, 0, 0.15);\n",
              "      filter: drop-shadow(0px 1px 2px rgba(0, 0, 0, 0.3));\n",
              "      fill: #FFFFFF;\n",
              "    }\n",
              "  </style>\n",
              "\n",
              "      <script>\n",
              "        const buttonEl =\n",
              "          document.querySelector('#df-fcb6fc5b-8287-440f-b30c-9bc71be3eb8f button.colab-df-convert');\n",
              "        buttonEl.style.display =\n",
              "          google.colab.kernel.accessAllowed ? 'block' : 'none';\n",
              "\n",
              "        async function convertToInteractive(key) {\n",
              "          const element = document.querySelector('#df-fcb6fc5b-8287-440f-b30c-9bc71be3eb8f');\n",
              "          const dataTable =\n",
              "            await google.colab.kernel.invokeFunction('convertToInteractive',\n",
              "                                                     [key], {});\n",
              "          if (!dataTable) return;\n",
              "\n",
              "          const docLinkHtml = 'Like what you see? Visit the ' +\n",
              "            '<a target=\"_blank\" href=https://colab.research.google.com/notebooks/data_table.ipynb>data table notebook</a>'\n",
              "            + ' to learn more about interactive tables.';\n",
              "          element.innerHTML = '';\n",
              "          dataTable['output_type'] = 'display_data';\n",
              "          await google.colab.output.renderOutput(dataTable, element);\n",
              "          const docLink = document.createElement('div');\n",
              "          docLink.innerHTML = docLinkHtml;\n",
              "          element.appendChild(docLink);\n",
              "        }\n",
              "      </script>\n",
              "    </div>\n",
              "  </div>\n",
              "  "
            ]
          },
          "metadata": {},
          "execution_count": 27
        }
      ],
      "source": [
        "df = pd.DataFrame(stock_financials)\n",
        "df.head()"
      ]
    },
    {
      "cell_type": "code",
      "execution_count": null,
      "metadata": {
        "colab": {
          "base_uri": "https://localhost:8080/"
        },
        "id": "6WkZIwKzHg78",
        "outputId": "8fe7e70b-9604-4145-a940-9c2d7957a344"
      },
      "outputs": [
        {
          "output_type": "execute_result",
          "data": {
            "text/plain": [
              "(50, 8)"
            ]
          },
          "metadata": {},
          "execution_count": 28
        }
      ],
      "source": [
        "  df.shape"
      ]
    },
    {
      "cell_type": "code",
      "execution_count": null,
      "metadata": {
        "colab": {
          "base_uri": "https://localhost:8080/"
        },
        "id": "Er5-Njh9Hg-W",
        "outputId": "3d02708b-7fe4-4669-8004-ec75e9c439f5"
      },
      "outputs": [
        {
          "output_type": "stream",
          "name": "stdout",
          "text": [
            "<class 'pandas.core.frame.DataFrame'>\n",
            "RangeIndex: 50 entries, 0 to 49\n",
            "Data columns (total 8 columns):\n",
            " #   Column                   Non-Null Count  Dtype  \n",
            "---  ------                   --------------  -----  \n",
            " 0   marketCap                49 non-null     float64\n",
            " 1   regularMarketVolume      50 non-null     int64  \n",
            " 2   earningsQuarterlyGrowth  48 non-null     float64\n",
            " 3   bookValue                49 non-null     float64\n",
            " 4   totalRevenue             49 non-null     float64\n",
            " 5   returnOnAssets           22 non-null     float64\n",
            " 6   profitMargins            50 non-null     float64\n",
            " 7   earningsGrowth           48 non-null     float64\n",
            "dtypes: float64(7), int64(1)\n",
            "memory usage: 3.2 KB\n"
          ]
        }
      ],
      "source": [
        "df.info()"
      ]
    },
    {
      "cell_type": "markdown",
      "metadata": {
        "id": "zHrQcEszInFd"
      },
      "source": [
        "#### **Downloading stock price data**"
      ]
    },
    {
      "cell_type": "code",
      "execution_count": null,
      "metadata": {
        "colab": {
          "base_uri": "https://localhost:8080/"
        },
        "id": "UKLcjZGVHhAw",
        "outputId": "41896bc7-2f1e-4346-af19-542d8ffc6e55"
      },
      "outputs": [
        {
          "output_type": "stream",
          "name": "stdout",
          "text": [
            "[*********************100%***********************]  50 of 50 completed\n"
          ]
        }
      ],
      "source": [
        "import yfinance as yf\n",
        "\n",
        "stock_prices = yf.download(yf_symbols, start='2020-01-01')['Adj Close']\n",
        "stock_prices.columns = list_of_symobols"
      ]
    },
    {
      "cell_type": "code",
      "execution_count": null,
      "metadata": {
        "colab": {
          "base_uri": "https://localhost:8080/"
        },
        "id": "ECBy8GFwHhDX",
        "outputId": "5152e3fa-928a-4cee-8941-9864a47550e2"
      },
      "outputs": [
        {
          "output_type": "execute_result",
          "data": {
            "text/plain": [
              "(612, 50)"
            ]
          },
          "metadata": {},
          "execution_count": 31
        }
      ],
      "source": [
        "stock_prices.shape"
      ]
    },
    {
      "cell_type": "code",
      "execution_count": null,
      "metadata": {
        "colab": {
          "base_uri": "https://localhost:8080/",
          "height": 435
        },
        "id": "46yZ6DdhHhGG",
        "outputId": "a0574180-fc1b-4c80-d096-001bd2c3554b"
      },
      "outputs": [
        {
          "output_type": "execute_result",
          "data": {
            "text/plain": [
              "            ADANIPORTS   ASIANPAINT    AXISBANK   BAJAJ-AUTO   BAJFINANCE  \\\n",
              "Date                                                                        \n",
              "2020-01-01  373.521973  1760.709961  748.700012  2913.946289  9370.917969   \n",
              "2020-01-02  378.961853  1758.206299  756.950012  2887.027588  9497.965820   \n",
              "2020-01-03  378.318970  1719.667480  742.950012  2841.747314  9338.342773   \n",
              "2020-01-06  376.044098  1676.219116  723.250000  2809.926270  9035.437500   \n",
              "2020-01-07  380.593811  1693.156616  725.750000  2810.203613  9088.344727   \n",
              "\n",
              "             BAJAJFINSV        BPCL  BHARTIARTL    BRITANNIA       CIPLA  ...  \\\n",
              "Date                                                                      ...   \n",
              "2020-01-01  4214.786133  451.707916  401.235748  2883.702637  472.062775  ...   \n",
              "2020-01-02  4229.478516  453.601257  397.889709  2896.747314  469.682098  ...   \n",
              "2020-01-03  4177.084473  453.501617  394.584534  2882.896729  466.160767  ...   \n",
              "2020-01-06  3981.102051  448.070740  382.873474  2867.005859  462.986542  ...   \n",
              "2020-01-07  3992.009277  443.536713  376.222290  2880.809326  464.821625  ...   \n",
              "\n",
              "             SUNPHARMA         TCS  TATACONSUM  TATAMOTORS    TATASTEEL  \\\n",
              "Date                                                                      \n",
              "2020-01-01  422.185242  317.077698  184.449997  423.121002  2100.150635   \n",
              "2020-01-02  422.817139  316.588165  193.750000  438.589447  2090.509521   \n",
              "2020-01-03  432.197968  311.545868  191.100006  437.549194  2132.171631   \n",
              "2020-01-06  427.677673  305.573456  185.649994  428.096222  2131.977783   \n",
              "2020-01-07  433.947723  308.314880  184.699997  430.674316  2137.209717   \n",
              "\n",
              "                 TECHM        TITAN          UPL  ULTRACEMCO       WIPRO  \n",
              "Date                                                                      \n",
              "2020-01-01  705.708923  1143.308838  4032.545898  574.207214  243.721527  \n",
              "2020-01-02  709.366699  1144.150391  4210.910156  581.235352  244.311890  \n",
              "2020-01-03  717.747009  1128.407837  4185.515137  576.647522  247.066940  \n",
              "2020-01-06  713.394836  1147.120728  4123.910645  570.986023  248.100052  \n",
              "2020-01-07  719.599060  1148.457275  4208.231934  580.844849  251.101059  \n",
              "\n",
              "[5 rows x 50 columns]"
            ],
            "text/html": [
              "\n",
              "  <div id=\"df-90bdf4a0-114e-41d1-8510-cb0912cb1318\">\n",
              "    <div class=\"colab-df-container\">\n",
              "      <div>\n",
              "<style scoped>\n",
              "    .dataframe tbody tr th:only-of-type {\n",
              "        vertical-align: middle;\n",
              "    }\n",
              "\n",
              "    .dataframe tbody tr th {\n",
              "        vertical-align: top;\n",
              "    }\n",
              "\n",
              "    .dataframe thead th {\n",
              "        text-align: right;\n",
              "    }\n",
              "</style>\n",
              "<table border=\"1\" class=\"dataframe\">\n",
              "  <thead>\n",
              "    <tr style=\"text-align: right;\">\n",
              "      <th></th>\n",
              "      <th>ADANIPORTS</th>\n",
              "      <th>ASIANPAINT</th>\n",
              "      <th>AXISBANK</th>\n",
              "      <th>BAJAJ-AUTO</th>\n",
              "      <th>BAJFINANCE</th>\n",
              "      <th>BAJAJFINSV</th>\n",
              "      <th>BPCL</th>\n",
              "      <th>BHARTIARTL</th>\n",
              "      <th>BRITANNIA</th>\n",
              "      <th>CIPLA</th>\n",
              "      <th>...</th>\n",
              "      <th>SUNPHARMA</th>\n",
              "      <th>TCS</th>\n",
              "      <th>TATACONSUM</th>\n",
              "      <th>TATAMOTORS</th>\n",
              "      <th>TATASTEEL</th>\n",
              "      <th>TECHM</th>\n",
              "      <th>TITAN</th>\n",
              "      <th>UPL</th>\n",
              "      <th>ULTRACEMCO</th>\n",
              "      <th>WIPRO</th>\n",
              "    </tr>\n",
              "    <tr>\n",
              "      <th>Date</th>\n",
              "      <th></th>\n",
              "      <th></th>\n",
              "      <th></th>\n",
              "      <th></th>\n",
              "      <th></th>\n",
              "      <th></th>\n",
              "      <th></th>\n",
              "      <th></th>\n",
              "      <th></th>\n",
              "      <th></th>\n",
              "      <th></th>\n",
              "      <th></th>\n",
              "      <th></th>\n",
              "      <th></th>\n",
              "      <th></th>\n",
              "      <th></th>\n",
              "      <th></th>\n",
              "      <th></th>\n",
              "      <th></th>\n",
              "      <th></th>\n",
              "      <th></th>\n",
              "    </tr>\n",
              "  </thead>\n",
              "  <tbody>\n",
              "    <tr>\n",
              "      <th>2020-01-01</th>\n",
              "      <td>373.521973</td>\n",
              "      <td>1760.709961</td>\n",
              "      <td>748.700012</td>\n",
              "      <td>2913.946289</td>\n",
              "      <td>9370.917969</td>\n",
              "      <td>4214.786133</td>\n",
              "      <td>451.707916</td>\n",
              "      <td>401.235748</td>\n",
              "      <td>2883.702637</td>\n",
              "      <td>472.062775</td>\n",
              "      <td>...</td>\n",
              "      <td>422.185242</td>\n",
              "      <td>317.077698</td>\n",
              "      <td>184.449997</td>\n",
              "      <td>423.121002</td>\n",
              "      <td>2100.150635</td>\n",
              "      <td>705.708923</td>\n",
              "      <td>1143.308838</td>\n",
              "      <td>4032.545898</td>\n",
              "      <td>574.207214</td>\n",
              "      <td>243.721527</td>\n",
              "    </tr>\n",
              "    <tr>\n",
              "      <th>2020-01-02</th>\n",
              "      <td>378.961853</td>\n",
              "      <td>1758.206299</td>\n",
              "      <td>756.950012</td>\n",
              "      <td>2887.027588</td>\n",
              "      <td>9497.965820</td>\n",
              "      <td>4229.478516</td>\n",
              "      <td>453.601257</td>\n",
              "      <td>397.889709</td>\n",
              "      <td>2896.747314</td>\n",
              "      <td>469.682098</td>\n",
              "      <td>...</td>\n",
              "      <td>422.817139</td>\n",
              "      <td>316.588165</td>\n",
              "      <td>193.750000</td>\n",
              "      <td>438.589447</td>\n",
              "      <td>2090.509521</td>\n",
              "      <td>709.366699</td>\n",
              "      <td>1144.150391</td>\n",
              "      <td>4210.910156</td>\n",
              "      <td>581.235352</td>\n",
              "      <td>244.311890</td>\n",
              "    </tr>\n",
              "    <tr>\n",
              "      <th>2020-01-03</th>\n",
              "      <td>378.318970</td>\n",
              "      <td>1719.667480</td>\n",
              "      <td>742.950012</td>\n",
              "      <td>2841.747314</td>\n",
              "      <td>9338.342773</td>\n",
              "      <td>4177.084473</td>\n",
              "      <td>453.501617</td>\n",
              "      <td>394.584534</td>\n",
              "      <td>2882.896729</td>\n",
              "      <td>466.160767</td>\n",
              "      <td>...</td>\n",
              "      <td>432.197968</td>\n",
              "      <td>311.545868</td>\n",
              "      <td>191.100006</td>\n",
              "      <td>437.549194</td>\n",
              "      <td>2132.171631</td>\n",
              "      <td>717.747009</td>\n",
              "      <td>1128.407837</td>\n",
              "      <td>4185.515137</td>\n",
              "      <td>576.647522</td>\n",
              "      <td>247.066940</td>\n",
              "    </tr>\n",
              "    <tr>\n",
              "      <th>2020-01-06</th>\n",
              "      <td>376.044098</td>\n",
              "      <td>1676.219116</td>\n",
              "      <td>723.250000</td>\n",
              "      <td>2809.926270</td>\n",
              "      <td>9035.437500</td>\n",
              "      <td>3981.102051</td>\n",
              "      <td>448.070740</td>\n",
              "      <td>382.873474</td>\n",
              "      <td>2867.005859</td>\n",
              "      <td>462.986542</td>\n",
              "      <td>...</td>\n",
              "      <td>427.677673</td>\n",
              "      <td>305.573456</td>\n",
              "      <td>185.649994</td>\n",
              "      <td>428.096222</td>\n",
              "      <td>2131.977783</td>\n",
              "      <td>713.394836</td>\n",
              "      <td>1147.120728</td>\n",
              "      <td>4123.910645</td>\n",
              "      <td>570.986023</td>\n",
              "      <td>248.100052</td>\n",
              "    </tr>\n",
              "    <tr>\n",
              "      <th>2020-01-07</th>\n",
              "      <td>380.593811</td>\n",
              "      <td>1693.156616</td>\n",
              "      <td>725.750000</td>\n",
              "      <td>2810.203613</td>\n",
              "      <td>9088.344727</td>\n",
              "      <td>3992.009277</td>\n",
              "      <td>443.536713</td>\n",
              "      <td>376.222290</td>\n",
              "      <td>2880.809326</td>\n",
              "      <td>464.821625</td>\n",
              "      <td>...</td>\n",
              "      <td>433.947723</td>\n",
              "      <td>308.314880</td>\n",
              "      <td>184.699997</td>\n",
              "      <td>430.674316</td>\n",
              "      <td>2137.209717</td>\n",
              "      <td>719.599060</td>\n",
              "      <td>1148.457275</td>\n",
              "      <td>4208.231934</td>\n",
              "      <td>580.844849</td>\n",
              "      <td>251.101059</td>\n",
              "    </tr>\n",
              "  </tbody>\n",
              "</table>\n",
              "<p>5 rows × 50 columns</p>\n",
              "</div>\n",
              "      <button class=\"colab-df-convert\" onclick=\"convertToInteractive('df-90bdf4a0-114e-41d1-8510-cb0912cb1318')\"\n",
              "              title=\"Convert this dataframe to an interactive table.\"\n",
              "              style=\"display:none;\">\n",
              "        \n",
              "  <svg xmlns=\"http://www.w3.org/2000/svg\" height=\"24px\"viewBox=\"0 0 24 24\"\n",
              "       width=\"24px\">\n",
              "    <path d=\"M0 0h24v24H0V0z\" fill=\"none\"/>\n",
              "    <path d=\"M18.56 5.44l.94 2.06.94-2.06 2.06-.94-2.06-.94-.94-2.06-.94 2.06-2.06.94zm-11 1L8.5 8.5l.94-2.06 2.06-.94-2.06-.94L8.5 2.5l-.94 2.06-2.06.94zm10 10l.94 2.06.94-2.06 2.06-.94-2.06-.94-.94-2.06-.94 2.06-2.06.94z\"/><path d=\"M17.41 7.96l-1.37-1.37c-.4-.4-.92-.59-1.43-.59-.52 0-1.04.2-1.43.59L10.3 9.45l-7.72 7.72c-.78.78-.78 2.05 0 2.83L4 21.41c.39.39.9.59 1.41.59.51 0 1.02-.2 1.41-.59l7.78-7.78 2.81-2.81c.8-.78.8-2.07 0-2.86zM5.41 20L4 18.59l7.72-7.72 1.47 1.35L5.41 20z\"/>\n",
              "  </svg>\n",
              "      </button>\n",
              "      \n",
              "  <style>\n",
              "    .colab-df-container {\n",
              "      display:flex;\n",
              "      flex-wrap:wrap;\n",
              "      gap: 12px;\n",
              "    }\n",
              "\n",
              "    .colab-df-convert {\n",
              "      background-color: #E8F0FE;\n",
              "      border: none;\n",
              "      border-radius: 50%;\n",
              "      cursor: pointer;\n",
              "      display: none;\n",
              "      fill: #1967D2;\n",
              "      height: 32px;\n",
              "      padding: 0 0 0 0;\n",
              "      width: 32px;\n",
              "    }\n",
              "\n",
              "    .colab-df-convert:hover {\n",
              "      background-color: #E2EBFA;\n",
              "      box-shadow: 0px 1px 2px rgba(60, 64, 67, 0.3), 0px 1px 3px 1px rgba(60, 64, 67, 0.15);\n",
              "      fill: #174EA6;\n",
              "    }\n",
              "\n",
              "    [theme=dark] .colab-df-convert {\n",
              "      background-color: #3B4455;\n",
              "      fill: #D2E3FC;\n",
              "    }\n",
              "\n",
              "    [theme=dark] .colab-df-convert:hover {\n",
              "      background-color: #434B5C;\n",
              "      box-shadow: 0px 1px 3px 1px rgba(0, 0, 0, 0.15);\n",
              "      filter: drop-shadow(0px 1px 2px rgba(0, 0, 0, 0.3));\n",
              "      fill: #FFFFFF;\n",
              "    }\n",
              "  </style>\n",
              "\n",
              "      <script>\n",
              "        const buttonEl =\n",
              "          document.querySelector('#df-90bdf4a0-114e-41d1-8510-cb0912cb1318 button.colab-df-convert');\n",
              "        buttonEl.style.display =\n",
              "          google.colab.kernel.accessAllowed ? 'block' : 'none';\n",
              "\n",
              "        async function convertToInteractive(key) {\n",
              "          const element = document.querySelector('#df-90bdf4a0-114e-41d1-8510-cb0912cb1318');\n",
              "          const dataTable =\n",
              "            await google.colab.kernel.invokeFunction('convertToInteractive',\n",
              "                                                     [key], {});\n",
              "          if (!dataTable) return;\n",
              "\n",
              "          const docLinkHtml = 'Like what you see? Visit the ' +\n",
              "            '<a target=\"_blank\" href=https://colab.research.google.com/notebooks/data_table.ipynb>data table notebook</a>'\n",
              "            + ' to learn more about interactive tables.';\n",
              "          element.innerHTML = '';\n",
              "          dataTable['output_type'] = 'display_data';\n",
              "          await google.colab.output.renderOutput(dataTable, element);\n",
              "          const docLink = document.createElement('div');\n",
              "          docLink.innerHTML = docLinkHtml;\n",
              "          element.appendChild(docLink);\n",
              "        }\n",
              "      </script>\n",
              "    </div>\n",
              "  </div>\n",
              "  "
            ]
          },
          "metadata": {},
          "execution_count": 32
        }
      ],
      "source": [
        "stock_prices.tail()"
      ]
    },
    {
      "cell_type": "code",
      "execution_count": null,
      "metadata": {
        "colab": {
          "base_uri": "https://localhost:8080/",
          "height": 692
        },
        "id": "88T27WwCHhIj",
        "outputId": "b98e5857-4516-4f58-9690-c23b7e9467ef"
      },
      "outputs": [
        {
          "output_type": "execute_result",
          "data": {
            "text/plain": [
              "                     ADANIPORTS   ASIANPAINT    AXISBANK   BAJAJ-AUTO  \\\n",
              "Date                                                                    \n",
              "2020-01-01 00:00:00  373.521973  1760.709961  748.700012  2913.946289   \n",
              "2020-01-02 00:00:00  378.961853  1758.206299  756.950012  2887.027588   \n",
              "2020-01-03 00:00:00  378.318970  1719.667480  742.950012  2841.747314   \n",
              "2020-01-06 00:00:00  376.044098  1676.219116  723.250000  2809.926270   \n",
              "2020-01-07 00:00:00  380.593811  1693.156616  725.750000  2810.203613   \n",
              "...                         ...          ...         ...          ...   \n",
              "2022-06-13 00:00:00  695.250000  2660.750000  648.950012  3881.250000   \n",
              "2022-06-14 00:00:00  704.700012  2635.399902  650.750000  3681.750000   \n",
              "2022-06-15 00:00:00  703.750000  2661.149902  650.500000  3698.100098   \n",
              "2022-06-16 00:00:00         NaN          NaN         NaN          NaN   \n",
              "returns_2020          -9.278471    -5.353821  -42.763724    -4.848526   \n",
              "\n",
              "                       BAJFINANCE   BAJAJFINSV        BPCL  BHARTIARTL  \\\n",
              "Date                                                                     \n",
              "2020-01-01 00:00:00   9370.917969  4214.786133  451.707916  401.235748   \n",
              "2020-01-02 00:00:00   9497.965820  4229.478516  453.601257  397.889709   \n",
              "2020-01-03 00:00:00   9338.342773  4177.084473  453.501617  394.584534   \n",
              "2020-01-06 00:00:00   9035.437500  3981.102051  448.070740  382.873474   \n",
              "2020-01-07 00:00:00   9088.344727  3992.009277  443.536713  376.222290   \n",
              "...                           ...          ...         ...         ...   \n",
              "2022-06-13 00:00:00  11386.049805  5358.250000  671.299988  317.950012   \n",
              "2022-06-14 00:00:00  11336.500000  5375.750000  682.049988  314.299988   \n",
              "2022-06-15 00:00:00  11809.700195  5484.950195  682.099976  314.000000   \n",
              "2022-06-16 00:00:00           NaN          NaN         NaN         NaN   \n",
              "returns_2020           -35.061311   -30.271912   23.055805  -17.759281   \n",
              "\n",
              "                       BRITANNIA       CIPLA  ...   SUNPHARMA         TCS  \\\n",
              "Date                                          ...                           \n",
              "2020-01-01 00:00:00  2883.702637  472.062775  ...  422.185242  317.077698   \n",
              "2020-01-02 00:00:00  2896.747314  469.682098  ...  422.817139  316.588165   \n",
              "2020-01-03 00:00:00  2882.896729  466.160767  ...  432.197968  311.545868   \n",
              "2020-01-06 00:00:00  2867.005859  462.986542  ...  427.677673  305.573456   \n",
              "2020-01-07 00:00:00  2880.809326  464.821625  ...  433.947723  308.314880   \n",
              "...                          ...         ...  ...         ...         ...   \n",
              "2022-06-13 00:00:00  3359.000000  954.750000  ...  829.500000  735.950012   \n",
              "2022-06-14 00:00:00  3382.850098  964.700012  ...  825.049988  735.849976   \n",
              "2022-06-15 00:00:00  3385.399902  968.799988  ...  822.299988  737.750000   \n",
              "2022-06-16 00:00:00          NaN         NaN  ...         NaN         NaN   \n",
              "returns_2020           17.417889   32.783281  ...    8.410096   19.786463   \n",
              "\n",
              "                     TATACONSUM  TATAMOTORS    TATASTEEL        TECHM  \\\n",
              "Date                                                                    \n",
              "2020-01-01 00:00:00  184.449997  423.121002  2100.150635   705.708923   \n",
              "2020-01-02 00:00:00  193.750000  438.589447  2090.509521   709.366699   \n",
              "2020-01-03 00:00:00  191.100006  437.549194  2132.171631   717.747009   \n",
              "2020-01-06 00:00:00  185.649994  428.096222  2131.977783   713.394836   \n",
              "2020-01-07 00:00:00  184.699997  430.674316  2137.209717   719.599060   \n",
              "...                         ...         ...          ...          ...   \n",
              "2022-06-13 00:00:00  406.700012  941.165039  3219.600098  1051.949951   \n",
              "2022-06-14 00:00:00  405.149994  945.150024  3210.550049  1030.150024   \n",
              "2022-06-15 00:00:00  414.100006         NaN  3206.300049  1020.049988   \n",
              "2022-06-16 00:00:00         NaN         NaN          NaN          NaN   \n",
              "returns_2020         -48.000000  -33.237079    -1.822375   -27.767998   \n",
              "\n",
              "                           TITAN          UPL  ULTRACEMCO       WIPRO  \n",
              "Date                                                                   \n",
              "2020-01-01 00:00:00  1143.308838  4032.545898  574.207214  243.721527  \n",
              "2020-01-02 00:00:00  1144.150391  4210.910156  581.235352  244.311890  \n",
              "2020-01-03 00:00:00  1128.407837  4185.515137  576.647522  247.066940  \n",
              "2020-01-06 00:00:00  1147.120728  4123.910645  570.986023  248.100052  \n",
              "2020-01-07 00:00:00  1148.457275  4208.231934  580.844849  251.101059  \n",
              "...                          ...          ...         ...         ...  \n",
              "2022-06-13 00:00:00  2102.399902  5356.149902  726.400024  446.100006  \n",
              "2022-06-14 00:00:00  2102.000000  5428.600098  715.700012  445.899994  \n",
              "2022-06-15 00:00:00  2105.050049  5454.149902  712.150024  440.100006  \n",
              "2022-06-16 00:00:00          NaN          NaN         NaN         NaN  \n",
              "returns_2020          -17.947387    -8.155857  -24.939121  -11.423949  \n",
              "\n",
              "[613 rows x 50 columns]"
            ],
            "text/html": [
              "\n",
              "  <div id=\"df-683e7b4e-f855-49fa-8dd8-734ca64d62c9\">\n",
              "    <div class=\"colab-df-container\">\n",
              "      <div>\n",
              "<style scoped>\n",
              "    .dataframe tbody tr th:only-of-type {\n",
              "        vertical-align: middle;\n",
              "    }\n",
              "\n",
              "    .dataframe tbody tr th {\n",
              "        vertical-align: top;\n",
              "    }\n",
              "\n",
              "    .dataframe thead th {\n",
              "        text-align: right;\n",
              "    }\n",
              "</style>\n",
              "<table border=\"1\" class=\"dataframe\">\n",
              "  <thead>\n",
              "    <tr style=\"text-align: right;\">\n",
              "      <th></th>\n",
              "      <th>ADANIPORTS</th>\n",
              "      <th>ASIANPAINT</th>\n",
              "      <th>AXISBANK</th>\n",
              "      <th>BAJAJ-AUTO</th>\n",
              "      <th>BAJFINANCE</th>\n",
              "      <th>BAJAJFINSV</th>\n",
              "      <th>BPCL</th>\n",
              "      <th>BHARTIARTL</th>\n",
              "      <th>BRITANNIA</th>\n",
              "      <th>CIPLA</th>\n",
              "      <th>...</th>\n",
              "      <th>SUNPHARMA</th>\n",
              "      <th>TCS</th>\n",
              "      <th>TATACONSUM</th>\n",
              "      <th>TATAMOTORS</th>\n",
              "      <th>TATASTEEL</th>\n",
              "      <th>TECHM</th>\n",
              "      <th>TITAN</th>\n",
              "      <th>UPL</th>\n",
              "      <th>ULTRACEMCO</th>\n",
              "      <th>WIPRO</th>\n",
              "    </tr>\n",
              "    <tr>\n",
              "      <th>Date</th>\n",
              "      <th></th>\n",
              "      <th></th>\n",
              "      <th></th>\n",
              "      <th></th>\n",
              "      <th></th>\n",
              "      <th></th>\n",
              "      <th></th>\n",
              "      <th></th>\n",
              "      <th></th>\n",
              "      <th></th>\n",
              "      <th></th>\n",
              "      <th></th>\n",
              "      <th></th>\n",
              "      <th></th>\n",
              "      <th></th>\n",
              "      <th></th>\n",
              "      <th></th>\n",
              "      <th></th>\n",
              "      <th></th>\n",
              "      <th></th>\n",
              "      <th></th>\n",
              "    </tr>\n",
              "  </thead>\n",
              "  <tbody>\n",
              "    <tr>\n",
              "      <th>2020-01-01 00:00:00</th>\n",
              "      <td>373.521973</td>\n",
              "      <td>1760.709961</td>\n",
              "      <td>748.700012</td>\n",
              "      <td>2913.946289</td>\n",
              "      <td>9370.917969</td>\n",
              "      <td>4214.786133</td>\n",
              "      <td>451.707916</td>\n",
              "      <td>401.235748</td>\n",
              "      <td>2883.702637</td>\n",
              "      <td>472.062775</td>\n",
              "      <td>...</td>\n",
              "      <td>422.185242</td>\n",
              "      <td>317.077698</td>\n",
              "      <td>184.449997</td>\n",
              "      <td>423.121002</td>\n",
              "      <td>2100.150635</td>\n",
              "      <td>705.708923</td>\n",
              "      <td>1143.308838</td>\n",
              "      <td>4032.545898</td>\n",
              "      <td>574.207214</td>\n",
              "      <td>243.721527</td>\n",
              "    </tr>\n",
              "    <tr>\n",
              "      <th>2020-01-02 00:00:00</th>\n",
              "      <td>378.961853</td>\n",
              "      <td>1758.206299</td>\n",
              "      <td>756.950012</td>\n",
              "      <td>2887.027588</td>\n",
              "      <td>9497.965820</td>\n",
              "      <td>4229.478516</td>\n",
              "      <td>453.601257</td>\n",
              "      <td>397.889709</td>\n",
              "      <td>2896.747314</td>\n",
              "      <td>469.682098</td>\n",
              "      <td>...</td>\n",
              "      <td>422.817139</td>\n",
              "      <td>316.588165</td>\n",
              "      <td>193.750000</td>\n",
              "      <td>438.589447</td>\n",
              "      <td>2090.509521</td>\n",
              "      <td>709.366699</td>\n",
              "      <td>1144.150391</td>\n",
              "      <td>4210.910156</td>\n",
              "      <td>581.235352</td>\n",
              "      <td>244.311890</td>\n",
              "    </tr>\n",
              "    <tr>\n",
              "      <th>2020-01-03 00:00:00</th>\n",
              "      <td>378.318970</td>\n",
              "      <td>1719.667480</td>\n",
              "      <td>742.950012</td>\n",
              "      <td>2841.747314</td>\n",
              "      <td>9338.342773</td>\n",
              "      <td>4177.084473</td>\n",
              "      <td>453.501617</td>\n",
              "      <td>394.584534</td>\n",
              "      <td>2882.896729</td>\n",
              "      <td>466.160767</td>\n",
              "      <td>...</td>\n",
              "      <td>432.197968</td>\n",
              "      <td>311.545868</td>\n",
              "      <td>191.100006</td>\n",
              "      <td>437.549194</td>\n",
              "      <td>2132.171631</td>\n",
              "      <td>717.747009</td>\n",
              "      <td>1128.407837</td>\n",
              "      <td>4185.515137</td>\n",
              "      <td>576.647522</td>\n",
              "      <td>247.066940</td>\n",
              "    </tr>\n",
              "    <tr>\n",
              "      <th>2020-01-06 00:00:00</th>\n",
              "      <td>376.044098</td>\n",
              "      <td>1676.219116</td>\n",
              "      <td>723.250000</td>\n",
              "      <td>2809.926270</td>\n",
              "      <td>9035.437500</td>\n",
              "      <td>3981.102051</td>\n",
              "      <td>448.070740</td>\n",
              "      <td>382.873474</td>\n",
              "      <td>2867.005859</td>\n",
              "      <td>462.986542</td>\n",
              "      <td>...</td>\n",
              "      <td>427.677673</td>\n",
              "      <td>305.573456</td>\n",
              "      <td>185.649994</td>\n",
              "      <td>428.096222</td>\n",
              "      <td>2131.977783</td>\n",
              "      <td>713.394836</td>\n",
              "      <td>1147.120728</td>\n",
              "      <td>4123.910645</td>\n",
              "      <td>570.986023</td>\n",
              "      <td>248.100052</td>\n",
              "    </tr>\n",
              "    <tr>\n",
              "      <th>2020-01-07 00:00:00</th>\n",
              "      <td>380.593811</td>\n",
              "      <td>1693.156616</td>\n",
              "      <td>725.750000</td>\n",
              "      <td>2810.203613</td>\n",
              "      <td>9088.344727</td>\n",
              "      <td>3992.009277</td>\n",
              "      <td>443.536713</td>\n",
              "      <td>376.222290</td>\n",
              "      <td>2880.809326</td>\n",
              "      <td>464.821625</td>\n",
              "      <td>...</td>\n",
              "      <td>433.947723</td>\n",
              "      <td>308.314880</td>\n",
              "      <td>184.699997</td>\n",
              "      <td>430.674316</td>\n",
              "      <td>2137.209717</td>\n",
              "      <td>719.599060</td>\n",
              "      <td>1148.457275</td>\n",
              "      <td>4208.231934</td>\n",
              "      <td>580.844849</td>\n",
              "      <td>251.101059</td>\n",
              "    </tr>\n",
              "    <tr>\n",
              "      <th>...</th>\n",
              "      <td>...</td>\n",
              "      <td>...</td>\n",
              "      <td>...</td>\n",
              "      <td>...</td>\n",
              "      <td>...</td>\n",
              "      <td>...</td>\n",
              "      <td>...</td>\n",
              "      <td>...</td>\n",
              "      <td>...</td>\n",
              "      <td>...</td>\n",
              "      <td>...</td>\n",
              "      <td>...</td>\n",
              "      <td>...</td>\n",
              "      <td>...</td>\n",
              "      <td>...</td>\n",
              "      <td>...</td>\n",
              "      <td>...</td>\n",
              "      <td>...</td>\n",
              "      <td>...</td>\n",
              "      <td>...</td>\n",
              "      <td>...</td>\n",
              "    </tr>\n",
              "    <tr>\n",
              "      <th>2022-06-13 00:00:00</th>\n",
              "      <td>695.250000</td>\n",
              "      <td>2660.750000</td>\n",
              "      <td>648.950012</td>\n",
              "      <td>3881.250000</td>\n",
              "      <td>11386.049805</td>\n",
              "      <td>5358.250000</td>\n",
              "      <td>671.299988</td>\n",
              "      <td>317.950012</td>\n",
              "      <td>3359.000000</td>\n",
              "      <td>954.750000</td>\n",
              "      <td>...</td>\n",
              "      <td>829.500000</td>\n",
              "      <td>735.950012</td>\n",
              "      <td>406.700012</td>\n",
              "      <td>941.165039</td>\n",
              "      <td>3219.600098</td>\n",
              "      <td>1051.949951</td>\n",
              "      <td>2102.399902</td>\n",
              "      <td>5356.149902</td>\n",
              "      <td>726.400024</td>\n",
              "      <td>446.100006</td>\n",
              "    </tr>\n",
              "    <tr>\n",
              "      <th>2022-06-14 00:00:00</th>\n",
              "      <td>704.700012</td>\n",
              "      <td>2635.399902</td>\n",
              "      <td>650.750000</td>\n",
              "      <td>3681.750000</td>\n",
              "      <td>11336.500000</td>\n",
              "      <td>5375.750000</td>\n",
              "      <td>682.049988</td>\n",
              "      <td>314.299988</td>\n",
              "      <td>3382.850098</td>\n",
              "      <td>964.700012</td>\n",
              "      <td>...</td>\n",
              "      <td>825.049988</td>\n",
              "      <td>735.849976</td>\n",
              "      <td>405.149994</td>\n",
              "      <td>945.150024</td>\n",
              "      <td>3210.550049</td>\n",
              "      <td>1030.150024</td>\n",
              "      <td>2102.000000</td>\n",
              "      <td>5428.600098</td>\n",
              "      <td>715.700012</td>\n",
              "      <td>445.899994</td>\n",
              "    </tr>\n",
              "    <tr>\n",
              "      <th>2022-06-15 00:00:00</th>\n",
              "      <td>703.750000</td>\n",
              "      <td>2661.149902</td>\n",
              "      <td>650.500000</td>\n",
              "      <td>3698.100098</td>\n",
              "      <td>11809.700195</td>\n",
              "      <td>5484.950195</td>\n",
              "      <td>682.099976</td>\n",
              "      <td>314.000000</td>\n",
              "      <td>3385.399902</td>\n",
              "      <td>968.799988</td>\n",
              "      <td>...</td>\n",
              "      <td>822.299988</td>\n",
              "      <td>737.750000</td>\n",
              "      <td>414.100006</td>\n",
              "      <td>NaN</td>\n",
              "      <td>3206.300049</td>\n",
              "      <td>1020.049988</td>\n",
              "      <td>2105.050049</td>\n",
              "      <td>5454.149902</td>\n",
              "      <td>712.150024</td>\n",
              "      <td>440.100006</td>\n",
              "    </tr>\n",
              "    <tr>\n",
              "      <th>2022-06-16 00:00:00</th>\n",
              "      <td>NaN</td>\n",
              "      <td>NaN</td>\n",
              "      <td>NaN</td>\n",
              "      <td>NaN</td>\n",
              "      <td>NaN</td>\n",
              "      <td>NaN</td>\n",
              "      <td>NaN</td>\n",
              "      <td>NaN</td>\n",
              "      <td>NaN</td>\n",
              "      <td>NaN</td>\n",
              "      <td>...</td>\n",
              "      <td>NaN</td>\n",
              "      <td>NaN</td>\n",
              "      <td>NaN</td>\n",
              "      <td>NaN</td>\n",
              "      <td>NaN</td>\n",
              "      <td>NaN</td>\n",
              "      <td>NaN</td>\n",
              "      <td>NaN</td>\n",
              "      <td>NaN</td>\n",
              "      <td>NaN</td>\n",
              "    </tr>\n",
              "    <tr>\n",
              "      <th>returns_2020</th>\n",
              "      <td>-9.278471</td>\n",
              "      <td>-5.353821</td>\n",
              "      <td>-42.763724</td>\n",
              "      <td>-4.848526</td>\n",
              "      <td>-35.061311</td>\n",
              "      <td>-30.271912</td>\n",
              "      <td>23.055805</td>\n",
              "      <td>-17.759281</td>\n",
              "      <td>17.417889</td>\n",
              "      <td>32.783281</td>\n",
              "      <td>...</td>\n",
              "      <td>8.410096</td>\n",
              "      <td>19.786463</td>\n",
              "      <td>-48.000000</td>\n",
              "      <td>-33.237079</td>\n",
              "      <td>-1.822375</td>\n",
              "      <td>-27.767998</td>\n",
              "      <td>-17.947387</td>\n",
              "      <td>-8.155857</td>\n",
              "      <td>-24.939121</td>\n",
              "      <td>-11.423949</td>\n",
              "    </tr>\n",
              "  </tbody>\n",
              "</table>\n",
              "<p>613 rows × 50 columns</p>\n",
              "</div>\n",
              "      <button class=\"colab-df-convert\" onclick=\"convertToInteractive('df-683e7b4e-f855-49fa-8dd8-734ca64d62c9')\"\n",
              "              title=\"Convert this dataframe to an interactive table.\"\n",
              "              style=\"display:none;\">\n",
              "        \n",
              "  <svg xmlns=\"http://www.w3.org/2000/svg\" height=\"24px\"viewBox=\"0 0 24 24\"\n",
              "       width=\"24px\">\n",
              "    <path d=\"M0 0h24v24H0V0z\" fill=\"none\"/>\n",
              "    <path d=\"M18.56 5.44l.94 2.06.94-2.06 2.06-.94-2.06-.94-.94-2.06-.94 2.06-2.06.94zm-11 1L8.5 8.5l.94-2.06 2.06-.94-2.06-.94L8.5 2.5l-.94 2.06-2.06.94zm10 10l.94 2.06.94-2.06 2.06-.94-2.06-.94-.94-2.06-.94 2.06-2.06.94z\"/><path d=\"M17.41 7.96l-1.37-1.37c-.4-.4-.92-.59-1.43-.59-.52 0-1.04.2-1.43.59L10.3 9.45l-7.72 7.72c-.78.78-.78 2.05 0 2.83L4 21.41c.39.39.9.59 1.41.59.51 0 1.02-.2 1.41-.59l7.78-7.78 2.81-2.81c.8-.78.8-2.07 0-2.86zM5.41 20L4 18.59l7.72-7.72 1.47 1.35L5.41 20z\"/>\n",
              "  </svg>\n",
              "      </button>\n",
              "      \n",
              "  <style>\n",
              "    .colab-df-container {\n",
              "      display:flex;\n",
              "      flex-wrap:wrap;\n",
              "      gap: 12px;\n",
              "    }\n",
              "\n",
              "    .colab-df-convert {\n",
              "      background-color: #E8F0FE;\n",
              "      border: none;\n",
              "      border-radius: 50%;\n",
              "      cursor: pointer;\n",
              "      display: none;\n",
              "      fill: #1967D2;\n",
              "      height: 32px;\n",
              "      padding: 0 0 0 0;\n",
              "      width: 32px;\n",
              "    }\n",
              "\n",
              "    .colab-df-convert:hover {\n",
              "      background-color: #E2EBFA;\n",
              "      box-shadow: 0px 1px 2px rgba(60, 64, 67, 0.3), 0px 1px 3px 1px rgba(60, 64, 67, 0.15);\n",
              "      fill: #174EA6;\n",
              "    }\n",
              "\n",
              "    [theme=dark] .colab-df-convert {\n",
              "      background-color: #3B4455;\n",
              "      fill: #D2E3FC;\n",
              "    }\n",
              "\n",
              "    [theme=dark] .colab-df-convert:hover {\n",
              "      background-color: #434B5C;\n",
              "      box-shadow: 0px 1px 3px 1px rgba(0, 0, 0, 0.15);\n",
              "      filter: drop-shadow(0px 1px 2px rgba(0, 0, 0, 0.3));\n",
              "      fill: #FFFFFF;\n",
              "    }\n",
              "  </style>\n",
              "\n",
              "      <script>\n",
              "        const buttonEl =\n",
              "          document.querySelector('#df-683e7b4e-f855-49fa-8dd8-734ca64d62c9 button.colab-df-convert');\n",
              "        buttonEl.style.display =\n",
              "          google.colab.kernel.accessAllowed ? 'block' : 'none';\n",
              "\n",
              "        async function convertToInteractive(key) {\n",
              "          const element = document.querySelector('#df-683e7b4e-f855-49fa-8dd8-734ca64d62c9');\n",
              "          const dataTable =\n",
              "            await google.colab.kernel.invokeFunction('convertToInteractive',\n",
              "                                                     [key], {});\n",
              "          if (!dataTable) return;\n",
              "\n",
              "          const docLinkHtml = 'Like what you see? Visit the ' +\n",
              "            '<a target=\"_blank\" href=https://colab.research.google.com/notebooks/data_table.ipynb>data table notebook</a>'\n",
              "            + ' to learn more about interactive tables.';\n",
              "          element.innerHTML = '';\n",
              "          dataTable['output_type'] = 'display_data';\n",
              "          await google.colab.output.renderOutput(dataTable, element);\n",
              "          const docLink = document.createElement('div');\n",
              "          docLink.innerHTML = docLinkHtml;\n",
              "          element.appendChild(docLink);\n",
              "        }\n",
              "      </script>\n",
              "    </div>\n",
              "  </div>\n",
              "  "
            ]
          },
          "metadata": {},
          "execution_count": 33
        }
      ],
      "source": [
        "# splitting data by year - 2020 returns\n",
        "price_2020 = stock_prices.loc[\"2020-01-02 00:00:00\":\"2020-12-31 00:00:00\"]\n",
        "stock_prices.loc['returns_2020'] = (price_2020.loc['2020-07-01 00:00:00'] / price_2020.loc['2020-01-02 00:00:00'] - 1)*100\n",
        "\n",
        "stock_prices"
      ]
    },
    {
      "cell_type": "code",
      "execution_count": null,
      "metadata": {
        "colab": {
          "base_uri": "https://localhost:8080/",
          "height": 334
        },
        "id": "cFua9lAMHAll",
        "outputId": "0c004413-a02a-4287-ba5f-2236508c6110"
      },
      "outputs": [
        {
          "output_type": "execute_result",
          "data": {
            "text/plain": [
              "Date        2020-01-01 00:00:00  2020-01-02 00:00:00  2020-01-03 00:00:00  \\\n",
              "ADANIPORTS           373.521973           378.961853           378.318970   \n",
              "ASIANPAINT          1760.709961          1758.206299          1719.667480   \n",
              "AXISBANK             748.700012           756.950012           742.950012   \n",
              "BAJAJ-AUTO          2913.946289          2887.027588          2841.747314   \n",
              "BAJFINANCE          9370.917969          9497.965820          9338.342773   \n",
              "\n",
              "Date        2020-01-06 00:00:00  2020-01-07 00:00:00  2020-01-08 00:00:00  \\\n",
              "ADANIPORTS           376.044098           380.593811           381.434509   \n",
              "ASIANPAINT          1676.219116          1693.156616          1697.476929   \n",
              "AXISBANK             723.250000           725.750000           724.500000   \n",
              "BAJAJ-AUTO          2809.926270          2810.203613          2829.906738   \n",
              "BAJFINANCE          9035.437500          9088.344727          9138.154297   \n",
              "\n",
              "Date        2020-01-09 00:00:00  2020-01-10 00:00:00  2020-01-13 00:00:00  \\\n",
              "ADANIPORTS           387.517273           387.764557           386.083160   \n",
              "ASIANPAINT          1740.434204          1760.071777          1772.197998   \n",
              "AXISBANK             742.849976           740.049988           737.400024   \n",
              "BAJAJ-AUTO          2854.373779          2868.711914          2862.097900   \n",
              "BAJFINANCE          9387.704102          9364.722656          9447.655273   \n",
              "\n",
              "Date        2020-01-14 00:00:00  ...  2022-06-06 00:00:00  \\\n",
              "ADANIPORTS           384.945740  ...           741.250000   \n",
              "ASIANPAINT          1786.189941  ...          2801.306641   \n",
              "AXISBANK             747.900024  ...           672.200012   \n",
              "BAJAJ-AUTO          2869.082031  ...          3817.000000   \n",
              "BAJFINANCE          9547.175781  ...         12516.400391   \n",
              "\n",
              "Date        2022-06-07 00:00:00  2022-06-08 00:00:00  2022-06-09 00:00:00  \\\n",
              "ADANIPORTS           734.549988           728.599976           735.500000   \n",
              "ASIANPAINT          2728.973633          2689.699951          2686.800049   \n",
              "AXISBANK             665.849976           658.599976           661.299988   \n",
              "BAJAJ-AUTO          3834.100098          3794.149902          3878.649902   \n",
              "BAJFINANCE         12338.700195         12465.000000         12471.000000   \n",
              "\n",
              "Date        2022-06-10 00:00:00  2022-06-13 00:00:00  2022-06-14 00:00:00  \\\n",
              "ADANIPORTS           726.400024           695.250000           704.700012   \n",
              "ASIANPAINT          2708.750000          2660.750000          2635.399902   \n",
              "AXISBANK             660.700012           648.950012           650.750000   \n",
              "BAJAJ-AUTO          3881.000000          3881.250000          3681.750000   \n",
              "BAJFINANCE         12253.500000         11386.049805         11336.500000   \n",
              "\n",
              "Date        2022-06-15 00:00:00  2022-06-16 00:00:00  returns_2020  \n",
              "ADANIPORTS           703.750000                  NaN     -9.278471  \n",
              "ASIANPAINT          2661.149902                  NaN     -5.353821  \n",
              "AXISBANK             650.500000                  NaN    -42.763724  \n",
              "BAJAJ-AUTO          3698.100098                  NaN     -4.848526  \n",
              "BAJFINANCE         11809.700195                  NaN    -35.061311  \n",
              "\n",
              "[5 rows x 613 columns]"
            ],
            "text/html": [
              "\n",
              "  <div id=\"df-c85d755b-f314-4c57-8c69-7fbaecd95206\">\n",
              "    <div class=\"colab-df-container\">\n",
              "      <div>\n",
              "<style scoped>\n",
              "    .dataframe tbody tr th:only-of-type {\n",
              "        vertical-align: middle;\n",
              "    }\n",
              "\n",
              "    .dataframe tbody tr th {\n",
              "        vertical-align: top;\n",
              "    }\n",
              "\n",
              "    .dataframe thead th {\n",
              "        text-align: right;\n",
              "    }\n",
              "</style>\n",
              "<table border=\"1\" class=\"dataframe\">\n",
              "  <thead>\n",
              "    <tr style=\"text-align: right;\">\n",
              "      <th>Date</th>\n",
              "      <th>2020-01-01 00:00:00</th>\n",
              "      <th>2020-01-02 00:00:00</th>\n",
              "      <th>2020-01-03 00:00:00</th>\n",
              "      <th>2020-01-06 00:00:00</th>\n",
              "      <th>2020-01-07 00:00:00</th>\n",
              "      <th>2020-01-08 00:00:00</th>\n",
              "      <th>2020-01-09 00:00:00</th>\n",
              "      <th>2020-01-10 00:00:00</th>\n",
              "      <th>2020-01-13 00:00:00</th>\n",
              "      <th>2020-01-14 00:00:00</th>\n",
              "      <th>...</th>\n",
              "      <th>2022-06-06 00:00:00</th>\n",
              "      <th>2022-06-07 00:00:00</th>\n",
              "      <th>2022-06-08 00:00:00</th>\n",
              "      <th>2022-06-09 00:00:00</th>\n",
              "      <th>2022-06-10 00:00:00</th>\n",
              "      <th>2022-06-13 00:00:00</th>\n",
              "      <th>2022-06-14 00:00:00</th>\n",
              "      <th>2022-06-15 00:00:00</th>\n",
              "      <th>2022-06-16 00:00:00</th>\n",
              "      <th>returns_2020</th>\n",
              "    </tr>\n",
              "  </thead>\n",
              "  <tbody>\n",
              "    <tr>\n",
              "      <th>ADANIPORTS</th>\n",
              "      <td>373.521973</td>\n",
              "      <td>378.961853</td>\n",
              "      <td>378.318970</td>\n",
              "      <td>376.044098</td>\n",
              "      <td>380.593811</td>\n",
              "      <td>381.434509</td>\n",
              "      <td>387.517273</td>\n",
              "      <td>387.764557</td>\n",
              "      <td>386.083160</td>\n",
              "      <td>384.945740</td>\n",
              "      <td>...</td>\n",
              "      <td>741.250000</td>\n",
              "      <td>734.549988</td>\n",
              "      <td>728.599976</td>\n",
              "      <td>735.500000</td>\n",
              "      <td>726.400024</td>\n",
              "      <td>695.250000</td>\n",
              "      <td>704.700012</td>\n",
              "      <td>703.750000</td>\n",
              "      <td>NaN</td>\n",
              "      <td>-9.278471</td>\n",
              "    </tr>\n",
              "    <tr>\n",
              "      <th>ASIANPAINT</th>\n",
              "      <td>1760.709961</td>\n",
              "      <td>1758.206299</td>\n",
              "      <td>1719.667480</td>\n",
              "      <td>1676.219116</td>\n",
              "      <td>1693.156616</td>\n",
              "      <td>1697.476929</td>\n",
              "      <td>1740.434204</td>\n",
              "      <td>1760.071777</td>\n",
              "      <td>1772.197998</td>\n",
              "      <td>1786.189941</td>\n",
              "      <td>...</td>\n",
              "      <td>2801.306641</td>\n",
              "      <td>2728.973633</td>\n",
              "      <td>2689.699951</td>\n",
              "      <td>2686.800049</td>\n",
              "      <td>2708.750000</td>\n",
              "      <td>2660.750000</td>\n",
              "      <td>2635.399902</td>\n",
              "      <td>2661.149902</td>\n",
              "      <td>NaN</td>\n",
              "      <td>-5.353821</td>\n",
              "    </tr>\n",
              "    <tr>\n",
              "      <th>AXISBANK</th>\n",
              "      <td>748.700012</td>\n",
              "      <td>756.950012</td>\n",
              "      <td>742.950012</td>\n",
              "      <td>723.250000</td>\n",
              "      <td>725.750000</td>\n",
              "      <td>724.500000</td>\n",
              "      <td>742.849976</td>\n",
              "      <td>740.049988</td>\n",
              "      <td>737.400024</td>\n",
              "      <td>747.900024</td>\n",
              "      <td>...</td>\n",
              "      <td>672.200012</td>\n",
              "      <td>665.849976</td>\n",
              "      <td>658.599976</td>\n",
              "      <td>661.299988</td>\n",
              "      <td>660.700012</td>\n",
              "      <td>648.950012</td>\n",
              "      <td>650.750000</td>\n",
              "      <td>650.500000</td>\n",
              "      <td>NaN</td>\n",
              "      <td>-42.763724</td>\n",
              "    </tr>\n",
              "    <tr>\n",
              "      <th>BAJAJ-AUTO</th>\n",
              "      <td>2913.946289</td>\n",
              "      <td>2887.027588</td>\n",
              "      <td>2841.747314</td>\n",
              "      <td>2809.926270</td>\n",
              "      <td>2810.203613</td>\n",
              "      <td>2829.906738</td>\n",
              "      <td>2854.373779</td>\n",
              "      <td>2868.711914</td>\n",
              "      <td>2862.097900</td>\n",
              "      <td>2869.082031</td>\n",
              "      <td>...</td>\n",
              "      <td>3817.000000</td>\n",
              "      <td>3834.100098</td>\n",
              "      <td>3794.149902</td>\n",
              "      <td>3878.649902</td>\n",
              "      <td>3881.000000</td>\n",
              "      <td>3881.250000</td>\n",
              "      <td>3681.750000</td>\n",
              "      <td>3698.100098</td>\n",
              "      <td>NaN</td>\n",
              "      <td>-4.848526</td>\n",
              "    </tr>\n",
              "    <tr>\n",
              "      <th>BAJFINANCE</th>\n",
              "      <td>9370.917969</td>\n",
              "      <td>9497.965820</td>\n",
              "      <td>9338.342773</td>\n",
              "      <td>9035.437500</td>\n",
              "      <td>9088.344727</td>\n",
              "      <td>9138.154297</td>\n",
              "      <td>9387.704102</td>\n",
              "      <td>9364.722656</td>\n",
              "      <td>9447.655273</td>\n",
              "      <td>9547.175781</td>\n",
              "      <td>...</td>\n",
              "      <td>12516.400391</td>\n",
              "      <td>12338.700195</td>\n",
              "      <td>12465.000000</td>\n",
              "      <td>12471.000000</td>\n",
              "      <td>12253.500000</td>\n",
              "      <td>11386.049805</td>\n",
              "      <td>11336.500000</td>\n",
              "      <td>11809.700195</td>\n",
              "      <td>NaN</td>\n",
              "      <td>-35.061311</td>\n",
              "    </tr>\n",
              "  </tbody>\n",
              "</table>\n",
              "<p>5 rows × 613 columns</p>\n",
              "</div>\n",
              "      <button class=\"colab-df-convert\" onclick=\"convertToInteractive('df-c85d755b-f314-4c57-8c69-7fbaecd95206')\"\n",
              "              title=\"Convert this dataframe to an interactive table.\"\n",
              "              style=\"display:none;\">\n",
              "        \n",
              "  <svg xmlns=\"http://www.w3.org/2000/svg\" height=\"24px\"viewBox=\"0 0 24 24\"\n",
              "       width=\"24px\">\n",
              "    <path d=\"M0 0h24v24H0V0z\" fill=\"none\"/>\n",
              "    <path d=\"M18.56 5.44l.94 2.06.94-2.06 2.06-.94-2.06-.94-.94-2.06-.94 2.06-2.06.94zm-11 1L8.5 8.5l.94-2.06 2.06-.94-2.06-.94L8.5 2.5l-.94 2.06-2.06.94zm10 10l.94 2.06.94-2.06 2.06-.94-2.06-.94-.94-2.06-.94 2.06-2.06.94z\"/><path d=\"M17.41 7.96l-1.37-1.37c-.4-.4-.92-.59-1.43-.59-.52 0-1.04.2-1.43.59L10.3 9.45l-7.72 7.72c-.78.78-.78 2.05 0 2.83L4 21.41c.39.39.9.59 1.41.59.51 0 1.02-.2 1.41-.59l7.78-7.78 2.81-2.81c.8-.78.8-2.07 0-2.86zM5.41 20L4 18.59l7.72-7.72 1.47 1.35L5.41 20z\"/>\n",
              "  </svg>\n",
              "      </button>\n",
              "      \n",
              "  <style>\n",
              "    .colab-df-container {\n",
              "      display:flex;\n",
              "      flex-wrap:wrap;\n",
              "      gap: 12px;\n",
              "    }\n",
              "\n",
              "    .colab-df-convert {\n",
              "      background-color: #E8F0FE;\n",
              "      border: none;\n",
              "      border-radius: 50%;\n",
              "      cursor: pointer;\n",
              "      display: none;\n",
              "      fill: #1967D2;\n",
              "      height: 32px;\n",
              "      padding: 0 0 0 0;\n",
              "      width: 32px;\n",
              "    }\n",
              "\n",
              "    .colab-df-convert:hover {\n",
              "      background-color: #E2EBFA;\n",
              "      box-shadow: 0px 1px 2px rgba(60, 64, 67, 0.3), 0px 1px 3px 1px rgba(60, 64, 67, 0.15);\n",
              "      fill: #174EA6;\n",
              "    }\n",
              "\n",
              "    [theme=dark] .colab-df-convert {\n",
              "      background-color: #3B4455;\n",
              "      fill: #D2E3FC;\n",
              "    }\n",
              "\n",
              "    [theme=dark] .colab-df-convert:hover {\n",
              "      background-color: #434B5C;\n",
              "      box-shadow: 0px 1px 3px 1px rgba(0, 0, 0, 0.15);\n",
              "      filter: drop-shadow(0px 1px 2px rgba(0, 0, 0, 0.3));\n",
              "      fill: #FFFFFF;\n",
              "    }\n",
              "  </style>\n",
              "\n",
              "      <script>\n",
              "        const buttonEl =\n",
              "          document.querySelector('#df-c85d755b-f314-4c57-8c69-7fbaecd95206 button.colab-df-convert');\n",
              "        buttonEl.style.display =\n",
              "          google.colab.kernel.accessAllowed ? 'block' : 'none';\n",
              "\n",
              "        async function convertToInteractive(key) {\n",
              "          const element = document.querySelector('#df-c85d755b-f314-4c57-8c69-7fbaecd95206');\n",
              "          const dataTable =\n",
              "            await google.colab.kernel.invokeFunction('convertToInteractive',\n",
              "                                                     [key], {});\n",
              "          if (!dataTable) return;\n",
              "\n",
              "          const docLinkHtml = 'Like what you see? Visit the ' +\n",
              "            '<a target=\"_blank\" href=https://colab.research.google.com/notebooks/data_table.ipynb>data table notebook</a>'\n",
              "            + ' to learn more about interactive tables.';\n",
              "          element.innerHTML = '';\n",
              "          dataTable['output_type'] = 'display_data';\n",
              "          await google.colab.output.renderOutput(dataTable, element);\n",
              "          const docLink = document.createElement('div');\n",
              "          docLink.innerHTML = docLinkHtml;\n",
              "          element.appendChild(docLink);\n",
              "        }\n",
              "      </script>\n",
              "    </div>\n",
              "  </div>\n",
              "  "
            ]
          },
          "metadata": {},
          "execution_count": 34
        }
      ],
      "source": [
        "stock_prices = stock_prices.transpose()\n",
        "stock_prices.head()"
      ]
    },
    {
      "cell_type": "markdown",
      "metadata": {
        "id": "cOI50J5kHMX9"
      },
      "source": [
        "### **Putting the data together**"
      ]
    },
    {
      "cell_type": "code",
      "execution_count": null,
      "metadata": {
        "colab": {
          "base_uri": "https://localhost:8080/",
          "height": 250
        },
        "id": "eVSR0JjlHFbO",
        "outputId": "0dd4ee31-a3f8-4b59-f044-0d17d34554d1"
      },
      "outputs": [
        {
          "output_type": "execute_result",
          "data": {
            "text/plain": [
              "               marketCap  regularMarketVolume  earningsQuarterlyGrowth  \\\n",
              "ADANIPORTS           NaN              2447029                   -0.205   \n",
              "ASIANPAINT  2.551976e+12               928738                   -0.002   \n",
              "AXISBANK    1.997887e+12              4638071                    0.502   \n",
              "BAJAJ-AUTO  1.070175e+12               753785                   -0.016   \n",
              "BAJFINANCE  3.311923e+12              1659527                    0.797   \n",
              "\n",
              "            bookValue  totalRevenue  returnOnAssets  profitMargins  \\\n",
              "ADANIPORTS    181.165  1.593403e+11         0.05149        0.29673   \n",
              "ASIANPAINT    143.991  2.894301e+11         0.11496        0.10471   \n",
              "AXISBANK      385.482  4.375369e+11         0.01288        0.32270   \n",
              "BAJAJ-AUTO    933.884  3.435395e+11         0.11259        0.17948   \n",
              "BAJFINANCE    647.277  1.708877e+11         0.03660        0.41128   \n",
              "\n",
              "            earningsGrowth  return_2020  \n",
              "ADANIPORTS          -0.235    -9.278471  \n",
              "ASIANPAINT          -0.002    -5.353821  \n",
              "AXISBANK             0.498   -42.763724  \n",
              "BAJAJ-AUTO          -0.015    -4.848526  \n",
              "BAJFINANCE           0.793   -35.061311  "
            ],
            "text/html": [
              "\n",
              "  <div id=\"df-42ae63fb-d253-4b16-a580-97d4aa7e37c2\">\n",
              "    <div class=\"colab-df-container\">\n",
              "      <div>\n",
              "<style scoped>\n",
              "    .dataframe tbody tr th:only-of-type {\n",
              "        vertical-align: middle;\n",
              "    }\n",
              "\n",
              "    .dataframe tbody tr th {\n",
              "        vertical-align: top;\n",
              "    }\n",
              "\n",
              "    .dataframe thead th {\n",
              "        text-align: right;\n",
              "    }\n",
              "</style>\n",
              "<table border=\"1\" class=\"dataframe\">\n",
              "  <thead>\n",
              "    <tr style=\"text-align: right;\">\n",
              "      <th></th>\n",
              "      <th>marketCap</th>\n",
              "      <th>regularMarketVolume</th>\n",
              "      <th>earningsQuarterlyGrowth</th>\n",
              "      <th>bookValue</th>\n",
              "      <th>totalRevenue</th>\n",
              "      <th>returnOnAssets</th>\n",
              "      <th>profitMargins</th>\n",
              "      <th>earningsGrowth</th>\n",
              "      <th>return_2020</th>\n",
              "    </tr>\n",
              "  </thead>\n",
              "  <tbody>\n",
              "    <tr>\n",
              "      <th>ADANIPORTS</th>\n",
              "      <td>NaN</td>\n",
              "      <td>2447029</td>\n",
              "      <td>-0.205</td>\n",
              "      <td>181.165</td>\n",
              "      <td>1.593403e+11</td>\n",
              "      <td>0.05149</td>\n",
              "      <td>0.29673</td>\n",
              "      <td>-0.235</td>\n",
              "      <td>-9.278471</td>\n",
              "    </tr>\n",
              "    <tr>\n",
              "      <th>ASIANPAINT</th>\n",
              "      <td>2.551976e+12</td>\n",
              "      <td>928738</td>\n",
              "      <td>-0.002</td>\n",
              "      <td>143.991</td>\n",
              "      <td>2.894301e+11</td>\n",
              "      <td>0.11496</td>\n",
              "      <td>0.10471</td>\n",
              "      <td>-0.002</td>\n",
              "      <td>-5.353821</td>\n",
              "    </tr>\n",
              "    <tr>\n",
              "      <th>AXISBANK</th>\n",
              "      <td>1.997887e+12</td>\n",
              "      <td>4638071</td>\n",
              "      <td>0.502</td>\n",
              "      <td>385.482</td>\n",
              "      <td>4.375369e+11</td>\n",
              "      <td>0.01288</td>\n",
              "      <td>0.32270</td>\n",
              "      <td>0.498</td>\n",
              "      <td>-42.763724</td>\n",
              "    </tr>\n",
              "    <tr>\n",
              "      <th>BAJAJ-AUTO</th>\n",
              "      <td>1.070175e+12</td>\n",
              "      <td>753785</td>\n",
              "      <td>-0.016</td>\n",
              "      <td>933.884</td>\n",
              "      <td>3.435395e+11</td>\n",
              "      <td>0.11259</td>\n",
              "      <td>0.17948</td>\n",
              "      <td>-0.015</td>\n",
              "      <td>-4.848526</td>\n",
              "    </tr>\n",
              "    <tr>\n",
              "      <th>BAJFINANCE</th>\n",
              "      <td>3.311923e+12</td>\n",
              "      <td>1659527</td>\n",
              "      <td>0.797</td>\n",
              "      <td>647.277</td>\n",
              "      <td>1.708877e+11</td>\n",
              "      <td>0.03660</td>\n",
              "      <td>0.41128</td>\n",
              "      <td>0.793</td>\n",
              "      <td>-35.061311</td>\n",
              "    </tr>\n",
              "  </tbody>\n",
              "</table>\n",
              "</div>\n",
              "      <button class=\"colab-df-convert\" onclick=\"convertToInteractive('df-42ae63fb-d253-4b16-a580-97d4aa7e37c2')\"\n",
              "              title=\"Convert this dataframe to an interactive table.\"\n",
              "              style=\"display:none;\">\n",
              "        \n",
              "  <svg xmlns=\"http://www.w3.org/2000/svg\" height=\"24px\"viewBox=\"0 0 24 24\"\n",
              "       width=\"24px\">\n",
              "    <path d=\"M0 0h24v24H0V0z\" fill=\"none\"/>\n",
              "    <path d=\"M18.56 5.44l.94 2.06.94-2.06 2.06-.94-2.06-.94-.94-2.06-.94 2.06-2.06.94zm-11 1L8.5 8.5l.94-2.06 2.06-.94-2.06-.94L8.5 2.5l-.94 2.06-2.06.94zm10 10l.94 2.06.94-2.06 2.06-.94-2.06-.94-.94-2.06-.94 2.06-2.06.94z\"/><path d=\"M17.41 7.96l-1.37-1.37c-.4-.4-.92-.59-1.43-.59-.52 0-1.04.2-1.43.59L10.3 9.45l-7.72 7.72c-.78.78-.78 2.05 0 2.83L4 21.41c.39.39.9.59 1.41.59.51 0 1.02-.2 1.41-.59l7.78-7.78 2.81-2.81c.8-.78.8-2.07 0-2.86zM5.41 20L4 18.59l7.72-7.72 1.47 1.35L5.41 20z\"/>\n",
              "  </svg>\n",
              "      </button>\n",
              "      \n",
              "  <style>\n",
              "    .colab-df-container {\n",
              "      display:flex;\n",
              "      flex-wrap:wrap;\n",
              "      gap: 12px;\n",
              "    }\n",
              "\n",
              "    .colab-df-convert {\n",
              "      background-color: #E8F0FE;\n",
              "      border: none;\n",
              "      border-radius: 50%;\n",
              "      cursor: pointer;\n",
              "      display: none;\n",
              "      fill: #1967D2;\n",
              "      height: 32px;\n",
              "      padding: 0 0 0 0;\n",
              "      width: 32px;\n",
              "    }\n",
              "\n",
              "    .colab-df-convert:hover {\n",
              "      background-color: #E2EBFA;\n",
              "      box-shadow: 0px 1px 2px rgba(60, 64, 67, 0.3), 0px 1px 3px 1px rgba(60, 64, 67, 0.15);\n",
              "      fill: #174EA6;\n",
              "    }\n",
              "\n",
              "    [theme=dark] .colab-df-convert {\n",
              "      background-color: #3B4455;\n",
              "      fill: #D2E3FC;\n",
              "    }\n",
              "\n",
              "    [theme=dark] .colab-df-convert:hover {\n",
              "      background-color: #434B5C;\n",
              "      box-shadow: 0px 1px 3px 1px rgba(0, 0, 0, 0.15);\n",
              "      filter: drop-shadow(0px 1px 2px rgba(0, 0, 0, 0.3));\n",
              "      fill: #FFFFFF;\n",
              "    }\n",
              "  </style>\n",
              "\n",
              "      <script>\n",
              "        const buttonEl =\n",
              "          document.querySelector('#df-42ae63fb-d253-4b16-a580-97d4aa7e37c2 button.colab-df-convert');\n",
              "        buttonEl.style.display =\n",
              "          google.colab.kernel.accessAllowed ? 'block' : 'none';\n",
              "\n",
              "        async function convertToInteractive(key) {\n",
              "          const element = document.querySelector('#df-42ae63fb-d253-4b16-a580-97d4aa7e37c2');\n",
              "          const dataTable =\n",
              "            await google.colab.kernel.invokeFunction('convertToInteractive',\n",
              "                                                     [key], {});\n",
              "          if (!dataTable) return;\n",
              "\n",
              "          const docLinkHtml = 'Like what you see? Visit the ' +\n",
              "            '<a target=\"_blank\" href=https://colab.research.google.com/notebooks/data_table.ipynb>data table notebook</a>'\n",
              "            + ' to learn more about interactive tables.';\n",
              "          element.innerHTML = '';\n",
              "          dataTable['output_type'] = 'display_data';\n",
              "          await google.colab.output.renderOutput(dataTable, element);\n",
              "          const docLink = document.createElement('div');\n",
              "          docLink.innerHTML = docLinkHtml;\n",
              "          element.appendChild(docLink);\n",
              "        }\n",
              "      </script>\n",
              "    </div>\n",
              "  </div>\n",
              "  "
            ]
          },
          "metadata": {},
          "execution_count": 35
        }
      ],
      "source": [
        "prices = stock_prices.iloc[:, -1]\n",
        "df.index = stock_prices.index\n",
        "df['return_2020'] = prices\n",
        "df.head()"
      ]
    },
    {
      "cell_type": "markdown",
      "metadata": {
        "id": "2DWvvL1zHpn2"
      },
      "source": [
        "### **Checking for null values**"
      ]
    },
    {
      "cell_type": "code",
      "execution_count": null,
      "metadata": {
        "colab": {
          "base_uri": "https://localhost:8080/"
        },
        "id": "c2bxh46mHsKF",
        "outputId": "454003ce-d079-4cc0-dc17-8b63d5a698fb"
      },
      "outputs": [
        {
          "output_type": "execute_result",
          "data": {
            "text/plain": [
              "marketCap                   1\n",
              "regularMarketVolume         0\n",
              "earningsQuarterlyGrowth     2\n",
              "bookValue                   1\n",
              "totalRevenue                1\n",
              "returnOnAssets             28\n",
              "profitMargins               0\n",
              "earningsGrowth              2\n",
              "return_2020                 0\n",
              "dtype: int64"
            ]
          },
          "metadata": {},
          "execution_count": 36
        }
      ],
      "source": [
        "df.isna().sum()"
      ]
    },
    {
      "cell_type": "code",
      "execution_count": null,
      "metadata": {
        "id": "RVzocMG-JrcJ"
      },
      "outputs": [],
      "source": [
        "df['returnOnAssets'] = df['returnOnAssets'].replace(np.nan, 0)"
      ]
    },
    {
      "cell_type": "code",
      "execution_count": null,
      "metadata": {
        "colab": {
          "base_uri": "https://localhost:8080/"
        },
        "id": "xfDAY4W8Hufj",
        "outputId": "bacef0c1-25fe-49f3-9e74-d733720459ba"
      },
      "outputs": [
        {
          "output_type": "execute_result",
          "data": {
            "text/plain": [
              "(46, 9)"
            ]
          },
          "metadata": {},
          "execution_count": 38
        }
      ],
      "source": [
        "df.dropna(axis=0, inplace=True)\n",
        "df.shape"
      ]
    },
    {
      "cell_type": "markdown",
      "metadata": {
        "id": "i88Gp1TdH0qX"
      },
      "source": [
        "### **Performing Hierarchical Clustering**\n",
        "\n",
        "- Hierarchical Clustering seeks to build a hierarchy of clusters.\n",
        "\n",
        "#### **Remember Agglomerative Clustering?**\n",
        "\n",
        "- **Agglomerative Clustering** is the bottom up approach in which initially each point is a cluster.\n",
        "- We repeatedly combine the two \"nearest\" clusters into one as we move up the hierarchy.\n",
        "\n",
        "#### **Agglomerative Clustering Algorithm:**\n",
        "\n",
        "As a reminder:\n",
        "- Place each data point into a cluster of its own.\n",
        "- LOOP\n",
        "  - Compute the distance between every cluster and every other cluster.\n",
        "  - Merge the two clusters that are closest together into a single cluster.\n",
        "- UNTIL we have only one cluster.\n",
        "\n",
        "#### **Remember Dendogram from previous lecture?**\n",
        "\n",
        "- **Dendogram** is a visual representation of the records and the hierarchy of clusters to which they belong (the hierarchial relationship).\n",
        "- It is an inverted tree that describes the order in which factors are merged (bottom-up view) or cluster are broken up (top-down view)."
      ]
    },
    {
      "cell_type": "markdown",
      "metadata": {
        "id": "6Vs6F-hFLMiG"
      },
      "source": [
        "### **Scaling the values for Agglomerative Clustering**\n",
        "\n",
        "- Different financial metrics have different scales.\n",
        "- We need to put them on the same scale."
      ]
    },
    {
      "cell_type": "code",
      "execution_count": null,
      "metadata": {
        "id": "Vk2UfVrqHz_o"
      },
      "outputs": [],
      "source": [
        "from sklearn.preprocessing import StandardScaler\n",
        "\n",
        "scaler = StandardScaler()\n",
        "scaler.fit(df)\n",
        "X = scaler.transform(df)"
      ]
    },
    {
      "cell_type": "code",
      "execution_count": null,
      "metadata": {
        "id": "r4qVyvNBLvie"
      },
      "outputs": [],
      "source": [
        "scaled_df = pd.DataFrame(X, columns=df.columns, index=df.index)"
      ]
    },
    {
      "cell_type": "code",
      "execution_count": null,
      "metadata": {
        "id": "Rly8nYyqLlYa"
      },
      "outputs": [],
      "source": [
        "# import hierarchical clustering libraries\n",
        "import scipy.cluster.hierarchy as sch\n",
        "\n",
        "# Refer https://docs.scipy.org/doc/scipy/reference/generated/scipy.cluster.hierarchy.linkage.html#scipy.cluster.hierarchy.linkage\n",
        "Z = sch.linkage(scaled_df, method='ward') #linkage = ward"
      ]
    },
    {
      "cell_type": "code",
      "execution_count": null,
      "metadata": {
        "colab": {
          "base_uri": "https://localhost:8080/"
        },
        "id": "2QeU6HDGMGRa",
        "outputId": "66b1c994-0b30-40a1-9b18-862afe1fa9c2"
      },
      "outputs": [
        {
          "output_type": "execute_result",
          "data": {
            "text/plain": [
              "(45, 4)"
            ]
          },
          "metadata": {},
          "execution_count": 42
        }
      ],
      "source": [
        "Z.shape"
      ]
    },
    {
      "cell_type": "code",
      "execution_count": null,
      "metadata": {
        "colab": {
          "base_uri": "https://localhost:8080/",
          "height": 550
        },
        "id": "EZMXfjuKMHl7",
        "outputId": "ef24e923-ed91-4b3e-ed1b-9f339a88e783"
      },
      "outputs": [
        {
          "output_type": "execute_result",
          "data": {
            "text/plain": [
              "Text(0, 0.5, 'distance')"
            ]
          },
          "metadata": {},
          "execution_count": 43
        },
        {
          "output_type": "display_data",
          "data": {
            "text/plain": [
              "<Figure size 1008x576 with 1 Axes>"
            ],
            "image/png": "[encoded data removed]"
          },
          "metadata": {
            "needs_background": "light"
          }
        }
      ],
      "source": [
        "fig, ax = plt.subplots(figsize=(14, 8))\n",
        "sch.dendrogram(Z, labels=scaled_df.index, ax=ax, color_threshold=2)\n",
        "plt.xticks(rotation=90)\n",
        "ax.set_ylabel('distance')"
      ]
    },
    {
      "cell_type": "markdown",
      "metadata": {
        "id": "yEUx6_fBM4sy"
      },
      "source": [
        "#### **Interpreting the Dendrogram**\n",
        "- Note that we are now plotting companies that are similar to one another.\n",
        "- The leaves of the tree correspond to the records.\n",
        "- The length of the branch in the tree indicates the degree of dissimilarity between corresponding clusters.\n",
        "\n",
        "#### **Insights**\n",
        "- Technical stocks like WIPRO, TECH MAHINDRA, ITC, HCLTECH and TATASTEEL are all clustered together as they move together.\n",
        "- Banks like KOTAKBANK, HDFCBANK AND HDFCLIFE are moving together.\n",
        "- Pharmaceutical companys like SUNPHARMA, DR. REDDY, CIPLA, DIVISLAB show movement in their stocks together.\n",
        "- Returns of ITC are quite dissimilar to TATACONSUMER."
      ]
    },
    {
      "cell_type": "markdown",
      "metadata": {
        "id": "omr7h7InNNdk"
      },
      "source": [
        "### **Calculating the number of clusters**"
      ]
    },
    {
      "cell_type": "code",
      "execution_count": null,
      "metadata": {
        "colab": {
          "base_uri": "https://localhost:8080/",
          "height": 550
        },
        "id": "c178PWRmMQZQ",
        "outputId": "68d006b4-3bf8-4002-afe4-65a699700e03"
      },
      "outputs": [
        {
          "output_type": "execute_result",
          "data": {
            "text/plain": [
              "Text(0, 0.5, 'distance')"
            ]
          },
          "metadata": {},
          "execution_count": 46
        },
        {
          "output_type": "display_data",
          "data": {
            "text/plain": [
              "<Figure size 1008x576 with 1 Axes>"
            ],
            "image/png": "[encoded data removed]"
          },
          "metadata": {
            "needs_background": "light"
          }
        }
      ],
      "source": [
        "fig, ax = plt.subplots(figsize=(14, 8))\n",
        "sch.dendrogram(Z, labels=scaled_df.index, ax=ax, color_threshold=2)\n",
        "plt.xticks(rotation=90)\n",
        "plt.axhline(y=5, color='k', linestyle='--')\n",
        "ax.set_ylabel('distance')"
      ]
    },
    {
      "cell_type": "markdown",
      "metadata": {
        "id": "6TFIhFEpNfSa"
      },
      "source": [
        "### **Performing Agglomerative Clustering with 5 clusters**"
      ]
    },
    {
      "cell_type": "code",
      "execution_count": null,
      "metadata": {
        "id": "WHiUg4GyNQyZ"
      },
      "outputs": [],
      "source": [
        "# import hierarchical clustering libraries\n",
        "from sklearn.cluster import AgglomerativeClustering\n",
        "\n",
        "\n",
        "# create clusters\n",
        "hc_2020 = AgglomerativeClustering(n_clusters=5, affinity = 'euclidean', linkage = 'ward')\n",
        "\n",
        "y_pred = hc_2020.fit_predict(scaled_df)"
      ]
    },
    {
      "cell_type": "markdown",
      "metadata": {
        "id": "Mj5QYAoBNpyS"
      },
      "source": [
        "### **Plotting the characteristics of the learned clusters**"
      ]
    },
    {
      "cell_type": "code",
      "execution_count": null,
      "metadata": {
        "colab": {
          "base_uri": "https://localhost:8080/",
          "height": 619
        },
        "id": "f90QtqQvNjRu",
        "outputId": "ba67ed89-7ab4-4cfe-f3bf-abce264fbdf9"
      },
      "outputs": [
        {
          "output_type": "execute_result",
          "data": {
            "text/plain": [
              "<matplotlib.legend.Legend at 0x7f8c11c03410>"
            ]
          },
          "metadata": {},
          "execution_count": 48
        },
        {
          "output_type": "display_data",
          "data": {
            "text/plain": [
              "<Figure size 1008x576 with 1 Axes>"
            ],
            "image/png": "[encoded data removed]"
          },
          "metadata": {
            "needs_background": "light"
          }
        }
      ],
      "source": [
        "#Plot a line graph to see the characteristics of the clusters\n",
        "scaled_df['label'] = pd.Series(y_pred, index=scaled_df.index)\n",
        "\n",
        "clustered_df = scaled_df.groupby('label').mean()\n",
        "\n",
        "labels = ['Cluster 1', 'Cluster 2', 'Cluster 3', 'Cluster 4', 'Cluster 5']\n",
        "\n",
        "plt.figure(figsize=(14,8))\n",
        "plt.plot(clustered_df.T, label=labels)\n",
        "plt.xticks(rotation=90)\n",
        "plt.legend(labels)\n"
      ]
    },
    {
      "cell_type": "markdown",
      "metadata": {
        "id": "SVY_4HLfOrKs"
      },
      "source": [
        "#### **Looking at this, What characteristics do we find unique in each of these learned cluster?**\n",
        "\n",
        "- **Cluster 1** - Bluechip stocks - high revenue companies with highest returns.\n",
        "- **Cluster 2** - Smallcap stocks with fairly average returns.\n",
        "- **Cluster 3** - Trader's favourites - high market volume with good profit margins.\n",
        "- **Cluster 4** - Growth Portfolio - show high quarterly growth, and earnings growth in 2020.\n",
        "- **Cluster 5** - Mid-to-large cap stocks with good returns and investment strategies.\n",
        "\n",
        "This way, with the help of Hierarchical Clustering, we can draw conclusions on how different data points are grouped into different clusters, and also get information about the features of the dataset based on which the grouping is done."
      ]
    },
    {
      "cell_type": "markdown",
      "metadata": {
        "id": "WzHEQkj3p5BE"
      },
      "source": [
        "***"
      ]
    },
    {
      "cell_type": "markdown",
      "metadata": {
        "id": "ArKHnDFpp7Xh"
      },
      "source": [
        "## Gaussian Mixture Models: Introduction and Intuition\n",
        "\n",
        "### **Introduction to Gaussian Mixture Models**\n",
        "\n",
        "#### **Let's start with a simple example**\n",
        "\n",
        "Imagine we have some data points (values) corresponding to just 1 feature (1-D data).\n",
        "\n",
        "<img src='https://drive.google.com/uc?id=1XrboTn33q9Wf-LTi64oYhz661XNKJOUv' width='500'>\n",
        "\n",
        "\n",
        "#### **What sort of distribution do you think we can fit on this data?**\n",
        "\n",
        "- There are a lot of data points in the centre and as we go away from centre, the number of data points become lesser and lesser.\n",
        "\n",
        "- **Normal Distribution**\n",
        "\n",
        "<img src='https://drive.google.com/uc?id=1pVcck1c3rrgLuAV0dn16OpMSoPdqvBrV'>\n",
        "\n",
        "- This is known as **1-Dimensional Gaussian Distribution**.\n",
        "\n",
        "- It's the Gaussian Distribution for only 1 feature.\n",
        "\n",
        "- It's a **Unimodal** data - because there's only 1 peak in the data.\n",
        "\n",
        "\n",
        "Now, Imagine we have data points corresponding to same 1 feature, but distributed like this:\n",
        "\n",
        "<img src='https://drive.google.com/uc?id=1z2Be83KTl29C2_aQKEDtq2b5bP4vJtbE' width='500'>\n",
        "\n",
        "#### **Now, What sort of distribution we can fit on this data?**\n",
        "\n",
        "<img src='https://drive.google.com/uc?id=1s2pak5GS7n23Ik1ofu4bH8YksR_j5l0k'>\n",
        "\n",
        "- It consists of 2 Gaussian Distributions\n",
        "\n",
        "- Two peaks in the data - Two means\n",
        "\n",
        "- Such data where there are 2 or more peaks is called **Multi-Modal** data.\n",
        "\n",
        "The final distribution would look something like this:\n",
        "\n",
        "<img src='https://drive.google.com/uc?id=1_f8vUPJ3RbeEW5oo10sqgJZIO-y_EXlg'>\n",
        "\n",
        "- This is known as a **Mixture of Gaussians**.\n",
        "\n",
        "\n",
        "\n",
        "\n",
        "\n",
        "\n"
      ]
    },
    {
      "cell_type": "markdown",
      "metadata": {
        "id": "RLkIajcxp7aU"
      },
      "source": [
        "#### **Let's say we have a Mixture of Gaussians**\n",
        "\n",
        "- Where $\\mu_1$ and $\\sigma_1$ are the Mean and Standard Deviation of first Gaussian and $\\mu_2$ and $\\sigma_2$ are the Mean and Standard Deviation of second Gaussian.\n",
        "\n",
        "<img src='https://drive.google.com/uc?id=1v3Z2ljvkagkBaace_LXzDBiYwYvj-Wem'>\n",
        "\n",
        "- Let's take a point $x_i$ corresponding to the feature.\n",
        "\n",
        "- This point $x_i$ could belong to either Gaussian 1 ($G_1$) or Gaussian 2 ($G_2$).\n",
        "\n",
        "- Ideally, it can belong to only one **Gaussian (Cluster)**.\n",
        "\n",
        "- However, practically speaking, there is a certain probability of $x_i$ belonging to $G_1$ and $G_2$\n",
        "\n",
        "- For example, as shown in picture, the probability of point $x_1$ belonging to $G_1$ is 0.1 and the probability of point $x_1$ belonging to $G_2$ is 0.9.\n",
        "\n",
        "- There is a non-zero probability of a point belonging to each of the Gaussians.\n",
        "\n",
        "- As an another example, take a point $x_2$ as shown in figure whose probablity of belonging to $G_1$ or Cluster $C_1$ is very high (0.99) compared to its probablity of belonging to $G_2$ or Cluster $C_2$ (0.01).\n",
        "\n",
        "\n",
        "\n",
        "\n"
      ]
    },
    {
      "cell_type": "markdown",
      "metadata": {
        "id": "RwHx5HBj3b6f"
      },
      "source": [
        "### **Intuition behind Gaussian Mixture Model**\n",
        "\n",
        "- The basic intuition behind Gaussian Mixture Model is that **we can model any data, that we have, as a mixture of Gaussians**.\n",
        "\n",
        "Let's take 1-Dimensional data again, i.e., data points having only 1 feature\n",
        "\n",
        "- This time let's say that data points are distributed among **'k' Gaussians**, where each Gaussian has a different Mean ($\\mu_k$) and Standard Deviation ($\\sigma_k$), as shown below:\n",
        "\n",
        "<img src='https://drive.google.com/uc?id=1_edDX751PQTqQgAEI7Krk44Su7dM7E_B'>\n",
        "\n",
        "- Every data point $x_i$ will have a probabilty of belonging to each of the Gaussians, i.e.,\n",
        "  \n",
        "  $P(y_i = 1), P(y_i = 2), P(y_i = 3), ...$\n",
        "\n",
        "  where, 1, 2, 3 ... are the indices of Clusters (Gaussians)\n",
        "\n",
        "- The sum of these probabilities will be 1, i.e,\n",
        "\n",
        "  $P(y_i = 1) + P(y_i = 2) + P(y_i = 3) + ... = 1$\n",
        "\n",
        "- So, we are representing data as a combination of Gaussian distributions. Each data point belongs to each of the Gaussians with a non-zero probability, no matter how small that probability is.\n",
        "\n",
        "- This is a 1-Dimensional Gaussian Mixture Model (GMM).\n",
        "\n",
        "\n",
        "#### **So, there is a basic assumption of GMM**\n",
        "\n",
        "- The data comes from multiple Gaussians, i.e., mixture of Gaussians.\n",
        "\n",
        "\n"
      ]
    },
    {
      "cell_type": "markdown",
      "metadata": {
        "id": "pOJQC9Qt3Jv6"
      },
      "source": [
        "### **Let's take the example of an E-Commerce Website**\n",
        "\n",
        "- As we saw earlier, E-Commerce Websites do **Customer Segmentation** to increase their sales/revenue.\n",
        "\n",
        "- Customers are clustered into different groups based on similar traits.\n",
        "\n",
        "- It is possible that not all customers will solely belong to a single cluster.\n",
        "\n",
        "<img src='https://drive.google.com/uc?id=1O8rdhmD19XWYmi0s7EAJb3JdA0ssptUg'>\n",
        "\n",
        "- For example, a customer can be both wealthy and still be price-conscious. Let's say, he/she can fall in the \"wealthy\" cluster with a probability of 40%, but in the \"price-concsious\" cluster with a probability of 60%.\n",
        "\n",
        "- So, we can create a Gaussian Mixture Model with such customers belonging to different clusters with different probabilities.\n",
        "\n",
        "#### **An important thing to note is that each Gaussian Distribution in the mixture can have different spreads**\n",
        "\n",
        "- That is, each Gaussian Distribution in the GMM can have different Mean and Standard Deviation.\n",
        "\n",
        "- It is not necessary that all distributions in the Mixture Model will have to look same.\n",
        "\n",
        "<img src='https://drive.google.com/uc?id=1H5vTItuesp33aa8Fsko_XpCo3yEJGewS'>\n",
        "\n",
        "\n",
        "\n",
        "\n"
      ]
    },
    {
      "cell_type": "markdown",
      "metadata": {
        "id": "LWAwDhlfC2Y-"
      },
      "source": [
        "***"
      ]
    },
    {
      "cell_type": "markdown",
      "metadata": {
        "id": "_LvdDzVF3Jyi"
      },
      "source": [
        "## Gaussian Mixture Model with Multiple Features\n",
        "\n",
        "- So far we have seen GMMs with only 1 feature - **1-D Gaussian Mixture Models**\n",
        "\n",
        "\n",
        "#### **What if our data has more than 2 features? How will our GMM look like then?**\n",
        "\n",
        "- 2 features having continuous values can be thought of being on a plane with each data point as a point on the plane.\n",
        "\n",
        "- The probability of a point belonging to each combination of those 2 continuous variables will come on the 3rd axis (z-axis).\n",
        "\n",
        "<img src='https://drive.google.com/uc?id=1EauVjKF65LESE5U6nvbCEtGE9awdPyi3'>\n",
        "\n",
        "- The Gaussian Distribution would look like a hill.\n",
        "\n",
        "#### **Example Gaussian Distribution with 2 Features**\n",
        "\n",
        "- Let's take the below Gaussian Distribution with 2 Features as an example:\n",
        "\n",
        "<img src='https://drive.google.com/uc?id=1qtVESt1ZZSz58aywu-ExWJRN38J__acC'>\n",
        "\n",
        "- As we can see, the data points are more dense in the centre and as we move away from the centre, the density of points decreases. This is to simulate a Gaussian (Normal) Distribution.\n",
        "\n",
        "- If we consider only 1 feature at a time, we can see its Gaussian Distribution:\n",
        "  - Red curve represents the Gaussian Distribution for Feature 1 alone.\n",
        "  - Blue curve represents the Gaussian Distribution for Feature 2 alone.\n",
        "\n",
        "- The Gaussian Distribution of the 2 features combined would look something like shown below:\n",
        "\n",
        "  <img src='https://drive.google.com/uc?id=1DuCAoKI5tVjXgqLz3M9EN8Tvp5CoWEtX'>\n",
        "\n",
        "- This is a 2-D Gaussian where the peak is in 3-D.\n",
        "\n",
        "#### For a **D-dimensional or Multivariate data, the Gaussian Distribution will be in D+1 dimensions**.\n",
        "\n",
        "\n",
        "\n"
      ]
    },
    {
      "cell_type": "markdown",
      "metadata": {
        "id": "GFZRJ2yh3J1A"
      },
      "source": [
        "***"
      ]
    },
    {
      "cell_type": "markdown",
      "metadata": {
        "id": "GO5OOMhp3J3x"
      },
      "source": [
        "## Mathematical Formulation of Gaussian Distribution\n",
        "\n",
        "- A **1-D (having only 1 feature) Gaussian Distribution** can be represented as:\n",
        "\n",
        "  $N(\\mu, \\sigma)$\n",
        "\n",
        "  where, $\\mu$ is the mean and $\\sigma$ is the Standard Deviation of the Gaussian Distribution\n",
        "\n",
        "- A **2-D (having 2 features) Gaussian Distribution** can be represented as:\n",
        "\n",
        "  $N_2(\\mu^{(2)}, \\sum^{(2 \\times 2)})$\n",
        "\n",
        "  Now here,\n",
        "  \n",
        "  $\\mu^{(2)}$ is not just a mean, it is a **vector of means $[\\mu_1, \\mu_2]$**, where $\\mu_1$ and $\\mu_2$ are the means of features $f_1$ and $f_2$\n",
        "\n",
        "  And, $\\sum^{(2 \\times 2)}$ is the **$2 \\times 2$ Covariance Matrix** of the whole data.\n",
        "\n",
        "<img src='https://drive.google.com/uc?id=1lB7ZfcOw-bMsUF1GNCigjh0cJYZSa7XN'>\n",
        "\n",
        "- Mean ($\\mu$) and Standard Deviation ($\\sigma$) of 1-D Gaussian Distribution are scaler values, whereas for 2-D Gaussian Distribution, we have a vector of Means (**$\\mu^{(2)}$**) and a $2 \\times 2$ Covariance Matrix ($\\sum^{(2 \\times 2)}$).\n",
        "\n",
        "#### **Now, What about a d-Dimensional Gaussian Distribution?**\n",
        "\n",
        "- A **d-Dimensional Gaussian Distribution** can be represented as:\n",
        "\n",
        "  $N_d(\\mu^{(d)}, \\sum^{(d \\times d)})$\n",
        "\n",
        "  Here, $\\mu^{(d)}$ is a d-Dimensional vector of means of all d-features, i.e., $[\\mu_1, \\mu_2, \\mu_3, ... \\mu_d]$\n",
        "  And $\\sum^{(d \\times d)}$ here is a $d \\times d$ Covariance Matrix of the data.\n",
        "\n",
        "- So, a high dimensional Gaussian Distribution can be mathematically represented in terms of Vector of Means and Covariance Matrix of the data.\n",
        "\n",
        "\n",
        "\n",
        "\n",
        "\n",
        "\n",
        "\n"
      ]
    },
    {
      "cell_type": "markdown",
      "metadata": {
        "id": "eA1hxNAa3J6V"
      },
      "source": [
        "### **A Refresher on Covariance Matrix**\n",
        "\n",
        "- Covariance Matrix represents the correlation b/w features of the data.\n",
        "\n",
        "- The diagonal elements are the Standard Deviations of each feature, which signify the spread of data in each individual feature.\n",
        "\n",
        "- The non-diagonal elements represent the correlation b/w each pair of features.\n",
        "\n",
        "<img src='https://drive.google.com/uc?id=1_pWZ5ChUyh_vXEMluVLKSOrIhsL5yHrG'>\n",
        "\n",
        "- A non-diagonal element will be **close to zero** if no correlation exists b/w data features.\n",
        "\n",
        "- A non-diagonal element will be **+ve** if there is a +ve correlation b/w the two features, i.e., value of feature 2 increases when value of feature 1 increases and value of feature 2 decreases when value of feature 1 decreases.\n",
        "\n",
        "- A non-diagonal element will be **-ve** if there is a -ve correlation b/w the two features, i.e., value of feature 2 decreases when value of feature 1 increases and value of feature 2 increases when value of feature 1 decreases.\n",
        "\n",
        "<img src='https://drive.google.com/uc?id=1RdJHwWgnt7HwCcX8WXklNhUYiR7cyIQq'>\n",
        "\n",
        "- So, Covariance Matrix captures how the data is spread, not just along a particular feature (or axis), but how it is spread overall.\n",
        "\n",
        "- It captures the correlations b/w each pair of features.\n",
        "\n",
        "\n",
        "\n",
        "\n",
        "\n"
      ]
    },
    {
      "cell_type": "markdown",
      "metadata": {
        "id": "ZZ592ZY63J8_"
      },
      "source": [
        "***"
      ]
    },
    {
      "cell_type": "markdown",
      "metadata": {
        "id": "WafzPp9C3J_p"
      },
      "source": [
        "## Multi-Dimensional Multi-Modal Gaussian Distributions (Mixture Models)\n",
        "\n",
        "- So far, we studied only Multi-Dimensional Data with a single Gaussian Distribution, i.e., there was only 1 peak (hill) in the data.\n",
        "\n",
        "- Now, Let's extend this concept to a **Mixture of Gaussian Distributions in Multi-Dimensional Data**.\n",
        "\n",
        "- Here's an example of a **2-Dimensional 3-Gaussian Distributions**:\n",
        "\n",
        "<img src='https://drive.google.com/uc?id=1aisHCDizRBId_4dcp5XvVXuYJBpXE4oc'>\n",
        "\n",
        "- If we look at it, the data points are concentrated at 3 different locations in the 2-D plane. Therefore, the data will have 3 peaks with different distributions → 3 Gaussian Distributions.\n",
        "\n",
        "#### **Now, What if we want to model a d-Dimensional 3-Gaussian Mixture Model?**\n",
        "\n",
        "- In order to represent a d-Dimensional data, i.e., data having d-features, as a 3-Gaussian Mixture Model, we'll need to find all 3 Gaussian Distributions.\n",
        "\n",
        "- And to find all 3 Gaussian Distributions, for each Gaussian Distribution, we'll need to find:\n",
        "\n",
        "  - The d-Dimensional vector of means $\\mu^{(d)}$\n",
        "\n",
        "  - The $d \\times d$ Covariance Matrix $\\sum^{(d \\times d)}$\n",
        "\n",
        "- Each of the 3 Gaussians will have these as its parameters.\n",
        "\n",
        "<img src='https://drive.google.com/uc?id=1PAYppAqIm_VCAdVvmieVWFoyuFaDFPuE'>"
      ]
    },
    {
      "cell_type": "markdown",
      "metadata": {
        "id": "jN9jkBvI3KCT"
      },
      "source": [
        "#### **Now Let's go through it step-by-step**\n",
        "\n",
        "**For 1-D 3-Gaussian Mixture Model**, we'll need:\n",
        "- Mean ($\\mu$) of all 3 Gaussian Distributions.\n",
        "\n",
        "- Standard Deviation ($\\sigma$) of all 3 Gaussian Distributions.\n",
        "\n",
        "<img src='https://drive.google.com/uc?id=1FoeOShoSMupvGRGYbXNDdIIY_rZqX3Cj'>\n",
        "\n",
        "- Given this information, we can find the probability of any data point $x_i$ belonging to all the 3 Gaussians\n",
        "\n",
        "- That is, $P(x_i | G_1), P(x_i | G_2), P(x_i | G_3)$\n",
        "\n",
        "- We can just plug the data point $x_i$ in **Probability Density Function (PDF)** and compute the probability of the data point belonging to each Gaussian.\n",
        "\n",
        "- The Probability Density Function gives the distribution of probabilities of data points belonging to each of the Gaussians.\n",
        "\n",
        "<img src='https://drive.google.com/uc?id=1Ybo14NBY37gVcjjPRSNrK8psHknat8PS'>\n",
        "\n",
        "Now similarly, **For a d-Dimensional Gaussian Mixture Model**, we'll need:\n",
        "\n",
        "- The d-dimensional vector of means $\\mu^{(d)}$ and the $d \\times d$ Covariance Matrix $\\sum^{(d \\times d)}$, i.e., the Normal Distribution $N_d$.\n",
        "\n",
        "- If we have this Normal Distribution $N_d$, we can compute the probability of a data point belonging to a Gaussian (Cluster) using a slightly more complex density function:\n",
        "\n",
        "<img src='https://drive.google.com/uc?id=1KptkC_3UwxZDA3OLS0bEgMgbO81IiyEf'>\n",
        "\n",
        "- This is the **Probability Density of the d-Dimensional vector**.\n",
        "\n",
        "(The mathematical derivation of this formula is beyond the scope of this lecture)"
      ]
    },
    {
      "cell_type": "markdown",
      "metadata": {
        "id": "FnGYEa-03KE-"
      },
      "source": [
        "***"
      ]
    },
    {
      "cell_type": "markdown",
      "metadata": {
        "id": "uSmF2Asj3KH4"
      },
      "source": [
        "## Finding K-Gaussians\n",
        "\n",
        "#### **Now eventually what we need to find is those K-Gaussians (Clusters)**\n",
        "\n",
        "- That is, Given a d-Dimensional data,\n",
        "\n",
        "  For every K, we need to compute the d-dimensional vector of means $\\mu^{(d)}$ and the $d \\times d$ Covariance Matrix $\\sum^{(d \\times d)}$\n",
        "\n",
        "- We need to identify those K-Gaussian Distributions → Develop a Gaussian Mixture Model from the given data.\n",
        "\n",
        "<img src='https://drive.google.com/uc?id=1RCVztWKltQx1OXUzjLQ644oSdCgXFg8n'>\n",
        "\n",
        "- This problem of finding K-Gaussians is an **optimization problem**.\n",
        "\n",
        "- We will solve this optimization problem using a technique called **Expectation Maximization**.\n",
        "\n",
        "- This is a **probabilistic way of creating clusters**.\n",
        "\n",
        "\n"
      ]
    },
    {
      "cell_type": "markdown",
      "metadata": {
        "id": "Ads-asCQ3KL_"
      },
      "source": [
        "***"
      ]
    },
    {
      "cell_type": "markdown",
      "metadata": {
        "id": "_mnPGdIn1K_f"
      },
      "source": [
        "## Closing Notes\n",
        "\n",
        "- In the next lecture, we'll solve the problem of finding K-Gaussians as an optimization problem, and see how we can create a Gaussian Mixture Model from a given data.\n",
        "\n",
        "- We'll make use of an interesting technique Expectation Maximization, which is a Coordinated Ascent to solve this optimization problem.\n",
        "\n",
        "- We'll also cover some miscellaneous topics after GMM.\n",
        "\n"
      ]
    },
    {
      "cell_type": "code",
      "execution_count": null,
      "metadata": {
        "id": "__jMXiuWp3wt"
      },
      "outputs": [],
      "source": []
    }
  ],
  "metadata": {
    "colab": {
      "provenance": [],
      "toc_visible": true
    },
    "kernelspec": {
      "display_name": "Python 3",
      "name": "python3"
    },
    "language_info": {
      "name": "python"
    }
  },
  "nbformat": 4,
  "nbformat_minor": 0
}