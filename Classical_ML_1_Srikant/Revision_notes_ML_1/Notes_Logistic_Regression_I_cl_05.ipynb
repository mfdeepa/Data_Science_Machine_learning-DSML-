{
  "nbformat": 4,
  "nbformat_minor": 0,
  "metadata": {
    "colab": {
      "provenance": []
    },
    "kernelspec": {
      "name": "python3",
      "display_name": "Python 3"
    },
    "language_info": {
      "name": "python"
    }
  },
  "cells": [
    {
      "cell_type": "markdown",
      "source": [
        "**Lecture link** : https://www.scaler.com/meetings/i/dsml-advanced-logistic-regression-1-2/archive"
      ],
      "metadata": {
        "id": "UX7sZEiNN5nF"
      }
    },
    {
      "cell_type": "markdown",
      "source": [
        "### Content\n",
        "\n",
        "\n",
        "1.   Lecture's Plan  (00:00 - 05:20)\n",
        "2.   Questions  (05:20 - 24:40)\n",
        "3.   Code implementation of Linear Regression  (24:40 - 01:55:45)   \n",
        "4.   Logistic Regression  (01:55:45 - end)\n",
        "\n"
      ],
      "metadata": {
        "id": "fcmdTvND3YgI"
      }
    },
    {
      "cell_type": "markdown",
      "source": [
        "## Plan"
      ],
      "metadata": {
        "id": "FpPe-pqj5PHw"
      }
    },
    {
      "cell_type": "markdown",
      "source": [
        "In previous lectures, we have already seen the concepts of linear regression like the math and intution behind it and also about L2 regularization\n",
        "\n",
        "In today's lecture we will see the code implementation of linear regression and then continue with logistic regression"
      ],
      "metadata": {
        "id": "pd0-Pgu95eC5"
      }
    },
    {
      "cell_type": "markdown",
      "source": [
        "**Proposed:** The previous lecture was about the concepts of linear regression where the lecture covered the topics of the math and intution behind Linear Regression and L2 regularization.\n",
        "\n",
        "This lecture covers the code implementation of linear regression and then continue with logistic regression"
      ],
      "metadata": {
        "id": "01YVuPlEngpS"
      }
    },
    {
      "cell_type": "markdown",
      "source": [
        "<img src='https://drive.google.com/uc?id=1wED79CmhaxVwiFWJuHD2Av9H5XBcJLY8'>\n",
        "\n",
        "\n"
      ],
      "metadata": {
        "id": "iaS4_1V56uDu"
      }
    },
    {
      "cell_type": "markdown",
      "source": [
        "## Questions:"
      ],
      "metadata": {
        "id": "Dg-ROHAlDgR2"
      }
    },
    {
      "cell_type": "markdown",
      "source": [
        "let's start with a question on linear regression\n",
        "\n",
        "\n",
        "*  ***Q1)*** Let's assume we are training a linear regression with some features and there are no non linear feature transforms and assume d=100 but we know some of the features are irrelevant. In this situation **do we have to regularize our model** (L2 regularization)?\n",
        "\n",
        "* ***ANS:*** So lets assume the linear regression was about the car price prediction and let the two features be age of car and brand of paint used which is **insignificant**.\n",
        "     \n",
        "  But as we are having large number of dimensions, we have more parameters to deal with  due to which there is a risk of fitting the model to just random noise or errors if we don't regularize.\n",
        "\n",
        " So it's always **preferrable to regularize your model**.\n",
        "\n",
        "\n"
      ],
      "metadata": {
        "id": "kgCtO_Vd63wj"
      }
    },
    {
      "cell_type": "markdown",
      "source": [
        "<img src='https://drive.google.com/uc?id=1SMFLhVYs2BuwcG0z9E_uY-lqUjWa2keS'>\n",
        "\n"
      ],
      "metadata": {
        "id": "NfvtQ7ZiDC8R"
      }
    },
    {
      "cell_type": "markdown",
      "source": [
        "\n",
        "\n",
        "  ***Q2)*** When is regularization **not** needed?\n",
        "\n",
        " ***ANS:***  When there is **no noise** in the data\n",
        "\n",
        "*   when there is **only one feature**\n",
        "*   or when there are **very less features** and there is **no multi collinearity** in the data\n",
        "\n"
      ],
      "metadata": {
        "id": "LPq5LvdlD0Ww"
      }
    },
    {
      "cell_type": "markdown",
      "source": [
        "## Code implementation of Linear Regression"
      ],
      "metadata": {
        "id": "-S8pUEWBLFP0"
      }
    },
    {
      "cell_type": "markdown",
      "source": [
        "### Importing the libraries"
      ],
      "metadata": {
        "id": "EQ3pL6ZfZDOo"
      }
    },
    {
      "cell_type": "code",
      "source": [
        "import numpy as np\n",
        "import matplotlib.pyplot as plt"
      ],
      "metadata": {
        "id": "Hp2yBLE9TpPI"
      },
      "execution_count": null,
      "outputs": []
    },
    {
      "cell_type": "markdown",
      "source": [
        "This imports numpy and matplotlib libraries\n"
      ],
      "metadata": {
        "id": "h6LQKF2dTx8Z"
      }
    },
    {
      "cell_type": "markdown",
      "source": [
        "### Initializing the data points"
      ],
      "metadata": {
        "id": "zUsv0jL4Y-xv"
      }
    },
    {
      "cell_type": "code",
      "source": [
        "np.random.seed(1)\n",
        "X = np.random.rand(50,1)"
      ],
      "metadata": {
        "id": "fkmHyyBvT-gC"
      },
      "execution_count": null,
      "outputs": []
    },
    {
      "cell_type": "markdown",
      "source": [
        "The seed function is used so that same values will be used whenever we use random variables and the next line is to create a set of 50 random variables.\n"
      ],
      "metadata": {
        "id": "jZk6nLxkUkfQ"
      }
    },
    {
      "cell_type": "markdown",
      "source": [
        "Now lets give the function for $y$"
      ],
      "metadata": {
        "id": "9ErtGeaTXaOn"
      }
    },
    {
      "cell_type": "code",
      "source": [
        "y = 0.7*(X**5)-\\\n",
        "    2.1*(X**4)+\\\n",
        "    2.3*(X**3)+\\\n",
        "    0.2*(X**2)+\\\n",
        "    0.3*X +\\\n",
        "    0.4*np.random.rand(50,1)"
      ],
      "metadata": {
        "id": "wyYf8KghW6tc"
      },
      "execution_count": null,
      "outputs": []
    },
    {
      "cell_type": "markdown",
      "source": [
        "In the above we are setting $y = 0.7(x^5) - 2.1(x^4) + 2.3(x^3)+0.2(x^2)+0.3(x)+ 0.4$(some   random   variable), here we are again using rand fucntion to add some noise to the data or the function would be perfect and no data in the real life is perfect.\n"
      ],
      "metadata": {
        "id": "rn4HwNWGW6OM"
      }
    },
    {
      "cell_type": "markdown",
      "source": [
        "Now let's plot the graph"
      ],
      "metadata": {
        "id": "qhzEVlW0Z3lp"
      }
    },
    {
      "cell_type": "code",
      "source": [
        "fig = plt.figure()\n",
        "plt.scatter(X, y)\n",
        "plt.xlabel(\"x\")\n",
        "plt.ylabel(\"y\")\n",
        "plt.show()"
      ],
      "metadata": {
        "id": "RzvFo5n4U5oY",
        "colab": {
          "base_uri": "https://localhost:8080/",
          "height": 279
        },
        "outputId": "1e346691-c06a-4580-8fac-6f41ae17df0f"
      },
      "execution_count": null,
      "outputs": [
        {
          "output_type": "display_data",
          "data": {
            "text/plain": [
              "<Figure size 432x288 with 1 Axes>"
            ],
            "image/png": "[encoded data removed]"
          },
          "metadata": {
            "needs_background": "light"
          }
        }
      ]
    },
    {
      "cell_type": "markdown",
      "source": [
        "This gives the scatter plot of the data points"
      ],
      "metadata": {
        "id": "d20tOVAsaJSL"
      }
    },
    {
      "cell_type": "markdown",
      "source": [
        "<img src='https://drive.google.com/uc?id=11ippIJg6z7EcdXDFTmtTTsuPgLq312IN'>\n",
        "\n"
      ],
      "metadata": {
        "id": "IpuKzgnvadUu"
      }
    },
    {
      "cell_type": "markdown",
      "source": [
        "Now as we got the data, now lets try to find the function using these points and linear regression.\n",
        "\n",
        "LET'S GET STARTED."
      ],
      "metadata": {
        "id": "2ryQZ_gqbCOc"
      }
    },
    {
      "cell_type": "code",
      "source": [
        "from sklearn.linear_model import LinearRegression"
      ],
      "metadata": {
        "id": "Ksx6yEJmbuzR"
      },
      "execution_count": null,
      "outputs": []
    },
    {
      "cell_type": "markdown",
      "source": [
        "This imports the sklearn library"
      ],
      "metadata": {
        "id": "pT31C-MTb20z"
      }
    },
    {
      "cell_type": "code",
      "source": [
        "model = LinearRegression()"
      ],
      "metadata": {
        "id": "SHoPEjXcbgmL"
      },
      "execution_count": null,
      "outputs": []
    },
    {
      "cell_type": "markdown",
      "source": [
        "Now, here an object \"model\" is created of class LinearRegression"
      ],
      "metadata": {
        "id": "_UVE0EGscCVg"
      }
    },
    {
      "cell_type": "markdown",
      "source": [
        "let's give the data points to our model"
      ],
      "metadata": {
        "id": "nmlw9dDocv2R"
      }
    },
    {
      "cell_type": "code",
      "source": [
        "model.fit(X, y)\n",
        "output = model.predict(X)"
      ],
      "metadata": {
        "id": "Lordp9m9c0Qj"
      },
      "execution_count": null,
      "outputs": []
    },
    {
      "cell_type": "markdown",
      "source": [
        "For this, fit is used and output is used to predict y basing in x"
      ],
      "metadata": {
        "id": "yBK8AU5nc3z4"
      }
    },
    {
      "cell_type": "markdown",
      "source": [
        "Let's visualise the points predicted"
      ],
      "metadata": {
        "id": "G-tjPU4vdK70"
      }
    },
    {
      "cell_type": "code",
      "source": [
        "fig = plt.figure()\n",
        "plt.scatter(X, y, label=\"samples\")\n",
        "plt.scatter(X, output, label=\"prediction\")\n",
        "plt.xlabel(\"X\")\n",
        "plt.ylabel(\"Y\")\n",
        "plt.show()\n",
        "display(model.score(X, y))"
      ],
      "metadata": {
        "id": "7ejf1SMkdGTw",
        "colab": {
          "base_uri": "https://localhost:8080/",
          "height": 296
        },
        "outputId": "bc49e1fd-bc3e-460e-be8a-830f09b33248"
      },
      "execution_count": null,
      "outputs": [
        {
          "output_type": "display_data",
          "data": {
            "text/plain": [
              "<Figure size 432x288 with 1 Axes>"
            ],
            "image/png": "[encoded data removed]"
          },
          "metadata": {
            "needs_background": "light"
          }
        },
        {
          "output_type": "display_data",
          "data": {
            "text/plain": [
              "0.8919326382437994"
            ]
          },
          "metadata": {}
        }
      ]
    },
    {
      "cell_type": "markdown",
      "source": [
        "Here two graphs are plotted basing on the original data and the predicted data\n",
        "\n",
        "lables are used to label the axes"
      ],
      "metadata": {
        "id": "WRpU3M66cohQ"
      }
    },
    {
      "cell_type": "markdown",
      "source": [
        "Now, lets do slight improvement to the code."
      ],
      "metadata": {
        "id": "3h2HXq7teUYl"
      }
    },
    {
      "cell_type": "code",
      "source": [
        "from sklearn.preprocessing import StandardScaler"
      ],
      "metadata": {
        "id": "-ZGPwjdPe29T"
      },
      "execution_count": null,
      "outputs": []
    },
    {
      "cell_type": "markdown",
      "source": [
        "standard scaler class is used as it does coulumn standardization without us manually doing this."
      ],
      "metadata": {
        "id": "ljrJqZtEe4Lt"
      }
    },
    {
      "cell_type": "markdown",
      "source": [
        "Now, lets create data."
      ],
      "metadata": {
        "id": "xvqYRFEEfcab"
      }
    },
    {
      "cell_type": "code",
      "source": [
        "X_deg2 = np.hstack([X, X**2])"
      ],
      "metadata": {
        "id": "CLlcCbm2fb-D"
      },
      "execution_count": null,
      "outputs": []
    },
    {
      "cell_type": "markdown",
      "source": [
        "This creates two features $x$ and $x^2$, doing horizontal stacking."
      ],
      "metadata": {
        "id": "MWw4OzSIfkSm"
      }
    },
    {
      "cell_type": "markdown",
      "source": [
        "We will create our model using this data"
      ],
      "metadata": {
        "id": "181iX6xQf-fq"
      }
    },
    {
      "cell_type": "code",
      "source": [
        "model_deg2 = LinearRegression()\n",
        "model_deg2.fit(X_deg2, y)\n",
        "output = model_deg2.predict(X_deg2)\n",
        "fig = plt.figure()\n",
        "plt.scatter(X, y, label=\"samples\")\n",
        "plt.scatter(X, output, label=\"prediction\")\n",
        "plt.xlabel(\"X\")\n",
        "plt.ylabel(\"Y\")\n",
        "plt.show()\n",
        "display(model_deg2.score(X_deg2, y))"
      ],
      "metadata": {
        "id": "kJdQIyKHgH2m",
        "colab": {
          "base_uri": "https://localhost:8080/",
          "height": 296
        },
        "outputId": "6f50894b-0d0c-4163-a601-1b5f264b1ed9"
      },
      "execution_count": null,
      "outputs": [
        {
          "output_type": "display_data",
          "data": {
            "text/plain": [
              "<Figure size 432x288 with 1 Axes>"
            ],
            "image/png": "[encoded data removed]"
          },
          "metadata": {
            "needs_background": "light"
          }
        },
        {
          "output_type": "display_data",
          "data": {
            "text/plain": [
              "0.937213227713278"
            ]
          },
          "metadata": {}
        }
      ]
    },
    {
      "cell_type": "markdown",
      "source": [
        "Now, we predicted the values using X_deg2 data by implementing linear regression."
      ],
      "metadata": {
        "id": "w6QWzKgwgMom"
      }
    },
    {
      "cell_type": "markdown",
      "source": [
        "let's do the same for cubic expression i.e using three features."
      ],
      "metadata": {
        "id": "rhMbUG04iJbR"
      }
    },
    {
      "cell_type": "code",
      "source": [
        "X_deg3 = np.hstack([X, X**2, X**3])\n",
        "model_deg3 = LinearRegression()\n",
        "model_deg3.fit(X_deg3, y)\n",
        "output = model_deg3.predict(X_deg3)\n",
        "fig = plt.figure()\n",
        "plt.scatter(X, y, label=\"samples\")\n",
        "plt.scatter(X, output, label=\"prediction\")\n",
        "plt.xlabel(\"x\")\n",
        "plt.ylabel(\"y\")\n",
        "plt.show()\n",
        "display(model_deg3.score(X_deg3, y))"
      ],
      "metadata": {
        "id": "Hej1Couwgw-u",
        "colab": {
          "base_uri": "https://localhost:8080/",
          "height": 296
        },
        "outputId": "78bd151f-5689-44e5-8b3c-216f41489db7"
      },
      "execution_count": null,
      "outputs": [
        {
          "output_type": "display_data",
          "data": {
            "text/plain": [
              "<Figure size 432x288 with 1 Axes>"
            ],
            "image/png": "[encoded data removed]"
          },
          "metadata": {
            "needs_background": "light"
          }
        },
        {
          "output_type": "display_data",
          "data": {
            "text/plain": [
              "0.9384895307987051"
            ]
          },
          "metadata": {}
        }
      ]
    },
    {
      "cell_type": "markdown",
      "source": [
        "You can see the score is also displayed, which gives us the **accuracy** of the same."
      ],
      "metadata": {
        "id": "_91TnbH8gcQm"
      }
    },
    {
      "cell_type": "markdown",
      "source": [
        "Linear Regression is one of the **simplest and fastest** model in Machine Learning\n"
      ],
      "metadata": {
        "id": "BXtxIbLEq2OP"
      }
    },
    {
      "cell_type": "markdown",
      "source": [
        "Now lets use another class called polynomial features"
      ],
      "metadata": {
        "id": "YLp1EnwdsGZs"
      }
    },
    {
      "cell_type": "code",
      "source": [
        "from sklearn.preprocessing import PolynomialFeatures\n",
        "poly = PolynomialFeatures(3)\n",
        "X_poly = poly.fit_transform(X)\n",
        "display(X_poly.shape) # shape of the generated features\n",
        "n_features = X_poly.shape[1]\n",
        "for degree in range(n_features):\n",
        "    fig = plt.figure()\n",
        "    plt.scatter(X, X_poly[:,degree])\n",
        "    plt.xlabel(\"X\")\n",
        "    plt.ylabel(f\"X^{degree}\")\n",
        "    plt.show()"
      ],
      "metadata": {
        "id": "ohm8vYFRsO9n",
        "colab": {
          "base_uri": "https://localhost:8080/",
          "height": 1000
        },
        "outputId": "a6ba5655-b3af-44b1-c00d-e0e195de5729"
      },
      "execution_count": null,
      "outputs": [
        {
          "output_type": "display_data",
          "data": {
            "text/plain": [
              "(50, 4)"
            ]
          },
          "metadata": {}
        },
        {
          "output_type": "display_data",
          "data": {
            "text/plain": [
              "<Figure size 432x288 with 1 Axes>"
            ],
            "image/png": "[encoded data removed]"
          },
          "metadata": {
            "needs_background": "light"
          }
        },
        {
          "output_type": "display_data",
          "data": {
            "text/plain": [
              "<Figure size 432x288 with 1 Axes>"
            ],
            "image/png": "[encoded data removed]"
          },
          "metadata": {
            "needs_background": "light"
          }
        },
        {
          "output_type": "display_data",
          "data": {
            "text/plain": [
              "<Figure size 432x288 with 1 Axes>"
            ],
            "image/png": "[encoded data removed]"
          },
          "metadata": {
            "needs_background": "light"
          }
        },
        {
          "output_type": "display_data",
          "data": {
            "text/plain": [
              "<Figure size 432x288 with 1 Axes>"
            ],
            "image/png": "[encoded data removed]"
          },
          "metadata": {
            "needs_background": "light"
          }
        }
      ]
    },
    {
      "cell_type": "markdown",
      "source": [
        "This gives the possible output graphs of polynoamials till degree 3.\n",
        "The example of this is attached below for three features $f1,f2,f3$."
      ],
      "metadata": {
        "id": "yFVlm5pasWaq"
      }
    },
    {
      "cell_type": "markdown",
      "source": [
        "\n",
        "<img src='https://drive.google.com/uc?id=1IWOXHYK2lxOe24VP1wFxGAtao3PCaCFT'>\n",
        "\n",
        "\n"
      ],
      "metadata": {
        "id": "tkLoEduwt7A4"
      }
    },
    {
      "cell_type": "markdown",
      "source": [
        "Now, let's see the code for using 10 different polymonial features and their respective codes.\n",
        "\n",
        "By doing the same as above"
      ],
      "metadata": {
        "id": "8HQX16rZs1q6"
      }
    },
    {
      "cell_type": "code",
      "source": [
        "from sklearn.preprocessing import PolynomialFeatures\n",
        "from sklearn.preprocessing import StandardScaler\n",
        "scores = []\n",
        "for i in range(1, 10):\n",
        "    poly = PolynomialFeatures(i)\n",
        "    X_poly = poly.fit_transform(X)\n",
        "    scaler = StandardScaler()\n",
        "    scaler.fit(X_poly)\n",
        "    X_poly_scaled = scaler.transform(X_poly)\n",
        "    model = LinearRegression()\n",
        "    model.fit(X_poly_scaled, y)\n",
        "    output = model.predict(X_poly_scaled)\n",
        "\n",
        "    fig = plt.figure()\n",
        "    plt.scatter(X, y, label=\"samples\")\n",
        "    plt.scatter(X, output, label=\"prediction\")\n",
        "    plt.xlabel(\"X\")\n",
        "    plt.ylabel(\"Y\")\n",
        "    plt.title(f\"Degree {i}\")\n",
        "    plt.show()\n",
        "    display(model.score(X_poly_scaled, y))\n",
        "    scores.append(model.score(X_poly_scaled, y))\n",
        "print(scores)"
      ],
      "metadata": {
        "id": "B5m6LYS3sc7l",
        "colab": {
          "base_uri": "https://localhost:8080/",
          "height": 1000
        },
        "outputId": "cbd8e7ed-9f89-43a0-f1c2-aa15e41f7697"
      },
      "execution_count": null,
      "outputs": [
        {
          "output_type": "display_data",
          "data": {
            "text/plain": [
              "<Figure size 432x288 with 1 Axes>"
            ],
            "image/png": "[encoded data removed]"
          },
          "metadata": {
            "needs_background": "light"
          }
        },
        {
          "output_type": "display_data",
          "data": {
            "text/plain": [
              "0.8919326382437994"
            ]
          },
          "metadata": {}
        },
        {
          "output_type": "display_data",
          "data": {
            "text/plain": [
              "<Figure size 432x288 with 1 Axes>"
            ],
            "image/png": "[encoded data removed]"
          },
          "metadata": {
            "needs_background": "light"
          }
        },
        {
          "output_type": "display_data",
          "data": {
            "text/plain": [
              "0.937213227713278"
            ]
          },
          "metadata": {}
        },
        {
          "output_type": "display_data",
          "data": {
            "text/plain": [
              "<Figure size 432x288 with 1 Axes>"
            ],
            "image/png": "[encoded data removed]"
          },
          "metadata": {
            "needs_background": "light"
          }
        },
        {
          "output_type": "display_data",
          "data": {
            "text/plain": [
              "0.9384895307987051"
            ]
          },
          "metadata": {}
        },
        {
          "output_type": "display_data",
          "data": {
            "text/plain": [
              "<Figure size 432x288 with 1 Axes>"
            ],
            "image/png": "[encoded data removed]"
          },
          "metadata": {
            "needs_background": "light"
          }
        },
        {
          "output_type": "display_data",
          "data": {
            "text/plain": [
              "0.950995835560793"
            ]
          },
          "metadata": {}
        },
        {
          "output_type": "display_data",
          "data": {
            "text/plain": [
              "<Figure size 432x288 with 1 Axes>"
            ],
            "image/png": "[encoded data removed]"
          },
          "metadata": {
            "needs_background": "light"
          }
        },
        {
          "output_type": "display_data",
          "data": {
            "text/plain": [
              "0.9515258649694076"
            ]
          },
          "metadata": {}
        },
        {
          "output_type": "display_data",
          "data": {
            "text/plain": [
              "<Figure size 432x288 with 1 Axes>"
            ],
            "image/png": "[encoded data removed]"
          },
          "metadata": {
            "needs_background": "light"
          }
        },
        {
          "output_type": "display_data",
          "data": {
            "text/plain": [
              "0.951705082379512"
            ]
          },
          "metadata": {}
        },
        {
          "output_type": "display_data",
          "data": {
            "text/plain": [
              "<Figure size 432x288 with 1 Axes>"
            ],
            "image/png": "[encoded data removed]"
          },
          "metadata": {
            "needs_background": "light"
          }
        },
        {
          "output_type": "display_data",
          "data": {
            "text/plain": [
              "0.951924584842222"
            ]
          },
          "metadata": {}
        },
        {
          "output_type": "display_data",
          "data": {
            "text/plain": [
              "<Figure size 432x288 with 1 Axes>"
            ],
            "image/png": "[encoded data removed]"
          },
          "metadata": {
            "needs_background": "light"
          }
        },
        {
          "output_type": "display_data",
          "data": {
            "text/plain": [
              "0.95251047966738"
            ]
          },
          "metadata": {}
        },
        {
          "output_type": "display_data",
          "data": {
            "text/plain": [
              "<Figure size 432x288 with 1 Axes>"
            ],
            "image/png": "[encoded data removed]"
          },
          "metadata": {
            "needs_background": "light"
          }
        },
        {
          "output_type": "display_data",
          "data": {
            "text/plain": [
              "0.9531232513749314"
            ]
          },
          "metadata": {}
        },
        {
          "output_type": "stream",
          "name": "stdout",
          "text": [
            "[0.8919326382437994, 0.937213227713278, 0.9384895307987051, 0.950995835560793, 0.9515258649694076, 0.951705082379512, 0.951924584842222, 0.95251047966738, 0.9531232513749314]\n"
          ]
        }
      ]
    },
    {
      "cell_type": "markdown",
      "source": [
        "* so, here what a **scaler** does is to **fit mean and standard deviation** of the columns and transform function is used to transform the data.\n",
        "*example: let us consider the point $x_{ij}$ amd its mean and stadard deviation be $m_j$ and $s_j$ respectively.\n",
        " * Now, the transform function takes the data point and transforms it to $\\frac{x_{ij}-{m_j}}{s_j}$\n",
        "* We can see the scores improved till degree 5, but there is no much improvement after that as our original data is of degree 5 with some noise\n",
        "* The higher degree than original, model tries to fit more and more to the noise due to which there is no further improvement in the score.\n"
      ],
      "metadata": {
        "id": "vvYa_160xANS"
      }
    },
    {
      "cell_type": "markdown",
      "source": [
        "**what if we keep on increasing the degree.?**"
      ],
      "metadata": {
        "id": "0lEGRJ5F1r65"
      }
    },
    {
      "cell_type": "markdown",
      "source": [
        "It results in **overfitting the data like crazy**.\n",
        "Even if the score is good, this degree cannot be generalised as it's overfitted.\n",
        "\n",
        "*   Let's see an example of the same\n",
        "\n",
        "\n",
        "\n"
      ],
      "metadata": {
        "id": "dxjIy2ix1yGv"
      }
    },
    {
      "cell_type": "code",
      "source": [
        "#overfit like crazy\n",
        "from sklearn.preprocessing import PolynomialFeatures\n",
        "from sklearn.preprocessing import StandardScaler\n",
        "from sklearn.linear_model import LinearRegression\n",
        "degree = 50 # max-degree\n",
        "scores = []\n",
        "for i in range(0, degree):\n",
        "    poly = PolynomialFeatures(i)\n",
        "    X_poly = poly.fit_transform(X)\n",
        "    scaler = StandardScaler()\n",
        "    scaler.fit(X_poly)\n",
        "    X_poly_scaled = scaler.transform(X_poly)\n",
        "    model = LinearRegression()\n",
        "    model.fit(X_poly_scaled, y)\n",
        "    output = model.predict(X_poly_scaled)\n",
        "    scores.append(model.score(X_poly_scaled, y))\n",
        "\n",
        "max_idx = np.argmax(scores)\n",
        "print(max_idx, scores[max_idx])\n",
        "fig = plt.figure()\n",
        "plt.scatter(range(0,degree), scores, label=\"samples\")\n",
        "plt.grid()\n",
        "plt.show()"
      ],
      "metadata": {
        "id": "cGSEXdKJ2YYJ",
        "colab": {
          "base_uri": "https://localhost:8080/",
          "height": 282
        },
        "outputId": "275c3d1a-8172-4772-840b-7741efab40f7"
      },
      "execution_count": null,
      "outputs": [
        {
          "output_type": "stream",
          "name": "stdout",
          "text": [
            "31 0.9684331040517228\n"
          ]
        },
        {
          "output_type": "display_data",
          "data": {
            "text/plain": [
              "<Figure size 432x288 with 1 Axes>"
            ],
            "image/png": "[encoded data removed]"
          },
          "metadata": {
            "needs_background": "light"
          }
        }
      ]
    },
    {
      "cell_type": "markdown",
      "source": [
        "* As you can see the score is showing highest at the degree 31 because\n",
        "the model is trying to **overfit to the noise in the data**"
      ],
      "metadata": {
        "id": "v2ADKU7j3Kg_"
      }
    },
    {
      "cell_type": "markdown",
      "source": [
        "Now let's move further and make complete implementation with 100 data points and also let's split, train and test data"
      ],
      "metadata": {
        "id": "xSLyfAuOAEkv"
      }
    },
    {
      "cell_type": "code",
      "source": [
        "# lets first generate a dataset of 1000 points this time\n",
        "# train, Val and test set\n",
        "np.random.seed(1)\n",
        "X = np.random.rand(100,1)\n",
        "y = 0.7*(X**5) - \\\n",
        "    2.1*(X**4) + \\\n",
        "    2.3*(X**3) + \\\n",
        "    0.2*(X**2) + \\\n",
        "    0.3* X + \\\n",
        "    0.4*np.random.rand(100,1)"
      ],
      "metadata": {
        "id": "cfc4Bwlv3f9W"
      },
      "execution_count": null,
      "outputs": []
    },
    {
      "cell_type": "markdown",
      "source": [
        "* The above code is same as our before case, the only difference is we split and train data now by using **train_test_split function**.\n",
        "* Now lets see the code for the same\n"
      ],
      "metadata": {
        "id": "38nGtkbvAgwZ"
      }
    },
    {
      "cell_type": "code",
      "source": [
        "from sklearn.model_selection import train_test_split\n",
        "#0.6, 0.2, 0.2 split\n",
        "X_tr_cv, X_test, y_tr_cv, y_test = train_test_split(X, y, test_size=0.2, random_state=1)\n",
        "X_train, X_val, y_train, y_val = train_test_split(X_tr_cv, y_tr_cv, test_size=0.25,random_state=1)"
      ],
      "metadata": {
        "id": "WEnF1L_8BVAZ"
      },
      "execution_count": null,
      "outputs": []
    },
    {
      "cell_type": "markdown",
      "source": [
        "* In the above code we first slipt the data into parts i.e tr_cv and test\n",
        "* given the test_size = 0.2, 20% of the data (x,y) is split to the test part and the rest 80% split to tr_cv (train and cross validation)\n",
        "* And then it is given that this tr_cv is further devided into two parts train and val (train and validation) give the size is 0.25, the 25% of tr_cv part is split to validation part  whicch is 20% of the total data"
      ],
      "metadata": {
        "id": "s6vUSEkyBtQd"
      }
    },
    {
      "cell_type": "markdown",
      "source": [
        "And now let's visualise the data after the splitting"
      ],
      "metadata": {
        "id": "dleEUaLJC_Id"
      }
    },
    {
      "cell_type": "code",
      "source": [
        "fig = plt.figure()\n",
        "plt.scatter(X_train, y_train)\n",
        "plt.xlabel(\"x\")\n",
        "plt.ylabel(\"y\")\n",
        "plt.title(\"Training Data\")\n",
        "plt.show()\n",
        "\n",
        "fig = plt.figure()\n",
        "plt.scatter(X_val, y_val)\n",
        "plt.xlabel(\"x\")\n",
        "plt.ylabel(\"y\")\n",
        "plt.title(\"Validation Data\")\n",
        "plt.show()\n",
        "\n",
        "fig = plt.figure()\n",
        "plt.scatter(X_test, y_test)\n",
        "plt.xlabel(\"x\")\n",
        "plt.ylabel(\"y\")\n",
        "plt.title(\"Test Data\")\n",
        "plt.show()"
      ],
      "metadata": {
        "id": "zydbOYJlDafw",
        "colab": {
          "base_uri": "https://localhost:8080/",
          "height": 851
        },
        "outputId": "d1f4f847-5b5a-46a4-f773-8ccd6a974d11"
      },
      "execution_count": null,
      "outputs": [
        {
          "output_type": "display_data",
          "data": {
            "text/plain": [
              "<Figure size 432x288 with 1 Axes>"
            ],
            "image/png": "[encoded data removed]"
          },
          "metadata": {
            "needs_background": "light"
          }
        },
        {
          "output_type": "display_data",
          "data": {
            "text/plain": [
              "<Figure size 432x288 with 1 Axes>"
            ],
            "image/png": "[encoded data removed]"
          },
          "metadata": {
            "needs_background": "light"
          }
        },
        {
          "output_type": "display_data",
          "data": {
            "text/plain": [
              "<Figure size 432x288 with 1 Axes>"
            ],
            "image/png": "[encoded data removed]"
          },
          "metadata": {
            "needs_background": "light"
          }
        }
      ]
    },
    {
      "cell_type": "markdown",
      "source": [
        "* Now let's just quickly look at another function makepipieline. **(pipeline functionality)**\n",
        "\n",
        "*  This function allows us to do the required actions in the required order very easily\n",
        "* We will see it's actually implementation in the code, and how it helped us to **decrease the length of code** by saving us the trouble of writing the polynomial, scaler, and LinearRegression function individually.:\n"
      ],
      "metadata": {
        "id": "AdUgPV7aGTZO"
      }
    },
    {
      "cell_type": "markdown",
      "source": [
        "Now, Let's see the complete implementation of the functions learnt, together"
      ],
      "metadata": {
        "id": "DVUEiDgAIX6M"
      }
    },
    {
      "cell_type": "code",
      "source": [
        "# Train and Validatation without hyper param tuning. Just by controlling the degree\n",
        "from sklearn.preprocessing import PolynomialFeatures\n",
        "from sklearn.preprocessing import StandardScaler\n",
        "from sklearn.linear_model import LinearRegression\n",
        "from sklearn.pipeline import make_pipeline\n",
        "max_degree = 32 # max polynomial degree\n",
        "train_scores = []\n",
        "val_scores = []\n",
        "scaler = StandardScaler()\n",
        "for degree in range(1, max_degree):\n",
        "    polyreg_scaled = make_pipeline(PolynomialFeatures(degree), scaler, LinearRegression())\n",
        "    polyreg_scaled.fit(X_train, y_train)\n",
        "    train_score = polyreg_scaled.score(X_train, y_train)\n",
        "    val_score = polyreg_scaled.score(X_val, y_val)\n",
        "    train_scores.append(train_score)\n",
        "    val_scores.append(val_score)\n",
        "plt.figure()\n",
        "plt.plot(list(range(1, 32)), train_scores, label=\"train\")\n",
        "plt.plot(list(range(1, 32)), val_scores, label=\"val\")\n",
        "plt.legend(loc='lower right')\n",
        "plt.xlabel(\"degree\")\n",
        "plt.ylabel(\"R-score\")\n",
        "plt.grid()\n",
        "plt.show()\n",
        "\n"
      ],
      "metadata": {
        "id": "D5RHnfFADgOK",
        "colab": {
          "base_uri": "https://localhost:8080/",
          "height": 279
        },
        "outputId": "c82eff8f-a05b-4595-e49c-1711ebed6ff6"
      },
      "execution_count": null,
      "outputs": [
        {
          "output_type": "display_data",
          "data": {
            "text/plain": [
              "<Figure size 432x288 with 1 Axes>"
            ],
            "image/png": "[encoded data removed]"
          },
          "metadata": {
            "needs_background": "light"
          }
        }
      ]
    },
    {
      "cell_type": "markdown",
      "source": [
        "* In the graph we can clearly see that the score graph of validation went down significantly though the scores of training set were increasing\n",
        "* This is because **after certain threshold** the model starts over fitting and the general validaation of the system decreases.\n",
        "* In the above example we can see the value range between degree 3 or 4 is best fit for the data\n",
        "* So, let's concluse that **performance of the validating set is significant** in deciding the model, but not the performance of training set."
      ],
      "metadata": {
        "id": "QsZJnccJMUmo"
      }
    },
    {
      "cell_type": "markdown",
      "source": [
        "What happens if we increase the size of data?\n",
        "\n",
        "\n",
        "* As we increase the size of data, the size of training set and cross validation set also increase due to which the model can be trained and validated in a better way  \n",
        "*   some times the random intialization of the data may also impact the  scores of validation.\n",
        "\n"
      ],
      "metadata": {
        "id": "Q5LCFmTtRDIB"
      }
    },
    {
      "cell_type": "markdown",
      "source": [
        "Now, lets see the actual code implementation in the real world application.\n",
        "\n",
        "It's the actual and exact way how we use the linear regression in **real time application**"
      ],
      "metadata": {
        "id": "vbNr--gG4yYN"
      }
    },
    {
      "cell_type": "markdown",
      "source": [
        "There's no major change in the code when compared to the previous one the only change is importing ridge for implementation of the ridge regression."
      ],
      "metadata": {
        "id": "AWRa2mA85Qd9"
      }
    },
    {
      "cell_type": "code",
      "source": [
        "from sklearn.linear_model import Ridge\n",
        "train_scores = []\n",
        "val_scores = []\n",
        "scaler = StandardScaler()\n",
        "for alpha in range(1,20):\n",
        "  polyreg_scaled = make_pipeline(PolynomialFeatures(32), scaler, Ridge(alpha))\n",
        "  polyreg_scaled.fit(X_train, y_train)\n",
        "  train_score = polyreg_scaled.score(X_train, y_train)\n",
        "  val_score = polyreg_scaled.score(X_val, y_val)\n",
        "  train_scores.append(train_score)\n",
        "  val_scores.append(val_score)\n",
        "print(val_scores)"
      ],
      "metadata": {
        "id": "ryrXPLbo5Pdo",
        "colab": {
          "base_uri": "https://localhost:8080/"
        },
        "outputId": "04e19c61-c511-4d51-ba46-036aa5866fa2"
      },
      "execution_count": null,
      "outputs": [
        {
          "output_type": "stream",
          "name": "stdout",
          "text": [
            "[0.9191998246630931, 0.921663634745074, 0.9225261379655693, 0.9228107199506557, 0.9227920796141761, 0.9225827322926681, 0.9222412132759986, 0.9218029022541585, 0.9212913731720953, 0.9207233831277857, 0.9201113763921119, 0.9194648783112236, 0.9187913376370249, 0.9180966698903988, 0.9173856265101866, 0.9166620561482952, 0.9159290957306129, 0.915189313816209, 0.9144448204085793]\n"
          ]
        }
      ]
    },
    {
      "cell_type": "markdown",
      "source": [
        "* From the output of the above code we can  see the score is highest when the value of alpha is 4.\n",
        "* Hence we will carry the ridge regression by giving the alpha value 4."
      ],
      "metadata": {
        "id": "H3YqUWNL6IZO"
      }
    },
    {
      "cell_type": "markdown",
      "source": [
        "* Let's understand this properly by seeing the example of the graph of the code"
      ],
      "metadata": {
        "id": "FwLN2YAXAoOa"
      }
    },
    {
      "cell_type": "markdown",
      "source": [
        "<img src='https://drive.google.com/uc?id=16tYiJVd5aAjUyLUz8VDNtBCDa-Cyqmy4'>\n",
        "\n",
        "\n"
      ],
      "metadata": {
        "id": "U18v6SKIBU-q"
      }
    },
    {
      "cell_type": "code",
      "source": [
        "# train the best model with alpha=4\n",
        "polyreg_scaled = make_pipeline(PolynomialFeatures(32), scaler, Ridge(4))\n",
        "polyreg_scaled.fit(X_train, y_train)\n",
        "train_score = polyreg_scaled.score(X_train, y_train)\n",
        "print(train_score)"
      ],
      "metadata": {
        "colab": {
          "base_uri": "https://localhost:8080/"
        },
        "id": "Fo9uHnIn-IZB",
        "outputId": "3ba97703-1a95-433b-8ced-a89c0054fbc9"
      },
      "execution_count": null,
      "outputs": [
        {
          "output_type": "stream",
          "name": "stdout",
          "text": [
            "0.914269817149344\n"
          ]
        }
      ]
    },
    {
      "cell_type": "markdown",
      "source": [
        "## Logistic Regression"
      ],
      "metadata": {
        "id": "MNFR_Y1fe8_K"
      }
    },
    {
      "cell_type": "markdown",
      "source": [
        "Now, let's continue with another important type of Regression i.e Logistic Regression\n",
        "\n",
        "Before, getting into this lets do a quick recap of what we have learnt in Linear Regression."
      ],
      "metadata": {
        "id": "Ri5T8opue_4F"
      }
    },
    {
      "cell_type": "markdown",
      "source": [
        "* We saw how to solve a Regression problem which is linear model\n",
        "* We saw how to predict the value using linear Regression\n",
        " *  $ŷ_i= w^Tx_i + w_0$\n",
        "* we computated the loss for the same which is squared loss\n",
        " *   Squared loss = $(y_i-ŷ_i)^2$\n",
        "\n",
        "\n",
        "\n"
      ],
      "metadata": {
        "id": "947a22-6gdkt"
      }
    },
    {
      "cell_type": "markdown",
      "source": [
        "\n",
        "\n",
        "<img src='https://drive.google.com/uc?id=1frpTelmC7J_wRl6OhViPXyobIfC-2TQz'>"
      ],
      "metadata": {
        "id": "X4cy5BBBfkK-"
      }
    },
    {
      "cell_type": "markdown",
      "source": [
        "Now, as we revised Linear Regression\n",
        "\n",
        "Let's see what Logistic Regression does"
      ],
      "metadata": {
        "id": "cOpnYwTvgQo3"
      }
    },
    {
      "cell_type": "markdown",
      "source": [
        "* The main motive of Logistic Regression is to build a linear classifier\n",
        "* Logistic Regression does binary classification i.e there will be only two classes\n",
        "\n",
        "\n",
        "\n"
      ],
      "metadata": {
        "id": "1hH0muo7NKMa"
      }
    },
    {
      "cell_type": "markdown",
      "source": [
        "\n",
        "\n",
        "<img src='https://drive.google.com/uc?id=1qgxP6Aok57O2BDkiHLckLYM6ai2nBC4X'>\n",
        "\n"
      ],
      "metadata": {
        "id": "QC4L0AOzOTOS"
      }
    },
    {
      "cell_type": "markdown",
      "source": [
        "Let's see what are things wwe need to find out in logistic regression\n",
        "* How to calculate $ŷ_i$\n",
        "* what is the loss funtion and how to measure it"
      ],
      "metadata": {
        "id": "NkqC1HEZOgTR"
      }
    },
    {
      "cell_type": "markdown",
      "source": [
        "Let's get started with that\n"
      ],
      "metadata": {
        "id": "M-afshkuOjls"
      }
    },
    {
      "cell_type": "markdown",
      "source": [
        "* The linear function would be\n",
        "$w^tx_i+w_0$.\n",
        "\n",
        "* The range of the values of this function is ($-∞,∞$)\n",
        "But our output $y$ has only 2 values i.e 0 and 1\n",
        "\n",
        "* So, there is a need of a function to take the values and return only 0 or 1.\n",
        "\n",
        "* We, have step function to do the same , but as it is not differentiable it cannot be used here  \n",
        "* so let's see the more suitable function for the same"
      ],
      "metadata": {
        "id": "5wz5PTZiSk3g"
      }
    },
    {
      "cell_type": "markdown",
      "source": [
        "Let's assume:\n",
        " * $z_i=w^tx_i+w_0$\n",
        "\n",
        "Now, we need a function such that\n",
        "\n",
        "* $g(x)$ tends to $0$ as $z_i$ tends to $-∞$\n",
        "* $g(x)$ tends to $1$ as $z_i$ tends to $∞$"
      ],
      "metadata": {
        "id": "qTOUmPEmWWQk"
      }
    },
    {
      "cell_type": "markdown",
      "source": [
        "\n",
        "\n",
        "<img src='https://drive.google.com/uc?id=1Fxx25-hs5ylag5BlY_iuQKqU9omS-39Z'>\n",
        "\n",
        "\n"
      ],
      "metadata": {
        "id": "wd0hRNlTXqhi"
      }
    },
    {
      "cell_type": "markdown",
      "source": [
        "* So, one of the best function to handle this is **Sigmooid function**\n",
        " * Sigmoid is a smooth and differentiable function\n",
        " * It goes to 0, at $-∞$ and to 1 at $∞$\n",
        " * it is a monotonic increasing  function\n",
        "* The function is $z_i=\\frac{1}{1+exp(-z_i)}$"
      ],
      "metadata": {
        "id": "A0L2xSoOXxpy"
      }
    },
    {
      "cell_type": "markdown",
      "source": [
        "\n",
        "\n",
        "<img src='https://drive.google.com/uc?id=1bN_vVAhbdTMpRbEAGOEbMXuFInnZ2CFG'>"
      ],
      "metadata": {
        "id": "6oq6wsp6YRFP"
      }
    },
    {
      "cell_type": "markdown",
      "source": [],
      "metadata": {
        "id": "T1D9mlNGaHyv"
      }
    }
  ]
}