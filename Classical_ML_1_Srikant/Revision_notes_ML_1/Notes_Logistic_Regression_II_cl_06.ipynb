{
  "nbformat": 4,
  "nbformat_minor": 0,
  "metadata": {
    "colab": {
      "provenance": []
    },
    "kernelspec": {
      "name": "python3",
      "display_name": "Python 3"
    },
    "language_info": {
      "name": "python"
    }
  },
  "cells": [
    {
      "cell_type": "markdown",
      "source": [
        "**Lecture link:** https://www.scaler.com/meetings/i/dsml-advanced-logistic-regression-2-2/archive"
      ],
      "metadata": {
        "id": "yy6oJDd7CWTz"
      }
    },
    {
      "cell_type": "markdown",
      "source": [
        "## Content\n",
        "\n",
        "\n",
        "1.   Today's topics (00:00 - 06:15)\n",
        "2.   Quick recap of co-ordinate geometry required(06:15 - 21:54)\n",
        "3.  Code Implementation of sigmoid function(21:54 - 28:51)\n",
        "4. Log-loss (28:51 - 59:36)\n",
        "5. Optimization(59:36 - 01:17:14)\n",
        "6. Big picture (01:17:14 - 1:24:58)\n",
        "7. Code implementation of logistic regression(1:24:58 - 02:14:12)\n",
        "8. Dealing with Imbalanced data set(02:04:12 - 02:14:00)\n",
        "\n"
      ],
      "metadata": {
        "id": "VDhYfCEoCON1"
      }
    },
    {
      "cell_type": "markdown",
      "source": [
        "<img src='https://drive.google.com/uc?id=1CsDG5fZSO9Zi-kLQHTbdszjYQ_R8Klv1'>\n",
        "\n"
      ],
      "metadata": {
        "id": "H8alYVCVCrb3"
      }
    },
    {
      "cell_type": "markdown",
      "source": [
        "## Recap"
      ],
      "metadata": {
        "id": "FnZKslmAGWHu"
      }
    },
    {
      "cell_type": "markdown",
      "source": [
        "* Let's assume a plane with equation $w^Tx+w_0=0$ and point $xi$ lies on the plane and $w$ be a unit vector from the origin\n",
        "* The point $x_2$ is at some point, whose distance from plane($π$) is given as\n",
        "$d_2=dist(𝛱,x2)=w^Tx_i+w_0$ as the point x2 is above the plane the distance is +ve.\n",
        "* Similarly for $x_3$, but here the distance is considered -ve as it lies below the hyperplane $𝛱$"
      ],
      "metadata": {
        "id": "uZ-pc4tzHwiF"
      }
    },
    {
      "cell_type": "markdown",
      "source": [
        "<img src='https://drive.google.com/uc?id=1CiEnY61_Go__vRg79HLQjt9ZvL-oM7Wa'>\n",
        "\n",
        "\n"
      ],
      "metadata": {
        "id": "nKRFc-7aJrJM"
      }
    },
    {
      "cell_type": "markdown",
      "source": [
        "Now, lets see about sigmoid function which we learnt eearlier\n",
        "* Let us again take a plane $w^Tx+w_0$ and assume $z_i=w^Tx_i+w_0$\n",
        "* And we know sigmoid $σ(z_i)=\\frac{1}{1+e^{-z_i}}$\n",
        "* For point $x_1$ which lies on the plane $z_1=0$ the sigmoid value is\n",
        " * $σ(z_i)=\\frac{1}{1+e^{-z_1}}=\\frac{1}{1+e^0}= 0.5$\n",
        "* Let us assume another point $x_2$ on the plane $𝛱1$ which is above the plane $𝛱$\n",
        " * value of $z_2$ will be greater than $0$\n",
        " * $σ(z_2)>0.5$\n",
        "\n",
        "* Similarly for point $x_3$ which lies on a plane $𝛱2$, which lies below plane $𝛱$\n",
        " * value of $z_3$ will be less than $0$\n",
        " * $σ(z_2)<0.5$"
      ],
      "metadata": {
        "id": "QCHfSnM9J1LX"
      }
    },
    {
      "cell_type": "markdown",
      "source": [
        "<img src='https://drive.google.com/uc?id=1sfPS2UitkC-682-eXlWgn2xPIzZfz_5y'>\n",
        "\n",
        "\n",
        "\n",
        "\n"
      ],
      "metadata": {
        "id": "AIDPR5p-PlUI"
      }
    },
    {
      "cell_type": "markdown",
      "source": [
        "<img src='https://drive.google.com/uc?id=1NOfRXC7UZ4WIaEAYlORH8cKU7c_gKelK'>\n",
        "\n",
        "\n",
        "\n",
        "\n"
      ],
      "metadata": {
        "id": "HunzLPxPPukC"
      }
    },
    {
      "cell_type": "markdown",
      "source": [
        "* When we take two point $x_1,x_2$ on the same side of plane and $x1$ being farther than $x2$ from plane then probability of $x_1$ belonging to class 1 is more than $x_2$"
      ],
      "metadata": {
        "id": "JbBPkNTHP7tb"
      }
    },
    {
      "cell_type": "markdown",
      "source": [
        "<img src='https://drive.google.com/uc?id=1FgRsOolvYVy4uBHaQrISz_9C8Wp14Hdj'>\n",
        "\n",
        "\n"
      ],
      "metadata": {
        "id": "jhrvTL8oRRp5"
      }
    },
    {
      "cell_type": "markdown",
      "source": [
        "## Code implementation of sigmoid function"
      ],
      "metadata": {
        "id": "mAeDNrZEcMin"
      }
    },
    {
      "cell_type": "markdown",
      "source": [
        "Now let's see a simple code for sigmoid function"
      ],
      "metadata": {
        "id": "bgzEiYTGRu_v"
      }
    },
    {
      "cell_type": "markdown",
      "source": [
        "First let's import all the required libraries"
      ],
      "metadata": {
        "id": "ObCB1iUOVKcx"
      }
    },
    {
      "cell_type": "code",
      "source": [
        "import numpy as np\n",
        "import matplotlib.pyplot as plt\n",
        "import math"
      ],
      "metadata": {
        "id": "EVMhjIxXVZaN"
      },
      "execution_count": null,
      "outputs": []
    },
    {
      "cell_type": "markdown",
      "source": [
        "After importing let's define sigmoid function"
      ],
      "metadata": {
        "id": "WCxZU-rCVbvR"
      }
    },
    {
      "cell_type": "code",
      "source": [
        "def sigmoid(x):\n",
        "    return 1/(1+np.e**-x)\n"
      ],
      "metadata": {
        "id": "XPYm3KOWVg24"
      },
      "execution_count": null,
      "outputs": []
    },
    {
      "cell_type": "markdown",
      "source": [
        "Here the value of $σ(x_i)$ is returned. i.e $\\frac{1}{1+e^{-x_i}}$"
      ],
      "metadata": {
        "id": "-FVXtHYEWVRl"
      }
    },
    {
      "cell_type": "markdown",
      "source": [
        "Now, let's give the values"
      ],
      "metadata": {
        "id": "vt2EBrakVxFL"
      }
    },
    {
      "cell_type": "code",
      "source": [
        "x = np.linspace(-10, 10, 20)\n",
        "z = sigmoid(x)\n"
      ],
      "metadata": {
        "id": "hlYqZy1hVwiy"
      },
      "execution_count": null,
      "outputs": []
    },
    {
      "cell_type": "markdown",
      "source": [
        "plotting  the same"
      ],
      "metadata": {
        "id": "qS3e0KxiV5LZ"
      }
    },
    {
      "cell_type": "code",
      "source": [
        "plt.plot(x, z)\n",
        "plt.xlabel(\"x\")\n",
        "plt.ylabel(\"Sigmoid(X)\")\n",
        "plt.grid()\n",
        "plt.show()"
      ],
      "metadata": {
        "id": "NVUcPHb7V7n5",
        "colab": {
          "base_uri": "https://localhost:8080/",
          "height": 279
        },
        "outputId": "5c210c1c-a0ea-4260-b50e-5d19581f7a26"
      },
      "execution_count": null,
      "outputs": [
        {
          "output_type": "display_data",
          "data": {
            "text/plain": [
              "<Figure size 432x288 with 1 Axes>"
            ],
            "image/png": "[encoded data removed]"
          },
          "metadata": {
            "needs_background": "light"
          }
        }
      ]
    },
    {
      "cell_type": "markdown",
      "source": [
        "* The output graph is the graph for the sigmoid function between -10 and 10\n",
        "* In the above graph you can clearly see that as the value incresases the rate of increase in the sigmoid function is getting very low beyond 5\n",
        "* As the distnace increases, the probability of value getting 1 increases, it increses rapidly till 5 but slows down beyond.\n",
        "*   Same logic can be explained for the other side also.\n",
        "\n"
      ],
      "metadata": {
        "id": "e-t0yNFPWC7G"
      }
    },
    {
      "cell_type": "markdown",
      "source": [
        "<img src='https://drive.google.com/uc?id=1zGdf4smFWRnR-LuAFwZyvcv8MkNG19ga'>\n",
        "\n",
        "\n"
      ],
      "metadata": {
        "id": "DGgF_LocbU4p"
      }
    },
    {
      "cell_type": "markdown",
      "source": [
        "## Log-loss"
      ],
      "metadata": {
        "id": "gZwvTODHbnn4"
      }
    },
    {
      "cell_type": "markdown",
      "source": [
        "Context:"
      ],
      "metadata": {
        "id": "vg97EQcOcZXd"
      }
    },
    {
      "cell_type": "markdown",
      "source": [
        " We have points $x,y$ where $x$ is a point in data space, and y lies in the range of 0 and 1\n",
        " *  we want a linear seperator in the form $w^Tx+w_0$\n",
        " * The distance from the points is $z_i=w^Tx_i+w_0$ can range between $(-∞,+∞)$ but we want map these values in range (0,1) for that we have used the sigmoid function.\n",
        " * Now we have actual $y$ values as 0 or 1 but now we have $y_i$hat whixh ranges between 0 and 1\n",
        " * So, for comparing this $y$ and $y_i$hat we use **Log-loss**"
      ],
      "metadata": {
        "id": "CbAiNfAx1AGE"
      }
    },
    {
      "cell_type": "markdown",
      "source": [
        "<img src='https://drive.google.com/uc?id=1ei8v6vmyuuSLX6OXXVzLhKOOUk_PU8rP'>\n",
        "\n"
      ],
      "metadata": {
        "id": "BuGfKfpm5MxE"
      }
    },
    {
      "cell_type": "markdown",
      "source": [
        "The Log-loss function is:\n",
        "*  when $y_i=1$, log loss is equal to $-log(y_i$hat)\n",
        "* when $y_i=0$, log loss is equal to $-log(1-y_i$hat)"
      ],
      "metadata": {
        "id": "KDCqJNZ25nnx"
      }
    },
    {
      "cell_type": "markdown",
      "source": [
        "<img src='https://drive.google.com/uc?id=1R_C_cXOpra4Y6Xz0U0IcDrlMrM0M1_6w'>\n",
        "\n"
      ],
      "metadata": {
        "id": "BNAiNxQY9KRl"
      }
    },
    {
      "cell_type": "markdown",
      "source": [
        "**Why Log-loss?**"
      ],
      "metadata": {
        "id": "vfpAiDNv94mX"
      }
    },
    {
      "cell_type": "markdown",
      "source": [
        "* while deriving logistic regression from probability by using  **maximum** **likelyhood estimation** naturally the function which we are getting is log-loss.\n",
        "* We can use any other function for calcualting the loss, but that's not logistic regression."
      ],
      "metadata": {
        "id": "Vcn_x7We-mnG"
      }
    },
    {
      "cell_type": "markdown",
      "source": [
        "we can use a single formula for addressing both the situation when $y$ is 0 or 1.\n",
        "\n",
        "The combined equation is\n",
        "* log-loss= $-y log(y_i$hat) - $(1-y)log(1-y_i$hat)\n"
      ],
      "metadata": {
        "id": "XIQkJBpZB8m8"
      }
    },
    {
      "cell_type": "markdown",
      "source": [
        "Now let's a take a look at the code for the log-loss function"
      ],
      "metadata": {
        "id": "XelOeaSA_OR3"
      }
    },
    {
      "cell_type": "code",
      "source": [
        "y = 1\n",
        "yhat=0.9\n",
        "print(-y*math.log(yhat)-(1-y)*math.log(1-yhat))"
      ],
      "metadata": {
        "colab": {
          "base_uri": "https://localhost:8080/"
        },
        "id": "NSGLGzp8AAg7",
        "outputId": "c8d418f6-690e-4239-ff2d-d8ade8a9f6d5"
      },
      "execution_count": null,
      "outputs": [
        {
          "output_type": "stream",
          "name": "stdout",
          "text": [
            "0.10536051565782628\n"
          ]
        }
      ]
    },
    {
      "cell_type": "code",
      "source": [
        "y = 1\n",
        "yhat=0.99\n",
        "print(-y*math.log(yhat)-(1-y)*math.log(1-yhat))"
      ],
      "metadata": {
        "id": "MZkfwD8pAEyU",
        "colab": {
          "base_uri": "https://localhost:8080/"
        },
        "outputId": "16e66a96-55ce-4022-f674-3b727ac05dcd"
      },
      "execution_count": null,
      "outputs": [
        {
          "output_type": "stream",
          "name": "stdout",
          "text": [
            "0.01005033585350145\n"
          ]
        }
      ]
    },
    {
      "cell_type": "code",
      "source": [
        "y=1\n",
        "yhat=0.1\n",
        "print(-y*math.log(yhat)-(1-y)*math.log(1-yhat))"
      ],
      "metadata": {
        "id": "U5lrsAW6A3BX",
        "colab": {
          "base_uri": "https://localhost:8080/"
        },
        "outputId": "b26ddefb-8649-4047-a139-b8cd5ed94bd0"
      },
      "execution_count": null,
      "outputs": [
        {
          "output_type": "stream",
          "name": "stdout",
          "text": [
            "2.3025850929940455\n"
          ]
        }
      ]
    },
    {
      "cell_type": "code",
      "source": [
        "y=1\n",
        "yhat=0.01\n",
        "print(-y*math.log(yhat)-(1-y)*math.log(1-yhat))"
      ],
      "metadata": {
        "id": "FiKIWq-sA25k",
        "colab": {
          "base_uri": "https://localhost:8080/"
        },
        "outputId": "098348af-4cbb-43c6-8ffc-1cdeb582af72"
      },
      "execution_count": null,
      "outputs": [
        {
          "output_type": "stream",
          "name": "stdout",
          "text": [
            "4.605170185988091\n"
          ]
        }
      ]
    },
    {
      "cell_type": "code",
      "source": [
        "y=0\n",
        "yhat=0.1\n",
        "print(-y*math.log(yhat)-(1-y)*math.log(1-yhat))"
      ],
      "metadata": {
        "id": "jWOTVvCaBh8-",
        "colab": {
          "base_uri": "https://localhost:8080/"
        },
        "outputId": "e90a8e59-5660-4349-eb94-2e49c9b1557e"
      },
      "execution_count": null,
      "outputs": [
        {
          "output_type": "stream",
          "name": "stdout",
          "text": [
            "0.10536051565782628\n"
          ]
        }
      ]
    },
    {
      "cell_type": "code",
      "source": [
        "y=0\n",
        "yhat=0.01\n",
        "print(-y*math.log(yhat)-(1-y)*math.log(1-yhat))"
      ],
      "metadata": {
        "id": "eV_eaWITBh2_",
        "colab": {
          "base_uri": "https://localhost:8080/"
        },
        "outputId": "675b177c-381b-4d11-a834-9efe60cda844"
      },
      "execution_count": null,
      "outputs": [
        {
          "output_type": "stream",
          "name": "stdout",
          "text": [
            "0.01005033585350145\n"
          ]
        }
      ]
    },
    {
      "cell_type": "code",
      "source": [
        "y=0\n",
        "yhat=0.9\n",
        "print(-y*math.log(yhat)-(1-y)*math.log(1-yhat))\n",
        "2.302585092994046"
      ],
      "metadata": {
        "id": "CHC4yGjXBhyC",
        "colab": {
          "base_uri": "https://localhost:8080/"
        },
        "outputId": "d719e025-aaba-421b-c01e-cbc194601cbb"
      },
      "execution_count": null,
      "outputs": [
        {
          "output_type": "stream",
          "name": "stdout",
          "text": [
            "2.302585092994046\n"
          ]
        },
        {
          "output_type": "execute_result",
          "data": {
            "text/plain": [
              "2.302585092994046"
            ]
          },
          "metadata": {},
          "execution_count": 12
        }
      ]
    },
    {
      "cell_type": "markdown",
      "source": [
        "You can see the value of **log-loss is decreasing** as your **predicted value $y_i$hat is geting closer** **to observed value $y_i$**and **log loss is increasing** as your **predicted value $y_i$hat is geting farther from observed value $y_i$**"
      ],
      "metadata": {
        "id": "FUf6OJbzAEMk"
      }
    },
    {
      "cell_type": "markdown",
      "source": [
        "## Optimiztion"
      ],
      "metadata": {
        "id": "I2HJZREQBfng"
      }
    },
    {
      "cell_type": "markdown",
      "source": [
        "So, the **optimization problem** for the logistic regression is to **minimize** **the log-loss**\n",
        "* The mathematical representation goes as follows:\n",
        " * $min_{w_j}∑_{i=1}^n$$-y log(y_i$hat) - $(1-y)log(1-y_i$hat)"
      ],
      "metadata": {
        "id": "HFRdVbMTDBwU"
      }
    },
    {
      "cell_type": "markdown",
      "source": [
        "Now, we have to regularise the same\n",
        "* For which we will use the regularization term which is $λ∑_jw_j^2$\n",
        "* This is same as Linear Regression\n",
        "\n",
        "Now, the optimization function becomes\n",
        "* $min_{w_j}∑_{i=1}^n$$[-y log(y_i$hat)$ - $$(1-y)log(1-y_i$hat)$+λ∑_jw_j^2]$"
      ],
      "metadata": {
        "id": "sgOWfQ-jIGIr"
      }
    },
    {
      "cell_type": "markdown",
      "source": [
        "\n",
        "<img src='https://drive.google.com/uc?id=1ps7CIjHM1E-4W5RKpARI7rSQu8bE-A91'>\n",
        "\n"
      ],
      "metadata": {
        "id": "LKLFohbyMc6v"
      }
    },
    {
      "cell_type": "markdown",
      "source": [
        "## Big Picture"
      ],
      "metadata": {
        "id": "LgLi2IyRMupN"
      }
    },
    {
      "cell_type": "markdown",
      "source": [
        " Let's see all the steps together\n",
        " 1. First we needed a linear seperator i.e $w^Tx_i+w_0$\n",
        " 2. Then squashed the $z_i$ values between 0 and 1\n",
        " 3. After that we want to compare $y_i and y_i$hat\n",
        " 4. Then we solved optimization problem and regularised the same\n",
        " 5. The last one is hyper parameter tuning for over-fitting and under-fitting trade off, where hyper parameter here is $λ$\n",
        " 6. Then calculate the accuracy of the system"
      ],
      "metadata": {
        "id": "29Tw23BVND2w"
      }
    },
    {
      "cell_type": "markdown",
      "source": [
        "<img src='https://drive.google.com/uc?id=1V59eCP7m-y21_gZ8QY4xsBMvGG8LHXff'>\n",
        "\n"
      ],
      "metadata": {
        "id": "HJ9bWS1lRqRp"
      }
    },
    {
      "cell_type": "markdown",
      "source": [
        "<img src='https://drive.google.com/uc?id=1J51riAC25oXNe7GHId0_0nGyD1BWB-Ms'>\n"
      ],
      "metadata": {
        "id": "Pld68L9cRrgi"
      }
    },
    {
      "cell_type": "markdown",
      "source": [
        "<img src='https://drive.google.com/uc?id=14GWn2gVIHVmuwg4gMaOv-Nh2wID212ry'>\n"
      ],
      "metadata": {
        "id": "lERk9pHiRsj_"
      }
    },
    {
      "cell_type": "markdown",
      "source": [],
      "metadata": {
        "id": "S_wDUNSCRXGX"
      }
    },
    {
      "cell_type": "markdown",
      "source": [
        "## Code Implementation"
      ],
      "metadata": {
        "id": "6UG9SX4QOMDS"
      }
    },
    {
      "cell_type": "markdown",
      "source": [
        "**Churn prediction in telecom**"
      ],
      "metadata": {
        "id": "HZDiPdUwOfA1"
      }
    },
    {
      "cell_type": "markdown",
      "source": [
        "Let's get in to the code:"
      ],
      "metadata": {
        "id": "OHbZou0tOi38"
      }
    },
    {
      "cell_type": "markdown",
      "source": [
        "Importing libraries"
      ],
      "metadata": {
        "id": "dLrvn0UUQw1m"
      }
    },
    {
      "cell_type": "code",
      "source": [
        "#Churn prediction in telecom.\n",
        "import numpy as np\n",
        "import matplotlib.pyplot as plt"
      ],
      "metadata": {
        "id": "d_XRacXvPqKo"
      },
      "execution_count": null,
      "outputs": []
    },
    {
      "cell_type": "markdown",
      "source": [
        "the bwlow hwlps in downloading the csv file into your system by accessing the location address from the google drive"
      ],
      "metadata": {
        "id": "lG9EJB5wQ2Qu"
      }
    },
    {
      "cell_type": "code",
      "source": [
        "id = \"1Hryt6VSnHklyw3xxBG3nlhymzNAQhG-_\"\n",
        "print(\"https://drive.google.com/uc?export=download&id=\" + id)"
      ],
      "metadata": {
        "colab": {
          "base_uri": "https://localhost:8080/"
        },
        "id": "VV75PE9MPwod",
        "outputId": "99dc6e07-b2d2-4fc2-a354-7f3b4c851921"
      },
      "execution_count": null,
      "outputs": [
        {
          "output_type": "stream",
          "name": "stdout",
          "text": [
            "https://drive.google.com/uc?export=download&id=1Hryt6VSnHklyw3xxBG3nlhymzNAQhG-_\n"
          ]
        }
      ]
    },
    {
      "cell_type": "code",
      "source": [
        "!wget \"https://drive.google.com/uc?export=download&id=1Hryt6VSnHklyw3xxBG3nlhymzNAQhG-_\" -O Churn.csv"
      ],
      "metadata": {
        "colab": {
          "base_uri": "https://localhost:8080/"
        },
        "id": "yvXUVzr8QF8F",
        "outputId": "860918d3-b067-4c7a-89c8-f1d889a2e336"
      },
      "execution_count": null,
      "outputs": [
        {
          "output_type": "stream",
          "name": "stdout",
          "text": [
            "--2022-06-14 03:01:21--  https://drive.google.com/uc?export=download&id=1Hryt6VSnHklyw3xxBG3nlhymzNAQhG-_\n",
            "Resolving drive.google.com (drive.google.com)... 142.251.2.113, 142.251.2.139, 142.251.2.100, ...\n",
            "Connecting to drive.google.com (drive.google.com)|142.251.2.113|:443... connected.\n",
            "HTTP request sent, awaiting response... 303 See Other\n",
            "Location: https://doc-0g-ag-docs.googleusercontent.com/docs/securesc/ha0ro937gcuc7l7deffksulhg5h7mbp1/tsfm1tcp4filermj4bfn68brclmur3se/1655175675000/10804243441129704195/*/1Hryt6VSnHklyw3xxBG3nlhymzNAQhG-_?e=download [following]\n",
            "Warning: wildcards not supported in HTTP.\n",
            "--2022-06-14 03:01:22--  https://doc-0g-ag-docs.googleusercontent.com/docs/securesc/ha0ro937gcuc7l7deffksulhg5h7mbp1/tsfm1tcp4filermj4bfn68brclmur3se/1655175675000/10804243441129704195/*/1Hryt6VSnHklyw3xxBG3nlhymzNAQhG-_?e=download\n",
            "Resolving doc-0g-ag-docs.googleusercontent.com (doc-0g-ag-docs.googleusercontent.com)... 142.250.141.132, 2607:f8b0:4023:c0b::84\n",
            "Connecting to doc-0g-ag-docs.googleusercontent.com (doc-0g-ag-docs.googleusercontent.com)|142.250.141.132|:443... connected.\n",
            "HTTP request sent, awaiting response... 200 OK\n",
            "Length: 289296 (283K) [text/csv]\n",
            "Saving to: ‘Churn.csv’\n",
            "\n",
            "Churn.csv           100%[===================>] 282.52K  --.-KB/s    in 0.003s  \n",
            "\n",
            "2022-06-14 03:01:22 (95.8 MB/s) - ‘Churn.csv’ saved [289296/289296]\n",
            "\n"
          ]
        }
      ]
    },
    {
      "cell_type": "code",
      "source": [
        "import pandas as pd\n",
        "churn = pd.read_csv(\"Churn.csv\")\n",
        "churn.head()"
      ],
      "metadata": {
        "colab": {
          "base_uri": "https://localhost:8080/",
          "height": 384
        },
        "id": "KP685fo1P2PD",
        "outputId": "b2795700-14d4-4502-b204-d92be619c0ab"
      },
      "execution_count": null,
      "outputs": [
        {
          "output_type": "execute_result",
          "data": {
            "text/plain": [
              "   Account Length  VMail Message  Day Mins  Eve Mins  Night Mins  Intl Mins  \\\n",
              "0             128             25     265.1     197.4       244.7       10.0   \n",
              "1             107             26     161.6     195.5       254.4       13.7   \n",
              "2             137              0     243.4     121.2       162.6       12.2   \n",
              "3              84              0     299.4      61.9       196.9        6.6   \n",
              "4              75              0     166.7     148.3       186.9       10.1   \n",
              "\n",
              "   CustServ Calls  Churn  Intl Plan  VMail Plan  ...  Day Charge  Eve Calls  \\\n",
              "0               1      0          0           1  ...       45.07         99   \n",
              "1               1      0          0           1  ...       27.47        103   \n",
              "2               0      0          0           0  ...       41.38        110   \n",
              "3               2      0          1           0  ...       50.90         88   \n",
              "4               3      0          1           0  ...       28.34        122   \n",
              "\n",
              "   Eve Charge  Night Calls  Night Charge  Intl Calls  Intl Charge  State  \\\n",
              "0       16.78           91         11.01           3         2.70     KS   \n",
              "1       16.62          103         11.45           3         3.70     OH   \n",
              "2       10.30          104          7.32           5         3.29     NJ   \n",
              "3        5.26           89          8.86           7         1.78     OH   \n",
              "4       12.61          121          8.41           3         2.73     OK   \n",
              "\n",
              "  Area Code     Phone  \n",
              "0       415  382-4657  \n",
              "1       415  371-7191  \n",
              "2       415  358-1921  \n",
              "3       408  375-9999  \n",
              "4       415  330-6626  \n",
              "\n",
              "[5 rows x 21 columns]"
            ],
            "text/html": [
              "\n",
              "  <div id=\"df-f3823474-5e6f-410c-8670-229250f81596\">\n",
              "    <div class=\"colab-df-container\">\n",
              "      <div>\n",
              "<style scoped>\n",
              "    .dataframe tbody tr th:only-of-type {\n",
              "        vertical-align: middle;\n",
              "    }\n",
              "\n",
              "    .dataframe tbody tr th {\n",
              "        vertical-align: top;\n",
              "    }\n",
              "\n",
              "    .dataframe thead th {\n",
              "        text-align: right;\n",
              "    }\n",
              "</style>\n",
              "<table border=\"1\" class=\"dataframe\">\n",
              "  <thead>\n",
              "    <tr style=\"text-align: right;\">\n",
              "      <th></th>\n",
              "      <th>Account Length</th>\n",
              "      <th>VMail Message</th>\n",
              "      <th>Day Mins</th>\n",
              "      <th>Eve Mins</th>\n",
              "      <th>Night Mins</th>\n",
              "      <th>Intl Mins</th>\n",
              "      <th>CustServ Calls</th>\n",
              "      <th>Churn</th>\n",
              "      <th>Intl Plan</th>\n",
              "      <th>VMail Plan</th>\n",
              "      <th>...</th>\n",
              "      <th>Day Charge</th>\n",
              "      <th>Eve Calls</th>\n",
              "      <th>Eve Charge</th>\n",
              "      <th>Night Calls</th>\n",
              "      <th>Night Charge</th>\n",
              "      <th>Intl Calls</th>\n",
              "      <th>Intl Charge</th>\n",
              "      <th>State</th>\n",
              "      <th>Area Code</th>\n",
              "      <th>Phone</th>\n",
              "    </tr>\n",
              "  </thead>\n",
              "  <tbody>\n",
              "    <tr>\n",
              "      <th>0</th>\n",
              "      <td>128</td>\n",
              "      <td>25</td>\n",
              "      <td>265.1</td>\n",
              "      <td>197.4</td>\n",
              "      <td>244.7</td>\n",
              "      <td>10.0</td>\n",
              "      <td>1</td>\n",
              "      <td>0</td>\n",
              "      <td>0</td>\n",
              "      <td>1</td>\n",
              "      <td>...</td>\n",
              "      <td>45.07</td>\n",
              "      <td>99</td>\n",
              "      <td>16.78</td>\n",
              "      <td>91</td>\n",
              "      <td>11.01</td>\n",
              "      <td>3</td>\n",
              "      <td>2.70</td>\n",
              "      <td>KS</td>\n",
              "      <td>415</td>\n",
              "      <td>382-4657</td>\n",
              "    </tr>\n",
              "    <tr>\n",
              "      <th>1</th>\n",
              "      <td>107</td>\n",
              "      <td>26</td>\n",
              "      <td>161.6</td>\n",
              "      <td>195.5</td>\n",
              "      <td>254.4</td>\n",
              "      <td>13.7</td>\n",
              "      <td>1</td>\n",
              "      <td>0</td>\n",
              "      <td>0</td>\n",
              "      <td>1</td>\n",
              "      <td>...</td>\n",
              "      <td>27.47</td>\n",
              "      <td>103</td>\n",
              "      <td>16.62</td>\n",
              "      <td>103</td>\n",
              "      <td>11.45</td>\n",
              "      <td>3</td>\n",
              "      <td>3.70</td>\n",
              "      <td>OH</td>\n",
              "      <td>415</td>\n",
              "      <td>371-7191</td>\n",
              "    </tr>\n",
              "    <tr>\n",
              "      <th>2</th>\n",
              "      <td>137</td>\n",
              "      <td>0</td>\n",
              "      <td>243.4</td>\n",
              "      <td>121.2</td>\n",
              "      <td>162.6</td>\n",
              "      <td>12.2</td>\n",
              "      <td>0</td>\n",
              "      <td>0</td>\n",
              "      <td>0</td>\n",
              "      <td>0</td>\n",
              "      <td>...</td>\n",
              "      <td>41.38</td>\n",
              "      <td>110</td>\n",
              "      <td>10.30</td>\n",
              "      <td>104</td>\n",
              "      <td>7.32</td>\n",
              "      <td>5</td>\n",
              "      <td>3.29</td>\n",
              "      <td>NJ</td>\n",
              "      <td>415</td>\n",
              "      <td>358-1921</td>\n",
              "    </tr>\n",
              "    <tr>\n",
              "      <th>3</th>\n",
              "      <td>84</td>\n",
              "      <td>0</td>\n",
              "      <td>299.4</td>\n",
              "      <td>61.9</td>\n",
              "      <td>196.9</td>\n",
              "      <td>6.6</td>\n",
              "      <td>2</td>\n",
              "      <td>0</td>\n",
              "      <td>1</td>\n",
              "      <td>0</td>\n",
              "      <td>...</td>\n",
              "      <td>50.90</td>\n",
              "      <td>88</td>\n",
              "      <td>5.26</td>\n",
              "      <td>89</td>\n",
              "      <td>8.86</td>\n",
              "      <td>7</td>\n",
              "      <td>1.78</td>\n",
              "      <td>OH</td>\n",
              "      <td>408</td>\n",
              "      <td>375-9999</td>\n",
              "    </tr>\n",
              "    <tr>\n",
              "      <th>4</th>\n",
              "      <td>75</td>\n",
              "      <td>0</td>\n",
              "      <td>166.7</td>\n",
              "      <td>148.3</td>\n",
              "      <td>186.9</td>\n",
              "      <td>10.1</td>\n",
              "      <td>3</td>\n",
              "      <td>0</td>\n",
              "      <td>1</td>\n",
              "      <td>0</td>\n",
              "      <td>...</td>\n",
              "      <td>28.34</td>\n",
              "      <td>122</td>\n",
              "      <td>12.61</td>\n",
              "      <td>121</td>\n",
              "      <td>8.41</td>\n",
              "      <td>3</td>\n",
              "      <td>2.73</td>\n",
              "      <td>OK</td>\n",
              "      <td>415</td>\n",
              "      <td>330-6626</td>\n",
              "    </tr>\n",
              "  </tbody>\n",
              "</table>\n",
              "<p>5 rows × 21 columns</p>\n",
              "</div>\n",
              "      <button class=\"colab-df-convert\" onclick=\"convertToInteractive('df-f3823474-5e6f-410c-8670-229250f81596')\"\n",
              "              title=\"Convert this dataframe to an interactive table.\"\n",
              "              style=\"display:none;\">\n",
              "        \n",
              "  <svg xmlns=\"http://www.w3.org/2000/svg\" height=\"24px\"viewBox=\"0 0 24 24\"\n",
              "       width=\"24px\">\n",
              "    <path d=\"M0 0h24v24H0V0z\" fill=\"none\"/>\n",
              "    <path d=\"M18.56 5.44l.94 2.06.94-2.06 2.06-.94-2.06-.94-.94-2.06-.94 2.06-2.06.94zm-11 1L8.5 8.5l.94-2.06 2.06-.94-2.06-.94L8.5 2.5l-.94 2.06-2.06.94zm10 10l.94 2.06.94-2.06 2.06-.94-2.06-.94-.94-2.06-.94 2.06-2.06.94z\"/><path d=\"M17.41 7.96l-1.37-1.37c-.4-.4-.92-.59-1.43-.59-.52 0-1.04.2-1.43.59L10.3 9.45l-7.72 7.72c-.78.78-.78 2.05 0 2.83L4 21.41c.39.39.9.59 1.41.59.51 0 1.02-.2 1.41-.59l7.78-7.78 2.81-2.81c.8-.78.8-2.07 0-2.86zM5.41 20L4 18.59l7.72-7.72 1.47 1.35L5.41 20z\"/>\n",
              "  </svg>\n",
              "      </button>\n",
              "      \n",
              "  <style>\n",
              "    .colab-df-container {\n",
              "      display:flex;\n",
              "      flex-wrap:wrap;\n",
              "      gap: 12px;\n",
              "    }\n",
              "\n",
              "    .colab-df-convert {\n",
              "      background-color: #E8F0FE;\n",
              "      border: none;\n",
              "      border-radius: 50%;\n",
              "      cursor: pointer;\n",
              "      display: none;\n",
              "      fill: #1967D2;\n",
              "      height: 32px;\n",
              "      padding: 0 0 0 0;\n",
              "      width: 32px;\n",
              "    }\n",
              "\n",
              "    .colab-df-convert:hover {\n",
              "      background-color: #E2EBFA;\n",
              "      box-shadow: 0px 1px 2px rgba(60, 64, 67, 0.3), 0px 1px 3px 1px rgba(60, 64, 67, 0.15);\n",
              "      fill: #174EA6;\n",
              "    }\n",
              "\n",
              "    [theme=dark] .colab-df-convert {\n",
              "      background-color: #3B4455;\n",
              "      fill: #D2E3FC;\n",
              "    }\n",
              "\n",
              "    [theme=dark] .colab-df-convert:hover {\n",
              "      background-color: #434B5C;\n",
              "      box-shadow: 0px 1px 3px 1px rgba(0, 0, 0, 0.15);\n",
              "      filter: drop-shadow(0px 1px 2px rgba(0, 0, 0, 0.3));\n",
              "      fill: #FFFFFF;\n",
              "    }\n",
              "  </style>\n",
              "\n",
              "      <script>\n",
              "        const buttonEl =\n",
              "          document.querySelector('#df-f3823474-5e6f-410c-8670-229250f81596 button.colab-df-convert');\n",
              "        buttonEl.style.display =\n",
              "          google.colab.kernel.accessAllowed ? 'block' : 'none';\n",
              "\n",
              "        async function convertToInteractive(key) {\n",
              "          const element = document.querySelector('#df-f3823474-5e6f-410c-8670-229250f81596');\n",
              "          const dataTable =\n",
              "            await google.colab.kernel.invokeFunction('convertToInteractive',\n",
              "                                                     [key], {});\n",
              "          if (!dataTable) return;\n",
              "\n",
              "          const docLinkHtml = 'Like what you see? Visit the ' +\n",
              "            '<a target=\"_blank\" href=https://colab.research.google.com/notebooks/data_table.ipynb>data table notebook</a>'\n",
              "            + ' to learn more about interactive tables.';\n",
              "          element.innerHTML = '';\n",
              "          dataTable['output_type'] = 'display_data';\n",
              "          await google.colab.output.renderOutput(dataTable, element);\n",
              "          const docLink = document.createElement('div');\n",
              "          docLink.innerHTML = docLinkHtml;\n",
              "          element.appendChild(docLink);\n",
              "        }\n",
              "      </script>\n",
              "    </div>\n",
              "  </div>\n",
              "  "
            ]
          },
          "metadata": {},
          "execution_count": 16
        }
      ]
    },
    {
      "cell_type": "markdown",
      "source": [
        "The above code is used to read the downloaded file"
      ],
      "metadata": {
        "id": "Trv6B9eKRJSr"
      }
    },
    {
      "cell_type": "code",
      "source": [
        "churn.info()"
      ],
      "metadata": {
        "id": "sLbvMdITRlOq",
        "colab": {
          "base_uri": "https://localhost:8080/"
        },
        "outputId": "3525ba25-5fb1-4faf-c993-2bfd27cff45d"
      },
      "execution_count": null,
      "outputs": [
        {
          "output_type": "stream",
          "name": "stdout",
          "text": [
            "<class 'pandas.core.frame.DataFrame'>\n",
            "RangeIndex: 3333 entries, 0 to 3332\n",
            "Data columns (total 21 columns):\n",
            " #   Column          Non-Null Count  Dtype  \n",
            "---  ------          --------------  -----  \n",
            " 0   Account Length  3333 non-null   int64  \n",
            " 1   VMail Message   3333 non-null   int64  \n",
            " 2   Day Mins        3333 non-null   float64\n",
            " 3   Eve Mins        3333 non-null   float64\n",
            " 4   Night Mins      3333 non-null   float64\n",
            " 5   Intl Mins       3333 non-null   float64\n",
            " 6   CustServ Calls  3333 non-null   int64  \n",
            " 7   Churn           3333 non-null   int64  \n",
            " 8   Intl Plan       3333 non-null   int64  \n",
            " 9   VMail Plan      3333 non-null   int64  \n",
            " 10  Day Calls       3333 non-null   int64  \n",
            " 11  Day Charge      3333 non-null   float64\n",
            " 12  Eve Calls       3333 non-null   int64  \n",
            " 13  Eve Charge      3333 non-null   float64\n",
            " 14  Night Calls     3333 non-null   int64  \n",
            " 15  Night Charge    3333 non-null   float64\n",
            " 16  Intl Calls      3333 non-null   int64  \n",
            " 17  Intl Charge     3333 non-null   float64\n",
            " 18  State           3333 non-null   object \n",
            " 19  Area Code       3333 non-null   int64  \n",
            " 20  Phone           3333 non-null   object \n",
            "dtypes: float64(8), int64(11), object(2)\n",
            "memory usage: 546.9+ KB\n"
          ]
        }
      ]
    },
    {
      "cell_type": "markdown",
      "source": [
        "Now, let's get into the required part"
      ],
      "metadata": {
        "id": "_ue5-UrMRcCq"
      }
    },
    {
      "cell_type": "code",
      "source": [
        "churn[\"Churn\"].value_counts()"
      ],
      "metadata": {
        "colab": {
          "base_uri": "https://localhost:8080/"
        },
        "id": "x6m3LlSORIlF",
        "outputId": "7806bfc5-d77a-44df-f4a2-77fc9e4ee598"
      },
      "execution_count": null,
      "outputs": [
        {
          "output_type": "execute_result",
          "data": {
            "text/plain": [
              "0    2850\n",
              "1     483\n",
              "Name: Churn, dtype: int64"
            ]
          },
          "metadata": {},
          "execution_count": 18
        }
      ]
    },
    {
      "cell_type": "markdown",
      "source": [
        "From the above output we can see the number of customers got churned in which we are going to work"
      ],
      "metadata": {
        "id": "ifB1BcZEP17x"
      }
    },
    {
      "cell_type": "markdown",
      "source": [
        "So, let's do a basic EDA to find which features are effecting the churn"
      ],
      "metadata": {
        "id": "RcZPFyJ5UJ6C"
      }
    },
    {
      "cell_type": "code",
      "source": [
        "import seaborn as sns\n",
        "sns.boxplot(x='Churn', y='Day Mins', data = churn)"
      ],
      "metadata": {
        "id": "U6l5nsZJSJec",
        "colab": {
          "base_uri": "https://localhost:8080/",
          "height": 297
        },
        "outputId": "2b50df1c-689f-45e9-b31a-9b0a0e3cdef7"
      },
      "execution_count": null,
      "outputs": [
        {
          "output_type": "execute_result",
          "data": {
            "text/plain": [
              "<matplotlib.axes._subplots.AxesSubplot at 0x7f8b8307eb10>"
            ]
          },
          "metadata": {},
          "execution_count": 19
        },
        {
          "output_type": "display_data",
          "data": {
            "text/plain": [
              "<Figure size 432x288 with 1 Axes>"
            ],
            "image/png": "[encoded data removed]"
          },
          "metadata": {
            "needs_background": "light"
          }
        }
      ]
    },
    {
      "cell_type": "markdown",
      "source": [
        "In the above we have seen the relation between \"Day mins\" and \"Churn\"\n",
        "\n",
        "Now, let's find for all other features by using pair plot."
      ],
      "metadata": {
        "id": "a3SjjaWtUcER"
      }
    },
    {
      "cell_type": "code",
      "source": [
        "sns.pairplot(data=churn, y_vars=[\"Day Mins\"], x_vars=['Account Length', 'VMail Message' , 'Eve Mins', 'Night Mins',\n",
        "       'Intl Mins', 'CustServ Calls', 'Churn', 'Intl Plan', 'VMail Plan',\n",
        "       'Day Calls', 'Day Charge', 'Eve Calls', 'Eve Charge', 'Night Calls',\n",
        "       'Night Charge', 'Intl Calls', 'Intl Charge'], height=1.5, aspect=1)\n",
        "plt.show()"
      ],
      "metadata": {
        "colab": {
          "base_uri": "https://localhost:8080/",
          "height": 97
        },
        "id": "DN-kqV9SUtCK",
        "outputId": "46446de9-c182-4175-cf29-32d1dba72be5"
      },
      "execution_count": null,
      "outputs": [
        {
          "output_type": "display_data",
          "data": {
            "text/plain": [
              "<Figure size 1836x108 with 17 Axes>"
            ],
            "image/png": "[encoded data removed]"
          },
          "metadata": {
            "needs_background": "light"
          }
        }
      ]
    },
    {
      "cell_type": "markdown",
      "source": [
        "As Day Mins and Day Charge are completely related we can drop one\n",
        "* we will continue doing the same and select few features which are useful for our problem"
      ],
      "metadata": {
        "id": "ytSANgeyV0Ef"
      }
    },
    {
      "cell_type": "markdown",
      "source": [
        "Let's continue in preparing our data with new data"
      ],
      "metadata": {
        "id": "AmqRrGJyWfrW"
      }
    },
    {
      "cell_type": "code",
      "source": [
        "cols = ['Day Mins', 'Eve Mins', 'CustServ Calls', 'Intl Plan','VMail Message']\n",
        "y = churn[\"Churn\"]\n",
        "X = churn[cols]\n",
        "X.shape"
      ],
      "metadata": {
        "id": "J2J5TFcpVzw9",
        "colab": {
          "base_uri": "https://localhost:8080/"
        },
        "outputId": "a564e8f0-547d-4881-8256-03dcab535f91"
      },
      "execution_count": null,
      "outputs": [
        {
          "output_type": "execute_result",
          "data": {
            "text/plain": [
              "(3333, 5)"
            ]
          },
          "metadata": {},
          "execution_count": 21
        }
      ]
    },
    {
      "cell_type": "markdown",
      "source": [
        "We have assigned the selected coulmns to $x$ and the churn to $y$"
      ],
      "metadata": {
        "id": "Y533iNApWqH0"
      }
    },
    {
      "cell_type": "markdown",
      "source": [
        "Now, let's do the train and cross validation for our data"
      ],
      "metadata": {
        "id": "cUBE5vsfWncM"
      }
    },
    {
      "cell_type": "code",
      "source": [
        "from sklearn.model_selection import train_test_split\n",
        "\n",
        "X_tr_cv, X_test, y_tr_cv, y_test = train_test_split(X, y, test_size=0.2, random_state=42)\n",
        "X_train, X_val, y_train, y_val = train_test_split(X_tr_cv, y_tr_cv, test_size=0.25,random_state=42)\n",
        "X_train.shape"
      ],
      "metadata": {
        "colab": {
          "base_uri": "https://localhost:8080/"
        },
        "id": "gwIYV3I-W-W3",
        "outputId": "dd6148c6-a45b-48da-91fa-05ec236a453a"
      },
      "execution_count": null,
      "outputs": [
        {
          "output_type": "execute_result",
          "data": {
            "text/plain": [
              "(1999, 5)"
            ]
          },
          "metadata": {},
          "execution_count": 22
        }
      ]
    },
    {
      "cell_type": "markdown",
      "source": [
        "As we did in the Linear regression\n",
        "* we are again deviding the data into 3 sets\n",
        "* we are assigning 20% of the data to test set\n",
        "* Then deviding the remaining data, such that 60% of the whole data is given to training set and rest 20% to cross validation set"
      ],
      "metadata": {
        "id": "wJozcz88XPmy"
      }
    },
    {
      "cell_type": "markdown",
      "source": [
        "Now, lets do column standardization"
      ],
      "metadata": {
        "id": "o9i2R4tnX0zN"
      }
    },
    {
      "cell_type": "code",
      "source": [
        "from sklearn.preprocessing import StandardScaler\n",
        "scaler = StandardScaler()\n",
        "scaler.fit(X_train)"
      ],
      "metadata": {
        "id": "Bfu4sWx7X9Bu",
        "colab": {
          "base_uri": "https://localhost:8080/"
        },
        "outputId": "1cac4837-d0ba-4c86-cfb0-4ef85cbea7c7"
      },
      "execution_count": null,
      "outputs": [
        {
          "output_type": "execute_result",
          "data": {
            "text/plain": [
              "StandardScaler()"
            ]
          },
          "metadata": {},
          "execution_count": 23
        }
      ]
    },
    {
      "cell_type": "markdown",
      "source": [
        "All that is left is to create an object of class LogisticRegression and feed our data to the same"
      ],
      "metadata": {
        "id": "YQJuxNcHYFYp"
      }
    },
    {
      "cell_type": "code",
      "source": [
        "from sklearn.linear_model import LogisticRegression\n",
        "model = LogisticRegression()\n",
        "model.fit(X_train, y_train)"
      ],
      "metadata": {
        "id": "DO_JeerAYP4g",
        "colab": {
          "base_uri": "https://localhost:8080/"
        },
        "outputId": "2f9b86dc-aa3c-44b3-b400-8ec2b87612c6"
      },
      "execution_count": null,
      "outputs": [
        {
          "output_type": "execute_result",
          "data": {
            "text/plain": [
              "LogisticRegression()"
            ]
          },
          "metadata": {},
          "execution_count": 24
        }
      ]
    },
    {
      "cell_type": "markdown",
      "source": [
        "We have imported the LogisticRegression function and trained our object 'model' with the training data set that we split"
      ],
      "metadata": {
        "id": "9qzI4HIkYWTb"
      }
    },
    {
      "cell_type": "markdown",
      "source": [
        "Now, let's see the weights of each feature and also $w_0$ which is intercept.\n",
        "\n",
        "\n",
        "\n"
      ],
      "metadata": {
        "id": "IC8_wsDXZTbM"
      }
    },
    {
      "cell_type": "code",
      "source": [
        "model.coef_"
      ],
      "metadata": {
        "id": "dYQyDUimYiCd",
        "colab": {
          "base_uri": "https://localhost:8080/"
        },
        "outputId": "f88c2bcf-0690-423a-9f20-35002e18db94"
      },
      "execution_count": null,
      "outputs": [
        {
          "output_type": "execute_result",
          "data": {
            "text/plain": [
              "array([[ 0.01171028,  0.00628069,  0.51870002,  1.97741128, -0.03885603]])"
            ]
          },
          "metadata": {},
          "execution_count": 25
        }
      ]
    },
    {
      "cell_type": "markdown",
      "source": [
        "Here we can see feature 4 has largest weight i.e \"intl plan\", as it's a large positive value we can conclude that people having more \"intl plan\" will probably churn more"
      ],
      "metadata": {
        "id": "s4DDMvFGZzlU"
      }
    },
    {
      "cell_type": "code",
      "source": [
        "model.intercept_"
      ],
      "metadata": {
        "id": "XSSM0ZE5YVyW",
        "colab": {
          "base_uri": "https://localhost:8080/"
        },
        "outputId": "8ee13737-8910-4764-83a1-bc1281a63b0b"
      },
      "execution_count": null,
      "outputs": [
        {
          "output_type": "execute_result",
          "data": {
            "text/plain": [
              "array([-6.3286969])"
            ]
          },
          "metadata": {},
          "execution_count": 26
        }
      ]
    },
    {
      "cell_type": "markdown",
      "source": [
        "Till now haven't done any Hyper parameter tuning\n",
        "\n",
        "Now, let's start doing proper hyper parameter tuning which is c i.e inverse of the $λ$"
      ],
      "metadata": {
        "id": "E1IwFQgwa4lY"
      }
    },
    {
      "cell_type": "code",
      "source": [
        "from sklearn.pipeline import make_pipeline\n",
        "train_scores = []\n",
        "val_scores = []\n",
        "scaler = StandardScaler()\n",
        "for la in np.arange(0.01, 1000.0, 10):\n",
        "  scaled_lr = make_pipeline( scaler, LogisticRegression(C=1/la))\n",
        "  scaled_lr.fit(X_train, y_train)\n",
        "  train_score = scaled_lr.score(X_train, y_train)\n",
        "  val_score = scaled_lr.score(X_val, y_val)\n",
        "  train_scores.append(train_score)\n",
        "  val_scores.append(val_score)\n"
      ],
      "metadata": {
        "id": "gVBtRLrTbMA2"
      },
      "execution_count": null,
      "outputs": []
    },
    {
      "cell_type": "markdown",
      "source": [
        "The code is similar to the code explained in Linear Regression\n",
        "\n",
        "\n",
        "*   First we initialize the values for $λ$\n",
        "*   Then create a pipeline for scaler and Logistic Regression function\n",
        "* Then fit the train data to the model\n",
        "*  A nd get the scores of the train and validation data set\n",
        "\n"
      ],
      "metadata": {
        "id": "2ALKO5uKbrRY"
      }
    },
    {
      "cell_type": "code",
      "source": [
        "len(val_scores)"
      ],
      "metadata": {
        "colab": {
          "base_uri": "https://localhost:8080/"
        },
        "id": "6nAkUoymbdym",
        "outputId": "8d49da4a-e5b3-48ba-eaa0-2b73e8b47728"
      },
      "execution_count": null,
      "outputs": [
        {
          "output_type": "execute_result",
          "data": {
            "text/plain": [
              "100"
            ]
          },
          "metadata": {},
          "execution_count": 28
        }
      ]
    },
    {
      "cell_type": "markdown",
      "source": [
        "Now, let's plot the graph and pick the $λ$ which gives the best validation score"
      ],
      "metadata": {
        "id": "C-4WX0BUcezZ"
      }
    },
    {
      "cell_type": "code",
      "source": [
        "plt.figure()\n",
        "plt.plot(list(np.arange(0.01, 1000.0, 10)), train_scores, label=\"train\")\n",
        "plt.plot(list(np.arange(0.01, 1000.0, 10)), val_scores, label=\"val\")\n",
        "plt.legend(loc='lower right')\n",
        "plt.xlabel(\"lambda\")\n",
        "plt.ylabel(\"Score\")\n",
        "plt.grid()\n",
        "plt.show()"
      ],
      "metadata": {
        "colab": {
          "base_uri": "https://localhost:8080/",
          "height": 279
        },
        "id": "_u1uS8_AcrMp",
        "outputId": "1cfcedce-eaf4-48e5-d614-02c117705083"
      },
      "execution_count": null,
      "outputs": [
        {
          "output_type": "display_data",
          "data": {
            "text/plain": [
              "<Figure size 432x288 with 1 Axes>"
            ],
            "image/png": "[encoded data removed]"
          },
          "metadata": {
            "needs_background": "light"
          }
        }
      ]
    },
    {
      "cell_type": "markdown",
      "source": [
        "so, let's see at what value of $λ$ we are getting the maximum validation score"
      ],
      "metadata": {
        "id": "DjgrgrSuKSAq"
      }
    },
    {
      "cell_type": "code",
      "source": [
        "np.argmax(val_scores)"
      ],
      "metadata": {
        "id": "9nSCcJq9c9QW",
        "outputId": "7b72e876-1727-4bff-fdf9-453cd559369c",
        "colab": {
          "base_uri": "https://localhost:8080/"
        }
      },
      "execution_count": null,
      "outputs": [
        {
          "output_type": "execute_result",
          "data": {
            "text/plain": [
              "1"
            ]
          },
          "metadata": {},
          "execution_count": 30
        }
      ]
    },
    {
      "cell_type": "markdown",
      "source": [
        "As the output is 1, we can decide that validation score is maximum at $λ=1$"
      ],
      "metadata": {
        "id": "v4Ah_d_PKhUL"
      }
    },
    {
      "cell_type": "markdown",
      "source": [
        "Now, let's see the score for that particular value of $λ$"
      ],
      "metadata": {
        "id": "gUdZsBGMKugB"
      }
    },
    {
      "cell_type": "code",
      "source": [
        "val_scores[1]"
      ],
      "metadata": {
        "colab": {
          "base_uri": "https://localhost:8080/"
        },
        "id": "sv7RfJZCKAMF",
        "outputId": "9a792e96-bc15-4c08-e9a3-0449edc2c902"
      },
      "execution_count": null,
      "outputs": [
        {
          "output_type": "execute_result",
          "data": {
            "text/plain": [
              "0.8575712143928036"
            ]
          },
          "metadata": {},
          "execution_count": 31
        }
      ]
    },
    {
      "cell_type": "markdown",
      "source": [
        "* Here, we saw as there we are changing the **random state** of the **train_test_split** there is a significant difference in the graphs.\n",
        "* This mainly points to one problem that is not having the enough data\n",
        "* Let's now see how to deal with these kinds of **imbalanced data set**."
      ],
      "metadata": {
        "id": "fh8LvfbPK6Xp"
      }
    },
    {
      "cell_type": "markdown",
      "source": [
        "## Dealing with Imbalanced data set"
      ],
      "metadata": {
        "id": "KxThnI6PMN0F"
      }
    },
    {
      "cell_type": "markdown",
      "source": [
        "Let's take the example of churn for dealing this\n",
        "\n",
        "* Say, we have 850 negative and 150 positive points\n",
        "* As loss is nothing but  the summation of log-loss of all the points, here **negative points are domiating this summation** as they are extremely more in number.\n"
      ],
      "metadata": {
        "id": "4ZwwYNYsMTI9"
      }
    },
    {
      "cell_type": "markdown",
      "source": [
        "<img src='https://drive.google.com/uc?id=1MEkrbjOCRi3kQNbea4iULo88sJ_hDEoW'>\n",
        "\n"
      ],
      "metadata": {
        "id": "7iDi-nEUNcXS"
      }
    },
    {
      "cell_type": "markdown",
      "source": [
        "**What are the possible ways of dealing with this?**\n",
        "\n",
        "1. We can **replicate the records** having positive values so that data becomes balanced.\n",
        "2. The other way is we can **multiply my each log-loss** with a weight\n",
        "and the weight will be more for +ve values in this case\n",
        "* loss= $∑_1^n log.loss_i(w_j) $\n",
        " * say $w_j=6$ for positives and $w_j=1$ for negatives\n",
        "* We can do this by using **classweights function**"
      ],
      "metadata": {
        "id": "LY7_ZdYpNmHv"
      }
    }
  ]
}