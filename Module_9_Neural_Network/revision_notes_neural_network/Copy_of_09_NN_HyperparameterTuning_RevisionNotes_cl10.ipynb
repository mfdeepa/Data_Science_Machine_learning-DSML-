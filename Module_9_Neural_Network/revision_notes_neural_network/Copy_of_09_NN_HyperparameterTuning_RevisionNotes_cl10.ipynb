{
  "nbformat": 4,
  "nbformat_minor": 0,
  "metadata": {
    "colab": {
      "provenance": [],
      "collapsed_sections": [
        "h2K0xxq6cljh"
      ],
      "toc_visible": true
    },
    "kernelspec": {
      "name": "python3",
      "display_name": "Python 3"
    },
    "language_info": {
      "name": "python"
    },
    "accelerator": "GPU",
    "gpuClass": "standard"
  },
  "cells": [
    {
      "cell_type": "markdown",
      "source": [
        "## Outline\n",
        "- Business Case\n",
        "- EDA\n",
        "- Baseline Model\n",
        "- Regularization\n",
        "  \n",
        "- Dropout\n",
        "  \n",
        "- Batch Normalization\n",
        "  \n",
        "- EarlyStopping\n",
        "  \n"
      ],
      "metadata": {
        "id": "IP_3fjsm0ptK"
      }
    },
    {
      "cell_type": "markdown",
      "source": [
        "#Business Case"
      ],
      "metadata": {
        "id": "0LjpKcPNU9OL"
      }
    },
    {
      "cell_type": "markdown",
      "source": [
        "**Amazon** is facing a high surge of returns on some of its Products, which has led to the downgrade of the company credibility.\n",
        "\n",
        "So they have appointed you as their Data Scientist:\n",
        "- To estimate whether customer will return the product or not\n",
        "- based on the product description, transportation, importance and prices\n",
        "\n",
        "With this, lets load the data:"
      ],
      "metadata": {
        "id": "T8KZCm-KVAyT"
      }
    },
    {
      "cell_type": "code",
      "source": [
        "import numpy as np\n",
        "import pandas as pd\n",
        "import matplotlib.pyplot as plt\n",
        "import seaborn as sns"
      ],
      "metadata": {
        "id": "XwuPCyL2XA7z"
      },
      "execution_count": null,
      "outputs": []
    },
    {
      "cell_type": "code",
      "source": [
        "\n",
        "!gdown 1mMRZKe5Qm99fJBE9y0mLdvVZYDfHvkxY\n",
        "df = pd.read_csv('Amazon.csv', encoding='latin-1')\n",
        "df.dropna(inplace = True)"
      ],
      "metadata": {
        "colab": {
          "base_uri": "https://localhost:8080/"
        },
        "id": "74dAM6jdXA4r",
        "outputId": "10ab42e4-eced-4047-a463-87972fea4852"
      },
      "execution_count": null,
      "outputs": [
        {
          "output_type": "stream",
          "name": "stdout",
          "text": [
            "Downloading...\n",
            "From: https://drive.google.com/uc?id=1mMRZKe5Qm99fJBE9y0mLdvVZYDfHvkxY\n",
            "To: /content/Amazon.csv\n",
            "\r  0% 0.00/429k [00:00<?, ?B/s]\r100% 429k/429k [00:00<00:00, 161MB/s]\n"
          ]
        }
      ]
    },
    {
      "cell_type": "markdown",
      "source": [
        "**Data Description:**\n",
        "\n",
        "\n",
        "| Id | Features | Description |\n",
        "| :-- | :--| :--|\n",
        "|01| **ID** | ID of Customers|\n",
        "|02| **Warehouse_block** | The Company have big Warehouses which is divided in to block such as A,B,C,D,E|\n",
        "|03|**Mode_of_Shipment**|The Company Ships the products in multiple way such as Ship, Flight and Road.|\n",
        "|04|**Customer_care_calls**|The number of calls made from enquiry for enquiry of the shipment|\n",
        "|05|**Customer_rating**| The company has rated from every customer. 1 is the lowest (Worst), 5 is the highest (Best)|\n",
        "|06|**Cost_of_the_Product**|Price of the Product|\n",
        "|07|**Prior_purchases**|The Number of Prior Purchases of the customer|\n",
        "|08|**Product_importance**|The company has categorized the product in the various parameter such as low, medium, high.|\n",
        "|09|**Gender**|If Customer is a Male or Female|\n",
        "|10|**Discount_offered**|Discount offered on that specific product|\n",
        "|11|**Weight_in_gms**|It is the weight in grams|\n",
        "|12|**Returned**|It is the target variable, where 1 Indicates that the product is returned|\n"
      ],
      "metadata": {
        "id": "Ay72OJs1YkvO"
      }
    },
    {
      "cell_type": "code",
      "source": [
        "df.head()"
      ],
      "metadata": {
        "colab": {
          "base_uri": "https://localhost:8080/",
          "height": 270
        },
        "id": "pOL-g6yIXyE3",
        "outputId": "7fd7db33-5955-4bc3-bf8f-3d4c138bf459"
      },
      "execution_count": null,
      "outputs": [
        {
          "output_type": "execute_result",
          "data": {
            "text/plain": [
              "   ID Warehouse_block Mode_of_Shipment  Customer_care_calls  Customer_rating  \\\n",
              "0   1               D           Flight                    4                2   \n",
              "1   2               F           Flight                    4                5   \n",
              "2   3               A           Flight                    2                2   \n",
              "3   4               B           Flight                    3                3   \n",
              "4   5               C           Flight                    2                2   \n",
              "\n",
              "   Cost_of_the_Product  Prior_purchases Product_importance Gender  \\\n",
              "0                  177                3                low      F   \n",
              "1                  216                2                low      M   \n",
              "2                  183                4                low      M   \n",
              "3                  176                4             medium      M   \n",
              "4                  184                3             medium      F   \n",
              "\n",
              "   Discount_offered  Weight_in_gms  Returned  \n",
              "0                44           1233         1  \n",
              "1                59           3088         1  \n",
              "2                48           3374         1  \n",
              "3                10           1177         1  \n",
              "4                46           2484         1  "
            ],
            "text/html": [
              "\n",
              "  <div id=\"df-35e404b4-c2c5-4b03-91bf-6589fccb9038\">\n",
              "    <div class=\"colab-df-container\">\n",
              "      <div>\n",
              "<style scoped>\n",
              "    .dataframe tbody tr th:only-of-type {\n",
              "        vertical-align: middle;\n",
              "    }\n",
              "\n",
              "    .dataframe tbody tr th {\n",
              "        vertical-align: top;\n",
              "    }\n",
              "\n",
              "    .dataframe thead th {\n",
              "        text-align: right;\n",
              "    }\n",
              "</style>\n",
              "<table border=\"1\" class=\"dataframe\">\n",
              "  <thead>\n",
              "    <tr style=\"text-align: right;\">\n",
              "      <th></th>\n",
              "      <th>ID</th>\n",
              "      <th>Warehouse_block</th>\n",
              "      <th>Mode_of_Shipment</th>\n",
              "      <th>Customer_care_calls</th>\n",
              "      <th>Customer_rating</th>\n",
              "      <th>Cost_of_the_Product</th>\n",
              "      <th>Prior_purchases</th>\n",
              "      <th>Product_importance</th>\n",
              "      <th>Gender</th>\n",
              "      <th>Discount_offered</th>\n",
              "      <th>Weight_in_gms</th>\n",
              "      <th>Returned</th>\n",
              "    </tr>\n",
              "  </thead>\n",
              "  <tbody>\n",
              "    <tr>\n",
              "      <th>0</th>\n",
              "      <td>1</td>\n",
              "      <td>D</td>\n",
              "      <td>Flight</td>\n",
              "      <td>4</td>\n",
              "      <td>2</td>\n",
              "      <td>177</td>\n",
              "      <td>3</td>\n",
              "      <td>low</td>\n",
              "      <td>F</td>\n",
              "      <td>44</td>\n",
              "      <td>1233</td>\n",
              "      <td>1</td>\n",
              "    </tr>\n",
              "    <tr>\n",
              "      <th>1</th>\n",
              "      <td>2</td>\n",
              "      <td>F</td>\n",
              "      <td>Flight</td>\n",
              "      <td>4</td>\n",
              "      <td>5</td>\n",
              "      <td>216</td>\n",
              "      <td>2</td>\n",
              "      <td>low</td>\n",
              "      <td>M</td>\n",
              "      <td>59</td>\n",
              "      <td>3088</td>\n",
              "      <td>1</td>\n",
              "    </tr>\n",
              "    <tr>\n",
              "      <th>2</th>\n",
              "      <td>3</td>\n",
              "      <td>A</td>\n",
              "      <td>Flight</td>\n",
              "      <td>2</td>\n",
              "      <td>2</td>\n",
              "      <td>183</td>\n",
              "      <td>4</td>\n",
              "      <td>low</td>\n",
              "      <td>M</td>\n",
              "      <td>48</td>\n",
              "      <td>3374</td>\n",
              "      <td>1</td>\n",
              "    </tr>\n",
              "    <tr>\n",
              "      <th>3</th>\n",
              "      <td>4</td>\n",
              "      <td>B</td>\n",
              "      <td>Flight</td>\n",
              "      <td>3</td>\n",
              "      <td>3</td>\n",
              "      <td>176</td>\n",
              "      <td>4</td>\n",
              "      <td>medium</td>\n",
              "      <td>M</td>\n",
              "      <td>10</td>\n",
              "      <td>1177</td>\n",
              "      <td>1</td>\n",
              "    </tr>\n",
              "    <tr>\n",
              "      <th>4</th>\n",
              "      <td>5</td>\n",
              "      <td>C</td>\n",
              "      <td>Flight</td>\n",
              "      <td>2</td>\n",
              "      <td>2</td>\n",
              "      <td>184</td>\n",
              "      <td>3</td>\n",
              "      <td>medium</td>\n",
              "      <td>F</td>\n",
              "      <td>46</td>\n",
              "      <td>2484</td>\n",
              "      <td>1</td>\n",
              "    </tr>\n",
              "  </tbody>\n",
              "</table>\n",
              "</div>\n",
              "      <button class=\"colab-df-convert\" onclick=\"convertToInteractive('df-35e404b4-c2c5-4b03-91bf-6589fccb9038')\"\n",
              "              title=\"Convert this dataframe to an interactive table.\"\n",
              "              style=\"display:none;\">\n",
              "        \n",
              "  <svg xmlns=\"http://www.w3.org/2000/svg\" height=\"24px\"viewBox=\"0 0 24 24\"\n",
              "       width=\"24px\">\n",
              "    <path d=\"M0 0h24v24H0V0z\" fill=\"none\"/>\n",
              "    <path d=\"M18.56 5.44l.94 2.06.94-2.06 2.06-.94-2.06-.94-.94-2.06-.94 2.06-2.06.94zm-11 1L8.5 8.5l.94-2.06 2.06-.94-2.06-.94L8.5 2.5l-.94 2.06-2.06.94zm10 10l.94 2.06.94-2.06 2.06-.94-2.06-.94-.94-2.06-.94 2.06-2.06.94z\"/><path d=\"M17.41 7.96l-1.37-1.37c-.4-.4-.92-.59-1.43-.59-.52 0-1.04.2-1.43.59L10.3 9.45l-7.72 7.72c-.78.78-.78 2.05 0 2.83L4 21.41c.39.39.9.59 1.41.59.51 0 1.02-.2 1.41-.59l7.78-7.78 2.81-2.81c.8-.78.8-2.07 0-2.86zM5.41 20L4 18.59l7.72-7.72 1.47 1.35L5.41 20z\"/>\n",
              "  </svg>\n",
              "      </button>\n",
              "      \n",
              "  <style>\n",
              "    .colab-df-container {\n",
              "      display:flex;\n",
              "      flex-wrap:wrap;\n",
              "      gap: 12px;\n",
              "    }\n",
              "\n",
              "    .colab-df-convert {\n",
              "      background-color: #E8F0FE;\n",
              "      border: none;\n",
              "      border-radius: 50%;\n",
              "      cursor: pointer;\n",
              "      display: none;\n",
              "      fill: #1967D2;\n",
              "      height: 32px;\n",
              "      padding: 0 0 0 0;\n",
              "      width: 32px;\n",
              "    }\n",
              "\n",
              "    .colab-df-convert:hover {\n",
              "      background-color: #E2EBFA;\n",
              "      box-shadow: 0px 1px 2px rgba(60, 64, 67, 0.3), 0px 1px 3px 1px rgba(60, 64, 67, 0.15);\n",
              "      fill: #174EA6;\n",
              "    }\n",
              "\n",
              "    [theme=dark] .colab-df-convert {\n",
              "      background-color: #3B4455;\n",
              "      fill: #D2E3FC;\n",
              "    }\n",
              "\n",
              "    [theme=dark] .colab-df-convert:hover {\n",
              "      background-color: #434B5C;\n",
              "      box-shadow: 0px 1px 3px 1px rgba(0, 0, 0, 0.15);\n",
              "      filter: drop-shadow(0px 1px 2px rgba(0, 0, 0, 0.3));\n",
              "      fill: #FFFFFF;\n",
              "    }\n",
              "  </style>\n",
              "\n",
              "      <script>\n",
              "        const buttonEl =\n",
              "          document.querySelector('#df-35e404b4-c2c5-4b03-91bf-6589fccb9038 button.colab-df-convert');\n",
              "        buttonEl.style.display =\n",
              "          google.colab.kernel.accessAllowed ? 'block' : 'none';\n",
              "\n",
              "        async function convertToInteractive(key) {\n",
              "          const element = document.querySelector('#df-35e404b4-c2c5-4b03-91bf-6589fccb9038');\n",
              "          const dataTable =\n",
              "            await google.colab.kernel.invokeFunction('convertToInteractive',\n",
              "                                                     [key], {});\n",
              "          if (!dataTable) return;\n",
              "\n",
              "          const docLinkHtml = 'Like what you see? Visit the ' +\n",
              "            '<a target=\"_blank\" href=https://colab.research.google.com/notebooks/data_table.ipynb>data table notebook</a>'\n",
              "            + ' to learn more about interactive tables.';\n",
              "          element.innerHTML = '';\n",
              "          dataTable['output_type'] = 'display_data';\n",
              "          await google.colab.output.renderOutput(dataTable, element);\n",
              "          const docLink = document.createElement('div');\n",
              "          docLink.innerHTML = docLinkHtml;\n",
              "          element.appendChild(docLink);\n",
              "        }\n",
              "      </script>\n",
              "    </div>\n",
              "  </div>\n",
              "  "
            ]
          },
          "metadata": {},
          "execution_count": 3
        }
      ]
    },
    {
      "cell_type": "markdown",
      "source": [
        "Total Number of samples and features of the data:\n",
        "<center>\n",
        "\n",
        "| Records | Features |\n",
        "| :-- | :-- |\n",
        "| 10999 | 12 |"
      ],
      "metadata": {
        "id": "-7-CeysBaVao"
      }
    },
    {
      "cell_type": "code",
      "source": [
        "df.shape"
      ],
      "metadata": {
        "colab": {
          "base_uri": "https://localhost:8080/"
        },
        "id": "fmZRPZhEXA2R",
        "outputId": "f21530f7-c07b-433e-c3bc-d8498e7ce2b5"
      },
      "execution_count": null,
      "outputs": [
        {
          "output_type": "execute_result",
          "data": {
            "text/plain": [
              "(10999, 12)"
            ]
          },
          "metadata": {},
          "execution_count": 4
        }
      ]
    },
    {
      "cell_type": "code",
      "source": [
        "X = df.drop(columns=['ID','Returned'])\n",
        "y = df['Returned']"
      ],
      "metadata": {
        "id": "lV0ZK-iFlrPa"
      },
      "execution_count": null,
      "outputs": []
    },
    {
      "cell_type": "markdown",
      "source": [
        "Splitting the data into Train, Validation and Test Data"
      ],
      "metadata": {
        "id": "GBPE05uELQ5T"
      }
    },
    {
      "cell_type": "code",
      "source": [
        "from sklearn.model_selection import train_test_split\n",
        "\n",
        "X_train_val, X_test, y_train_val, y_test = train_test_split(X, y, test_size=0.2, random_state=42)\n",
        "X_train, X_val, y_train, y_val = train_test_split(X_train_val, y_train_val, test_size=0.2, random_state=42)\n",
        "\n",
        "print('Train : ', X_train.shape, y_train.shape)\n",
        "print('Validation:', X_val.shape, y_val.shape)\n",
        "print('Test  : ', X_test.shape, y_test.shape)"
      ],
      "metadata": {
        "id": "kRH-Lgl2LU3x",
        "colab": {
          "base_uri": "https://localhost:8080/"
        },
        "outputId": "651a441a-0aea-47ab-c44b-a5c31ccb23f0"
      },
      "execution_count": null,
      "outputs": [
        {
          "output_type": "stream",
          "name": "stdout",
          "text": [
            "Train :  (7039, 10) (7039,)\n",
            "Validation: (1760, 10) (1760,)\n",
            "Test  :  (2200, 10) (2200,)\n"
          ]
        }
      ]
    },
    {
      "cell_type": "markdown",
      "source": [
        "#EDA\n"
      ],
      "metadata": {
        "id": "aF3vMis-avQ3"
      }
    },
    {
      "cell_type": "markdown",
      "source": [
        "<img src=\"https://d2beiqkhq929f0.cloudfront.net/public_assets/assets/000/045/646/original/0.png?1693656798\" width=\"800\">"
      ],
      "metadata": {
        "id": "QkjIX-CWQ7vn"
      }
    },
    {
      "cell_type": "markdown",
      "source": [
        "#### Which Encoding to use to transform Categorical features ?\n",
        "\n",
        "Ans: Since there are many categories in all the Categorical features,\n",
        "- Which will make the One-Hot Encoding quite large and sparse\n",
        "- Its better to use Target Encoding\n",
        "\n",
        "\n",
        "\n",
        "#### How do target encoding ?\n",
        "Ans: Target Encoding finds the Probability of $y =$(some class$k$) when the Categorical feature $(f) = C_i$\n",
        "- $P(y=k|f=C_i)$\n",
        "- And replace the all the samples which have feature value as $C_i$ to  $P(y=k|f=C_i)$\n",
        "\n",
        "```\n",
        "Suppose y = [0,1] and f = [c1,c2,c3] such that:\n",
        "- out of 200 samples, 50 samples have y = 1, when f = c1\n",
        "-  25 samples have y = 1, when f = c2\n",
        "-  And, 10 samples have y = 1, when f = c3\n",
        "```\n",
        "#### What is the Target Encoding value for the feature ?\n",
        "\n",
        "Ans: $P(Y=1 | f= C_1) = \\frac{50}{200} = 0.25$\n",
        "- $P(Y=1 | f= C_2) = \\frac{25}{200} = 0.13$\n",
        "- $P(Y=1 | f= C_3) = \\frac{10}{200} = 0.05$\n",
        "\n",
        "<br>\n",
        "\n",
        "With this, lets implement Target Encoding\n"
      ],
      "metadata": {
        "id": "hrFp6L9Xxw97"
      }
    },
    {
      "cell_type": "code",
      "source": [
        "!pip install category-encoders"
      ],
      "metadata": {
        "colab": {
          "base_uri": "https://localhost:8080/"
        },
        "id": "sEOweiX0jVaI",
        "outputId": "1c0cb39b-70a1-46eb-c230-628ee94209b4"
      },
      "execution_count": null,
      "outputs": [
        {
          "output_type": "stream",
          "name": "stdout",
          "text": [
            "Looking in indexes: https://pypi.org/simple, https://us-python.pkg.dev/colab-wheels/public/simple/\n",
            "Collecting category-encoders\n",
            "  Downloading category_encoders-2.6.1-py2.py3-none-any.whl (81 kB)\n",
            "\u001b[2K     \u001b[90m━━━━━━━━━━━━━━━━━━━━━━━━━━━━━━━━━━━━━━━━\u001b[0m \u001b[32m81.9/81.9 kB\u001b[0m \u001b[31m3.7 MB/s\u001b[0m eta \u001b[36m0:00:00\u001b[0m\n",
            "\u001b[?25hRequirement already satisfied: numpy>=1.14.0 in /usr/local/lib/python3.10/dist-packages (from category-encoders) (1.22.4)\n",
            "Requirement already satisfied: scikit-learn>=0.20.0 in /usr/local/lib/python3.10/dist-packages (from category-encoders) (1.2.2)\n",
            "Requirement already satisfied: scipy>=1.0.0 in /usr/local/lib/python3.10/dist-packages (from category-encoders) (1.10.1)\n",
            "Requirement already satisfied: statsmodels>=0.9.0 in /usr/local/lib/python3.10/dist-packages (from category-encoders) (0.13.5)\n",
            "Requirement already satisfied: pandas>=1.0.5 in /usr/local/lib/python3.10/dist-packages (from category-encoders) (1.5.3)\n",
            "Requirement already satisfied: patsy>=0.5.1 in /usr/local/lib/python3.10/dist-packages (from category-encoders) (0.5.3)\n",
            "Requirement already satisfied: python-dateutil>=2.8.1 in /usr/local/lib/python3.10/dist-packages (from pandas>=1.0.5->category-encoders) (2.8.2)\n",
            "Requirement already satisfied: pytz>=2020.1 in /usr/local/lib/python3.10/dist-packages (from pandas>=1.0.5->category-encoders) (2022.7.1)\n",
            "Requirement already satisfied: six in /usr/local/lib/python3.10/dist-packages (from patsy>=0.5.1->category-encoders) (1.16.0)\n",
            "Requirement already satisfied: joblib>=1.1.1 in /usr/local/lib/python3.10/dist-packages (from scikit-learn>=0.20.0->category-encoders) (1.2.0)\n",
            "Requirement already satisfied: threadpoolctl>=2.0.0 in /usr/local/lib/python3.10/dist-packages (from scikit-learn>=0.20.0->category-encoders) (3.1.0)\n",
            "Requirement already satisfied: packaging>=21.3 in /usr/local/lib/python3.10/dist-packages (from statsmodels>=0.9.0->category-encoders) (23.1)\n",
            "Installing collected packages: category-encoders\n",
            "Successfully installed category-encoders-2.6.1\n"
          ]
        }
      ]
    },
    {
      "cell_type": "code",
      "source": [
        "from category_encoders import TargetEncoder\n"
      ],
      "metadata": {
        "id": "f8OzKXfBikQv"
      },
      "execution_count": null,
      "outputs": []
    },
    {
      "cell_type": "markdown",
      "source": [
        "Converting all the Categorical Features to Numerical\n",
        "- using TargetEncoding"
      ],
      "metadata": {
        "id": "RAMwtdT-JK1Y"
      }
    },
    {
      "cell_type": "code",
      "source": [
        "enc = TargetEncoder(cols=['Warehouse_block','Mode_of_Shipment','Product_importance','Gender'])\n",
        "X_train = enc.fit_transform(X_train, y_train)\n",
        "\n",
        "X_val = enc.transform(X_val, y_val)\n",
        "X_test = enc.transform(X_test, y_test)\n",
        "\n",
        "X_train.head()"
      ],
      "metadata": {
        "colab": {
          "base_uri": "https://localhost:8080/",
          "height": 270
        },
        "id": "jBnXg4VJjc63",
        "outputId": "50e019e6-7a43-4efc-85ef-5ec45f73f838"
      },
      "execution_count": null,
      "outputs": [
        {
          "output_type": "execute_result",
          "data": {
            "text/plain": [
              "       Warehouse_block  Mode_of_Shipment  Customer_care_calls  \\\n",
              "10286         0.578005          0.608167                    6   \n",
              "7746          0.600336          0.600251                    4   \n",
              "1789          0.601109          0.608167                    5   \n",
              "2521          0.601109          0.600251                    6   \n",
              "10404         0.600336          0.576471                    5   \n",
              "\n",
              "       Customer_rating  Cost_of_the_Product  Prior_purchases  \\\n",
              "10286                2                  196                2   \n",
              "7746                 3                  228                5   \n",
              "1789                 2                  231                4   \n",
              "2521                 4                  221               10   \n",
              "10404                3                  243                6   \n",
              "\n",
              "       Product_importance    Gender  Discount_offered  Weight_in_gms  \n",
              "10286            0.600878  0.596148                10           5180  \n",
              "7746             0.600878  0.599487                 9           1044  \n",
              "1789             0.586928  0.596148                41           2992  \n",
              "2521             0.586928  0.596148                42           2972  \n",
              "10404            0.600878  0.599487                 1           1856  "
            ],
            "text/html": [
              "\n",
              "  <div id=\"df-a4af914b-1298-49b7-b636-26df5c729362\">\n",
              "    <div class=\"colab-df-container\">\n",
              "      <div>\n",
              "<style scoped>\n",
              "    .dataframe tbody tr th:only-of-type {\n",
              "        vertical-align: middle;\n",
              "    }\n",
              "\n",
              "    .dataframe tbody tr th {\n",
              "        vertical-align: top;\n",
              "    }\n",
              "\n",
              "    .dataframe thead th {\n",
              "        text-align: right;\n",
              "    }\n",
              "</style>\n",
              "<table border=\"1\" class=\"dataframe\">\n",
              "  <thead>\n",
              "    <tr style=\"text-align: right;\">\n",
              "      <th></th>\n",
              "      <th>Warehouse_block</th>\n",
              "      <th>Mode_of_Shipment</th>\n",
              "      <th>Customer_care_calls</th>\n",
              "      <th>Customer_rating</th>\n",
              "      <th>Cost_of_the_Product</th>\n",
              "      <th>Prior_purchases</th>\n",
              "      <th>Product_importance</th>\n",
              "      <th>Gender</th>\n",
              "      <th>Discount_offered</th>\n",
              "      <th>Weight_in_gms</th>\n",
              "    </tr>\n",
              "  </thead>\n",
              "  <tbody>\n",
              "    <tr>\n",
              "      <th>10286</th>\n",
              "      <td>0.578005</td>\n",
              "      <td>0.608167</td>\n",
              "      <td>6</td>\n",
              "      <td>2</td>\n",
              "      <td>196</td>\n",
              "      <td>2</td>\n",
              "      <td>0.600878</td>\n",
              "      <td>0.596148</td>\n",
              "      <td>10</td>\n",
              "      <td>5180</td>\n",
              "    </tr>\n",
              "    <tr>\n",
              "      <th>7746</th>\n",
              "      <td>0.600336</td>\n",
              "      <td>0.600251</td>\n",
              "      <td>4</td>\n",
              "      <td>3</td>\n",
              "      <td>228</td>\n",
              "      <td>5</td>\n",
              "      <td>0.600878</td>\n",
              "      <td>0.599487</td>\n",
              "      <td>9</td>\n",
              "      <td>1044</td>\n",
              "    </tr>\n",
              "    <tr>\n",
              "      <th>1789</th>\n",
              "      <td>0.601109</td>\n",
              "      <td>0.608167</td>\n",
              "      <td>5</td>\n",
              "      <td>2</td>\n",
              "      <td>231</td>\n",
              "      <td>4</td>\n",
              "      <td>0.586928</td>\n",
              "      <td>0.596148</td>\n",
              "      <td>41</td>\n",
              "      <td>2992</td>\n",
              "    </tr>\n",
              "    <tr>\n",
              "      <th>2521</th>\n",
              "      <td>0.601109</td>\n",
              "      <td>0.600251</td>\n",
              "      <td>6</td>\n",
              "      <td>4</td>\n",
              "      <td>221</td>\n",
              "      <td>10</td>\n",
              "      <td>0.586928</td>\n",
              "      <td>0.596148</td>\n",
              "      <td>42</td>\n",
              "      <td>2972</td>\n",
              "    </tr>\n",
              "    <tr>\n",
              "      <th>10404</th>\n",
              "      <td>0.600336</td>\n",
              "      <td>0.576471</td>\n",
              "      <td>5</td>\n",
              "      <td>3</td>\n",
              "      <td>243</td>\n",
              "      <td>6</td>\n",
              "      <td>0.600878</td>\n",
              "      <td>0.599487</td>\n",
              "      <td>1</td>\n",
              "      <td>1856</td>\n",
              "    </tr>\n",
              "  </tbody>\n",
              "</table>\n",
              "</div>\n",
              "      <button class=\"colab-df-convert\" onclick=\"convertToInteractive('df-a4af914b-1298-49b7-b636-26df5c729362')\"\n",
              "              title=\"Convert this dataframe to an interactive table.\"\n",
              "              style=\"display:none;\">\n",
              "        \n",
              "  <svg xmlns=\"http://www.w3.org/2000/svg\" height=\"24px\"viewBox=\"0 0 24 24\"\n",
              "       width=\"24px\">\n",
              "    <path d=\"M0 0h24v24H0V0z\" fill=\"none\"/>\n",
              "    <path d=\"M18.56 5.44l.94 2.06.94-2.06 2.06-.94-2.06-.94-.94-2.06-.94 2.06-2.06.94zm-11 1L8.5 8.5l.94-2.06 2.06-.94-2.06-.94L8.5 2.5l-.94 2.06-2.06.94zm10 10l.94 2.06.94-2.06 2.06-.94-2.06-.94-.94-2.06-.94 2.06-2.06.94z\"/><path d=\"M17.41 7.96l-1.37-1.37c-.4-.4-.92-.59-1.43-.59-.52 0-1.04.2-1.43.59L10.3 9.45l-7.72 7.72c-.78.78-.78 2.05 0 2.83L4 21.41c.39.39.9.59 1.41.59.51 0 1.02-.2 1.41-.59l7.78-7.78 2.81-2.81c.8-.78.8-2.07 0-2.86zM5.41 20L4 18.59l7.72-7.72 1.47 1.35L5.41 20z\"/>\n",
              "  </svg>\n",
              "      </button>\n",
              "      \n",
              "  <style>\n",
              "    .colab-df-container {\n",
              "      display:flex;\n",
              "      flex-wrap:wrap;\n",
              "      gap: 12px;\n",
              "    }\n",
              "\n",
              "    .colab-df-convert {\n",
              "      background-color: #E8F0FE;\n",
              "      border: none;\n",
              "      border-radius: 50%;\n",
              "      cursor: pointer;\n",
              "      display: none;\n",
              "      fill: #1967D2;\n",
              "      height: 32px;\n",
              "      padding: 0 0 0 0;\n",
              "      width: 32px;\n",
              "    }\n",
              "\n",
              "    .colab-df-convert:hover {\n",
              "      background-color: #E2EBFA;\n",
              "      box-shadow: 0px 1px 2px rgba(60, 64, 67, 0.3), 0px 1px 3px 1px rgba(60, 64, 67, 0.15);\n",
              "      fill: #174EA6;\n",
              "    }\n",
              "\n",
              "    [theme=dark] .colab-df-convert {\n",
              "      background-color: #3B4455;\n",
              "      fill: #D2E3FC;\n",
              "    }\n",
              "\n",
              "    [theme=dark] .colab-df-convert:hover {\n",
              "      background-color: #434B5C;\n",
              "      box-shadow: 0px 1px 3px 1px rgba(0, 0, 0, 0.15);\n",
              "      filter: drop-shadow(0px 1px 2px rgba(0, 0, 0, 0.3));\n",
              "      fill: #FFFFFF;\n",
              "    }\n",
              "  </style>\n",
              "\n",
              "      <script>\n",
              "        const buttonEl =\n",
              "          document.querySelector('#df-a4af914b-1298-49b7-b636-26df5c729362 button.colab-df-convert');\n",
              "        buttonEl.style.display =\n",
              "          google.colab.kernel.accessAllowed ? 'block' : 'none';\n",
              "\n",
              "        async function convertToInteractive(key) {\n",
              "          const element = document.querySelector('#df-a4af914b-1298-49b7-b636-26df5c729362');\n",
              "          const dataTable =\n",
              "            await google.colab.kernel.invokeFunction('convertToInteractive',\n",
              "                                                     [key], {});\n",
              "          if (!dataTable) return;\n",
              "\n",
              "          const docLinkHtml = 'Like what you see? Visit the ' +\n",
              "            '<a target=\"_blank\" href=https://colab.research.google.com/notebooks/data_table.ipynb>data table notebook</a>'\n",
              "            + ' to learn more about interactive tables.';\n",
              "          element.innerHTML = '';\n",
              "          dataTable['output_type'] = 'display_data';\n",
              "          await google.colab.output.renderOutput(dataTable, element);\n",
              "          const docLink = document.createElement('div');\n",
              "          docLink.innerHTML = docLinkHtml;\n",
              "          element.appendChild(docLink);\n",
              "        }\n",
              "      </script>\n",
              "    </div>\n",
              "  </div>\n",
              "  "
            ]
          },
          "metadata": {},
          "execution_count": 9
        }
      ]
    },
    {
      "cell_type": "markdown",
      "source": [
        "#Standardization"
      ],
      "metadata": {
        "id": "SpNYhNvm0b00"
      }
    },
    {
      "cell_type": "markdown",
      "source": [
        "**Observe**\n",
        "- How the data is not Standardized\n",
        "\n",
        "<br>\n",
        "\n",
        "Lets Standardize the data"
      ],
      "metadata": {
        "id": "KPieCMDozCmp"
      }
    },
    {
      "cell_type": "code",
      "source": [
        "from sklearn.preprocessing import StandardScaler"
      ],
      "metadata": {
        "id": "uuhqv6aJTU0J"
      },
      "execution_count": null,
      "outputs": []
    },
    {
      "cell_type": "code",
      "source": [
        "scaler = StandardScaler()\n",
        "X_train = scaler.fit_transform(X_train)\n",
        "\n",
        "X_val = scaler.transform(X_val)\n",
        "X_test = scaler.transform(X_test)\n"
      ],
      "metadata": {
        "id": "Z7nwu6-kyT6r"
      },
      "execution_count": null,
      "outputs": []
    },
    {
      "cell_type": "markdown",
      "source": [
        "<img src=\"https://d2beiqkhq929f0.cloudfront.net/public_assets/assets/000/045/647/original/0.png?1693657082\" width=\"600\">"
      ],
      "metadata": {
        "id": "_fUla84wQ3lM"
      }
    },
    {
      "cell_type": "markdown",
      "source": [
        "#### What happens if the data is not standardized ?\n",
        "Ans: if data is not standardized, then suppose:\n",
        "- if one feature has a range from 1 to 1000, and the other has a range from 0 to 1\n",
        "- then the weights $w_1$ and $w_2$ assosicated to these features will vary in value alot\n",
        " - With $w_1$ being a very high value as compared to $w_2$\n",
        "\n",
        "\n",
        "Thus the plot for Loss function ( $L(w,b) = \\frac{1}{2n} \\sum_{i=1}^{i=n} L(\\hat{y_i},y_i)$ ) against the weights for n samples:\n",
        "- Becomes a squashed, very unsymmetric and closed\n",
        "\n",
        "<br>\n",
        "\n",
        "#### Why there  is an issue with a squashed and closed Loss function plot ?\n",
        "Ans: A very small Learning Rate will be required for gradient Descent to reach the global minima\n",
        "- thus increasing the number of steps and time\n",
        "\n",
        "\n",
        "\n",
        "\n",
        "\n",
        "\n",
        "\n",
        "\n",
        "\n"
      ],
      "metadata": {
        "id": "8LggsJMfYXP1"
      }
    },
    {
      "cell_type": "markdown",
      "source": [
        "<img src=\"https://d2beiqkhq929f0.cloudfront.net/public_assets/assets/000/045/648/original/0.png?1693657136\" width=\"600\">"
      ],
      "metadata": {
        "id": "6eGOkv12QzZ_"
      }
    },
    {
      "cell_type": "markdown",
      "source": [
        "#### What happens when data is standardized ?\n",
        "\n",
        "Ans: Since now the data is standardized, it makes:\n",
        "- Range of both the feature 1 and feature 2 from 0 to 1\n",
        "\n",
        "Thus making the weights for both the features close to each other\n",
        "- Therefore the plot for Loss function ( $L(w,b)$)becomes\n",
        " - Spread out and Symmetric\n",
        "\n",
        "\n",
        "#### Why a Spread out and Symmetric Loss function plot works fine ?\n",
        "Ans: We can use a much large Learning rate to quickly reach the global minima"
      ],
      "metadata": {
        "id": "h2K0xxq6cljh"
      }
    },
    {
      "cell_type": "markdown",
      "source": [
        "# Baseline Model"
      ],
      "metadata": {
        "id": "Ytb51yBO8MmR"
      }
    },
    {
      "cell_type": "markdown",
      "source": [
        "Now that the data is ready, we can implement\n",
        "- A simple NN model using [tensorflow keras](https://keras.io/api/)\n",
        "- By creating 5 layered NN such that:\n",
        "\n",
        "|Layer| |Descrption|\n",
        "|:--| |:--|\n",
        "|**L1**| |Is the Input Layer |\n",
        "|**L2**| |Contains 256 Neurons|\n",
        "|**L3**| |Contains 128 Neurons|\n",
        "|**L4**| |Contains 64 Neurons|\n",
        "|**L5**| |Is the Output Layer |\n",
        "\n",
        "<br>\n",
        "\n",
        "**Note:** In Between the layers, we will use:\n",
        "- ReLU as the Activation function\n"
      ],
      "metadata": {
        "id": "q1w9qnrV8JNx"
      }
    },
    {
      "cell_type": "code",
      "source": [
        "import tensorflow as tf\n",
        "from tensorflow.keras import Sequential\n",
        "from tensorflow.keras.layers import Dense\n",
        "\n",
        "\n",
        "# For Reproducibility\n",
        "np.random.seed(42)\n",
        "tf.random.set_seed(42)"
      ],
      "metadata": {
        "id": "oDOgqVAIhBeW"
      },
      "execution_count": null,
      "outputs": []
    },
    {
      "cell_type": "code",
      "source": [
        "def create_baseline():\n",
        "\n",
        "  model = Sequential([\n",
        "                    Dense(256, activation=\"relu\"),\n",
        "                    Dense(128, activation=\"relu\"),\n",
        "                    Dense(64, activation=\"relu\"),\n",
        "                    Dense(1 , activation = 'sigmoid')])\n",
        "  return model"
      ],
      "metadata": {
        "id": "eEMztXLD8Gea"
      },
      "execution_count": null,
      "outputs": []
    },
    {
      "cell_type": "markdown",
      "source": [
        "#### What Loss to use when the final layer Neuron output $(\\hat{y} = a^5_1) \\in [0,1] $ while $y \\in$ { $0,1$ } ?\n",
        "\n",
        "Ans: Recall from Logisitic Regression:\n",
        "- when Sigmoid $σ(z) \\in (0,1)$ and $y = \\in $ {$0,1$}\n",
        "- LogLoss was used. $Logloss (L) = -y  \\times log(\\hat{y}) - (1-y) \\times log(1-\\hat{y}) $\n",
        "\n",
        "Hence here too, LogLoss can be used.\n",
        "\n",
        "<br>\n",
        "\n",
        "**Note:** Logloss in Tensorflow Keras is implemented using ```BinaryCrossentropy()```\n",
        "\n",
        "\n"
      ],
      "metadata": {
        "id": "DXN-xppGYazV"
      }
    },
    {
      "cell_type": "code",
      "source": [
        "model = create_baseline()"
      ],
      "metadata": {
        "id": "OYdV7KMBZgyh"
      },
      "execution_count": null,
      "outputs": []
    },
    {
      "cell_type": "markdown",
      "source": [
        "Using ```Adam``` as Optimizer and metric being ```Accuracy```"
      ],
      "metadata": {
        "id": "W6RuRyAKtcth"
      }
    },
    {
      "cell_type": "code",
      "source": [
        "model.compile(optimizer = tf.keras.optimizers.Adam(),\n",
        "                loss = tf.keras.losses.BinaryCrossentropy(),\n",
        "                metrics=[\"accuracy\"])\n"
      ],
      "metadata": {
        "id": "c-mu4pXpYHT8"
      },
      "execution_count": null,
      "outputs": []
    },
    {
      "cell_type": "markdown",
      "source": [
        "Loading Tensorboard"
      ],
      "metadata": {
        "id": "GJ9_QcaNWkEJ"
      }
    },
    {
      "cell_type": "code",
      "source": [
        "%load_ext tensorboard\n",
        "\n",
        "from datetime import datetime\n",
        "now = datetime.now()\n",
        "log_folder = \"tf_logs/.../\" + now.strftime(\"%Y%m%d-%H%M%S\") + \"/\"\n"
      ],
      "metadata": {
        "id": "nomKVdudWjAv"
      },
      "execution_count": null,
      "outputs": []
    },
    {
      "cell_type": "markdown",
      "source": [
        "Clearing any running logs"
      ],
      "metadata": {
        "id": "x-NOhtDAWs6G"
      }
    },
    {
      "cell_type": "code",
      "source": [
        "!rm -rf logs"
      ],
      "metadata": {
        "id": "tdk5XskJWi6R"
      },
      "execution_count": null,
      "outputs": []
    },
    {
      "cell_type": "code",
      "source": [
        "from tensorflow.keras.callbacks import TensorBoard\n",
        "\n",
        "tb_callback = TensorBoard(log_dir=log_folder, histogram_freq=1)"
      ],
      "metadata": {
        "id": "2rvxQMaqWxwH"
      },
      "execution_count": null,
      "outputs": []
    },
    {
      "cell_type": "markdown",
      "source": [
        "Training the model with epoch=10 and batch size = 128"
      ],
      "metadata": {
        "id": "mnC7eQorrb5W"
      }
    },
    {
      "cell_type": "code",
      "source": [
        "history = model.fit(X_train, y_train, validation_data = (X_val, y_val),  epochs=10, batch_size=128, verbose=0,callbacks=[tb_callback])\n"
      ],
      "metadata": {
        "id": "fapXGLVi8RP6"
      },
      "execution_count": null,
      "outputs": []
    },
    {
      "cell_type": "markdown",
      "source": [
        "Lets check the Model performance on Training and Validation data"
      ],
      "metadata": {
        "id": "Ry0t-XMlriqZ"
      }
    },
    {
      "cell_type": "code",
      "source": [
        "model.evaluate(X_train, y_train)"
      ],
      "metadata": {
        "colab": {
          "base_uri": "https://localhost:8080/"
        },
        "id": "SWrzmXOBZxPW",
        "outputId": "58da8cee-7b5e-4d16-d447-b7dfdb72150f"
      },
      "execution_count": null,
      "outputs": [
        {
          "output_type": "stream",
          "name": "stdout",
          "text": [
            "220/220 [==============================] - 1s 2ms/step - loss: 0.4808 - accuracy: 0.7198\n"
          ]
        },
        {
          "output_type": "execute_result",
          "data": {
            "text/plain": [
              "[0.48080185055732727, 0.7198465466499329]"
            ]
          },
          "metadata": {},
          "execution_count": 20
        }
      ]
    },
    {
      "cell_type": "code",
      "source": [
        "model.evaluate(X_val, y_val)"
      ],
      "metadata": {
        "colab": {
          "base_uri": "https://localhost:8080/"
        },
        "id": "xbnetQw1ZxLt",
        "outputId": "605860f4-9b90-45f6-f19e-ec7cae262ce0"
      },
      "execution_count": null,
      "outputs": [
        {
          "output_type": "stream",
          "name": "stdout",
          "text": [
            "55/55 [==============================] - 0s 2ms/step - loss: 0.5430 - accuracy: 0.6415\n"
          ]
        },
        {
          "output_type": "execute_result",
          "data": {
            "text/plain": [
              "[0.5430204272270203, 0.6414772868156433]"
            ]
          },
          "metadata": {},
          "execution_count": 71
        }
      ]
    },
    {
      "cell_type": "markdown",
      "source": [
        "Lets plot the Accuracy vs Epochs plots for both training and Validation\n",
        "- for better clarity"
      ],
      "metadata": {
        "id": "Ovt7SPPRtHF-"
      }
    },
    {
      "cell_type": "code",
      "source": [
        "%tensorboard --logdir={log_folder}"
      ],
      "metadata": {
        "id": "3gRS4NJnXBia"
      },
      "execution_count": null,
      "outputs": []
    },
    {
      "cell_type": "markdown",
      "source": [
        "**Observe**\n",
        "\n",
        "The model has:\n",
        "- training accuracy : 69.9%\n",
        "- and Validation accuracy : 64%\n",
        "\n",
        "<br>\n",
        "\n",
        "#### What can we understand from model's  training accracy being 69.9% and Validaiton Accuracy being 64% ?\n",
        "\n",
        "Ans: Clearly, the model overfits the data meaning:\n",
        "- Model has a low Bias\n",
        "- But a High Variance\n",
        "\n",
        "<br>\n",
        "\n",
        "#### How can we make the baseline model not Overfit ?\n",
        "Ans: By using Regularization\n"
      ],
      "metadata": {
        "id": "8lORN2PDrtCc"
      }
    },
    {
      "cell_type": "markdown",
      "source": [
        "# Regularization"
      ],
      "metadata": {
        "id": "CVNmkuyz61U7"
      }
    },
    {
      "cell_type": "markdown",
      "source": [
        "<img src=\"https://d2beiqkhq929f0.cloudfront.net/public_assets/assets/000/045/649/original/0.png?1693657616\" width=\"800\">"
      ],
      "metadata": {
        "id": "wvA7_MS7ujUS"
      }
    },
    {
      "cell_type": "markdown",
      "source": [
        "#### What Regularization method to use ?\n",
        "Ans: Recall from ML module, we used L-1 and L-2 regularization methods to\n",
        "- resolve overfitting of the model\n",
        "\n",
        "<br>\n",
        "\n",
        "Also, L2 Regularization for n samples with  d features is defined as:\n",
        "- $L2 = \\frac{λ}{2n} \\sum_{j=0}^{i=d} ||w_j||_2^2 $\n",
        "\n",
        "<br>\n",
        "\n",
        "#### Can we use L2 Regularization in NN ?\n",
        "Ans: No, since in NN there is\n",
        "- L Weight matrices for each layer {$W^1,W^2,..,W^L$}\n",
        "- While in Machine Learning there is only a single weight matrix $W$\n"
      ],
      "metadata": {
        "id": "90mkiVwsursv"
      }
    },
    {
      "cell_type": "markdown",
      "source": [
        "<img src=\"https://d2beiqkhq929f0.cloudfront.net/public_assets/assets/000/045/650/original/0.png?1693657661\" width=\"800\">"
      ],
      "metadata": {
        "id": "-wnHxE4gQtkG"
      }
    },
    {
      "cell_type": "markdown",
      "source": [
        "\n",
        "<br>\n",
        "\n",
        "#### How to do Regularization in NN ?\n",
        "Ans: Now if we assume that\n",
        "- the number of neurons in the current layer $k$ is $n^k$\n",
        "- and the number of neurons in the previous layer $k-1$ is $n^{k-1}$\n",
        "\n",
        "Then Regularization:\n",
        "- $Reg = \\frac{\\lambda}{2n}\\sum_{k=1}^{k=L}||W^k||_F^2 $\n",
        "\n",
        "<br>\n",
        "\n",
        "Where we define $||W^k||_F^2 $ as:\n",
        "- $\\sum_{i=1}^{n^{k-1}}\\sum_{j=1}^{n^k} (w_{ij}^{k})^2 $\n",
        "\n",
        "\n",
        "<br>\n",
        "\n",
        "**Note**: The term $||W||_F^2$ is called **Forbenius Norm**\n"
      ],
      "metadata": {
        "id": "KzWrsXCi61SU"
      }
    },
    {
      "cell_type": "markdown",
      "source": [
        "<img src=\"https://d2beiqkhq929f0.cloudfront.net/public_assets/assets/000/045/651/original/0.png?1693657739\" width=\"800\">"
      ],
      "metadata": {
        "id": "BKHqQPyXQnp5"
      }
    },
    {
      "cell_type": "markdown",
      "source": [
        "#### How does weight updation occur with Regularization ?\n",
        "Ans: With regularization the loss function will be defined as:\n",
        "\n",
        "- $Loss = \\frac{1}{2n}\\sum_{i=1}^{i=n}L(\\hat{y_i},y_i) + \\frac{\\lambda}{2n}\\sum_{k=1}^{k=L}||W^k||_F^2 $\n",
        "\n",
        "<br>\n",
        "\n",
        "#### What will be the gradient ($dw^L$) ?\n",
        "Ans: $dw^L$ $=$ (From Backpropagation) $+ \\frac{\\lambda}{n} W^L $\n",
        "\n",
        "#### How do we do the weight updation ?\n",
        "Ans: if Learning Rate is α, then:\n",
        "- Weight updation: $W^L = W^L - α \\times dw^L$\n",
        "\n",
        "Therefore:\n",
        "- $W^L = W^L-\\frac{αλ}{n}W^L - α$(From Backpropagation)\n",
        "\n",
        "On Simpliying:\n",
        "- $W^L = (1-\\frac{αλ}{n}) \\times W^L - α$(From Backpropagation)\n",
        "\n",
        "<br>\n",
        "\n",
        "**Note:** Due to the extra $(1-\\frac{αλ}{n})$,\n",
        "- L2 Regularization is also called **Weight Decay**"
      ],
      "metadata": {
        "id": "amtNBSsY61O8"
      }
    },
    {
      "cell_type": "markdown",
      "source": [
        "Lets now implement  L2 Regularization on the Baseline Model  "
      ],
      "metadata": {
        "id": "lWDrHZxbYJh5"
      }
    },
    {
      "cell_type": "code",
      "execution_count": null,
      "metadata": {
        "id": "Ww6qcDr90Fk8"
      },
      "outputs": [],
      "source": [
        "def create_baseline():\n",
        "    # lambda = 0.01\n",
        "    L2Reg = tf.keras.regularizers.L2(l2=1e-6)\n",
        "    model = Sequential([\n",
        "                    Dense(256, activation=\"relu\", kernel_regularizer = L2Reg ),\n",
        "                    Dense(128, activation=\"relu\", kernel_regularizer = L2Reg),\n",
        "                    Dense(64, activation=\"relu\", kernel_regularizer = L2Reg),\n",
        "                    Dense(1 , activation = 'sigmoid')])\n",
        "    return model"
      ]
    },
    {
      "cell_type": "code",
      "source": [
        "model = create_baseline()\n",
        "\n",
        "model.compile(optimizer = tf.keras.optimizers.Adam(),\n",
        "                loss = tf.keras.losses.BinaryCrossentropy(),\n",
        "                metrics=[\"accuracy\"])\n"
      ],
      "metadata": {
        "id": "HL_dK6_sZOB9"
      },
      "execution_count": null,
      "outputs": []
    },
    {
      "cell_type": "markdown",
      "source": [
        "Loading Tensorboard"
      ],
      "metadata": {
        "id": "VP1D_sF4aFSS"
      }
    },
    {
      "cell_type": "code",
      "source": [
        "!rm -rf logs"
      ],
      "metadata": {
        "id": "-g8Vct9zXhT0"
      },
      "execution_count": null,
      "outputs": []
    },
    {
      "cell_type": "code",
      "source": [
        "from tensorflow.keras.callbacks import TensorBoard\n",
        "\n",
        "now = datetime.now()\n",
        "log_folder = \"tf_logs/.../\" + now.strftime(\"%Y%m%d-%H%M%S\") + \"/\"\n",
        "\n",
        "tb_callback = TensorBoard(log_dir=log_folder, histogram_freq=1)"
      ],
      "metadata": {
        "id": "DhDbmXCsXhRc"
      },
      "execution_count": null,
      "outputs": []
    },
    {
      "cell_type": "markdown",
      "source": [
        "Training the model"
      ],
      "metadata": {
        "id": "IRMx10LDeGu_"
      }
    },
    {
      "cell_type": "code",
      "source": [
        "history = model.fit(X_train, y_train, validation_data = (X_val, y_val),  epochs=10, batch_size=128, verbose=0,callbacks=[tb_callback])"
      ],
      "metadata": {
        "id": "f0sC4wLCZSqL"
      },
      "execution_count": null,
      "outputs": []
    },
    {
      "cell_type": "markdown",
      "source": [
        "Evaluating the model"
      ],
      "metadata": {
        "id": "hjncXJJveIWG"
      }
    },
    {
      "cell_type": "code",
      "source": [
        "model.evaluate(X_train, y_train)"
      ],
      "metadata": {
        "colab": {
          "base_uri": "https://localhost:8080/"
        },
        "id": "e6_VJegzaGou",
        "outputId": "7e3a301e-eb50-4227-86de-91e7ddc70037"
      },
      "execution_count": null,
      "outputs": [
        {
          "output_type": "stream",
          "name": "stdout",
          "text": [
            "220/220 [==============================] - 1s 2ms/step - loss: 0.4819 - accuracy: 0.7133\n"
          ]
        },
        {
          "output_type": "execute_result",
          "data": {
            "text/plain": [
              "[0.4818527400493622, 0.7133115530014038]"
            ]
          },
          "metadata": {},
          "execution_count": 79
        }
      ]
    },
    {
      "cell_type": "code",
      "source": [
        "model.evaluate(X_val, y_val)"
      ],
      "metadata": {
        "colab": {
          "base_uri": "https://localhost:8080/"
        },
        "id": "kW06MzIaZcjK",
        "outputId": "b8f9f647-8815-4598-a3d0-fd69372bac75"
      },
      "execution_count": null,
      "outputs": [
        {
          "output_type": "stream",
          "name": "stdout",
          "text": [
            "55/55 [==============================] - 0s 2ms/step - loss: 0.5487 - accuracy: 0.6284\n"
          ]
        },
        {
          "output_type": "execute_result",
          "data": {
            "text/plain": [
              "[0.5486941337585449, 0.6284090876579285]"
            ]
          },
          "metadata": {},
          "execution_count": 80
        }
      ]
    },
    {
      "cell_type": "code",
      "source": [
        "%tensorboard --logdir={log_folder}"
      ],
      "metadata": {
        "id": "JxfASzT9ZFUj"
      },
      "execution_count": null,
      "outputs": []
    },
    {
      "cell_type": "markdown",
      "source": [
        "**Observe**\n",
        "\n",
        "Even with L2 Regularization:\n",
        "- the model performance didnot improve drastically\n",
        "\n"
      ],
      "metadata": {
        "id": "h0nAimLoeEPn"
      }
    },
    {
      "cell_type": "markdown",
      "source": [
        "#Dropout"
      ],
      "metadata": {
        "id": "F9XtdHZMJsOL"
      }
    },
    {
      "cell_type": "markdown",
      "source": [
        "<img src=\"https://d2beiqkhq929f0.cloudfront.net/public_assets/assets/000/045/652/original/0.png?1693658062\" width=\"800\">"
      ],
      "metadata": {
        "id": "cz_s3F_aQhf5"
      }
    },
    {
      "cell_type": "markdown",
      "source": [
        "#### What is causing the NN model to overfit ?\n",
        "Ans: Observe that:\n",
        "\n",
        "|Layer| |Descrption|\n",
        "|:--| |:--|\n",
        "|**L1**| |Is the Input Layer |\n",
        "|**L2**| |Contains 256 Neurons|\n",
        "|**L3**| |Contains 128 Neurons|\n",
        "|**L4**| |Contains 64 Neurons|\n",
        "|**L5**| |Is the Output Layer |\n",
        "\n",
        "<br>\n",
        "\n",
        "In Layer 2 there are 256 Neurons while Layer 3  contains 128 neurons\n",
        "\n",
        "#### What will be the dimension of Weight Matrix $W^2$ ?\n",
        "Ans: $(256 \\times 128)$\n",
        "\n",
        "<br>\n",
        "\n",
        "Now updating weights of such a high dimensional matrix:\n",
        "- is what making the model complex\n",
        "- which might be leading the model to overfit\n",
        "\n",
        "<br>\n",
        "\n",
        "#### How to resolve this weight update of $W^2 ∈ R^{256 \\times 128}$ such that NN does not overfit ?\n",
        "\n",
        "Ans: By not considering / dropping some weights value while computing $a^3$\n",
        "\n",
        "<br>\n",
        "\n",
        "\n",
        "#### How to drop these weights which make up $a^3$ ?\n",
        "\n",
        "Ans: By creating a mask matrix ($d^2$) which contains some randomly generated numbers between (0,1) such that:\n",
        "\n",
        "- $d^2 = 1 $ if, value of $d^2 >$ rate at which we drop the weight of a neuron ($r$)\n",
        "- else $d^2 = 0$\n",
        "\n",
        "**Note:** This rate $r$ is called as Dropout Rate\n",
        "\n",
        "<br>\n",
        "\n",
        "#### What will be the dimension of this mask matrix $d^2$ ?\n",
        "\n",
        "Ans: Same as the Weight matrix\n",
        "- $d^2 ∈ R^{256 × 128}$\n",
        "\n",
        "#### How do we calculate $a^3$ ?\n",
        "\n",
        "Ans: As $a^3 = g( a^2 × W^2 + b^2 )$, but now we do:\n",
        "- an **elementwise multiplication** between $d^2$ and $W^2$\n",
        " - $ d^2 ∘ W^2 $\n",
        "\n",
        "<br>\n",
        "\n",
        "Hence, we can say:\n",
        "- $a^3 = g(a^2 × (W^2 ∘ d^2) + b^2) $\n",
        "\n",
        "\n",
        "**Note:** This process of removing/ dropping the weights is called **Edge Dropout**\n",
        "\n",
        "<br>\n",
        "\n",
        "\n",
        "\n",
        "There is another approch to **Dropout**, where the Neurons are dropped instead of the  Weights :\n",
        "- By creating the mask $d^2$ for the neurons instead of weights,\n",
        "- And dividing the neurons by a probability factor $p = 1 - r$\n",
        "\n",
        "[Understanding dropout](https://programmathically.com/dropout-regularization-in-neural-networks-how-it-works-and-when-to-use-it/)\n",
        "\n",
        "\n",
        "\n",
        "\n",
        "\n"
      ],
      "metadata": {
        "id": "aLlUB8onJw0-"
      }
    },
    {
      "cell_type": "markdown",
      "source": [
        "<img src=\"https://d2beiqkhq929f0.cloudfront.net/public_assets/assets/000/045/653/original/0.png?1693658195\" width=\"800\">"
      ],
      "metadata": {
        "id": "47yAn40wvJVK"
      }
    },
    {
      "cell_type": "markdown",
      "source": [
        "Lets take an example for better Understanding **Edge Dropout**\n",
        "\n",
        "Assuming a NN layer has 2 neurons and the following layer has 3 neurons such that:\n",
        "\n",
        "- $a^2 = [0.5, 0.3]$ , $W^2 = [[1,2,3] ,[4,5,6]]$ and $b^2 = [1, 1, 1]$\n",
        "\n",
        "<br>\n",
        "\n",
        "Now if we create a random probability matrix for values of $W^2$ such that:\n",
        "- $ p(W^2) = [[0.6 , 0.8 , 0.1 ],[0.2 , 0.16 , 0.44]] $\n",
        "\n",
        "<br>\n",
        "\n",
        "#### If the Dropout Rate $r = 0.2$,  what will be $d^2$ ?\n",
        "Ans: Since $d^2 = 1$ if $d^2>0.2$, hence:\n",
        "- $d^2 = [ [1,1,0],[0,0,1] ]$\n",
        "\n",
        "<br>"
      ],
      "metadata": {
        "id": "G2z7-DauvTYE"
      }
    },
    {
      "cell_type": "markdown",
      "source": [
        "<img src=\"https://d2beiqkhq929f0.cloudfront.net/public_assets/assets/000/045/654/original/0.png?1693658300\" width=\"800\">"
      ],
      "metadata": {
        "id": "wP39w9HeQZVO"
      }
    },
    {
      "cell_type": "markdown",
      "source": [
        "\n",
        "\n",
        "#### What will be the value of $d^2 ∘ W^2 $ (Elementwise multiplication) ?\n",
        "Ans: $d^2 ∘ W^2  = [[1,2,0],[0,0,6]]$\n",
        "\n",
        "#### What will be $a^3$ ?\n",
        "\n",
        "Ans: $a^3 = g( [0.5, 0.3]\\times [[1,2,0],[0,0,6]] + [1,1,1])$\n",
        "\n",
        "On solving, we get:\n",
        "- $a^3 = g( [0.5 , 1.0 ,  1.8] + [1,1,1]) = g([1.5, 2.0, 2.8])$\n",
        "\n",
        "\n",
        "\n"
      ],
      "metadata": {
        "id": "lp2m4n_JlzqV"
      }
    },
    {
      "cell_type": "markdown",
      "source": [
        "<img src=\"https://d2beiqkhq929f0.cloudfront.net/public_assets/assets/000/045/655/original/0.png?1693658346\" width=\"800\">"
      ],
      "metadata": {
        "id": "XjX-7tRDRTBW"
      }
    },
    {
      "cell_type": "markdown",
      "source": [
        "#### Will the Backpropagation for $W^1_{11}$ be affected if we drop $W^2_{11}$ ?\n",
        "\n",
        "\n",
        "Ans: Lets understand it by doing a backpropagation when $W^2_{11}$ is not dropped.\n",
        "\n",
        "- $\\frac{\\partial L}{\\partial W^1_{11}} = \\frac{\\partial L}{\\partial a^3_{1}} \\times  \\frac{\\partial a^3_{1}}{\\partial z^3_{1}} \\times \\frac{\\partial z^3_{1}}{\\partial a^2_{1}}  \\times \\frac{\\partial a^2_{1}}{\\partial z^2_{1}} \\times \\frac{\\partial z^2_{1}}{\\partial a^1_{1}} \\times \\frac{\\partial a^1_{1}}{\\partial z^1_{1}} \\times \\frac{\\partial z^1_{1}}{\\partial W^1_{11}} + \\frac{\\partial L}{\\partial a^3_{1}} \\times  \\frac{\\partial a^3_{1}}{\\partial z^3_{1}} \\times \\frac{\\partial z^3_{1}}{\\partial a^2_{2}}  \\times \\frac{\\partial a^2_{2}}{\\partial z^2_{2}} \\times \\frac{\\partial z^2_{2}}{\\partial a^1_{1}} \\times \\frac{\\partial a^1_{1}}{\\partial z^1_{1}} \\times \\frac{\\partial z^1_{1}}{\\partial W^1_{11}} $\n"
      ],
      "metadata": {
        "id": "EdlIvQgwRd0I"
      }
    },
    {
      "cell_type": "markdown",
      "source": [
        "<img src=\"https://d2beiqkhq929f0.cloudfront.net/public_assets/assets/000/045/656/original/0.png?1693658419\" width=\"800\">"
      ],
      "metadata": {
        "id": "iCpsRKzCwEfB"
      }
    },
    {
      "cell_type": "markdown",
      "source": [
        "\n",
        "Now if $W^2_{11}$ is dropped:\n",
        "- $\\frac{\\partial L}{\\partial W^1_{11}} = \\frac{\\partial L}{\\partial a^3_{1}} \\times  \\frac{\\partial a^3_{1}}{\\partial z^3_{1}} \\times \\frac{\\partial z^3_{1}}{\\partial a^2_{2}}  \\times \\frac{\\partial a^2_{2}}{\\partial z^2_{2}} \\times \\frac{\\partial z^2_{2}}{\\partial a^1_{1}} \\times \\frac{\\partial a^1_{1}}{\\partial z^1_{1}} \\times \\frac{\\partial z^1_{1}}{\\partial W^1_{11}} $\n",
        "\n",
        "**Note :** Since $W^2_{11}$ is dropped, the weights are not updated only for this weight value.\n",
        "\n",
        "<br>\n",
        "<br>"
      ],
      "metadata": {
        "id": "_M4sCjbQwE6p"
      }
    },
    {
      "cell_type": "markdown",
      "source": [
        "<img src=\"https://d2beiqkhq929f0.cloudfront.net/public_assets/assets/000/045/657/original/0.png?1693658482\" width=\"800\">"
      ],
      "metadata": {
        "id": "6857-2FZRiVk"
      }
    },
    {
      "cell_type": "markdown",
      "source": [
        "\n",
        "If $r= 0.2$, and the model is trained for 10 epochs and it runs 5 iterations per epoch.\n",
        "\n",
        "#### Can we say, that the weights which are dropped gets their weight updated for all $10 \\times 5 = 50 $ training steps ?\n",
        "Ans: No, because of the fact there is a 20% drop rate:\n",
        "- The weights are updated for only $50 \\times (1-0.2) = 40$ training steps\n",
        "\n",
        "- This dropping of weights helps the neurons to not be inclinced towards any one particular feature\n",
        " - as that feature weight can be dropped off\n",
        "- Thus regularizing the model by giving importance to every neuron/feature.\n",
        "\n",
        "<br>\n",
        "\n",
        "#### Then how during test time, the weights of the model accomidate this $40 $ training step ?\n",
        "Ans: During the test time,\n",
        "- Each weight of the model are multiplied with $p = 1- r $\n",
        "\n",
        "#### Will there be dropout during test time ?\n",
        "Ans: No\n",
        "\n",
        "\n"
      ],
      "metadata": {
        "id": "qYPHE-8ORiny"
      }
    },
    {
      "cell_type": "markdown",
      "source": [
        "With this lets now implement Dropout using Tensorflow Keras"
      ],
      "metadata": {
        "id": "BBZh-FUda8fZ"
      }
    },
    {
      "cell_type": "code",
      "source": [
        "from tensorflow.keras.layers import Dropout\n",
        "def create_Dropout():\n",
        "    # lambda = 0.01\n",
        "    L2Reg = tf.keras.regularizers.L2(l2=1e-6)\n",
        "    model = Sequential([\n",
        "                    Dense(256, activation=\"relu\", kernel_regularizer = L2Reg ),\n",
        "                    Dropout(0.3),\n",
        "                    Dense(128, activation=\"relu\", kernel_regularizer = L2Reg),\n",
        "                    Dropout(0.3),\n",
        "                    Dense(64, activation=\"relu\", kernel_regularizer = L2Reg),\n",
        "                    Dense(1 , activation = 'sigmoid')])\n",
        "    return model"
      ],
      "metadata": {
        "id": "3yCdOB2_bEtt"
      },
      "execution_count": null,
      "outputs": []
    },
    {
      "cell_type": "code",
      "source": [
        "model = create_Dropout()\n",
        "\n",
        "model.compile(optimizer = tf.keras.optimizers.Adam(),\n",
        "                loss = tf.keras.losses.BinaryCrossentropy(),\n",
        "                metrics=[\"accuracy\"])\n"
      ],
      "metadata": {
        "id": "8lsILdae2ISw"
      },
      "execution_count": null,
      "outputs": []
    },
    {
      "cell_type": "code",
      "source": [
        "!rm -rf logs"
      ],
      "metadata": {
        "id": "KZA_LiQmZYaK"
      },
      "execution_count": null,
      "outputs": []
    },
    {
      "cell_type": "code",
      "source": [
        "from tensorflow.keras.callbacks import TensorBoard\n",
        "\n",
        "now = datetime.now()\n",
        "log_folder = \"tf_logs/.../\" + now.strftime(\"%Y%m%d-%H%M%S\") + \"/\"\n",
        "\n",
        "tb_callback = TensorBoard(log_dir=log_folder, histogram_freq=1)"
      ],
      "metadata": {
        "id": "DsjX-nLuZgGW"
      },
      "execution_count": null,
      "outputs": []
    },
    {
      "cell_type": "markdown",
      "source": [
        "Training the model"
      ],
      "metadata": {
        "id": "LdeVMrPVcIRs"
      }
    },
    {
      "cell_type": "code",
      "source": [
        "from tensorflow.keras.callbacks import TensorBoard\n",
        "\n",
        "now = datetime.now()\n",
        "log_folder = \"tf_logs/.../\" + now.strftime(\"%Y%m%d-%H%M%S\") + \"/\"\n",
        "\n",
        "tb_callback = TensorBoard(log_dir=log_folder, histogram_freq=1)"
      ],
      "metadata": {
        "id": "iZTI5IARcIRs"
      },
      "execution_count": null,
      "outputs": []
    },
    {
      "cell_type": "markdown",
      "source": [
        "Evaluating the model"
      ],
      "metadata": {
        "id": "uB6YWF5YcIRs"
      }
    },
    {
      "cell_type": "code",
      "source": [
        "model.evaluate(X_train, y_train)"
      ],
      "metadata": {
        "colab": {
          "base_uri": "https://localhost:8080/"
        },
        "outputId": "1ab4f846-8e02-4f6c-df76-52bc447014a2",
        "id": "4HrAB4XacIRs"
      },
      "execution_count": null,
      "outputs": [
        {
          "output_type": "stream",
          "name": "stdout",
          "text": [
            "220/220 [==============================] - 0s 2ms/step - loss: 0.5025 - accuracy: 0.6934\n"
          ]
        },
        {
          "output_type": "execute_result",
          "data": {
            "text/plain": [
              "[0.5025047659873962, 0.6934223771095276]"
            ]
          },
          "metadata": {},
          "execution_count": 88
        }
      ]
    },
    {
      "cell_type": "code",
      "source": [
        "model.evaluate(X_val, y_val)"
      ],
      "metadata": {
        "colab": {
          "base_uri": "https://localhost:8080/"
        },
        "outputId": "8f738744-d59c-428e-9dff-2d2101bd7fd4",
        "id": "FYgPPantcIRs"
      },
      "execution_count": null,
      "outputs": [
        {
          "output_type": "stream",
          "name": "stdout",
          "text": [
            "55/55 [==============================] - 0s 2ms/step - loss: 0.5380 - accuracy: 0.6483\n"
          ]
        },
        {
          "output_type": "execute_result",
          "data": {
            "text/plain": [
              "[0.5379933714866638, 0.6482954621315002]"
            ]
          },
          "metadata": {},
          "execution_count": 89
        }
      ]
    },
    {
      "cell_type": "code",
      "source": [],
      "metadata": {
        "id": "-RTXDa3AZqQn"
      },
      "execution_count": null,
      "outputs": []
    },
    {
      "cell_type": "markdown",
      "source": [
        "**Observe**\n",
        "\n",
        "using Dropout and Regularization,\n",
        "- the model did reduce its overfitting"
      ],
      "metadata": {
        "id": "dz-42oKFmuqe"
      }
    },
    {
      "cell_type": "markdown",
      "source": [
        "# Batch Normalization"
      ],
      "metadata": {
        "id": "f_Ty8i8HeqtV"
      }
    },
    {
      "cell_type": "markdown",
      "source": [
        "\n",
        "#### What other Hyperparameter tuning techniques we can apply to make the model perform better ?\n",
        "Ans: Recall that, we always standardize the inputs to the model for Gradient Descent to quickly reach global minima.\n",
        "\n",
        "Now if we have a four layer NN, such that:\n",
        "\n",
        "- the output of Layer2 ($a^2$) becomes input for layer 3\n",
        "- With weight matrix as $W^3$ with bias as $b^3$\n",
        "\n",
        "<br>\n",
        "\n",
        "#### Will the input for layer 3 still be in normalized form ?\n",
        "\n",
        "Ans: **NO**. Clearly, the input to each layer is affected by the weights and biases of the previous layers.\n",
        "\n",
        "So now imagine, there due to data being not normalizied\n",
        "- there is a 0.1% change in data distribution\n",
        "\n",
        "#### What will happen if this change in distribution goes down a 100 layer Neural Network ?\n",
        "\n",
        "Ans: This 0.1% change gets amplified when going down the network\n",
        "\n",
        "- This leads to change in the input distribution to hidden layers of the network\n",
        "- and the weights updation gets impacted\n",
        "\n",
        "This is whats called an **internal covariate shift**  \n",
        "\n",
        "<br>\n",
        "\n",
        "#### Can we normalize $a^2$ so to make $w^3$ and $b^3$ optimum ?\n",
        "\n",
        "Ans: Yes we can, now if we consider m number of neurons in Layer 2,\n",
        "- then $z_i^2.....z_m^2$ becomes the neuron output before the activation function\n",
        "\n",
        "<br>\n",
        "\n",
        "Therefore we can say:\n",
        "\n",
        "- the mean $μ = \\frac{1}{m} ∑_{i=1} ^{i=m} z_i$\n",
        "\n",
        "<br>\n",
        "\n",
        "- the variance $σ^2 =\\frac{1}{m} ∑_{i=1} ^{i=m} (z_i-μ)^2 $\n",
        "\n",
        "<br>\n",
        "\n",
        "Then the normalized $z_i$ ($znorm_i$) becomes:\n",
        "- $znorm_i = \\frac{z_i-μ}{\\sqrt{σ^2+ϵ}}$\n",
        "Where ϵ is a very small value $1e^{-10}$ to prevent the denominator to turn 0 when variance is 0\n",
        "\n",
        "<br>\n",
        "\n",
        "#### but do we want to have all the hidden layers to have outputs with exact mean = 0  and variance = 1 ?\n",
        "Ans: No, because if two hidden layers have the same distribution of mean = 0 and variance = 1\n",
        "- the information learnt about the data for both the layers will be almost same\n",
        "\n",
        "Thus making the use of the 2nd hidden layer redundant.  \n",
        "\n",
        "Please read [Expressive-Power-Of-NeuralNetwork](https://stats.stackexchange.com/questions/272010/batch-normalization-shift-scale-parameters-defeat-the-point) for proof\n",
        "\n",
        "<br>\n",
        "\n",
        "#### how to make the distribution slightly different for each hidden layer ?\n",
        "\n",
        "Ans: By scaling and shifting the $znorm_i$ by using two learnable parameters ($γ, β$) such that:\n",
        "\n",
        "- $ \\hat{z_i} = γ \\times znorm_i + β $\n",
        "\n",
        "\n",
        "**Note:** This Entire  process of normalization with scaling and shifting is known as **Batch Normalization**\n",
        "\n",
        "\n",
        "\n",
        "\n"
      ],
      "metadata": {
        "id": "kVo8r-cFerAn"
      }
    },
    {
      "cell_type": "markdown",
      "source": [
        "Lets now implement Batch Normalization in the Baseline Model"
      ],
      "metadata": {
        "id": "VhHMJeuPtKyP"
      }
    },
    {
      "cell_type": "code",
      "source": [
        "from tensorflow.keras.layers import BatchNormalization\n",
        "from tensorflow.keras.layers import Activation\n",
        "from tensorflow.keras.activations import relu\n",
        "\n",
        "def create_BatchNormalization_model():\n",
        "    L2Reg = tf.keras.regularizers.L2(l2=1e-6)\n",
        "    model = Sequential([\n",
        "                    Dense(256, kernel_regularizer = L2Reg),\n",
        "                    BatchNormalization(),\n",
        "                    Activation(relu),\n",
        "                    Dropout(0.2),\n",
        "                    Dense(128, kernel_regularizer = L2Reg),\n",
        "                    BatchNormalization(),\n",
        "                    Activation(relu),\n",
        "                    Dense(64,kernel_regularizer = L2Reg ),\n",
        "                    BatchNormalization(),\n",
        "                    Activation(relu),\n",
        "                    Dense(3)])\n",
        "    return model"
      ],
      "metadata": {
        "id": "mV0l_sJ-KvRU"
      },
      "execution_count": null,
      "outputs": []
    },
    {
      "cell_type": "code",
      "source": [
        "model = create_BatchNormalization_model()\n",
        "\n",
        "model.compile(optimizer = tf.keras.optimizers.Adam(learning_rate=0.001),\n",
        "                loss = tf.keras.losses.BinaryCrossentropy(),\n",
        "                metrics=[\"accuracy\"])"
      ],
      "metadata": {
        "id": "wymkDmtduMfH"
      },
      "execution_count": null,
      "outputs": []
    },
    {
      "cell_type": "code",
      "source": [
        "!rm -rf logs"
      ],
      "metadata": {
        "id": "DiHKakyodJgX"
      },
      "execution_count": null,
      "outputs": []
    },
    {
      "cell_type": "code",
      "source": [
        "from tensorflow.keras.callbacks import TensorBoard\n",
        "\n",
        "now = datetime.now()\n",
        "log_folder = \"tf_logs/.../\" + now.strftime(\"%Y%m%d-%H%M%S\") + \"/\"\n",
        "\n",
        "tb_callback = TensorBoard(log_dir=log_folder, histogram_freq=1)"
      ],
      "metadata": {
        "id": "c5w3fuqHdNvN"
      },
      "execution_count": null,
      "outputs": []
    },
    {
      "cell_type": "markdown",
      "source": [
        "Increasing epoch to 15 now"
      ],
      "metadata": {
        "id": "u3XPz8shebiX"
      }
    },
    {
      "cell_type": "code",
      "source": [
        "history = model.fit(X_train, y_train, validation_data = (X_val, y_val),  epochs=15, batch_size=128, verbose=0,callbacks=[tb_callback])\n"
      ],
      "metadata": {
        "id": "dwX_MGt0KvRU"
      },
      "execution_count": null,
      "outputs": []
    },
    {
      "cell_type": "markdown",
      "source": [
        "Evaluting the model"
      ],
      "metadata": {
        "id": "TqbUOjHIwjQ6"
      }
    },
    {
      "cell_type": "code",
      "source": [
        "model.evaluate(X_train, y_train)"
      ],
      "metadata": {
        "colab": {
          "base_uri": "https://localhost:8080/"
        },
        "id": "zej0e-jqtPhm",
        "outputId": "85e597db-7b13-45c1-a10c-f6b5a0185040"
      },
      "execution_count": null,
      "outputs": [
        {
          "output_type": "stream",
          "name": "stdout",
          "text": [
            "220/220 [==============================] - 1s 2ms/step - loss: 2.3278 - accuracy: 0.6453\n"
          ]
        },
        {
          "output_type": "execute_result",
          "data": {
            "text/plain": [
              "[2.327779531478882, 0.6452621221542358]"
            ]
          },
          "metadata": {},
          "execution_count": 103
        }
      ]
    },
    {
      "cell_type": "code",
      "source": [
        "model.evaluate(X_val, y_val)"
      ],
      "metadata": {
        "colab": {
          "base_uri": "https://localhost:8080/"
        },
        "id": "S18oKfVRwlY7",
        "outputId": "d9a85527-2e2d-4e83-85ad-37e889df74ee"
      },
      "execution_count": null,
      "outputs": [
        {
          "output_type": "stream",
          "name": "stdout",
          "text": [
            "55/55 [==============================] - 0s 2ms/step - loss: 2.5997 - accuracy: 0.6324\n"
          ]
        },
        {
          "output_type": "execute_result",
          "data": {
            "text/plain": [
              "[2.5997164249420166, 0.6323863863945007]"
            ]
          },
          "metadata": {},
          "execution_count": 104
        }
      ]
    },
    {
      "cell_type": "code",
      "source": [
        "%tensorboard --logdir={log_folder}"
      ],
      "metadata": {
        "id": "_Ri7UN89dUh0"
      },
      "execution_count": null,
      "outputs": []
    },
    {
      "cell_type": "markdown",
      "source": [
        "We see after applying Batch Normalization :\n",
        "- L2 Regularization worked\n",
        "- And made the model not overfit the data  "
      ],
      "metadata": {
        "id": "dAWkM6JHwwrC"
      }
    },
    {
      "cell_type": "markdown",
      "source": [
        "# Early Stopping"
      ],
      "metadata": {
        "id": "RvnqYEH7-gFh"
      }
    },
    {
      "cell_type": "markdown",
      "source": [
        "<img src=\"https://d2beiqkhq929f0.cloudfront.net/public_assets/assets/000/045/658/original/0.png?1693660433\" width=\"800\">"
      ],
      "metadata": {
        "id": "Fp_1FpHuRt5q"
      }
    },
    {
      "cell_type": "markdown",
      "source": [
        "**Observe**\n",
        "\n",
        "When using Batch Normalization,\n",
        "- around epoch 8 the  Validation Accuracy is maximum,\n",
        "- and then it starts to decrease\n",
        "\n",
        "<br>\n",
        "\n",
        "#### Can there be a way to make the model not update the weights after the validation accuracy reaches maximum ?\n",
        "\n",
        "Ans:  Yes, by using callbacks to stop the training when:\n",
        "- The validation accuracy starts decreasing\n",
        "- or validation loss starts to increase\n",
        "\n",
        "<br>\n",
        "\n",
        "#### How to know if the model has reached maximum validation accuracy  or not?\n",
        "\n",
        "Ans: By using callbacks such that:\n",
        "- One callback stores the weights of model when best validation accuracy is attained\n",
        "- While the other callback, Stops the training:\n",
        " - after not finding a better validation accuracy, when the model is trained for some epoch ($τ$)\n",
        "\n",
        "<br>\n",
        "\n",
        "**Note**: Keras uses ```EarlyStoppingCallback``` for:\n",
        "- stopping the training after no better Validation accuracy attained when ran for some epoch ($τ$)    \n",
        "\n",
        "Also keras uses another callback  ```ModelCheckpointCallback``` for:\n",
        "- Storing the weights of the model which had the best Validation Accuracy\n",
        "\n",
        "\n",
        "\n"
      ],
      "metadata": {
        "id": "Jew6kLIj-gb6"
      }
    },
    {
      "cell_type": "code",
      "source": [
        "model = create_BatchNormalization_model()\n",
        "\n",
        "model.compile(optimizer = tf.keras.optimizers.Adam(learning_rate=0.001),\n",
        "                loss = tf.keras.losses.BinaryCrossentropy(),\n",
        "                metrics=[\"accuracy\"])"
      ],
      "metadata": {
        "id": "XhfUkrC4cO_F"
      },
      "execution_count": null,
      "outputs": []
    },
    {
      "cell_type": "code",
      "source": [
        "!rm -rf logs"
      ],
      "metadata": {
        "id": "2J96OWMTeKmA"
      },
      "execution_count": null,
      "outputs": []
    },
    {
      "cell_type": "code",
      "source": [
        "from tensorflow.keras.callbacks import TensorBoard\n",
        "\n",
        "now = datetime.now()\n",
        "log_folder = \"tf_logs/.../\" + now.strftime(\"%Y%m%d-%H%M%S\") + \"/\"\n",
        "\n",
        "tb_callback = TensorBoard(log_dir=log_folder, histogram_freq=1)"
      ],
      "metadata": {
        "id": "HbSJoLGaePOF"
      },
      "execution_count": null,
      "outputs": []
    },
    {
      "cell_type": "code",
      "source": [
        "EarlyStoppingCallback = tf.keras.callbacks.EarlyStopping(monitor='val_accuracy', patience=50,  restore_best_weights=True)\n",
        "ModelCheckpointCallback = tf.keras.callbacks.ModelCheckpoint(filepath='tf_model.h5',\n",
        "                                                             monitor='val_accuracy',\n",
        "                                                             save_best_only=True,\n",
        "                                                             mode='max')"
      ],
      "metadata": {
        "id": "L7q1ysrOkyAv"
      },
      "execution_count": null,
      "outputs": []
    },
    {
      "cell_type": "code",
      "source": [
        "history = model.fit(X_train, y_train, validation_data = (X_val, y_val),  epochs=15, batch_size=128, verbose=0, callbacks=[EarlyStoppingCallback, ModelCheckpointCallback,tb_callback])\n"
      ],
      "metadata": {
        "id": "iMpid_t6kx-s"
      },
      "execution_count": null,
      "outputs": []
    },
    {
      "cell_type": "code",
      "source": [
        "%tensorboard --logdir={log_folder}"
      ],
      "metadata": {
        "id": "5_HNJwU8er84"
      },
      "execution_count": null,
      "outputs": []
    },
    {
      "cell_type": "markdown",
      "source": [
        "Loading the model where the EarlyStopping took place"
      ],
      "metadata": {
        "id": "-MHLPVO-iMLs"
      }
    },
    {
      "cell_type": "code",
      "source": [
        "model = create_BatchNormalization_model()\n",
        "model.build(input_shape =(None,10))"
      ],
      "metadata": {
        "id": "5feDmUe5gczB"
      },
      "execution_count": null,
      "outputs": []
    },
    {
      "cell_type": "code",
      "source": [
        "model.load_weights('tf_model.h5')"
      ],
      "metadata": {
        "id": "ciHOlPL6ettY"
      },
      "execution_count": null,
      "outputs": []
    },
    {
      "cell_type": "code",
      "source": [
        "model.compile(optimizer = tf.keras.optimizers.Adam(learning_rate=0.001),\n",
        "                loss = tf.keras.losses.BinaryCrossentropy(),\n",
        "                metrics=[\"accuracy\"])"
      ],
      "metadata": {
        "id": "ZNZcHP_Vhsao"
      },
      "execution_count": null,
      "outputs": []
    },
    {
      "cell_type": "code",
      "source": [
        "model.evaluate(X_train, y_train)"
      ],
      "metadata": {
        "colab": {
          "base_uri": "https://localhost:8080/"
        },
        "id": "XlvgO0GDkx70",
        "outputId": "c9a45f95-e3b9-48f5-be61-7742b9a9eb74"
      },
      "execution_count": null,
      "outputs": [
        {
          "output_type": "stream",
          "name": "stdout",
          "text": [
            "220/220 [==============================] - 1s 3ms/step - loss: 1.2022 - accuracy: 0.6465\n"
          ]
        },
        {
          "output_type": "execute_result",
          "data": {
            "text/plain": [
              "[1.2022379636764526, 0.6465407013893127]"
            ]
          },
          "metadata": {},
          "execution_count": 159
        }
      ]
    },
    {
      "cell_type": "code",
      "source": [
        "model.evaluate(X_val, y_val)"
      ],
      "metadata": {
        "colab": {
          "base_uri": "https://localhost:8080/"
        },
        "id": "x7POpc4elF6a",
        "outputId": "d4657565-905c-4c98-9d94-ea80aca28001"
      },
      "execution_count": null,
      "outputs": [
        {
          "output_type": "stream",
          "name": "stdout",
          "text": [
            "55/55 [==============================] - 0s 2ms/step - loss: 1.3301 - accuracy: 0.6301\n"
          ]
        },
        {
          "output_type": "execute_result",
          "data": {
            "text/plain": [
              "[1.3301416635513306, 0.6301136612892151]"
            ]
          },
          "metadata": {},
          "execution_count": 160
        }
      ]
    },
    {
      "cell_type": "code",
      "source": [
        "model.evaluate(X_test, y_test)"
      ],
      "metadata": {
        "colab": {
          "base_uri": "https://localhost:8080/"
        },
        "id": "_nJSRL-fnKhg",
        "outputId": "3a7a9882-25df-42a0-c9e9-db73936cfc20"
      },
      "execution_count": null,
      "outputs": [
        {
          "output_type": "stream",
          "name": "stdout",
          "text": [
            "69/69 [==============================] - 0s 2ms/step - loss: 1.2194 - accuracy: 0.6286\n"
          ]
        },
        {
          "output_type": "execute_result",
          "data": {
            "text/plain": [
              "[1.2193852663040161, 0.628636360168457]"
            ]
          },
          "metadata": {},
          "execution_count": 161
        }
      ]
    },
    {
      "cell_type": "code",
      "source": [
        "output = model.predict(X_test)"
      ],
      "metadata": {
        "colab": {
          "base_uri": "https://localhost:8080/"
        },
        "id": "vlh9IyjCnq7z",
        "outputId": "c49493bc-32fd-48bb-92e3-42f6372b9b01"
      },
      "execution_count": null,
      "outputs": [
        {
          "output_type": "stream",
          "name": "stdout",
          "text": [
            "69/69 [==============================] - 0s 2ms/step\n"
          ]
        }
      ]
    },
    {
      "cell_type": "markdown",
      "source": [
        "As```output``` is just the probability of $Y=1$ or $Y=0$ based on the feature X,\n",
        "- Using a threshold $ γ = 0.5 $ so that ```output``` $\\in ${$0,1$}"
      ],
      "metadata": {
        "id": "SocsYxFRrzXs"
      }
    },
    {
      "cell_type": "code",
      "source": [
        "y_pred = np.array([1 if i > 0.5 else 0  for i in output])"
      ],
      "metadata": {
        "id": "hYKgsQ08n52R"
      },
      "execution_count": null,
      "outputs": []
    },
    {
      "cell_type": "markdown",
      "source": [
        "Plotting Confusion Matrix"
      ],
      "metadata": {
        "id": "WlSF91w8sSsq"
      }
    },
    {
      "cell_type": "code",
      "source": [
        "import itertools\n",
        "import sklearn\n",
        "from sklearn.metrics import confusion_matrix\n",
        "\n",
        "cm = confusion_matrix(y_test, y_pred)\n",
        "\n",
        "plt.imshow(cm, interpolation='nearest', cmap=plt.cm.Blues)\n",
        "plt.title(\"Confusion matrix\")\n",
        "plt.colorbar()\n",
        "\n",
        "class_names = ['Returned','Not Returned']\n",
        "tick_marks = np.arange(len(class_names))\n",
        "plt.xticks(tick_marks, class_names, rotation=45)\n",
        "plt.yticks(tick_marks, class_names)\n",
        "\n",
        "# Normalize the confusion matrix.\n",
        "cm = np.around(cm.astype('float') / cm.sum(axis=1)[:, np.newaxis], decimals=2)\n",
        "\n",
        "# Use white text if squares are dark; otherwise black.\n",
        "threshold = cm.max() / 2.\n",
        "\n",
        "for i, j in itertools.product(range(cm.shape[0]), range(cm.shape[1])):\n",
        "    color =  \"black\"\n",
        "    plt.text(j, i, cm[i, j], horizontalalignment=\"center\", color=color)\n",
        "\n",
        "plt.tight_layout()\n",
        "plt.ylabel('True label')\n",
        "plt.xlabel('Predicted label')\n"
      ],
      "metadata": {
        "colab": {
          "base_uri": "https://localhost:8080/",
          "height": 329
        },
        "id": "6otQpIoiqAPw",
        "outputId": "c0705a64-baf6-488c-c20f-e13f9666c666"
      },
      "execution_count": null,
      "outputs": [
        {
          "output_type": "execute_result",
          "data": {
            "text/plain": [
              "Text(0.5, -28.828503717825924, 'Predicted label')"
            ]
          },
          "metadata": {},
          "execution_count": 167
        },
        {
          "output_type": "display_data",
          "data": {
            "text/plain": [
              "<Figure size 432x288 with 2 Axes>"
            ],
            "image/png": "[encoded data removed]"
          },
          "metadata": {
            "needs_background": "light"
          }
        }
      ]
    },
    {
      "cell_type": "markdown",
      "source": [
        "**Observe**\n",
        "\n",
        "Though the model performs pretty good , it still has a significantly **high False Positive**:\n",
        "- Showing that maybe a more complex model might be needed to for a better performance"
      ],
      "metadata": {
        "id": "QGncuodUx-rQ"
      }
    },
    {
      "cell_type": "markdown",
      "source": [
        "Plotting ROC Curve"
      ],
      "metadata": {
        "id": "DpN7WUIDupbk"
      }
    },
    {
      "cell_type": "code",
      "source": [
        "fpr,tpr,_ = sklearn.metrics.roc_curve(y_test,output.squeeze(axis=1))"
      ],
      "metadata": {
        "id": "ZESRwzgquI2U"
      },
      "execution_count": null,
      "outputs": []
    },
    {
      "cell_type": "code",
      "source": [
        "plt.plot(fpr, tpr, marker='.')\n",
        "plt.plot([0, 1], ls=\"--\")\n",
        "plt.ylabel('True Positive Rate')\n",
        "plt.xlabel('False Positive Rate' )\n",
        "plt.show()"
      ],
      "metadata": {
        "colab": {
          "base_uri": "https://localhost:8080/",
          "height": 279
        },
        "id": "7kVTeepxuUIz",
        "outputId": "f119996c-f7f4-40c2-af3a-f6d0d0592b6e"
      },
      "execution_count": null,
      "outputs": [
        {
          "output_type": "display_data",
          "data": {
            "text/plain": [
              "<Figure size 432x288 with 1 Axes>"
            ],
            "image/png": "[encoded data removed]"
          },
          "metadata": {
            "needs_background": "light"
          }
        }
      ]
    },
    {
      "cell_type": "markdown",
      "source": [
        "**observe**\n",
        "\n",
        "Clearly the model outperforms a mean model"
      ],
      "metadata": {
        "id": "vGu7wkluzFwb"
      }
    }
  ]
}